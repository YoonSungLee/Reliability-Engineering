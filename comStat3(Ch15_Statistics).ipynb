{
  "nbformat": 4,
  "nbformat_minor": 0,
  "metadata": {
    "colab": {
      "name": "comStat3(Ch15_Statistics).ipynb",
      "provenance": [],
      "collapsed_sections": [],
      "include_colab_link": true
    },
    "kernelspec": {
      "display_name": "Python 3",
      "language": "python",
      "name": "python3"
    }
  },
  "cells": [
    {
      "cell_type": "markdown",
      "metadata": {
        "id": "view-in-github",
        "colab_type": "text"
      },
      "source": [
        "<a href=\"https://colab.research.google.com/github/YoonSungLee/Statistical-Computing/blob/master/comStat3(Ch15_Statistics).ipynb\" target=\"_parent\"><img src=\"https://colab.research.google.com/assets/colab-badge.svg\" alt=\"Open In Colab\"/></a>"
      ]
    },
    {
      "cell_type": "markdown",
      "metadata": {
        "id": "2jsu_5-puZoE",
        "colab_type": "text"
      },
      "source": [
        "# <font color='blue'><div style=\"text-align: center\">Ch 15. Statistics in Python </font>"
      ]
    },
    {
      "cell_type": "markdown",
      "metadata": {
        "id": "yyznYiixuZoF",
        "colab_type": "text"
      },
      "source": [
        "### <font color='blue'> The pandas data-frame </font>\n",
        "\n",
        "* 넘파이는 다차원 변수를 배열형태로 저장하고 효과적으로 다룰 수 있다.\n",
        "* 판다스는 엑셀형태의 쉬트와 같이 통계자료를 저장하는 라이브러리다.\n",
        "* 이 세상의 대부분의 자료는 엑셀 쉬트처럼 생겼는데 행렬 원소로 보는 것보다 기존 통계소프트웨어처럼 처리하는 방식이다.\n",
        "* 통계처리는 대부분 판다스로 끝난다. 하지만, 판다스로 처리가 힘든 것은 넘파이나 기존 파이썬 언어의 도움을 받아 처리가 가능하다.\n",
        "* 판다스는 Series객체의 집합으로 이루어져 있어 DataFrame <-> Series <-> numpy <-> List 로 자유자재로 형을 변환할 수 있다.\n",
        "* 데이터프레임은 시리즈의 모음"
      ]
    },
    {
      "cell_type": "markdown",
      "metadata": {
        "id": "fcG92EQPVYgC",
        "colab_type": "text"
      },
      "source": [
        "### <font color='blue'> 리스트로 데이터프레임 만들기 </font>  "
      ]
    },
    {
      "cell_type": "code",
      "metadata": {
        "id": "Zlwbc9sBVcAJ",
        "colab_type": "code",
        "outputId": "f6debff9-ba4f-4c1b-fa89-03b79cd85412",
        "colab": {
          "base_uri": "https://localhost:8080/",
          "height": 122
        }
      },
      "source": [
        "import pandas as pd\n",
        "import matplotlib.pyplot as plt\n",
        "import numpy as np\n",
        "\n",
        "# 아래는 이미 알고 있는 리스트다. \n",
        "nameList = ['John', 'Matt', 'Sara', 'Jim', 'Ashley']\n",
        "ids = [ 23, 34, 83, 86, 12]\n",
        "balance = [10.2, 84.3, 72.9, 27.1, 223.1]\n",
        "\n",
        "# 아래는 위의 리스트를 딕셔너리로 묶어 데이터프레임으로 변환하는 예다.\n",
        "\n",
        "dic = {'ids': ids, 'names': nameList, 'bal':balance}\n",
        "\n",
        "users = pd.DataFrame(dic) # 시리즈는 하나의 열과 index를 묶어서 정의한다.\n",
        "print (users)"
      ],
      "execution_count": 0,
      "outputs": [
        {
          "output_type": "stream",
          "text": [
            "   ids   names    bal\n",
            "0   23    John   10.2\n",
            "1   34    Matt   84.3\n",
            "2   83    Sara   72.9\n",
            "3   86     Jim   27.1\n",
            "4   12  Ashley  223.1\n"
          ],
          "name": "stdout"
        }
      ]
    },
    {
      "cell_type": "code",
      "metadata": {
        "id": "BoSrfI7ZWTGL",
        "colab_type": "code",
        "outputId": "94d42553-e882-4a08-93e3-a1154a22a22e",
        "colab": {
          "base_uri": "https://localhost:8080/",
          "height": 228
        }
      },
      "source": [
        "# 데이터프레임에서 시리즈만 추출하는 예제임\n",
        "# 하나의 열 + index\n",
        "\n",
        "print(users['ids'])\n",
        "print(users.ids)\n"
      ],
      "execution_count": 0,
      "outputs": [
        {
          "output_type": "stream",
          "text": [
            "0    23\n",
            "1    34\n",
            "2    83\n",
            "3    86\n",
            "4    12\n",
            "Name: ids, dtype: int64\n",
            "0    23\n",
            "1    34\n",
            "2    83\n",
            "3    86\n",
            "4    12\n",
            "Name: ids, dtype: int64\n"
          ],
          "name": "stdout"
        }
      ]
    },
    {
      "cell_type": "code",
      "metadata": {
        "id": "eUShtXx8WWba",
        "colab_type": "code",
        "outputId": "d8b22d10-2942-4851-c3fc-808a0aab61d0",
        "colab": {
          "base_uri": "https://localhost:8080/",
          "height": 122
        }
      },
      "source": [
        "# 시리즈를 생성할 수도 있다.\n",
        "\n",
        "s = pd.Series([10,20,30,40,50], index=[0,1,2,3,4])\n",
        "s"
      ],
      "execution_count": 0,
      "outputs": [
        {
          "output_type": "execute_result",
          "data": {
            "text/plain": [
              "0    10\n",
              "1    20\n",
              "2    30\n",
              "3    40\n",
              "4    50\n",
              "dtype: int64"
            ]
          },
          "metadata": {
            "tags": []
          },
          "execution_count": 6
        }
      ]
    },
    {
      "cell_type": "code",
      "metadata": {
        "id": "1yCx11G1WY3f",
        "colab_type": "code",
        "outputId": "e06c0fbd-097a-432e-f8b6-6dd863d61681",
        "colab": {
          "base_uri": "https://localhost:8080/",
          "height": 195
        }
      },
      "source": [
        "# 시리즈를 데이터 프레임에 추가해 보자.\n",
        "users['s'] = s\n",
        "users"
      ],
      "execution_count": 0,
      "outputs": [
        {
          "output_type": "execute_result",
          "data": {
            "text/html": [
              "<div>\n",
              "<style scoped>\n",
              "    .dataframe tbody tr th:only-of-type {\n",
              "        vertical-align: middle;\n",
              "    }\n",
              "\n",
              "    .dataframe tbody tr th {\n",
              "        vertical-align: top;\n",
              "    }\n",
              "\n",
              "    .dataframe thead th {\n",
              "        text-align: right;\n",
              "    }\n",
              "</style>\n",
              "<table border=\"1\" class=\"dataframe\">\n",
              "  <thead>\n",
              "    <tr style=\"text-align: right;\">\n",
              "      <th></th>\n",
              "      <th>ids</th>\n",
              "      <th>names</th>\n",
              "      <th>bal</th>\n",
              "      <th>s</th>\n",
              "    </tr>\n",
              "  </thead>\n",
              "  <tbody>\n",
              "    <tr>\n",
              "      <th>0</th>\n",
              "      <td>23</td>\n",
              "      <td>John</td>\n",
              "      <td>10.2</td>\n",
              "      <td>10</td>\n",
              "    </tr>\n",
              "    <tr>\n",
              "      <th>1</th>\n",
              "      <td>34</td>\n",
              "      <td>Matt</td>\n",
              "      <td>84.3</td>\n",
              "      <td>20</td>\n",
              "    </tr>\n",
              "    <tr>\n",
              "      <th>2</th>\n",
              "      <td>83</td>\n",
              "      <td>Sara</td>\n",
              "      <td>72.9</td>\n",
              "      <td>30</td>\n",
              "    </tr>\n",
              "    <tr>\n",
              "      <th>3</th>\n",
              "      <td>86</td>\n",
              "      <td>Jim</td>\n",
              "      <td>27.1</td>\n",
              "      <td>40</td>\n",
              "    </tr>\n",
              "    <tr>\n",
              "      <th>4</th>\n",
              "      <td>12</td>\n",
              "      <td>Ashley</td>\n",
              "      <td>223.1</td>\n",
              "      <td>50</td>\n",
              "    </tr>\n",
              "  </tbody>\n",
              "</table>\n",
              "</div>"
            ],
            "text/plain": [
              "   ids   names    bal   s\n",
              "0   23    John   10.2  10\n",
              "1   34    Matt   84.3  20\n",
              "2   83    Sara   72.9  30\n",
              "3   86     Jim   27.1  40\n",
              "4   12  Ashley  223.1  50"
            ]
          },
          "metadata": {
            "tags": []
          },
          "execution_count": 7
        }
      ]
    },
    {
      "cell_type": "code",
      "metadata": {
        "id": "vKPyH8-WWblb",
        "colab_type": "code",
        "outputId": "3c2666f6-6131-4a6a-fd04-ff2778d3b1c5",
        "colab": {
          "base_uri": "https://localhost:8080/",
          "height": 225
        }
      },
      "source": [
        "# 레코드를 추가해 보자.\n",
        "users.index = users.index + 1  # shifting index\n",
        "users.loc[6] = [13, 'Paul', 24.7, 60]  # adding a row\n",
        "users = users.sort_index()  # sorting by index\n",
        "users"
      ],
      "execution_count": 0,
      "outputs": [
        {
          "output_type": "execute_result",
          "data": {
            "text/html": [
              "<div>\n",
              "<style scoped>\n",
              "    .dataframe tbody tr th:only-of-type {\n",
              "        vertical-align: middle;\n",
              "    }\n",
              "\n",
              "    .dataframe tbody tr th {\n",
              "        vertical-align: top;\n",
              "    }\n",
              "\n",
              "    .dataframe thead th {\n",
              "        text-align: right;\n",
              "    }\n",
              "</style>\n",
              "<table border=\"1\" class=\"dataframe\">\n",
              "  <thead>\n",
              "    <tr style=\"text-align: right;\">\n",
              "      <th></th>\n",
              "      <th>ids</th>\n",
              "      <th>names</th>\n",
              "      <th>bal</th>\n",
              "      <th>s</th>\n",
              "    </tr>\n",
              "  </thead>\n",
              "  <tbody>\n",
              "    <tr>\n",
              "      <th>1</th>\n",
              "      <td>23</td>\n",
              "      <td>John</td>\n",
              "      <td>10.2</td>\n",
              "      <td>10</td>\n",
              "    </tr>\n",
              "    <tr>\n",
              "      <th>2</th>\n",
              "      <td>34</td>\n",
              "      <td>Matt</td>\n",
              "      <td>84.3</td>\n",
              "      <td>20</td>\n",
              "    </tr>\n",
              "    <tr>\n",
              "      <th>3</th>\n",
              "      <td>83</td>\n",
              "      <td>Sara</td>\n",
              "      <td>72.9</td>\n",
              "      <td>30</td>\n",
              "    </tr>\n",
              "    <tr>\n",
              "      <th>4</th>\n",
              "      <td>86</td>\n",
              "      <td>Jim</td>\n",
              "      <td>27.1</td>\n",
              "      <td>40</td>\n",
              "    </tr>\n",
              "    <tr>\n",
              "      <th>5</th>\n",
              "      <td>12</td>\n",
              "      <td>Ashley</td>\n",
              "      <td>223.1</td>\n",
              "      <td>50</td>\n",
              "    </tr>\n",
              "    <tr>\n",
              "      <th>6</th>\n",
              "      <td>13</td>\n",
              "      <td>Paul</td>\n",
              "      <td>24.7</td>\n",
              "      <td>60</td>\n",
              "    </tr>\n",
              "  </tbody>\n",
              "</table>\n",
              "</div>"
            ],
            "text/plain": [
              "   ids   names    bal   s\n",
              "1   23    John   10.2  10\n",
              "2   34    Matt   84.3  20\n",
              "3   83    Sara   72.9  30\n",
              "4   86     Jim   27.1  40\n",
              "5   12  Ashley  223.1  50\n",
              "6   13    Paul   24.7  60"
            ]
          },
          "metadata": {
            "tags": []
          },
          "execution_count": 8
        }
      ]
    },
    {
      "cell_type": "markdown",
      "metadata": {
        "id": "cnRzb79rWhSV",
        "colab_type": "text"
      },
      "source": [
        "### <font color='blue'> CSV 파일로 데이터프레임 만들기 </font>  "
      ]
    },
    {
      "cell_type": "code",
      "metadata": {
        "id": "5I-7Fk7jupgQ",
        "colab_type": "code",
        "outputId": "76364294-2313-4471-b52f-939cd26959c7",
        "colab": {
          "base_uri": "https://localhost:8080/",
          "height": 131
        }
      },
      "source": [
        "from google.colab import drive\n",
        "drive.mount('/gdrive')"
      ],
      "execution_count": 0,
      "outputs": [
        {
          "output_type": "stream",
          "text": [
            "Go to this URL in a browser: https://accounts.google.com/o/oauth2/auth?client_id=947318989803-6bn6qk8qdgf4n4g3pfee6491hc0brc4i.apps.googleusercontent.com&redirect_uri=urn%3Aietf%3Awg%3Aoauth%3A2.0%3Aoob&scope=email%20https%3A%2F%2Fwww.googleapis.com%2Fauth%2Fdocs.test%20https%3A%2F%2Fwww.googleapis.com%2Fauth%2Fdrive%20https%3A%2F%2Fwww.googleapis.com%2Fauth%2Fdrive.photos.readonly%20https%3A%2F%2Fwww.googleapis.com%2Fauth%2Fpeopleapi.readonly&response_type=code\n",
            "\n",
            "Enter your authorization code:\n",
            "··········\n",
            "Mounted at /gdrive\n"
          ],
          "name": "stdout"
        }
      ]
    },
    {
      "cell_type": "code",
      "metadata": {
        "id": "3zQPQ8vYuZoG",
        "colab_type": "code",
        "outputId": "e411a831-3f2c-4d22-cd72-1e1fce4548dc",
        "colab": {
          "base_uri": "https://localhost:8080/",
          "height": 1000
        }
      },
      "source": [
        "import pandas as pd\n",
        "data =pd.read_csv('/gdrive/My Drive/전산통계/data/brain_size.csv', sep=';', na_values=\".\")\n",
        "data\n",
        "# Full-Scale IQ (FSIQ) score, Verbal IQ (VIQ), Performance IQ (PIQ) and Brain Size(MRI_Count).\n",
        "# MRI_Count가 크면 뇌 용량이 크다고 추론할 수 있다."
      ],
      "execution_count": 0,
      "outputs": [
        {
          "output_type": "execute_result",
          "data": {
            "text/html": [
              "<div>\n",
              "<style scoped>\n",
              "    .dataframe tbody tr th:only-of-type {\n",
              "        vertical-align: middle;\n",
              "    }\n",
              "\n",
              "    .dataframe tbody tr th {\n",
              "        vertical-align: top;\n",
              "    }\n",
              "\n",
              "    .dataframe thead th {\n",
              "        text-align: right;\n",
              "    }\n",
              "</style>\n",
              "<table border=\"1\" class=\"dataframe\">\n",
              "  <thead>\n",
              "    <tr style=\"text-align: right;\">\n",
              "      <th></th>\n",
              "      <th>Unnamed: 0</th>\n",
              "      <th>Gender</th>\n",
              "      <th>FSIQ</th>\n",
              "      <th>VIQ</th>\n",
              "      <th>PIQ</th>\n",
              "      <th>Weight</th>\n",
              "      <th>Height</th>\n",
              "      <th>MRI_Count</th>\n",
              "    </tr>\n",
              "  </thead>\n",
              "  <tbody>\n",
              "    <tr>\n",
              "      <th>0</th>\n",
              "      <td>1</td>\n",
              "      <td>Female</td>\n",
              "      <td>133</td>\n",
              "      <td>132</td>\n",
              "      <td>124</td>\n",
              "      <td>118.0</td>\n",
              "      <td>64.5</td>\n",
              "      <td>816932</td>\n",
              "    </tr>\n",
              "    <tr>\n",
              "      <th>1</th>\n",
              "      <td>2</td>\n",
              "      <td>Male</td>\n",
              "      <td>140</td>\n",
              "      <td>150</td>\n",
              "      <td>124</td>\n",
              "      <td>NaN</td>\n",
              "      <td>72.5</td>\n",
              "      <td>1001121</td>\n",
              "    </tr>\n",
              "    <tr>\n",
              "      <th>2</th>\n",
              "      <td>3</td>\n",
              "      <td>Male</td>\n",
              "      <td>139</td>\n",
              "      <td>123</td>\n",
              "      <td>150</td>\n",
              "      <td>143.0</td>\n",
              "      <td>73.3</td>\n",
              "      <td>1038437</td>\n",
              "    </tr>\n",
              "    <tr>\n",
              "      <th>3</th>\n",
              "      <td>4</td>\n",
              "      <td>Male</td>\n",
              "      <td>133</td>\n",
              "      <td>129</td>\n",
              "      <td>128</td>\n",
              "      <td>172.0</td>\n",
              "      <td>68.8</td>\n",
              "      <td>965353</td>\n",
              "    </tr>\n",
              "    <tr>\n",
              "      <th>4</th>\n",
              "      <td>5</td>\n",
              "      <td>Female</td>\n",
              "      <td>137</td>\n",
              "      <td>132</td>\n",
              "      <td>134</td>\n",
              "      <td>147.0</td>\n",
              "      <td>65.0</td>\n",
              "      <td>951545</td>\n",
              "    </tr>\n",
              "    <tr>\n",
              "      <th>5</th>\n",
              "      <td>6</td>\n",
              "      <td>Female</td>\n",
              "      <td>99</td>\n",
              "      <td>90</td>\n",
              "      <td>110</td>\n",
              "      <td>146.0</td>\n",
              "      <td>69.0</td>\n",
              "      <td>928799</td>\n",
              "    </tr>\n",
              "    <tr>\n",
              "      <th>6</th>\n",
              "      <td>7</td>\n",
              "      <td>Female</td>\n",
              "      <td>138</td>\n",
              "      <td>136</td>\n",
              "      <td>131</td>\n",
              "      <td>138.0</td>\n",
              "      <td>64.5</td>\n",
              "      <td>991305</td>\n",
              "    </tr>\n",
              "    <tr>\n",
              "      <th>7</th>\n",
              "      <td>8</td>\n",
              "      <td>Female</td>\n",
              "      <td>92</td>\n",
              "      <td>90</td>\n",
              "      <td>98</td>\n",
              "      <td>175.0</td>\n",
              "      <td>66.0</td>\n",
              "      <td>854258</td>\n",
              "    </tr>\n",
              "    <tr>\n",
              "      <th>8</th>\n",
              "      <td>9</td>\n",
              "      <td>Male</td>\n",
              "      <td>89</td>\n",
              "      <td>93</td>\n",
              "      <td>84</td>\n",
              "      <td>134.0</td>\n",
              "      <td>66.3</td>\n",
              "      <td>904858</td>\n",
              "    </tr>\n",
              "    <tr>\n",
              "      <th>9</th>\n",
              "      <td>10</td>\n",
              "      <td>Male</td>\n",
              "      <td>133</td>\n",
              "      <td>114</td>\n",
              "      <td>147</td>\n",
              "      <td>172.0</td>\n",
              "      <td>68.8</td>\n",
              "      <td>955466</td>\n",
              "    </tr>\n",
              "    <tr>\n",
              "      <th>10</th>\n",
              "      <td>11</td>\n",
              "      <td>Female</td>\n",
              "      <td>132</td>\n",
              "      <td>129</td>\n",
              "      <td>124</td>\n",
              "      <td>118.0</td>\n",
              "      <td>64.5</td>\n",
              "      <td>833868</td>\n",
              "    </tr>\n",
              "    <tr>\n",
              "      <th>11</th>\n",
              "      <td>12</td>\n",
              "      <td>Male</td>\n",
              "      <td>141</td>\n",
              "      <td>150</td>\n",
              "      <td>128</td>\n",
              "      <td>151.0</td>\n",
              "      <td>70.0</td>\n",
              "      <td>1079549</td>\n",
              "    </tr>\n",
              "    <tr>\n",
              "      <th>12</th>\n",
              "      <td>13</td>\n",
              "      <td>Male</td>\n",
              "      <td>135</td>\n",
              "      <td>129</td>\n",
              "      <td>124</td>\n",
              "      <td>155.0</td>\n",
              "      <td>69.0</td>\n",
              "      <td>924059</td>\n",
              "    </tr>\n",
              "    <tr>\n",
              "      <th>13</th>\n",
              "      <td>14</td>\n",
              "      <td>Female</td>\n",
              "      <td>140</td>\n",
              "      <td>120</td>\n",
              "      <td>147</td>\n",
              "      <td>155.0</td>\n",
              "      <td>70.5</td>\n",
              "      <td>856472</td>\n",
              "    </tr>\n",
              "    <tr>\n",
              "      <th>14</th>\n",
              "      <td>15</td>\n",
              "      <td>Female</td>\n",
              "      <td>96</td>\n",
              "      <td>100</td>\n",
              "      <td>90</td>\n",
              "      <td>146.0</td>\n",
              "      <td>66.0</td>\n",
              "      <td>878897</td>\n",
              "    </tr>\n",
              "    <tr>\n",
              "      <th>15</th>\n",
              "      <td>16</td>\n",
              "      <td>Female</td>\n",
              "      <td>83</td>\n",
              "      <td>71</td>\n",
              "      <td>96</td>\n",
              "      <td>135.0</td>\n",
              "      <td>68.0</td>\n",
              "      <td>865363</td>\n",
              "    </tr>\n",
              "    <tr>\n",
              "      <th>16</th>\n",
              "      <td>17</td>\n",
              "      <td>Female</td>\n",
              "      <td>132</td>\n",
              "      <td>132</td>\n",
              "      <td>120</td>\n",
              "      <td>127.0</td>\n",
              "      <td>68.5</td>\n",
              "      <td>852244</td>\n",
              "    </tr>\n",
              "    <tr>\n",
              "      <th>17</th>\n",
              "      <td>18</td>\n",
              "      <td>Male</td>\n",
              "      <td>100</td>\n",
              "      <td>96</td>\n",
              "      <td>102</td>\n",
              "      <td>178.0</td>\n",
              "      <td>73.5</td>\n",
              "      <td>945088</td>\n",
              "    </tr>\n",
              "    <tr>\n",
              "      <th>18</th>\n",
              "      <td>19</td>\n",
              "      <td>Female</td>\n",
              "      <td>101</td>\n",
              "      <td>112</td>\n",
              "      <td>84</td>\n",
              "      <td>136.0</td>\n",
              "      <td>66.3</td>\n",
              "      <td>808020</td>\n",
              "    </tr>\n",
              "    <tr>\n",
              "      <th>19</th>\n",
              "      <td>20</td>\n",
              "      <td>Male</td>\n",
              "      <td>80</td>\n",
              "      <td>77</td>\n",
              "      <td>86</td>\n",
              "      <td>180.0</td>\n",
              "      <td>70.0</td>\n",
              "      <td>889083</td>\n",
              "    </tr>\n",
              "    <tr>\n",
              "      <th>20</th>\n",
              "      <td>21</td>\n",
              "      <td>Male</td>\n",
              "      <td>83</td>\n",
              "      <td>83</td>\n",
              "      <td>86</td>\n",
              "      <td>NaN</td>\n",
              "      <td>NaN</td>\n",
              "      <td>892420</td>\n",
              "    </tr>\n",
              "    <tr>\n",
              "      <th>21</th>\n",
              "      <td>22</td>\n",
              "      <td>Male</td>\n",
              "      <td>97</td>\n",
              "      <td>107</td>\n",
              "      <td>84</td>\n",
              "      <td>186.0</td>\n",
              "      <td>76.5</td>\n",
              "      <td>905940</td>\n",
              "    </tr>\n",
              "    <tr>\n",
              "      <th>22</th>\n",
              "      <td>23</td>\n",
              "      <td>Female</td>\n",
              "      <td>135</td>\n",
              "      <td>129</td>\n",
              "      <td>134</td>\n",
              "      <td>122.0</td>\n",
              "      <td>62.0</td>\n",
              "      <td>790619</td>\n",
              "    </tr>\n",
              "    <tr>\n",
              "      <th>23</th>\n",
              "      <td>24</td>\n",
              "      <td>Male</td>\n",
              "      <td>139</td>\n",
              "      <td>145</td>\n",
              "      <td>128</td>\n",
              "      <td>132.0</td>\n",
              "      <td>68.0</td>\n",
              "      <td>955003</td>\n",
              "    </tr>\n",
              "    <tr>\n",
              "      <th>24</th>\n",
              "      <td>25</td>\n",
              "      <td>Female</td>\n",
              "      <td>91</td>\n",
              "      <td>86</td>\n",
              "      <td>102</td>\n",
              "      <td>114.0</td>\n",
              "      <td>63.0</td>\n",
              "      <td>831772</td>\n",
              "    </tr>\n",
              "    <tr>\n",
              "      <th>25</th>\n",
              "      <td>26</td>\n",
              "      <td>Male</td>\n",
              "      <td>141</td>\n",
              "      <td>145</td>\n",
              "      <td>131</td>\n",
              "      <td>171.0</td>\n",
              "      <td>72.0</td>\n",
              "      <td>935494</td>\n",
              "    </tr>\n",
              "    <tr>\n",
              "      <th>26</th>\n",
              "      <td>27</td>\n",
              "      <td>Female</td>\n",
              "      <td>85</td>\n",
              "      <td>90</td>\n",
              "      <td>84</td>\n",
              "      <td>140.0</td>\n",
              "      <td>68.0</td>\n",
              "      <td>798612</td>\n",
              "    </tr>\n",
              "    <tr>\n",
              "      <th>27</th>\n",
              "      <td>28</td>\n",
              "      <td>Male</td>\n",
              "      <td>103</td>\n",
              "      <td>96</td>\n",
              "      <td>110</td>\n",
              "      <td>187.0</td>\n",
              "      <td>77.0</td>\n",
              "      <td>1062462</td>\n",
              "    </tr>\n",
              "    <tr>\n",
              "      <th>28</th>\n",
              "      <td>29</td>\n",
              "      <td>Female</td>\n",
              "      <td>77</td>\n",
              "      <td>83</td>\n",
              "      <td>72</td>\n",
              "      <td>106.0</td>\n",
              "      <td>63.0</td>\n",
              "      <td>793549</td>\n",
              "    </tr>\n",
              "    <tr>\n",
              "      <th>29</th>\n",
              "      <td>30</td>\n",
              "      <td>Female</td>\n",
              "      <td>130</td>\n",
              "      <td>126</td>\n",
              "      <td>124</td>\n",
              "      <td>159.0</td>\n",
              "      <td>66.5</td>\n",
              "      <td>866662</td>\n",
              "    </tr>\n",
              "    <tr>\n",
              "      <th>30</th>\n",
              "      <td>31</td>\n",
              "      <td>Female</td>\n",
              "      <td>133</td>\n",
              "      <td>126</td>\n",
              "      <td>132</td>\n",
              "      <td>127.0</td>\n",
              "      <td>62.5</td>\n",
              "      <td>857782</td>\n",
              "    </tr>\n",
              "    <tr>\n",
              "      <th>31</th>\n",
              "      <td>32</td>\n",
              "      <td>Male</td>\n",
              "      <td>144</td>\n",
              "      <td>145</td>\n",
              "      <td>137</td>\n",
              "      <td>191.0</td>\n",
              "      <td>67.0</td>\n",
              "      <td>949589</td>\n",
              "    </tr>\n",
              "    <tr>\n",
              "      <th>32</th>\n",
              "      <td>33</td>\n",
              "      <td>Male</td>\n",
              "      <td>103</td>\n",
              "      <td>96</td>\n",
              "      <td>110</td>\n",
              "      <td>192.0</td>\n",
              "      <td>75.5</td>\n",
              "      <td>997925</td>\n",
              "    </tr>\n",
              "    <tr>\n",
              "      <th>33</th>\n",
              "      <td>34</td>\n",
              "      <td>Male</td>\n",
              "      <td>90</td>\n",
              "      <td>96</td>\n",
              "      <td>86</td>\n",
              "      <td>181.0</td>\n",
              "      <td>69.0</td>\n",
              "      <td>879987</td>\n",
              "    </tr>\n",
              "    <tr>\n",
              "      <th>34</th>\n",
              "      <td>35</td>\n",
              "      <td>Female</td>\n",
              "      <td>83</td>\n",
              "      <td>90</td>\n",
              "      <td>81</td>\n",
              "      <td>143.0</td>\n",
              "      <td>66.5</td>\n",
              "      <td>834344</td>\n",
              "    </tr>\n",
              "    <tr>\n",
              "      <th>35</th>\n",
              "      <td>36</td>\n",
              "      <td>Female</td>\n",
              "      <td>133</td>\n",
              "      <td>129</td>\n",
              "      <td>128</td>\n",
              "      <td>153.0</td>\n",
              "      <td>66.5</td>\n",
              "      <td>948066</td>\n",
              "    </tr>\n",
              "    <tr>\n",
              "      <th>36</th>\n",
              "      <td>37</td>\n",
              "      <td>Male</td>\n",
              "      <td>140</td>\n",
              "      <td>150</td>\n",
              "      <td>124</td>\n",
              "      <td>144.0</td>\n",
              "      <td>70.5</td>\n",
              "      <td>949395</td>\n",
              "    </tr>\n",
              "    <tr>\n",
              "      <th>37</th>\n",
              "      <td>38</td>\n",
              "      <td>Female</td>\n",
              "      <td>88</td>\n",
              "      <td>86</td>\n",
              "      <td>94</td>\n",
              "      <td>139.0</td>\n",
              "      <td>64.5</td>\n",
              "      <td>893983</td>\n",
              "    </tr>\n",
              "    <tr>\n",
              "      <th>38</th>\n",
              "      <td>39</td>\n",
              "      <td>Male</td>\n",
              "      <td>81</td>\n",
              "      <td>90</td>\n",
              "      <td>74</td>\n",
              "      <td>148.0</td>\n",
              "      <td>74.0</td>\n",
              "      <td>930016</td>\n",
              "    </tr>\n",
              "    <tr>\n",
              "      <th>39</th>\n",
              "      <td>40</td>\n",
              "      <td>Male</td>\n",
              "      <td>89</td>\n",
              "      <td>91</td>\n",
              "      <td>89</td>\n",
              "      <td>179.0</td>\n",
              "      <td>75.5</td>\n",
              "      <td>935863</td>\n",
              "    </tr>\n",
              "  </tbody>\n",
              "</table>\n",
              "</div>"
            ],
            "text/plain": [
              "    Unnamed: 0  Gender  FSIQ  VIQ  PIQ  Weight  Height  MRI_Count\n",
              "0            1  Female   133  132  124   118.0    64.5     816932\n",
              "1            2    Male   140  150  124     NaN    72.5    1001121\n",
              "2            3    Male   139  123  150   143.0    73.3    1038437\n",
              "3            4    Male   133  129  128   172.0    68.8     965353\n",
              "4            5  Female   137  132  134   147.0    65.0     951545\n",
              "5            6  Female    99   90  110   146.0    69.0     928799\n",
              "6            7  Female   138  136  131   138.0    64.5     991305\n",
              "7            8  Female    92   90   98   175.0    66.0     854258\n",
              "8            9    Male    89   93   84   134.0    66.3     904858\n",
              "9           10    Male   133  114  147   172.0    68.8     955466\n",
              "10          11  Female   132  129  124   118.0    64.5     833868\n",
              "11          12    Male   141  150  128   151.0    70.0    1079549\n",
              "12          13    Male   135  129  124   155.0    69.0     924059\n",
              "13          14  Female   140  120  147   155.0    70.5     856472\n",
              "14          15  Female    96  100   90   146.0    66.0     878897\n",
              "15          16  Female    83   71   96   135.0    68.0     865363\n",
              "16          17  Female   132  132  120   127.0    68.5     852244\n",
              "17          18    Male   100   96  102   178.0    73.5     945088\n",
              "18          19  Female   101  112   84   136.0    66.3     808020\n",
              "19          20    Male    80   77   86   180.0    70.0     889083\n",
              "20          21    Male    83   83   86     NaN     NaN     892420\n",
              "21          22    Male    97  107   84   186.0    76.5     905940\n",
              "22          23  Female   135  129  134   122.0    62.0     790619\n",
              "23          24    Male   139  145  128   132.0    68.0     955003\n",
              "24          25  Female    91   86  102   114.0    63.0     831772\n",
              "25          26    Male   141  145  131   171.0    72.0     935494\n",
              "26          27  Female    85   90   84   140.0    68.0     798612\n",
              "27          28    Male   103   96  110   187.0    77.0    1062462\n",
              "28          29  Female    77   83   72   106.0    63.0     793549\n",
              "29          30  Female   130  126  124   159.0    66.5     866662\n",
              "30          31  Female   133  126  132   127.0    62.5     857782\n",
              "31          32    Male   144  145  137   191.0    67.0     949589\n",
              "32          33    Male   103   96  110   192.0    75.5     997925\n",
              "33          34    Male    90   96   86   181.0    69.0     879987\n",
              "34          35  Female    83   90   81   143.0    66.5     834344\n",
              "35          36  Female   133  129  128   153.0    66.5     948066\n",
              "36          37    Male   140  150  124   144.0    70.5     949395\n",
              "37          38  Female    88   86   94   139.0    64.5     893983\n",
              "38          39    Male    81   90   74   148.0    74.0     930016\n",
              "39          40    Male    89   91   89   179.0    75.5     935863"
            ]
          },
          "metadata": {
            "tags": []
          },
          "execution_count": 3
        }
      ]
    },
    {
      "cell_type": "code",
      "metadata": {
        "id": "VQBDmHV3uZoK",
        "colab_type": "code",
        "outputId": "b412ed2e-8fb1-45d1-e8da-c56a05383e62",
        "colab": {
          "base_uri": "https://localhost:8080/",
          "height": 34
        }
      },
      "source": [
        "data.shape"
      ],
      "execution_count": 0,
      "outputs": [
        {
          "output_type": "execute_result",
          "data": {
            "text/plain": [
              "(40, 8)"
            ]
          },
          "metadata": {
            "tags": []
          },
          "execution_count": 11
        }
      ]
    },
    {
      "cell_type": "code",
      "metadata": {
        "id": "mBEix0nQuZoM",
        "colab_type": "code",
        "outputId": "ac8de753-483a-4278-b23f-4e5856d12bec",
        "colab": {
          "base_uri": "https://localhost:8080/",
          "height": 70
        }
      },
      "source": [
        "data.columns"
      ],
      "execution_count": 0,
      "outputs": [
        {
          "output_type": "execute_result",
          "data": {
            "text/plain": [
              "Index(['Unnamed: 0', 'Gender', 'FSIQ', 'VIQ', 'PIQ', 'Weight', 'Height',\n",
              "       'MRI_Count'],\n",
              "      dtype='object')"
            ]
          },
          "metadata": {
            "tags": []
          },
          "execution_count": 12
        }
      ]
    },
    {
      "cell_type": "code",
      "metadata": {
        "id": "0Lqp8l5uuZoO",
        "colab_type": "code",
        "outputId": "c3a3a007-422a-44aa-cc03-90f9e163db0f",
        "colab": {
          "base_uri": "https://localhost:8080/",
          "height": 738
        }
      },
      "source": [
        "print(data['Gender'])"
      ],
      "execution_count": 0,
      "outputs": [
        {
          "output_type": "stream",
          "text": [
            "0     Female\n",
            "1       Male\n",
            "2       Male\n",
            "3       Male\n",
            "4     Female\n",
            "5     Female\n",
            "6     Female\n",
            "7     Female\n",
            "8       Male\n",
            "9       Male\n",
            "10    Female\n",
            "11      Male\n",
            "12      Male\n",
            "13    Female\n",
            "14    Female\n",
            "15    Female\n",
            "16    Female\n",
            "17      Male\n",
            "18    Female\n",
            "19      Male\n",
            "20      Male\n",
            "21      Male\n",
            "22    Female\n",
            "23      Male\n",
            "24    Female\n",
            "25      Male\n",
            "26    Female\n",
            "27      Male\n",
            "28    Female\n",
            "29    Female\n",
            "30    Female\n",
            "31      Male\n",
            "32      Male\n",
            "33      Male\n",
            "34    Female\n",
            "35    Female\n",
            "36      Male\n",
            "37    Female\n",
            "38      Male\n",
            "39      Male\n",
            "Name: Gender, dtype: object\n"
          ],
          "name": "stdout"
        }
      ]
    },
    {
      "cell_type": "code",
      "metadata": {
        "id": "Li_rmGdbuZoR",
        "colab_type": "code",
        "outputId": "cb400072-2683-4254-a24a-11611046552e",
        "colab": {
          "base_uri": "https://localhost:8080/",
          "height": 55
        }
      },
      "source": [
        "print(data[data['Gender'] == 'Female']['VIQ'].mean()) # 여성의 VIQ 평균\n",
        "print(data[data['Gender'] == 'Male']['VIQ'].mean()) # 남성의 VIQ 평균"
      ],
      "execution_count": 0,
      "outputs": [
        {
          "output_type": "stream",
          "text": [
            "109.45\n",
            "115.25\n"
          ],
          "name": "stdout"
        }
      ]
    },
    {
      "cell_type": "code",
      "metadata": {
        "id": "-XsK__yMuZoU",
        "colab_type": "code",
        "outputId": "6a191412-28c6-4b16-d003-08e2088e0521",
        "colab": {
          "base_uri": "https://localhost:8080/",
          "height": 141
        }
      },
      "source": [
        "groupby_gender = data.groupby('Gender') # pandas object\n",
        "groupby_gender.mean()\n",
        "\n",
        "# FSIQ: Full Scale IQ, VIQ: Verbal IQ, PIQ: Performance IQ, MRI_Count: 사진의 뇌 부분 픽셀 수"
      ],
      "execution_count": 0,
      "outputs": [
        {
          "output_type": "execute_result",
          "data": {
            "text/html": [
              "<div>\n",
              "<style scoped>\n",
              "    .dataframe tbody tr th:only-of-type {\n",
              "        vertical-align: middle;\n",
              "    }\n",
              "\n",
              "    .dataframe tbody tr th {\n",
              "        vertical-align: top;\n",
              "    }\n",
              "\n",
              "    .dataframe thead th {\n",
              "        text-align: right;\n",
              "    }\n",
              "</style>\n",
              "<table border=\"1\" class=\"dataframe\">\n",
              "  <thead>\n",
              "    <tr style=\"text-align: right;\">\n",
              "      <th></th>\n",
              "      <th>Unnamed: 0</th>\n",
              "      <th>FSIQ</th>\n",
              "      <th>VIQ</th>\n",
              "      <th>PIQ</th>\n",
              "      <th>Weight</th>\n",
              "      <th>Height</th>\n",
              "      <th>MRI_Count</th>\n",
              "    </tr>\n",
              "    <tr>\n",
              "      <th>Gender</th>\n",
              "      <th></th>\n",
              "      <th></th>\n",
              "      <th></th>\n",
              "      <th></th>\n",
              "      <th></th>\n",
              "      <th></th>\n",
              "      <th></th>\n",
              "    </tr>\n",
              "  </thead>\n",
              "  <tbody>\n",
              "    <tr>\n",
              "      <th>Female</th>\n",
              "      <td>19.65</td>\n",
              "      <td>111.9</td>\n",
              "      <td>109.45</td>\n",
              "      <td>110.45</td>\n",
              "      <td>137.200000</td>\n",
              "      <td>65.765000</td>\n",
              "      <td>862654.6</td>\n",
              "    </tr>\n",
              "    <tr>\n",
              "      <th>Male</th>\n",
              "      <td>21.35</td>\n",
              "      <td>115.0</td>\n",
              "      <td>115.25</td>\n",
              "      <td>111.60</td>\n",
              "      <td>166.444444</td>\n",
              "      <td>71.431579</td>\n",
              "      <td>954855.4</td>\n",
              "    </tr>\n",
              "  </tbody>\n",
              "</table>\n",
              "</div>"
            ],
            "text/plain": [
              "        Unnamed: 0   FSIQ     VIQ     PIQ      Weight     Height  MRI_Count\n",
              "Gender                                                                     \n",
              "Female       19.65  111.9  109.45  110.45  137.200000  65.765000   862654.6\n",
              "Male         21.35  115.0  115.25  111.60  166.444444  71.431579   954855.4"
            ]
          },
          "metadata": {
            "tags": []
          },
          "execution_count": 5
        }
      ]
    },
    {
      "cell_type": "code",
      "metadata": {
        "id": "yTEboFyUuZoY",
        "colab_type": "code",
        "outputId": "59b82639-1b63-4a9f-fdd7-f136c1cbc69e",
        "colab": {
          "base_uri": "https://localhost:8080/",
          "height": 52
        }
      },
      "source": [
        "for gender, value in groupby_gender['VIQ']:\n",
        "    print((gender, value.mean()))"
      ],
      "execution_count": 0,
      "outputs": [
        {
          "output_type": "stream",
          "text": [
            "('Female', 109.45)\n",
            "('Male', 115.25)\n"
          ],
          "name": "stdout"
        }
      ]
    },
    {
      "cell_type": "code",
      "metadata": {
        "id": "FSrMxPjruZob",
        "colab_type": "code",
        "colab": {}
      },
      "source": [
        "res = data['VIQ'].groupby(data['Gender']).mean()"
      ],
      "execution_count": 0,
      "outputs": []
    },
    {
      "cell_type": "code",
      "metadata": {
        "id": "0Ru2FwanuZoe",
        "colab_type": "code",
        "outputId": "32583562-d0a2-425f-e515-14221242d260",
        "colab": {
          "base_uri": "https://localhost:8080/",
          "height": 87
        }
      },
      "source": [
        "res"
      ],
      "execution_count": 0,
      "outputs": [
        {
          "output_type": "execute_result",
          "data": {
            "text/plain": [
              "Gender\n",
              "Female    109.45\n",
              "Male      115.25\n",
              "Name: VIQ, dtype: float64"
            ]
          },
          "metadata": {
            "tags": []
          },
          "execution_count": 19
        }
      ]
    },
    {
      "cell_type": "code",
      "metadata": {
        "id": "FSA8Tg9uuZoh",
        "colab_type": "code",
        "outputId": "e58f70bf-cfba-460a-8c37-16d01f0da23e",
        "colab": {
          "base_uri": "https://localhost:8080/",
          "height": 34
        }
      },
      "source": [
        "res.index[0], res.values[0]"
      ],
      "execution_count": 0,
      "outputs": [
        {
          "output_type": "execute_result",
          "data": {
            "text/plain": [
              "('Female', 109.45)"
            ]
          },
          "metadata": {
            "tags": []
          },
          "execution_count": 20
        }
      ]
    },
    {
      "cell_type": "markdown",
      "metadata": {
        "id": "d8uNIYoOnC5U",
        "colab_type": "text"
      },
      "source": [
        "## 히스토그램\n",
        "* 히스토그램 : 분포 모양을 추정\n",
        "* 이산형의 하나의 x값에 대한 y축은 빈도를 의미하지만, 연속형의 하나의 x값에 대한 y축은 의미가 없다. x를 구간으로 설정해야 비율(넓이)이라는 의미를 갖는다.\n",
        "* 히스토그램의 x축 구간을 어떻게 나누냐에 따라 그래프의 모양이 달라진다."
      ]
    },
    {
      "cell_type": "code",
      "metadata": {
        "id": "wZS7Lnfh98UQ",
        "colab_type": "code",
        "outputId": "f57a7607-6da8-49e8-e283-2caecc2380f4",
        "colab": {
          "base_uri": "https://localhost:8080/",
          "height": 773
        }
      },
      "source": [
        "plt.hist(data['FSIQ'])\n",
        "plt.show()\n",
        "plt.hist(data['VIQ'])\n",
        "plt.show()\n",
        "plt.hist(data['PIQ'])\n",
        "plt.show()\n",
        "\n",
        "\n"
      ],
      "execution_count": 0,
      "outputs": [
        {
          "output_type": "display_data",
          "data": {
            "image/png": "[encoded data removed]",
            "text/plain": [
              "<Figure size 432x288 with 1 Axes>"
            ]
          },
          "metadata": {
            "tags": []
          }
        },
        {
          "output_type": "display_data",
          "data": {
            "image/png": "[encoded data removed]",
            "text/plain": [
              "<Figure size 432x288 with 1 Axes>"
            ]
          },
          "metadata": {
            "tags": []
          }
        },
        {
          "output_type": "display_data",
          "data": {
            "image/png": "[encoded data removed]",
            "text/plain": [
              "<Figure size 432x288 with 1 Axes>"
            ]
          },
          "metadata": {
            "tags": []
          }
        }
      ]
    },
    {
      "cell_type": "markdown",
      "metadata": {
        "id": "kKvFjbndnzN0",
        "colab_type": "text"
      },
      "source": [
        "## boxplot<br><br>\n",
        "\n",
        "![대체 텍스트](https://pro.arcgis.com/en/pro-app/help/analysis/geoprocessing/charts/GUID-0E2C3730-C535-40CD-8152-80D794A996A7-web.png)\n",
        "![대체 텍스트](https://miro.medium.com/max/9000/1*2c21SkzJMf3frPXPAR_gZA.png)"
      ]
    },
    {
      "cell_type": "code",
      "metadata": {
        "id": "hnSvQAs_uZoj",
        "colab_type": "code",
        "outputId": "fb3262ff-3c6a-4bec-c7ba-06aa4837d1f1",
        "colab": {
          "base_uri": "https://localhost:8080/",
          "height": 417
        }
      },
      "source": [
        "groupby_gender.boxplot(column=['FSIQ', 'VIQ', 'PIQ'])"
      ],
      "execution_count": 0,
      "outputs": [
        {
          "output_type": "execute_result",
          "data": {
            "text/plain": [
              "Female         AxesSubplot(0.1,0.15;0.363636x0.75)\n",
              "Male      AxesSubplot(0.536364,0.15;0.363636x0.75)\n",
              "dtype: object"
            ]
          },
          "metadata": {
            "tags": []
          },
          "execution_count": 12
        },
        {
          "output_type": "display_data",
          "data": {
            "image/png": "[encoded data removed]",
            "text/plain": [
              "<matplotlib.figure.Figure at 0x7fac0a689d30>"
            ]
          },
          "metadata": {
            "tags": []
          }
        }
      ]
    },
    {
      "cell_type": "markdown",
      "metadata": {
        "id": "bBaOQGDloI_f",
        "colab_type": "text"
      },
      "source": [
        "남녀의 VIQ를 비교해보았을때, VIQ가 꽤나 높은 몇 명의 남자가 존재하지만 평균적으로는 여자의 VIQ가 더 높다고 할 수 있다."
      ]
    },
    {
      "cell_type": "code",
      "metadata": {
        "id": "HI_Vo4kJuZok",
        "colab_type": "code",
        "outputId": "eeb70dd9-8b00-476a-f2c1-b334fb03743d",
        "colab": {
          "base_uri": "https://localhost:8080/",
          "height": 485
        }
      },
      "source": [
        "data.boxplot(column=['FSIQ','VIQ','PIQ'],by='Gender')"
      ],
      "execution_count": 0,
      "outputs": [
        {
          "output_type": "execute_result",
          "data": {
            "text/plain": [
              "array([[<matplotlib.axes._subplots.AxesSubplot object at 0x7f1773cdd630>,\n",
              "        <matplotlib.axes._subplots.AxesSubplot object at 0x7f17713f1390>],\n",
              "       [<matplotlib.axes._subplots.AxesSubplot object at 0x7f1771427940>,\n",
              "        <matplotlib.axes._subplots.AxesSubplot object at 0x7f17713dae80>]],\n",
              "      dtype=object)"
            ]
          },
          "metadata": {
            "tags": []
          },
          "execution_count": 14
        },
        {
          "output_type": "display_data",
          "data": {
            "image/png": "[encoded data removed]",
            "text/plain": [
              "<matplotlib.figure.Figure at 0x7f177146f198>"
            ]
          },
          "metadata": {
            "tags": []
          }
        }
      ]
    },
    {
      "cell_type": "markdown",
      "metadata": {
        "id": "iD7-DWQTuZon",
        "colab_type": "text"
      },
      "source": [
        "#### Exercise \n",
        "* VIQ의 평균은 얼마인가?\n",
        "* 이 연구에 포함된 남녀의 숫자는 얼마인가?\n",
        "* 남녀의 MRI counts의 평균을 로그단위로 구하시오."
      ]
    },
    {
      "cell_type": "code",
      "metadata": {
        "id": "596DFkVxuZon",
        "colab_type": "code",
        "outputId": "3e2389da-0eaa-4ef8-835a-1100ae88010b",
        "colab": {
          "base_uri": "https://localhost:8080/",
          "height": 333
        }
      },
      "source": [
        "groupby_gender.boxplot(column=['FSIQ', 'VIQ', 'PIQ'])"
      ],
      "execution_count": 0,
      "outputs": [
        {
          "output_type": "execute_result",
          "data": {
            "text/plain": [
              "Female         AxesSubplot(0.1,0.15;0.363636x0.75)\n",
              "Male      AxesSubplot(0.536364,0.15;0.363636x0.75)\n",
              "dtype: object"
            ]
          },
          "metadata": {
            "tags": []
          },
          "execution_count": 22
        },
        {
          "output_type": "display_data",
          "data": {
            "image/png": "[encoded data removed]",
            "text/plain": [
              "<Figure size 432x288 with 2 Axes>"
            ]
          },
          "metadata": {
            "tags": []
          }
        }
      ]
    },
    {
      "cell_type": "code",
      "metadata": {
        "id": "XfqYYROouZop",
        "colab_type": "code",
        "outputId": "bafd17ce-8703-4566-e4a7-27567b62beb4",
        "colab": {
          "base_uri": "https://localhost:8080/",
          "height": 34
        }
      },
      "source": [
        "data['VIQ'].mean()"
      ],
      "execution_count": 0,
      "outputs": [
        {
          "output_type": "execute_result",
          "data": {
            "text/plain": [
              "112.35"
            ]
          },
          "metadata": {
            "tags": []
          },
          "execution_count": 23
        }
      ]
    },
    {
      "cell_type": "code",
      "metadata": {
        "id": "hkyV0orzuZor",
        "colab_type": "code",
        "outputId": "ba515e29-c9fa-479f-be64-6d97853431e1",
        "colab": {
          "base_uri": "https://localhost:8080/",
          "height": 70
        }
      },
      "source": [
        "data['Gender'].value_counts()"
      ],
      "execution_count": 0,
      "outputs": [
        {
          "output_type": "execute_result",
          "data": {
            "text/plain": [
              "Female    20\n",
              "Male      20\n",
              "Name: Gender, dtype: int64"
            ]
          },
          "metadata": {
            "tags": []
          },
          "execution_count": 24
        }
      ]
    },
    {
      "cell_type": "code",
      "metadata": {
        "id": "RqSA-4HNuZot",
        "colab_type": "code",
        "outputId": "21768561-fce4-4ea8-b9a9-178a6ffacdff",
        "colab": {
          "base_uri": "https://localhost:8080/",
          "height": 87
        }
      },
      "source": [
        "data['log_MRI_Count'] = np.log(data['MRI_Count'])\n",
        "data['log_MRI_Count'].groupby(data['Gender']).mean()"
      ],
      "execution_count": 0,
      "outputs": [
        {
          "output_type": "execute_result",
          "data": {
            "text/plain": [
              "Gender\n",
              "Female    13.665830\n",
              "Male      13.767731\n",
              "Name: log_MRI_Count, dtype: float64"
            ]
          },
          "metadata": {
            "tags": []
          },
          "execution_count": 25
        }
      ]
    },
    {
      "cell_type": "code",
      "metadata": {
        "id": "TUi8NxU2uZou",
        "colab_type": "code",
        "outputId": "c8232d44-da49-4200-ba33-b69ccaa6acad",
        "colab": {
          "base_uri": "https://localhost:8080/",
          "height": 485
        }
      },
      "source": [
        "pd.plotting.scatter_matrix(data[['Weight', 'Height', 'MRI_Count']])"
      ],
      "execution_count": 0,
      "outputs": [
        {
          "output_type": "execute_result",
          "data": {
            "text/plain": [
              "array([[<matplotlib.axes._subplots.AxesSubplot object at 0x7f4a0cf8ba20>,\n",
              "        <matplotlib.axes._subplots.AxesSubplot object at 0x7f4a0cf36da0>,\n",
              "        <matplotlib.axes._subplots.AxesSubplot object at 0x7f4a0cee4358>],\n",
              "       [<matplotlib.axes._subplots.AxesSubplot object at 0x7f4a0cf0a8d0>,\n",
              "        <matplotlib.axes._subplots.AxesSubplot object at 0x7f4a0ceb3e48>,\n",
              "        <matplotlib.axes._subplots.AxesSubplot object at 0x7f4a0ce63400>],\n",
              "       [<matplotlib.axes._subplots.AxesSubplot object at 0x7f4a0ce8d978>,\n",
              "        <matplotlib.axes._subplots.AxesSubplot object at 0x7f4a0ce35f28>,\n",
              "        <matplotlib.axes._subplots.AxesSubplot object at 0x7f4a0ce35f60>]],\n",
              "      dtype=object)"
            ]
          },
          "metadata": {
            "tags": []
          },
          "execution_count": 27
        },
        {
          "output_type": "display_data",
          "data": {
            "image/png": "[encoded data removed]",
            "text/plain": [
              "<Figure size 432x288 with 9 Axes>"
            ]
          },
          "metadata": {
            "tags": []
          }
        }
      ]
    },
    {
      "cell_type": "code",
      "metadata": {
        "id": "1LdhIEUOuZow",
        "colab_type": "code",
        "outputId": "d635a7e1-b8aa-4b09-99a9-6f2384fad4aa",
        "colab": {
          "base_uri": "https://localhost:8080/",
          "height": 464
        }
      },
      "source": [
        "pd.plotting.scatter_matrix(data[['PIQ', 'VIQ', 'FSIQ']])"
      ],
      "execution_count": 0,
      "outputs": [
        {
          "output_type": "execute_result",
          "data": {
            "text/plain": [
              "array([[<matplotlib.axes._subplots.AxesSubplot object at 0x7f4a0cf8b438>,\n",
              "        <matplotlib.axes._subplots.AxesSubplot object at 0x7f4a0d25d668>,\n",
              "        <matplotlib.axes._subplots.AxesSubplot object at 0x7f4a0d2c0630>],\n",
              "       [<matplotlib.axes._subplots.AxesSubplot object at 0x7f4a0d30e9b0>,\n",
              "        <matplotlib.axes._subplots.AxesSubplot object at 0x7f4a0fbe8748>,\n",
              "        <matplotlib.axes._subplots.AxesSubplot object at 0x7f4a100a09b0>],\n",
              "       [<matplotlib.axes._subplots.AxesSubplot object at 0x7f4a0d2ed518>,\n",
              "        <matplotlib.axes._subplots.AxesSubplot object at 0x7f4a0fc0b128>,\n",
              "        <matplotlib.axes._subplots.AxesSubplot object at 0x7f4a0fc0b160>]],\n",
              "      dtype=object)"
            ]
          },
          "metadata": {
            "tags": []
          },
          "execution_count": 28
        },
        {
          "output_type": "display_data",
          "data": {
            "image/png": "[encoded data removed]",
            "text/plain": [
              "<Figure size 432x288 with 9 Axes>"
            ]
          },
          "metadata": {
            "tags": []
          }
        }
      ]
    },
    {
      "cell_type": "markdown",
      "metadata": {
        "id": "y3SpykB6uZoy",
        "colab_type": "text"
      },
      "source": [
        "#### Exercise \n",
        "\n",
        "남자와 여자로 구분하여 위의 산점행렬을 구하시오."
      ]
    },
    {
      "cell_type": "code",
      "metadata": {
        "id": "oAQh6SGvuZoz",
        "colab_type": "code",
        "outputId": "b67827e7-6e32-4eee-cc51-15b522f18dd1",
        "colab": {
          "base_uri": "https://localhost:8080/",
          "height": 639
        }
      },
      "source": [
        "data[data.Gender == 'Male']"
      ],
      "execution_count": 0,
      "outputs": [
        {
          "output_type": "execute_result",
          "data": {
            "text/html": [
              "<div>\n",
              "<style scoped>\n",
              "    .dataframe tbody tr th:only-of-type {\n",
              "        vertical-align: middle;\n",
              "    }\n",
              "\n",
              "    .dataframe tbody tr th {\n",
              "        vertical-align: top;\n",
              "    }\n",
              "\n",
              "    .dataframe thead th {\n",
              "        text-align: right;\n",
              "    }\n",
              "</style>\n",
              "<table border=\"1\" class=\"dataframe\">\n",
              "  <thead>\n",
              "    <tr style=\"text-align: right;\">\n",
              "      <th></th>\n",
              "      <th>Unnamed: 0</th>\n",
              "      <th>Gender</th>\n",
              "      <th>FSIQ</th>\n",
              "      <th>VIQ</th>\n",
              "      <th>PIQ</th>\n",
              "      <th>Weight</th>\n",
              "      <th>Height</th>\n",
              "      <th>MRI_Count</th>\n",
              "      <th>log_MRI_Count</th>\n",
              "    </tr>\n",
              "  </thead>\n",
              "  <tbody>\n",
              "    <tr>\n",
              "      <th>1</th>\n",
              "      <td>2</td>\n",
              "      <td>Male</td>\n",
              "      <td>140</td>\n",
              "      <td>150</td>\n",
              "      <td>124</td>\n",
              "      <td>NaN</td>\n",
              "      <td>72.5</td>\n",
              "      <td>1001121</td>\n",
              "      <td>13.816631</td>\n",
              "    </tr>\n",
              "    <tr>\n",
              "      <th>2</th>\n",
              "      <td>3</td>\n",
              "      <td>Male</td>\n",
              "      <td>139</td>\n",
              "      <td>123</td>\n",
              "      <td>150</td>\n",
              "      <td>143.0</td>\n",
              "      <td>73.3</td>\n",
              "      <td>1038437</td>\n",
              "      <td>13.853227</td>\n",
              "    </tr>\n",
              "    <tr>\n",
              "      <th>3</th>\n",
              "      <td>4</td>\n",
              "      <td>Male</td>\n",
              "      <td>133</td>\n",
              "      <td>129</td>\n",
              "      <td>128</td>\n",
              "      <td>172.0</td>\n",
              "      <td>68.8</td>\n",
              "      <td>965353</td>\n",
              "      <td>13.780249</td>\n",
              "    </tr>\n",
              "    <tr>\n",
              "      <th>8</th>\n",
              "      <td>9</td>\n",
              "      <td>Male</td>\n",
              "      <td>89</td>\n",
              "      <td>93</td>\n",
              "      <td>84</td>\n",
              "      <td>134.0</td>\n",
              "      <td>66.3</td>\n",
              "      <td>904858</td>\n",
              "      <td>13.715533</td>\n",
              "    </tr>\n",
              "    <tr>\n",
              "      <th>9</th>\n",
              "      <td>10</td>\n",
              "      <td>Male</td>\n",
              "      <td>133</td>\n",
              "      <td>114</td>\n",
              "      <td>147</td>\n",
              "      <td>172.0</td>\n",
              "      <td>68.8</td>\n",
              "      <td>955466</td>\n",
              "      <td>13.769954</td>\n",
              "    </tr>\n",
              "    <tr>\n",
              "      <th>11</th>\n",
              "      <td>12</td>\n",
              "      <td>Male</td>\n",
              "      <td>141</td>\n",
              "      <td>150</td>\n",
              "      <td>128</td>\n",
              "      <td>151.0</td>\n",
              "      <td>70.0</td>\n",
              "      <td>1079549</td>\n",
              "      <td>13.892054</td>\n",
              "    </tr>\n",
              "    <tr>\n",
              "      <th>12</th>\n",
              "      <td>13</td>\n",
              "      <td>Male</td>\n",
              "      <td>135</td>\n",
              "      <td>129</td>\n",
              "      <td>124</td>\n",
              "      <td>155.0</td>\n",
              "      <td>69.0</td>\n",
              "      <td>924059</td>\n",
              "      <td>13.736531</td>\n",
              "    </tr>\n",
              "    <tr>\n",
              "      <th>17</th>\n",
              "      <td>18</td>\n",
              "      <td>Male</td>\n",
              "      <td>100</td>\n",
              "      <td>96</td>\n",
              "      <td>102</td>\n",
              "      <td>178.0</td>\n",
              "      <td>73.5</td>\n",
              "      <td>945088</td>\n",
              "      <td>13.759033</td>\n",
              "    </tr>\n",
              "    <tr>\n",
              "      <th>19</th>\n",
              "      <td>20</td>\n",
              "      <td>Male</td>\n",
              "      <td>80</td>\n",
              "      <td>77</td>\n",
              "      <td>86</td>\n",
              "      <td>180.0</td>\n",
              "      <td>70.0</td>\n",
              "      <td>889083</td>\n",
              "      <td>13.697946</td>\n",
              "    </tr>\n",
              "    <tr>\n",
              "      <th>20</th>\n",
              "      <td>21</td>\n",
              "      <td>Male</td>\n",
              "      <td>83</td>\n",
              "      <td>83</td>\n",
              "      <td>86</td>\n",
              "      <td>NaN</td>\n",
              "      <td>NaN</td>\n",
              "      <td>892420</td>\n",
              "      <td>13.701692</td>\n",
              "    </tr>\n",
              "    <tr>\n",
              "      <th>21</th>\n",
              "      <td>22</td>\n",
              "      <td>Male</td>\n",
              "      <td>97</td>\n",
              "      <td>107</td>\n",
              "      <td>84</td>\n",
              "      <td>186.0</td>\n",
              "      <td>76.5</td>\n",
              "      <td>905940</td>\n",
              "      <td>13.716728</td>\n",
              "    </tr>\n",
              "    <tr>\n",
              "      <th>23</th>\n",
              "      <td>24</td>\n",
              "      <td>Male</td>\n",
              "      <td>139</td>\n",
              "      <td>145</td>\n",
              "      <td>128</td>\n",
              "      <td>132.0</td>\n",
              "      <td>68.0</td>\n",
              "      <td>955003</td>\n",
              "      <td>13.769470</td>\n",
              "    </tr>\n",
              "    <tr>\n",
              "      <th>25</th>\n",
              "      <td>26</td>\n",
              "      <td>Male</td>\n",
              "      <td>141</td>\n",
              "      <td>145</td>\n",
              "      <td>131</td>\n",
              "      <td>171.0</td>\n",
              "      <td>72.0</td>\n",
              "      <td>935494</td>\n",
              "      <td>13.748830</td>\n",
              "    </tr>\n",
              "    <tr>\n",
              "      <th>27</th>\n",
              "      <td>28</td>\n",
              "      <td>Male</td>\n",
              "      <td>103</td>\n",
              "      <td>96</td>\n",
              "      <td>110</td>\n",
              "      <td>187.0</td>\n",
              "      <td>77.0</td>\n",
              "      <td>1062462</td>\n",
              "      <td>13.876099</td>\n",
              "    </tr>\n",
              "    <tr>\n",
              "      <th>31</th>\n",
              "      <td>32</td>\n",
              "      <td>Male</td>\n",
              "      <td>144</td>\n",
              "      <td>145</td>\n",
              "      <td>137</td>\n",
              "      <td>191.0</td>\n",
              "      <td>67.0</td>\n",
              "      <td>949589</td>\n",
              "      <td>13.763785</td>\n",
              "    </tr>\n",
              "    <tr>\n",
              "      <th>32</th>\n",
              "      <td>33</td>\n",
              "      <td>Male</td>\n",
              "      <td>103</td>\n",
              "      <td>96</td>\n",
              "      <td>110</td>\n",
              "      <td>192.0</td>\n",
              "      <td>75.5</td>\n",
              "      <td>997925</td>\n",
              "      <td>13.813433</td>\n",
              "    </tr>\n",
              "    <tr>\n",
              "      <th>33</th>\n",
              "      <td>34</td>\n",
              "      <td>Male</td>\n",
              "      <td>90</td>\n",
              "      <td>96</td>\n",
              "      <td>86</td>\n",
              "      <td>181.0</td>\n",
              "      <td>69.0</td>\n",
              "      <td>879987</td>\n",
              "      <td>13.687662</td>\n",
              "    </tr>\n",
              "    <tr>\n",
              "      <th>36</th>\n",
              "      <td>37</td>\n",
              "      <td>Male</td>\n",
              "      <td>140</td>\n",
              "      <td>150</td>\n",
              "      <td>124</td>\n",
              "      <td>144.0</td>\n",
              "      <td>70.5</td>\n",
              "      <td>949395</td>\n",
              "      <td>13.763580</td>\n",
              "    </tr>\n",
              "    <tr>\n",
              "      <th>38</th>\n",
              "      <td>39</td>\n",
              "      <td>Male</td>\n",
              "      <td>81</td>\n",
              "      <td>90</td>\n",
              "      <td>74</td>\n",
              "      <td>148.0</td>\n",
              "      <td>74.0</td>\n",
              "      <td>930016</td>\n",
              "      <td>13.742957</td>\n",
              "    </tr>\n",
              "    <tr>\n",
              "      <th>39</th>\n",
              "      <td>40</td>\n",
              "      <td>Male</td>\n",
              "      <td>89</td>\n",
              "      <td>91</td>\n",
              "      <td>89</td>\n",
              "      <td>179.0</td>\n",
              "      <td>75.5</td>\n",
              "      <td>935863</td>\n",
              "      <td>13.749224</td>\n",
              "    </tr>\n",
              "  </tbody>\n",
              "</table>\n",
              "</div>"
            ],
            "text/plain": [
              "    Unnamed: 0 Gender  FSIQ  VIQ  PIQ  Weight  Height  MRI_Count  log_MRI_Count\n",
              "1            2   Male   140  150  124     NaN    72.5    1001121      13.816631\n",
              "2            3   Male   139  123  150   143.0    73.3    1038437      13.853227\n",
              "3            4   Male   133  129  128   172.0    68.8     965353      13.780249\n",
              "8            9   Male    89   93   84   134.0    66.3     904858      13.715533\n",
              "9           10   Male   133  114  147   172.0    68.8     955466      13.769954\n",
              "11          12   Male   141  150  128   151.0    70.0    1079549      13.892054\n",
              "12          13   Male   135  129  124   155.0    69.0     924059      13.736531\n",
              "17          18   Male   100   96  102   178.0    73.5     945088      13.759033\n",
              "19          20   Male    80   77   86   180.0    70.0     889083      13.697946\n",
              "20          21   Male    83   83   86     NaN     NaN     892420      13.701692\n",
              "21          22   Male    97  107   84   186.0    76.5     905940      13.716728\n",
              "23          24   Male   139  145  128   132.0    68.0     955003      13.769470\n",
              "25          26   Male   141  145  131   171.0    72.0     935494      13.748830\n",
              "27          28   Male   103   96  110   187.0    77.0    1062462      13.876099\n",
              "31          32   Male   144  145  137   191.0    67.0     949589      13.763785\n",
              "32          33   Male   103   96  110   192.0    75.5     997925      13.813433\n",
              "33          34   Male    90   96   86   181.0    69.0     879987      13.687662\n",
              "36          37   Male   140  150  124   144.0    70.5     949395      13.763580\n",
              "38          39   Male    81   90   74   148.0    74.0     930016      13.742957\n",
              "39          40   Male    89   91   89   179.0    75.5     935863      13.749224"
            ]
          },
          "metadata": {
            "tags": []
          },
          "execution_count": 29
        }
      ]
    },
    {
      "cell_type": "code",
      "metadata": {
        "id": "I1QIaG3LuZo2",
        "colab_type": "code",
        "outputId": "4151bfe2-58d5-4348-c63f-0a4d805b64c4",
        "colab": {
          "base_uri": "https://localhost:8080/",
          "height": 464
        }
      },
      "source": [
        "pd.plotting.scatter_matrix(data[data.Gender == 'Male'][['PIQ', 'VIQ', 'FSIQ']])"
      ],
      "execution_count": 0,
      "outputs": [
        {
          "output_type": "execute_result",
          "data": {
            "text/plain": [
              "array([[<matplotlib.axes._subplots.AxesSubplot object at 0x7f4a0cd01470>,\n",
              "        <matplotlib.axes._subplots.AxesSubplot object at 0x7f4a0cc0db70>,\n",
              "        <matplotlib.axes._subplots.AxesSubplot object at 0x7f4a0cbbc128>],\n",
              "       [<matplotlib.axes._subplots.AxesSubplot object at 0x7f4a0cb636a0>,\n",
              "        <matplotlib.axes._subplots.AxesSubplot object at 0x7f4a0cb8ac18>,\n",
              "        <matplotlib.axes._subplots.AxesSubplot object at 0x7f4a0cb3a1d0>],\n",
              "       [<matplotlib.axes._subplots.AxesSubplot object at 0x7f4a0cae0748>,\n",
              "        <matplotlib.axes._subplots.AxesSubplot object at 0x7f4a0cb0acf8>,\n",
              "        <matplotlib.axes._subplots.AxesSubplot object at 0x7f4a0cb0ad30>]],\n",
              "      dtype=object)"
            ]
          },
          "metadata": {
            "tags": []
          },
          "execution_count": 31
        },
        {
          "output_type": "display_data",
          "data": {
            "image/png": "[encoded data removed]",
            "text/plain": [
              "<Figure size 432x288 with 9 Axes>"
            ]
          },
          "metadata": {
            "tags": []
          }
        }
      ]
    },
    {
      "cell_type": "code",
      "metadata": {
        "id": "z3fUTvOYuZo4",
        "colab_type": "code",
        "outputId": "c0a13ef8-6ae2-4151-bf11-a741952132cd",
        "colab": {
          "base_uri": "https://localhost:8080/",
          "height": 464
        }
      },
      "source": [
        "pd.plotting.scatter_matrix(data[data.Gender == 'Female'][['PIQ', 'VIQ', 'FSIQ']])"
      ],
      "execution_count": 0,
      "outputs": [
        {
          "output_type": "execute_result",
          "data": {
            "text/plain": [
              "array([[<matplotlib.axes._subplots.AxesSubplot object at 0x7f4a0c99a6a0>,\n",
              "        <matplotlib.axes._subplots.AxesSubplot object at 0x7f4a0c9d7080>,\n",
              "        <matplotlib.axes._subplots.AxesSubplot object at 0x7f4a0c97c588>],\n",
              "       [<matplotlib.axes._subplots.AxesSubplot object at 0x7f4a0c925b00>,\n",
              "        <matplotlib.axes._subplots.AxesSubplot object at 0x7f4a0c9560b8>,\n",
              "        <matplotlib.axes._subplots.AxesSubplot object at 0x7f4a0c8fc630>],\n",
              "       [<matplotlib.axes._subplots.AxesSubplot object at 0x7f4a0c8a4ba8>,\n",
              "        <matplotlib.axes._subplots.AxesSubplot object at 0x7f4a0c8d6198>,\n",
              "        <matplotlib.axes._subplots.AxesSubplot object at 0x7f4a0c8d61d0>]],\n",
              "      dtype=object)"
            ]
          },
          "metadata": {
            "tags": []
          },
          "execution_count": 32
        },
        {
          "output_type": "display_data",
          "data": {
            "image/png": "[encoded data removed]",
            "text/plain": [
              "<Figure size 432x288 with 9 Axes>"
            ]
          },
          "metadata": {
            "tags": []
          }
        }
      ]
    },
    {
      "cell_type": "markdown",
      "metadata": {
        "id": "ZGWzQW_JcOTY",
        "colab_type": "text"
      },
      "source": [
        "## ~9.30"
      ]
    },
    {
      "cell_type": "markdown",
      "metadata": {
        "id": "SR8gbDf8cOm3",
        "colab_type": "text"
      },
      "source": [
        "### 표본평균의 평균\n",
        "![대체 텍스트](https://i.imgur.com/8Z1ET9q.png)"
      ]
    },
    {
      "cell_type": "markdown",
      "metadata": {
        "id": "OO0tvbzocXud",
        "colab_type": "text"
      },
      "source": [
        "### 표본평균의 분산\n",
        "![대체 텍스트](https://i.imgur.com/2ntsMnz.png)"
      ]
    },
    {
      "cell_type": "markdown",
      "metadata": {
        "id": "Bmshm643uZo7",
        "colab_type": "text"
      },
      "source": [
        "### <font color='blue'> t-Test </font>"
      ]
    },
    {
      "cell_type": "markdown",
      "metadata": {
        "id": "WXXCdyltcthf",
        "colab_type": "text"
      },
      "source": [
        "공장에서 sensor(n = 10, u = 80, sigma = 5일때)에 x1,x2,x3,...,xn가 관측되었다.  \n",
        "xi가 대강 80을 중심으로 움직인다고 알고 있다(In Control).  \n",
        "x_bar = 100이 관측되었다.  \n",
        "이 상황은 In Control인가? Out of Control인가?  \n",
        "이것을 파악하기 위해서 t-Test를 이용한다."
      ]
    },
    {
      "cell_type": "markdown",
      "metadata": {
        "id": "4wgm5iKUgDws",
        "colab_type": "text"
      },
      "source": [
        "\n",
        "[출처](https://datascienceschool.net/view-notebook/14bde0cc05514b2cae2088805ef9ed52/)\n",
        "\n",
        "![대체 텍스트](https://i.imgur.com/Nzwmk2u.png)\n",
        "![대체 텍스트](https://i.imgur.com/S0uQoIz.png)\n",
        "![대체 텍스트](https://i.imgur.com/FZVRFDE.png)\n",
        "![대체 텍스트](https://i.imgur.com/z86kwWx.png)\n",
        "![대체 텍스트](https://i.imgur.com/D0uCaTy.png)\n",
        "![대체 텍스트](https://i.imgur.com/zr2lDNo.png)\n",
        "![대체 텍스트](https://i.imgur.com/gCrAaib.png)\n",
        "![대체 텍스트](https://i.imgur.com/d1tMy9F.png)\n",
        "![대체 텍스트](https://i.imgur.com/cqEP2bP.png)\n",
        "![대체 텍스트](https://i.imgur.com/gJZcMrX.png)\n",
        "![대체 텍스트](https://i.imgur.com/vqBeAxy.png)\n"
      ]
    },
    {
      "cell_type": "markdown",
      "metadata": {
        "id": "pijePfnGc9He",
        "colab_type": "text"
      },
      "source": [
        "### Note\n",
        "t-test는 비교하려는 두 집단이 정규분포를 따르지 않아도 된다.<br>\n",
        "검정통계량이 X_bar - Y_bar와 같이 표본의 평균이기 때문에, 중심극한정리에 의하여 이 값들은 정규분포를 따르게 된다. 따라서 검정통계량을 정규분포 그래프에 매핑함으로써 기각역 설정, p-value등을 이용할 수 있다."
      ]
    },
    {
      "cell_type": "markdown",
      "metadata": {
        "id": "fxWcsf1AcjhB",
        "colab_type": "text"
      },
      "source": [
        "$ t = \\frac {\\bar x - \\mu}{s / \\sqrt n} $ 이고 p-value는 $ Pr(|T| > t) $ 임\n"
      ]
    },
    {
      "cell_type": "code",
      "metadata": {
        "id": "8ijfHb0nuZo8",
        "colab_type": "code",
        "outputId": "eeb9b840-5f59-401e-9275-7e9bce05ba91",
        "colab": {
          "base_uri": "https://localhost:8080/",
          "height": 34
        }
      },
      "source": [
        "# 단일표본 t검정\n",
        "# data['VIQ'].mean() == 112.35\n",
        "# data['VIQ'].sqrt() == 23.61\n",
        "\n",
        "from scipy import stats\n",
        "stats.ttest_1samp(data['VIQ'], 0)  # t = (112.35 - 0)/(23.61/(np.sqrt(40)))"
      ],
      "execution_count": 0,
      "outputs": [
        {
          "output_type": "execute_result",
          "data": {
            "text/plain": [
              "Ttest_1sampResult(statistic=30.088099970849328, pvalue=1.3289196468728067e-28)"
            ]
          },
          "metadata": {
            "tags": []
          },
          "execution_count": 33
        }
      ]
    },
    {
      "cell_type": "code",
      "metadata": {
        "id": "nnqSxAsddocQ",
        "colab_type": "code",
        "outputId": "28913c4d-b9ad-4065-c706-ac4511b49900",
        "colab": {
          "base_uri": "https://localhost:8080/",
          "height": 36
        }
      },
      "source": [
        "import numpy as np\n",
        "(112.35 - 0)/(23.61/(np.sqrt(40)))\n",
        "# (data['VIQ'].mean() - 0) / data['VIQ'].std() * np.sqrt(40)"
      ],
      "execution_count": 0,
      "outputs": [
        {
          "output_type": "execute_result",
          "data": {
            "text/plain": [
              "30.09588268699004"
            ]
          },
          "metadata": {
            "tags": []
          },
          "execution_count": 4
        }
      ]
    },
    {
      "cell_type": "code",
      "metadata": {
        "id": "21bJpzwy350L",
        "colab_type": "code",
        "outputId": "5122288d-df81-4e06-c7bf-b9c7df6a32a5",
        "colab": {
          "base_uri": "https://localhost:8080/",
          "height": 36
        }
      },
      "source": [
        "# 단일표본 t검정\n",
        "from scipy import stats\n",
        "stats.ttest_1samp(data['VIQ'], 110) # pvalue의 기준 : 0.1 or 0.05\n",
        "\n",
        "# pvalue가 0.1보다 크면 in control\n",
        "# pvalue가 0.1보다 작으면 out of control"
      ],
      "execution_count": 0,
      "outputs": [
        {
          "output_type": "execute_result",
          "data": {
            "text/plain": [
              "Ttest_1sampResult(statistic=0.6293461053092635, pvalue=0.5327920500038907)"
            ]
          },
          "metadata": {
            "tags": []
          },
          "execution_count": 5
        }
      ]
    },
    {
      "cell_type": "markdown",
      "metadata": {
        "id": "ObNoyFOL5zQZ",
        "colab_type": "text"
      },
      "source": [
        "X-ray의 사진 pixel을 통해 암의 유무를 판단하는 상황에서, t-Test를 통해 유의미한 pixel을 추출해 낼 수 있다."
      ]
    },
    {
      "cell_type": "markdown",
      "metadata": {
        "id": "Lkfr-bDKdO6k",
        "colab_type": "text"
      },
      "source": [
        "$$ t = \\frac {\\bar x_1 - \\bar x_2 }{s_p \\sqrt{\\frac {1}{n_1}+\\frac {1}{n_2}}}, s^2_p = \\frac{(n_1-1)S^2_1+(n_2-1)S^2_2} {n_1+n_2-2}$$"
      ]
    },
    {
      "cell_type": "code",
      "metadata": {
        "id": "Ex3_wHkpuZo_",
        "colab_type": "code",
        "outputId": "83952e15-08ee-419e-c774-5e5bc726bc0c",
        "colab": {
          "base_uri": "https://localhost:8080/",
          "height": 34
        }
      },
      "source": [
        "# 독립표본 t검정(independant)\n",
        "female_viq = data[data['Gender'] == 'Female']['VIQ']\n",
        "male_viq = data[data['Gender'] == 'Male']['VIQ']\n",
        "stats.ttest_ind(female_viq, male_viq) # 독립표본"
      ],
      "execution_count": 0,
      "outputs": [
        {
          "output_type": "execute_result",
          "data": {
            "text/plain": [
              "Ttest_indResult(statistic=-0.7726161723275011, pvalue=0.44452876778583217)"
            ]
          },
          "metadata": {
            "tags": []
          },
          "execution_count": 34
        }
      ]
    },
    {
      "cell_type": "code",
      "metadata": {
        "id": "GuyMcC2uuZpB",
        "colab_type": "code",
        "outputId": "f18e7eda-e0a7-4f77-abf3-68a20330bd48",
        "colab": {
          "base_uri": "https://localhost:8080/",
          "height": 34
        }
      },
      "source": [
        "stats.ttest_ind(data['FSIQ'], data['PIQ']) # 대응표본\n",
        "# 계산은 되지만, 잘못 적용한 것"
      ],
      "execution_count": 0,
      "outputs": [
        {
          "output_type": "execute_result",
          "data": {
            "text/plain": [
              "Ttest_indResult(statistic=0.465637596380964, pvalue=0.6427725009414841)"
            ]
          },
          "metadata": {
            "tags": []
          },
          "execution_count": 35
        }
      ]
    },
    {
      "cell_type": "code",
      "metadata": {
        "id": "m8HVZ1ZauZpD",
        "colab_type": "code",
        "outputId": "1177dca1-1547-4624-ae95-6d97e89bc961",
        "colab": {
          "base_uri": "https://localhost:8080/",
          "height": 34
        }
      },
      "source": [
        "# 대응표본 t검정 \n",
        "# before 데이터 또는 after 데이터 모두가 존재해야 한다. 하나라도 존재하지 않는다면 레코드 전체를 제거한다.\n",
        "# 이렇게 적용해야 함\n",
        "stats.ttest_rel(data['FSIQ'], data['PIQ'])"
      ],
      "execution_count": 0,
      "outputs": [
        {
          "output_type": "execute_result",
          "data": {
            "text/plain": [
              "Ttest_relResult(statistic=1.7842019405859857, pvalue=0.08217263818364236)"
            ]
          },
          "metadata": {
            "tags": []
          },
          "execution_count": 36
        }
      ]
    },
    {
      "cell_type": "markdown",
      "metadata": {
        "id": "-xPcVurCuZpH",
        "colab_type": "text"
      },
      "source": [
        "#### Exercise \n",
        "* 남녀간의 VIQ 차이가 있다고 주장할 수 있는가?\n",
        "\n",
        "##### Conclusion: \n",
        "답은 남녀간의 VIQ 차이가 있다고 주장할만한 충분한 근거가 존재하지 않는다 임"
      ]
    },
    {
      "cell_type": "markdown",
      "metadata": {
        "id": "tWfIFkMlhuLF",
        "colab_type": "text"
      },
      "source": [
        "![대체 텍스트](https://i.imgur.com/twgz8XW.jpg)"
      ]
    },
    {
      "cell_type": "markdown",
      "metadata": {
        "id": "BnxPacYRah7f",
        "colab_type": "text"
      },
      "source": [
        "### ~10.16"
      ]
    },
    {
      "cell_type": "markdown",
      "metadata": {
        "id": "qYycf-G4uZpH",
        "colab_type": "text"
      },
      "source": [
        "### <font color='blue'> Linear Models </font>\n",
        "\n",
        "주어진 두 자료 쌍을 각각 x와 y 라고 하자.\n",
        "이때, x가 변화할 때, y가 선형적으로 변환한다고 가정하면 \n",
        "$$ y = \\alpha + \\beta x + \\epsilon $$\n",
        "\n",
        "여기서, $\\epsilon$는 랜덤한 노이즈를 나타낸다. \n"
      ]
    },
    {
      "cell_type": "code",
      "metadata": {
        "id": "pXOaByTluZpH",
        "colab_type": "code",
        "colab": {}
      },
      "source": [
        "import numpy as np\n",
        "import pandas as pd\n",
        "x = np.linspace(-5, 5, 20)\n",
        "np.random.seed(1)\n",
        "# normal distributed noise\n",
        "y = -5 + 3*x + 4 * np.random.normal(size=x.shape)\n",
        "# Create a data frame containing all the relevant variables\n",
        "data = pd.DataFrame({'x': x, 'y': y})"
      ],
      "execution_count": 0,
      "outputs": []
    },
    {
      "cell_type": "code",
      "metadata": {
        "id": "kedOfBAauZpJ",
        "colab_type": "code",
        "outputId": "9b8e82a1-fe80-4425-bed1-67cdf2c7c85b",
        "colab": {
          "base_uri": "https://localhost:8080/",
          "height": 391
        }
      },
      "source": [
        "np.array(data['x']).reshape(-1,1)"
      ],
      "execution_count": 0,
      "outputs": [
        {
          "output_type": "execute_result",
          "data": {
            "text/plain": [
              "array([[-5.        ],\n",
              "       [-4.47368421],\n",
              "       [-3.94736842],\n",
              "       [-3.42105263],\n",
              "       [-2.89473684],\n",
              "       [-2.36842105],\n",
              "       [-1.84210526],\n",
              "       [-1.31578947],\n",
              "       [-0.78947368],\n",
              "       [-0.26315789],\n",
              "       [ 0.26315789],\n",
              "       [ 0.78947368],\n",
              "       [ 1.31578947],\n",
              "       [ 1.84210526],\n",
              "       [ 2.36842105],\n",
              "       [ 2.89473684],\n",
              "       [ 3.42105263],\n",
              "       [ 3.94736842],\n",
              "       [ 4.47368421],\n",
              "       [ 5.        ]])"
            ]
          },
          "metadata": {
            "tags": []
          },
          "execution_count": 21
        }
      ]
    },
    {
      "cell_type": "code",
      "metadata": {
        "id": "ZhTzRgibk0oj",
        "colab_type": "code",
        "outputId": "4f1addfd-67ad-44f8-9b7b-aff5d89c8ca8",
        "colab": {
          "base_uri": "https://localhost:8080/",
          "height": 391
        }
      },
      "source": [
        "np.array(data['y']).reshape(-1,1)"
      ],
      "execution_count": 0,
      "outputs": [
        {
          "output_type": "execute_result",
          "data": {
            "text/plain": [
              "array([[-13.50261855],\n",
              "       [-20.86807829],\n",
              "       [-18.95479227],\n",
              "       [-19.55503238],\n",
              "       [-10.22258001],\n",
              "       [-21.31141795],\n",
              "       [ -3.54706873],\n",
              "       [-11.99219602],\n",
              "       [ -6.09226467],\n",
              "       [ -6.78695519],\n",
              "       [  1.63790543],\n",
              "       [-10.87214179],\n",
              "       [ -2.3423004 ],\n",
              "       [ -1.00990163],\n",
              "       [  6.64034093],\n",
              "       [ -0.71535454],\n",
              "       [  4.57344506],\n",
              "       [  3.33067159],\n",
              "       [  8.58990762],\n",
              "       [ 12.33126085]])"
            ]
          },
          "metadata": {
            "tags": []
          },
          "execution_count": 22
        }
      ]
    },
    {
      "cell_type": "code",
      "metadata": {
        "id": "o1l01tANuZpN",
        "colab_type": "code",
        "outputId": "01f0e4bd-1353-446e-83c0-85bcc0422f71",
        "colab": {
          "base_uri": "https://localhost:8080/",
          "height": 484
        }
      },
      "source": [
        "from statsmodels.formula.api import ols\n",
        "model = ols(\"y ~ x\", data).fit() # ordinary least square\n",
        "print(model.summary())\n",
        "\n",
        "# coef : alpha, beta\n",
        "# std err : alpha와 beta의 분산(값이 크면 신뢰성이 떨어진다)\n",
        "# P>[t] : intercept와 x가 0일 확률\n",
        "# t = coef/std err\n",
        "# R-squared(설명력) : 0 <= R**2(= SSR/SST) <= 1"
      ],
      "execution_count": 0,
      "outputs": [
        {
          "output_type": "stream",
          "text": [
            "                            OLS Regression Results                            \n",
            "==============================================================================\n",
            "Dep. Variable:                      y   R-squared:                       0.804\n",
            "Model:                            OLS   Adj. R-squared:                  0.794\n",
            "Method:                 Least Squares   F-statistic:                     74.03\n",
            "Date:                Mon, 21 Oct 2019   Prob (F-statistic):           8.56e-08\n",
            "Time:                        09:46:29   Log-Likelihood:                -57.988\n",
            "No. Observations:                  20   AIC:                             120.0\n",
            "Df Residuals:                      18   BIC:                             122.0\n",
            "Df Model:                           1                                         \n",
            "Covariance Type:            nonrobust                                         \n",
            "==============================================================================\n",
            "                 coef    std err          t      P>|t|      [0.025      0.975]\n",
            "------------------------------------------------------------------------------\n",
            "Intercept     -5.5335      1.036     -5.342      0.000      -7.710      -3.357\n",
            "x              2.9369      0.341      8.604      0.000       2.220       3.654\n",
            "==============================================================================\n",
            "Omnibus:                        0.100   Durbin-Watson:                   2.956\n",
            "Prob(Omnibus):                  0.951   Jarque-Bera (JB):                0.322\n",
            "Skew:                          -0.058   Prob(JB):                        0.851\n",
            "Kurtosis:                       2.390   Cond. No.                         3.03\n",
            "==============================================================================\n",
            "\n",
            "Warnings:\n",
            "[1] Standard Errors assume that the covariance matrix of the errors is correctly specified.\n"
          ],
          "name": "stdout"
        }
      ]
    },
    {
      "cell_type": "code",
      "metadata": {
        "id": "FQmeT6yMtcOD",
        "colab_type": "code",
        "outputId": "54261812-4c7a-4c18-853a-63bf9e9358f1",
        "colab": {
          "base_uri": "https://localhost:8080/",
          "height": 36
        }
      },
      "source": [
        "# normal equation\n",
        "\n",
        "n = len(x)\n",
        "summ1 = 0\n",
        "summ2 = 0\n",
        "xbar = np.mean(x)\n",
        "ybar = np.mean(y)\n",
        "\n",
        "for i in range(n):\n",
        "    summ1 += (x[i] - xbar)**2\n",
        "    summ2 += (x[i] - xbar)*(y[i] - ybar)\n",
        "    \n",
        "beta = summ2/summ1\n",
        "alpha = ybar - beta*xbar\n",
        "\n",
        "print(alpha, beta)"
      ],
      "execution_count": 0,
      "outputs": [
        {
          "output_type": "stream",
          "text": [
            "-5.533458545842919 2.9368883155440497\n"
          ],
          "name": "stdout"
        }
      ]
    },
    {
      "cell_type": "markdown",
      "metadata": {
        "id": "sTNOHGO10nQ5",
        "colab_type": "text"
      },
      "source": [
        "### ~10.21"
      ]
    },
    {
      "cell_type": "code",
      "metadata": {
        "id": "G7eIz6Yqb6lx",
        "colab_type": "code",
        "outputId": "6652dcea-3feb-4bbc-8747-d9ac6f7491de",
        "colab": {
          "base_uri": "https://localhost:8080/",
          "height": 269
        }
      },
      "source": [
        "import matplotlib.pyplot as plt\n",
        "pred = model.predict(data['x'])\n",
        "plt.scatter(data['x'], data['y'])\n",
        "plt.plot(data['x'], pred)\n",
        "plt.show()"
      ],
      "execution_count": 0,
      "outputs": [
        {
          "output_type": "display_data",
          "data": {
            "image/png": "[encoded data removed]",
            "text/plain": [
              "<Figure size 432x288 with 1 Axes>"
            ]
          },
          "metadata": {
            "tags": []
          }
        }
      ]
    },
    {
      "cell_type": "code",
      "metadata": {
        "id": "l2nokXLHXQ-z",
        "colab_type": "code",
        "colab": {}
      },
      "source": [
        "import pandas as pd\n",
        "from statsmodels.formula.api import ols\n",
        "import matplotlib.pyplot as plt\n",
        "\n",
        "data = pd.read_csv('/gdrive/My Drive/전산통계/data/iris.csv')\n",
        "\n",
        "new_data = data[data['name']=='versicolor']"
      ],
      "execution_count": 0,
      "outputs": []
    },
    {
      "cell_type": "code",
      "metadata": {
        "id": "blNhVzdQXVGr",
        "colab_type": "code",
        "outputId": "ebe2b7dd-d3c4-46e8-e36b-d5a8d01bd80f",
        "colab": {
          "base_uri": "https://localhost:8080/",
          "height": 202
        }
      },
      "source": [
        "new_data.head()"
      ],
      "execution_count": 0,
      "outputs": [
        {
          "output_type": "execute_result",
          "data": {
            "text/html": [
              "<div>\n",
              "<style scoped>\n",
              "    .dataframe tbody tr th:only-of-type {\n",
              "        vertical-align: middle;\n",
              "    }\n",
              "\n",
              "    .dataframe tbody tr th {\n",
              "        vertical-align: top;\n",
              "    }\n",
              "\n",
              "    .dataframe thead th {\n",
              "        text-align: right;\n",
              "    }\n",
              "</style>\n",
              "<table border=\"1\" class=\"dataframe\">\n",
              "  <thead>\n",
              "    <tr style=\"text-align: right;\">\n",
              "      <th></th>\n",
              "      <th>sepal_length</th>\n",
              "      <th>sepal_width</th>\n",
              "      <th>petal_length</th>\n",
              "      <th>petal_width</th>\n",
              "      <th>name</th>\n",
              "    </tr>\n",
              "  </thead>\n",
              "  <tbody>\n",
              "    <tr>\n",
              "      <th>50</th>\n",
              "      <td>7.0</td>\n",
              "      <td>3.2</td>\n",
              "      <td>4.7</td>\n",
              "      <td>1.4</td>\n",
              "      <td>versicolor</td>\n",
              "    </tr>\n",
              "    <tr>\n",
              "      <th>51</th>\n",
              "      <td>6.4</td>\n",
              "      <td>3.2</td>\n",
              "      <td>4.5</td>\n",
              "      <td>1.5</td>\n",
              "      <td>versicolor</td>\n",
              "    </tr>\n",
              "    <tr>\n",
              "      <th>52</th>\n",
              "      <td>6.9</td>\n",
              "      <td>3.1</td>\n",
              "      <td>4.9</td>\n",
              "      <td>1.5</td>\n",
              "      <td>versicolor</td>\n",
              "    </tr>\n",
              "    <tr>\n",
              "      <th>53</th>\n",
              "      <td>5.5</td>\n",
              "      <td>2.3</td>\n",
              "      <td>4.0</td>\n",
              "      <td>1.3</td>\n",
              "      <td>versicolor</td>\n",
              "    </tr>\n",
              "    <tr>\n",
              "      <th>54</th>\n",
              "      <td>6.5</td>\n",
              "      <td>2.8</td>\n",
              "      <td>4.6</td>\n",
              "      <td>1.5</td>\n",
              "      <td>versicolor</td>\n",
              "    </tr>\n",
              "  </tbody>\n",
              "</table>\n",
              "</div>"
            ],
            "text/plain": [
              "    sepal_length  sepal_width  petal_length  petal_width        name\n",
              "50           7.0          3.2           4.7          1.4  versicolor\n",
              "51           6.4          3.2           4.5          1.5  versicolor\n",
              "52           6.9          3.1           4.9          1.5  versicolor\n",
              "53           5.5          2.3           4.0          1.3  versicolor\n",
              "54           6.5          2.8           4.6          1.5  versicolor"
            ]
          },
          "metadata": {
            "tags": []
          },
          "execution_count": 4
        }
      ]
    },
    {
      "cell_type": "code",
      "metadata": {
        "id": "acZl_R1euZpP",
        "colab_type": "code",
        "outputId": "1eea55ea-4743-4237-9e79-f731ab68ff65",
        "colab": {
          "base_uri": "https://localhost:8080/",
          "height": 736
        }
      },
      "source": [
        "import pandas as pd\n",
        "from statsmodels.formula.api import ols\n",
        "import matplotlib.pyplot as plt\n",
        "\n",
        "data = pd.read_csv('/gdrive/My Drive/전산통계/data/iris.csv')\n",
        "\n",
        "new_data = data[data['name']=='versicolor']\n",
        "\n",
        "model = ols(\" sepal_width ~ petal_length\", new_data).fit()\n",
        "print(model.summary())\n",
        "\n",
        "pred = model.predict(new_data['petal_length'])\n",
        "\n",
        "plt.scatter(new_data['petal_length'], new_data['sepal_width'])\n",
        "plt.plot(new_data['petal_length'], pred)\n",
        "plt.show()"
      ],
      "execution_count": 0,
      "outputs": [
        {
          "output_type": "stream",
          "text": [
            "                            OLS Regression Results                            \n",
            "==============================================================================\n",
            "Dep. Variable:            sepal_width   R-squared:                       0.314\n",
            "Model:                            OLS   Adj. R-squared:                  0.300\n",
            "Method:                 Least Squares   F-statistic:                     21.99\n",
            "Date:                Mon, 21 Oct 2019   Prob (F-statistic):           2.30e-05\n",
            "Time:                        08:30:37   Log-Likelihood:                -3.0629\n",
            "No. Observations:                  50   AIC:                             10.13\n",
            "Df Residuals:                      48   BIC:                             13.95\n",
            "Df Model:                           1                                         \n",
            "Covariance Type:            nonrobust                                         \n",
            "================================================================================\n",
            "                   coef    std err          t      P>|t|      [0.025      0.975]\n",
            "--------------------------------------------------------------------------------\n",
            "Intercept        1.1755      0.342      3.436      0.001       0.488       1.863\n",
            "petal_length     0.3743      0.080      4.689      0.000       0.214       0.535\n",
            "==============================================================================\n",
            "Omnibus:                        3.248   Durbin-Watson:                   1.999\n",
            "Prob(Omnibus):                  0.197   Jarque-Bera (JB):                2.728\n",
            "Skew:                          -0.572   Prob(JB):                        0.256\n",
            "Kurtosis:                       2.998   Cond. No.                         41.6\n",
            "==============================================================================\n",
            "\n",
            "Warnings:\n",
            "[1] Standard Errors assume that the covariance matrix of the errors is correctly specified.\n"
          ],
          "name": "stdout"
        },
        {
          "output_type": "display_data",
          "data": {
            "image/png": "[encoded data removed]",
            "text/plain": [
              "<Figure size 432x288 with 1 Axes>"
            ]
          },
          "metadata": {
            "tags": []
          }
        }
      ]
    },
    {
      "cell_type": "code",
      "metadata": {
        "id": "jd8ZH676uZpQ",
        "colab_type": "code",
        "outputId": "5845c40f-36fa-404e-89e0-27a9914f44b8",
        "colab": {
          "base_uri": "https://localhost:8080/",
          "height": 492
        }
      },
      "source": [
        "model = ols('sepal_width ~ name + petal_length', data).fit()\n",
        "print(model.summary())"
      ],
      "execution_count": 0,
      "outputs": [
        {
          "output_type": "stream",
          "text": [
            "                            OLS Regression Results                            \n",
            "==============================================================================\n",
            "Dep. Variable:            sepal_width   R-squared:                       0.478\n",
            "Model:                            OLS   Adj. R-squared:                  0.468\n",
            "Method:                 Least Squares   F-statistic:                     44.63\n",
            "Date:                Sun, 29 Sep 2019   Prob (F-statistic):           1.58e-20\n",
            "Time:                        14:53:34   Log-Likelihood:                -38.185\n",
            "No. Observations:                 150   AIC:                             84.37\n",
            "Df Residuals:                     146   BIC:                             96.41\n",
            "Df Model:                           3                                         \n",
            "Covariance Type:            nonrobust                                         \n",
            "======================================================================================\n",
            "                         coef    std err          t      P>|t|      [0.025      0.975]\n",
            "--------------------------------------------------------------------------------------\n",
            "Intercept              2.9813      0.099     29.989      0.000       2.785       3.178\n",
            "name[T.versicolor]    -1.4821      0.181     -8.190      0.000      -1.840      -1.124\n",
            "name[T.virginica]     -1.6635      0.256     -6.502      0.000      -2.169      -1.158\n",
            "petal_length           0.2983      0.061      4.920      0.000       0.178       0.418\n",
            "==============================================================================\n",
            "Omnibus:                        2.868   Durbin-Watson:                   1.753\n",
            "Prob(Omnibus):                  0.238   Jarque-Bera (JB):                2.885\n",
            "Skew:                          -0.082   Prob(JB):                        0.236\n",
            "Kurtosis:                       3.659   Cond. No.                         54.0\n",
            "==============================================================================\n",
            "\n",
            "Warnings:\n",
            "[1] Standard Errors assume that the covariance matrix of the errors is correctly specified.\n"
          ],
          "name": "stdout"
        }
      ]
    },
    {
      "cell_type": "markdown",
      "metadata": {
        "id": "L8nYroceuZpR",
        "colab_type": "text"
      },
      "source": [
        "$$ \\hat Y = 2.98 \\  - \\ 1.48 \\ I_{versicolor} \\ - \\ 1.663 \\ I_{virginica} + \\  0.298 \\ petal\\ Length$$"
      ]
    },
    {
      "cell_type": "markdown",
      "metadata": {
        "colab_type": "text",
        "id": "twwHtKs8a1z8"
      },
      "source": [
        "<font color='red'> H.W #6: 남녀 VIQ 비교 </font></br>\n",
        "뇌 크기, 키, 몸무게 차이를 배제하고 남자와 여자의 VIQ의 차이를 비교해 보시오.  \n"
      ]
    },
    {
      "cell_type": "markdown",
      "metadata": {
        "id": "U5Z6x79Pa2ow",
        "colab_type": "text"
      },
      "source": [
        "### ~ 중간고사"
      ]
    },
    {
      "cell_type": "markdown",
      "metadata": {
        "id": "JcbJyPG5xxfR",
        "colab_type": "text"
      },
      "source": [
        "* 관심 : 보험사기여부(categorical)\n",
        "* 영향을 주는 변수 : 소득(양적 변수), 지역, 직업 등"
      ]
    },
    {
      "cell_type": "markdown",
      "metadata": {
        "id": "Jzkc4F0ASJOd",
        "colab_type": "text"
      },
      "source": [
        "### <font color='blue'> Chi-Square Test </font>\n",
        "\n",
        "* 두 개의 categorical 데이터의 독립여부를 검정하는 방법론\n",
        "$$ \\chi^2  = \\sum_{i=1}^r \\sum_{j=1}^c \\frac {(O_{ij} - E_{ij})^2}{E_{ij}} \\sim \\chi^2(r-1)(c-1) \\text{ }under \\text{ } H_0, H_0: 두 \\text{ }변수는 \\text{ }독립이다. $$<br>\n",
        "자유도는 (r-1)*(c-1)"
      ]
    },
    {
      "cell_type": "markdown",
      "metadata": {
        "id": "JXeeM8XcMg-L",
        "colab_type": "text"
      },
      "source": [
        "![대체 텍스트](https://i.imgur.com/Xwv9be3.jpg)"
      ]
    },
    {
      "cell_type": "code",
      "metadata": {
        "id": "yhrJxJlQcUOe",
        "colab_type": "code",
        "outputId": "b84edd41-eb32-4e37-8604-470aefb94550",
        "colab": {
          "base_uri": "https://localhost:8080/",
          "height": 202
        }
      },
      "source": [
        "import pandas as pd\n",
        "data = pd.read_csv(\"/gdrive/My Drive/전산통계/data/inactive.csv\", index_col=0, dtype={'sex': str})\n",
        "data.head()\n",
        "\n",
        "# target : 관심의 대상"
      ],
      "execution_count": 0,
      "outputs": [
        {
          "output_type": "execute_result",
          "data": {
            "text/html": [
              "<div>\n",
              "<style scoped>\n",
              "    .dataframe tbody tr th:only-of-type {\n",
              "        vertical-align: middle;\n",
              "    }\n",
              "\n",
              "    .dataframe tbody tr th {\n",
              "        vertical-align: top;\n",
              "    }\n",
              "\n",
              "    .dataframe thead th {\n",
              "        text-align: right;\n",
              "    }\n",
              "</style>\n",
              "<table border=\"1\" class=\"dataframe\">\n",
              "  <thead>\n",
              "    <tr style=\"text-align: right;\">\n",
              "      <th></th>\n",
              "      <th>id</th>\n",
              "      <th>sex</th>\n",
              "      <th>age</th>\n",
              "      <th>ageGrp</th>\n",
              "      <th>count</th>\n",
              "      <th>main_shop</th>\n",
              "      <th>target</th>\n",
              "    </tr>\n",
              "  </thead>\n",
              "  <tbody>\n",
              "    <tr>\n",
              "      <th>0</th>\n",
              "      <td>b949e0b4fafabfdb51f42213e38976a5e9ab16fc26cc9c...</td>\n",
              "      <td>2</td>\n",
              "      <td>53</td>\n",
              "      <td>4555</td>\n",
              "      <td>20</td>\n",
              "      <td>AC</td>\n",
              "      <td>0</td>\n",
              "    </tr>\n",
              "    <tr>\n",
              "      <th>1</th>\n",
              "      <td>a53d9c19cd9a865f6ba617e06f917da1450721fbc68a1f...</td>\n",
              "      <td>2</td>\n",
              "      <td>46</td>\n",
              "      <td>4555</td>\n",
              "      <td>8</td>\n",
              "      <td>AD</td>\n",
              "      <td>0</td>\n",
              "    </tr>\n",
              "    <tr>\n",
              "      <th>2</th>\n",
              "      <td>17cc17f5f9eece76a65602468aa403e1941979e683ecff...</td>\n",
              "      <td>2</td>\n",
              "      <td>42</td>\n",
              "      <td>3545</td>\n",
              "      <td>110</td>\n",
              "      <td>CC</td>\n",
              "      <td>0</td>\n",
              "    </tr>\n",
              "    <tr>\n",
              "      <th>3</th>\n",
              "      <td>ad8440490d1a576e6d9e0413232c2aa48811bcc32f1ceb...</td>\n",
              "      <td>2</td>\n",
              "      <td>49</td>\n",
              "      <td>4555</td>\n",
              "      <td>272</td>\n",
              "      <td>AB</td>\n",
              "      <td>0</td>\n",
              "    </tr>\n",
              "    <tr>\n",
              "      <th>4</th>\n",
              "      <td>9e1aeea40314976b8cc4b1250a7a0a3c0634e79078a383...</td>\n",
              "      <td>1</td>\n",
              "      <td>44</td>\n",
              "      <td>3545</td>\n",
              "      <td>276</td>\n",
              "      <td>AB</td>\n",
              "      <td>0</td>\n",
              "    </tr>\n",
              "  </tbody>\n",
              "</table>\n",
              "</div>"
            ],
            "text/plain": [
              "                                                  id sex  ...  main_shop target\n",
              "0  b949e0b4fafabfdb51f42213e38976a5e9ab16fc26cc9c...   2  ...         AC      0\n",
              "1  a53d9c19cd9a865f6ba617e06f917da1450721fbc68a1f...   2  ...         AD      0\n",
              "2  17cc17f5f9eece76a65602468aa403e1941979e683ecff...   2  ...         CC      0\n",
              "3  ad8440490d1a576e6d9e0413232c2aa48811bcc32f1ceb...   2  ...         AB      0\n",
              "4  9e1aeea40314976b8cc4b1250a7a0a3c0634e79078a383...   1  ...         AB      0\n",
              "\n",
              "[5 rows x 7 columns]"
            ]
          },
          "metadata": {
            "tags": []
          },
          "execution_count": 2
        }
      ]
    },
    {
      "cell_type": "code",
      "metadata": {
        "id": "rEuYyt5xcUrR",
        "colab_type": "code",
        "outputId": "d5c998f3-f274-4991-85a3-a25edff015d2",
        "colab": {
          "base_uri": "https://localhost:8080/",
          "height": 202
        }
      },
      "source": [
        "data['sex'] = data['sex'].astype(str)\n",
        "data.drop(columns=['age'], inplace=True)\n",
        "data.head()"
      ],
      "execution_count": 0,
      "outputs": [
        {
          "output_type": "execute_result",
          "data": {
            "text/html": [
              "<div>\n",
              "<style scoped>\n",
              "    .dataframe tbody tr th:only-of-type {\n",
              "        vertical-align: middle;\n",
              "    }\n",
              "\n",
              "    .dataframe tbody tr th {\n",
              "        vertical-align: top;\n",
              "    }\n",
              "\n",
              "    .dataframe thead th {\n",
              "        text-align: right;\n",
              "    }\n",
              "</style>\n",
              "<table border=\"1\" class=\"dataframe\">\n",
              "  <thead>\n",
              "    <tr style=\"text-align: right;\">\n",
              "      <th></th>\n",
              "      <th>id</th>\n",
              "      <th>sex</th>\n",
              "      <th>ageGrp</th>\n",
              "      <th>count</th>\n",
              "      <th>main_shop</th>\n",
              "      <th>target</th>\n",
              "    </tr>\n",
              "  </thead>\n",
              "  <tbody>\n",
              "    <tr>\n",
              "      <th>0</th>\n",
              "      <td>b949e0b4fafabfdb51f42213e38976a5e9ab16fc26cc9c...</td>\n",
              "      <td>2</td>\n",
              "      <td>4555</td>\n",
              "      <td>20</td>\n",
              "      <td>AC</td>\n",
              "      <td>0</td>\n",
              "    </tr>\n",
              "    <tr>\n",
              "      <th>1</th>\n",
              "      <td>a53d9c19cd9a865f6ba617e06f917da1450721fbc68a1f...</td>\n",
              "      <td>2</td>\n",
              "      <td>4555</td>\n",
              "      <td>8</td>\n",
              "      <td>AD</td>\n",
              "      <td>0</td>\n",
              "    </tr>\n",
              "    <tr>\n",
              "      <th>2</th>\n",
              "      <td>17cc17f5f9eece76a65602468aa403e1941979e683ecff...</td>\n",
              "      <td>2</td>\n",
              "      <td>3545</td>\n",
              "      <td>110</td>\n",
              "      <td>CC</td>\n",
              "      <td>0</td>\n",
              "    </tr>\n",
              "    <tr>\n",
              "      <th>3</th>\n",
              "      <td>ad8440490d1a576e6d9e0413232c2aa48811bcc32f1ceb...</td>\n",
              "      <td>2</td>\n",
              "      <td>4555</td>\n",
              "      <td>272</td>\n",
              "      <td>AB</td>\n",
              "      <td>0</td>\n",
              "    </tr>\n",
              "    <tr>\n",
              "      <th>4</th>\n",
              "      <td>9e1aeea40314976b8cc4b1250a7a0a3c0634e79078a383...</td>\n",
              "      <td>1</td>\n",
              "      <td>3545</td>\n",
              "      <td>276</td>\n",
              "      <td>AB</td>\n",
              "      <td>0</td>\n",
              "    </tr>\n",
              "  </tbody>\n",
              "</table>\n",
              "</div>"
            ],
            "text/plain": [
              "                                                  id sex  ... main_shop  target\n",
              "0  b949e0b4fafabfdb51f42213e38976a5e9ab16fc26cc9c...   2  ...        AC       0\n",
              "1  a53d9c19cd9a865f6ba617e06f917da1450721fbc68a1f...   2  ...        AD       0\n",
              "2  17cc17f5f9eece76a65602468aa403e1941979e683ecff...   2  ...        CC       0\n",
              "3  ad8440490d1a576e6d9e0413232c2aa48811bcc32f1ceb...   2  ...        AB       0\n",
              "4  9e1aeea40314976b8cc4b1250a7a0a3c0634e79078a383...   1  ...        AB       0\n",
              "\n",
              "[5 rows x 6 columns]"
            ]
          },
          "metadata": {
            "tags": []
          },
          "execution_count": 5
        }
      ]
    },
    {
      "cell_type": "code",
      "metadata": {
        "id": "PRIZT7e2cUzg",
        "colab_type": "code",
        "outputId": "ff5914fc-0b25-4315-ddb6-e37975b04696",
        "colab": {
          "base_uri": "https://localhost:8080/",
          "height": 141
        }
      },
      "source": [
        "#  Observed data\n",
        "\n",
        "pd.crosstab(data['target'], data['sex'])\n"
      ],
      "execution_count": 0,
      "outputs": [
        {
          "output_type": "execute_result",
          "data": {
            "text/html": [
              "<div>\n",
              "<style scoped>\n",
              "    .dataframe tbody tr th:only-of-type {\n",
              "        vertical-align: middle;\n",
              "    }\n",
              "\n",
              "    .dataframe tbody tr th {\n",
              "        vertical-align: top;\n",
              "    }\n",
              "\n",
              "    .dataframe thead th {\n",
              "        text-align: right;\n",
              "    }\n",
              "</style>\n",
              "<table border=\"1\" class=\"dataframe\">\n",
              "  <thead>\n",
              "    <tr style=\"text-align: right;\">\n",
              "      <th>sex</th>\n",
              "      <th>1</th>\n",
              "      <th>2</th>\n",
              "      <th>nan</th>\n",
              "    </tr>\n",
              "    <tr>\n",
              "      <th>target</th>\n",
              "      <th></th>\n",
              "      <th></th>\n",
              "      <th></th>\n",
              "    </tr>\n",
              "  </thead>\n",
              "  <tbody>\n",
              "    <tr>\n",
              "      <th>0</th>\n",
              "      <td>24468</td>\n",
              "      <td>37710</td>\n",
              "      <td>216</td>\n",
              "    </tr>\n",
              "    <tr>\n",
              "      <th>1</th>\n",
              "      <td>13808</td>\n",
              "      <td>23404</td>\n",
              "      <td>147</td>\n",
              "    </tr>\n",
              "  </tbody>\n",
              "</table>\n",
              "</div>"
            ],
            "text/plain": [
              "sex         1      2  nan\n",
              "target                   \n",
              "0       24468  37710  216\n",
              "1       13808  23404  147"
            ]
          },
          "metadata": {
            "tags": []
          },
          "execution_count": 6
        }
      ]
    },
    {
      "cell_type": "code",
      "metadata": {
        "id": "EXo9WCEzcU55",
        "colab_type": "code",
        "outputId": "07beeee2-a4ff-4e6b-d3eb-727c97fb94a6",
        "colab": {
          "base_uri": "https://localhost:8080/",
          "height": 141
        }
      },
      "source": [
        "pd.crosstab(data['target'], data['sex'],normalize='index')"
      ],
      "execution_count": 0,
      "outputs": [
        {
          "output_type": "execute_result",
          "data": {
            "text/html": [
              "<div>\n",
              "<style scoped>\n",
              "    .dataframe tbody tr th:only-of-type {\n",
              "        vertical-align: middle;\n",
              "    }\n",
              "\n",
              "    .dataframe tbody tr th {\n",
              "        vertical-align: top;\n",
              "    }\n",
              "\n",
              "    .dataframe thead th {\n",
              "        text-align: right;\n",
              "    }\n",
              "</style>\n",
              "<table border=\"1\" class=\"dataframe\">\n",
              "  <thead>\n",
              "    <tr style=\"text-align: right;\">\n",
              "      <th>sex</th>\n",
              "      <th>1</th>\n",
              "      <th>2</th>\n",
              "      <th>nan</th>\n",
              "    </tr>\n",
              "    <tr>\n",
              "      <th>target</th>\n",
              "      <th></th>\n",
              "      <th></th>\n",
              "      <th></th>\n",
              "    </tr>\n",
              "  </thead>\n",
              "  <tbody>\n",
              "    <tr>\n",
              "      <th>0</th>\n",
              "      <td>0.392153</td>\n",
              "      <td>0.604385</td>\n",
              "      <td>0.003462</td>\n",
              "    </tr>\n",
              "    <tr>\n",
              "      <th>1</th>\n",
              "      <td>0.369603</td>\n",
              "      <td>0.626462</td>\n",
              "      <td>0.003935</td>\n",
              "    </tr>\n",
              "  </tbody>\n",
              "</table>\n",
              "</div>"
            ],
            "text/plain": [
              "sex            1         2       nan\n",
              "target                              \n",
              "0       0.392153  0.604385  0.003462\n",
              "1       0.369603  0.626462  0.003935"
            ]
          },
          "metadata": {
            "tags": []
          },
          "execution_count": 7
        }
      ]
    },
    {
      "cell_type": "code",
      "metadata": {
        "id": "XJdMfCqPcVAZ",
        "colab_type": "code",
        "colab": {}
      },
      "source": [
        "data = data[data['sex'] != 'nan']"
      ],
      "execution_count": 0,
      "outputs": []
    },
    {
      "cell_type": "code",
      "metadata": {
        "id": "lHeq94IJTmtH",
        "colab_type": "code",
        "outputId": "c9617457-2217-40e6-8949-6401068dba31",
        "colab": {
          "base_uri": "https://localhost:8080/",
          "height": 73
        }
      },
      "source": [
        "data['sex'].value_counts()"
      ],
      "execution_count": 0,
      "outputs": [
        {
          "output_type": "execute_result",
          "data": {
            "text/plain": [
              "2    61114\n",
              "1    38276\n",
              "Name: sex, dtype: int64"
            ]
          },
          "metadata": {
            "tags": []
          },
          "execution_count": 9
        }
      ]
    },
    {
      "cell_type": "code",
      "metadata": {
        "id": "4T0hpuCocVKR",
        "colab_type": "code",
        "colab": {}
      },
      "source": [
        "class Chisq:\n",
        "    def __init__(self,observed):\n",
        "        from scipy import stats\n",
        "        self.observed = observed\n",
        "        self.expected = stats.contingency.expected_freq(observed)\n",
        "    \n",
        "    def chi2(self):\n",
        "        import numpy as np\n",
        "        chi2 = np.sum(((self.observed - self.expected)**2/self.expected))\n",
        "        df = (self.observed.shape[0]-1) * (self.observed.shape[1]-1)\n",
        "        p_value = 1.0 - stats.chi2.cdf(chi2 , df)\n",
        "        n_score = np.sqrt(2*chi2) - np.sqrt(2*df-1)\n",
        "        return chi2, df, p_value, n_score"
      ],
      "execution_count": 0,
      "outputs": []
    },
    {
      "cell_type": "markdown",
      "metadata": {
        "id": "kOMK5BftTNkD",
        "colab_type": "text"
      },
      "source": [
        "Question) n_score?<br>\n",
        "n_score는 chi-square 분포의 가시성이 어렵기 때문에(자유도에 따라 그래프가 바뀐다) 표준정규분포로 바꿔서 판단하는 방법이다.<br>\n",
        "Y가 자유도 r인 chi-square분포를 따른다고 하면(E(Y)=r, V(Y) = 2r), Z = np.sqrt(2Y) - np.sqrt(2(r-1))은 대략 표준정규분포를 따른다고 할 수 있다."
      ]
    },
    {
      "cell_type": "code",
      "metadata": {
        "id": "kWvtp8GqcViZ",
        "colab_type": "code",
        "outputId": "6c84897f-b09d-48c4-9033-61c8e29dcc68",
        "colab": {
          "base_uri": "https://localhost:8080/",
          "height": 36
        }
      },
      "source": [
        "from scipy import stats\n",
        "import numpy as np\n",
        "chiStat = Chisq(np.array(pd.crosstab(data['target'], data['sex'])))\n",
        "# (chi2, df, p_value, n_score) 순으로 출력된다. p_value가 작을수록, n_score가 클수록 중요한 변수다.\n",
        "# Chisq는 입력변수 2개가 모두 질적변수여야 한다.\n",
        "print(chiStat.chi2()) # chi2, df, p_value, n_score"
      ],
      "execution_count": 0,
      "outputs": [
        {
          "output_type": "stream",
          "text": [
            "(49.55832417074454, 1, 1.9255708139098715e-12, 8.955734445106955)\n"
          ],
          "name": "stdout"
        }
      ]
    },
    {
      "cell_type": "code",
      "metadata": {
        "id": "EwoyUDgR51ht",
        "colab_type": "code",
        "outputId": "0403a89d-8367-4ace-867c-dfbb88d6a287",
        "colab": {
          "base_uri": "https://localhost:8080/",
          "height": 36
        }
      },
      "source": [
        "chiStat = Chisq(np.array(pd.crosstab(data['target'], data['ageGrp'])))\n",
        "print(chiStat.chi2())"
      ],
      "execution_count": 0,
      "outputs": [
        {
          "output_type": "stream",
          "text": [
            "(306.1688438724315, 5, 0.0, 21.745457921502748)\n"
          ],
          "name": "stdout"
        }
      ]
    },
    {
      "cell_type": "markdown",
      "metadata": {
        "id": "E94M9WHlc0Oy",
        "colab_type": "text"
      },
      "source": [
        "### <font color='blue'> <div style=\"text-align: center\">End of Chapter </font>  "
      ]
    }
  ]
}