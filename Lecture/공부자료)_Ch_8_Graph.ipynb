{
  "nbformat": 4,
  "nbformat_minor": 0,
  "metadata": {
    "colab": {
      "name": "공부자료) Ch 8_Graph.ipynb",
      "provenance": [],
      "collapsed_sections": [],
      "include_colab_link": true
    },
    "kernelspec": {
      "name": "python3",
      "display_name": "Python 3"
    }
  },
  "cells": [
    {
      "cell_type": "markdown",
      "metadata": {
        "id": "view-in-github",
        "colab_type": "text"
      },
      "source": [
        "<a href=\"https://colab.research.google.com/github/YoonSungLee/DataStructure/blob/master/%EA%B3%B5%EB%B6%80%EC%9E%90%EB%A3%8C)_Ch_8_Graph.ipynb\" target=\"_parent\"><img src=\"https://colab.research.google.com/assets/colab-badge.svg\" alt=\"Open In Colab\"/></a>"
      ]
    },
    {
      "cell_type": "markdown",
      "metadata": {
        "id": "OiZuyemDb8R-",
        "colab_type": "text"
      },
      "source": [
        "# <font color='blue'><div style=\"text-align: center\">Ch 8. Graph</font> \n",
        "\n",
        "* 그래프는 정점(Vertex)과 간선(Edge)의 집합이다. \n",
        "* 무방향그래프와 방향 그래프가 있다. \n",
        "* 그래프의 예로는 통신회선 연결도, 지하철 노선도, 교통지도, 소설네트워크 구성도  등이 있을 수 있다.\n",
        "* 그래프에서 노드를 탐색하는 것은 그래프에 포함된 모든 노드를 구하거나 사이클이 존재하는 부분을 찾는 것이다.  \n",
        "* 싸이클은 한 노드에서 출발, 이동하면서 반복되는 노드 없이 출발점으로 돌아오는 것을 말한다. 싸이클이 없는 상황에서 출발한 곳으로 돌아올 수 있는 방법은 갔던 길을 되돌아 오는 방법 밖에 없다.\n",
        "<center><img src=\"https://drive.google.com/uc?id=1_peim4ZlhjFdCJUyGTZv6ewaYl07I3LS\" width=\"300\" height=\"200\" ></center>\n",
        "    \n",
        "* 그래프 자료구조\n",
        "  * 인접행렬과 인접 리스트로 저장할 수 있다.\n",
        "<center><img src=\"https://drive.google.com/uc?id=1RJEly9Y3q-2_zA5sv1J350Klxtuo9xZx\" width=\"300\" height=\"200\" ></center>    \n",
        "\n",
        "    <center><img src=\"https://drive.google.com/uc?id=1z5083BntshMqrc5UAgfN_SrXHY-JLlh4\" width=\"600\" height=\"200\" ></center>\n",
        "    \n",
        "* DFS(Depth First Search)\n",
        "  *  DFS는 출발선에 출발하여 미로를 탐색하듯이 끝까지 가보고 막히면 왔던 곳을 되돌아 오면서 다른 방향을 모색하는 방법이다.(스택 이용)\n",
        "  * DFS 알고리즘은 스택과 visit 리스트를 이용하여 출발노드에서 다음 위치로 이동할 때마다 이동한 곳을 스택과 visit 리스트에 기록하고 막혀서 나올 때는 스택에서 팝하여 되돌아 나온다.\n",
        " *  되돌아 나오기 위해 스택을 사용하는 것이다.\n",
        " * DFS 과정에서 하나의 노드가 스택에 두번 들어가면 싸이클이 존재하는 것이다.   \n",
        "  * 스택이 공백이 되면 알고리즘이 끝난다.\n",
        "  * 스택을 이용한 알고리즘은 재귀로 구현할 수도 있다.(책 참조)\n",
        "  * 여기서는 스택을 이용해 구현해 볼 것이다.  \n",
        "  * 알고리즘 <br>\n",
        "    Step 0: 시작점을 스택에 푸시한다.<br>\n",
        "    Step 1: 스택에서 노드를 pop 한다.<br>\n",
        "    Step 2: pop한 노드가 가본 곳이 아니면 노드의 이웃노드 중 방문하지 않은 노드집합을 스택에 푸시하고 팝한 노드를 방문 처리한다.<br>\n",
        "    Step 3: pop한 노드가 이미 가본 곳이면 방문처리할 필요가 없으나 싸이클이 존재하는 것이므로 싸이클이 존재함을 알려준다.<br>\n",
        "    Step 4: Step 1에서 Step 3를 스택이 empty될 때까지 반복한다.<br>\n",
        "    \n",
        "    <center><img src=\"https://drive.google.com/uc?id=18yy9GeBzuny3AOnb8cmoyYpy6MqILJEX\" width=\"600\" height=\"300\" ></center>\n",
        "    \n",
        "    \n"
      ]
    },
    {
      "cell_type": "code",
      "metadata": {
        "id": "chNbmaLb9GvX",
        "colab_type": "code",
        "colab": {}
      },
      "source": [
        "class Stack:\n",
        "    def __init__(self):\n",
        "        self.s = []\n",
        "\n",
        "    def push(self, item):\n",
        "        self.s.append(item)\n",
        "\n",
        "    def pop(self):\n",
        "        if self.isEmpty() == False:\n",
        "            return self.s.pop(-1)\n",
        "        else:\n",
        "            return None\n",
        "\n",
        "    def peek(self):\n",
        "        if self.isEmpty() == False:\n",
        "            return self.s[-1]\n",
        "        else:\n",
        "            return None\n",
        "\n",
        "    def isEmpty(self):\n",
        "        if len(self.s) > 0:\n",
        "            return False\n",
        "        else:\n",
        "            return True\n",
        "\n",
        "    def size(self):\n",
        "        return len(self.s)\n",
        "\n",
        "    def print(self):\n",
        "        print(self.s)"
      ],
      "execution_count": 0,
      "outputs": []
    },
    {
      "cell_type": "code",
      "metadata": {
        "id": "PQ1HkBfvOiWf",
        "colab_type": "code",
        "outputId": "53c0e2b1-8a6a-4032-c644-308375936480",
        "colab": {
          "base_uri": "https://localhost:8080/",
          "height": 202
        }
      },
      "source": [
        "class Graph:\n",
        "    def __init__(self, graph, start):\n",
        "        self.graph = graph\n",
        "        self.start = start\n",
        "        self.s = Stack()\n",
        "        self.visit = []\n",
        "\n",
        "    def dfs(self):\n",
        "        self.s.push(self.start)\n",
        "        while self.s.isEmpty() == False:\n",
        "            curNode = self.s.pop()\n",
        "            if curNode not in self.visit:\n",
        "                for node in set(self.graph[curNode]) - set(self.visit):\n",
        "                    self.s.push(node)\n",
        "                    print(curNode,end=\" \")\n",
        "                    self.s.print()\n",
        "                self.visit.append(curNode)\n",
        "            else:\n",
        "                print(curNode,\"에 싸이클이 존재합니다.\" )\n",
        "        return self.visit\n",
        "\n",
        "g1 = {}\n",
        "g1['A'] = ['B','C']\n",
        "g1['B'] = ['A','D','E']\n",
        "g1['C'] = ['A','E']\n",
        "g1['D'] = ['B','G']\n",
        "g1['E'] = ['B','C','G']\n",
        "g1['F'] = ['G']\n",
        "g1['G'] = ['D','E','F']\n",
        "\n",
        "dfs = Graph(g1,'A')\n",
        "print(dfs.dfs())"
      ],
      "execution_count": 0,
      "outputs": [
        {
          "output_type": "stream",
          "text": [
            "A ['B']\n",
            "A ['B', 'C']\n",
            "C ['B', 'E']\n",
            "E ['B', 'B']\n",
            "E ['B', 'B', 'G']\n",
            "G ['B', 'B', 'D']\n",
            "G ['B', 'B', 'D', 'F']\n",
            "D ['B', 'B', 'B']\n",
            "B 에 싸이클이 존재합니다.\n",
            "B 에 싸이클이 존재합니다.\n",
            "['A', 'C', 'E', 'G', 'F', 'D', 'B']\n"
          ],
          "name": "stdout"
        }
      ]
    },
    {
      "cell_type": "markdown",
      "metadata": {
        "id": "FHVagvKH7xO8",
        "colab_type": "text"
      },
      "source": [
        "* 아래 그래프에서 싸이클을 찾아보자.\n",
        "  * {2,4,5}에 싸이클이 존재함\n",
        "  * \"0\"의 이웃 [1,2] 이 스택에 들어가고 스택에서 \"2\"를 팝하여 \"2\"의 이웃인 [4,5]를 푸시한다.\n",
        "  * \"5\"를 팝하여 \"5\"의 이웃 [2,4] 중에 방문하지 않은 \"4\"를 푸시한다.\n",
        "  * 이 과정에서 \"4\"가 스택에 두번 푸시되었다. 이는 \"2\"의 이웃인 \"4\"가 동시에 \"5\"의 이웃이기 때문으로 서로 이웃관계를 가지는 경우가 싸이클이다.\n",
        "<center><img src=\"https://drive.google.com/uc?id=1p_nbQZNmHBnnLAzBbDGZxWeF6lAk0Mp0\" width=\"400\" height=\"300\" ></center>\n"
      ]
    },
    {
      "cell_type": "code",
      "metadata": {
        "id": "R7V-W0obgcRx",
        "colab_type": "code",
        "outputId": "a69c6051-239f-496f-d79d-63bbbf4cfb7f",
        "colab": {
          "base_uri": "https://localhost:8080/",
          "height": 168
        }
      },
      "source": [
        "\n",
        "g2 = {}\n",
        "g2[0] = [1,2]\n",
        "g2[1] = [0,3]\n",
        "g2[2] = [0,4,5]\n",
        "g2[3] = [1]\n",
        "g2[4] = [2,5,6]\n",
        "g2[5] = [2,4]\n",
        "g2[6] = [4]\n",
        "\n",
        "dfs = Graph(g2, 0)\n",
        "print(dfs.dfs())\n",
        "\n",
        "# 4 가 두번 나와 싸이클이 존재함을 알 수 있다."
      ],
      "execution_count": 0,
      "outputs": [
        {
          "output_type": "stream",
          "text": [
            "0 [1]\n",
            "0 [1, 2]\n",
            "2 [1, 4]\n",
            "2 [1, 4, 5]\n",
            "5 [1, 4, 4]\n",
            "4 [1, 4, 6]\n",
            "4 에 싸이클이 존재합니다.\n",
            "1 [3]\n",
            "[0, 2, 5, 4, 6, 1, 3]\n"
          ],
          "name": "stdout"
        }
      ]
    },
    {
      "cell_type": "markdown",
      "metadata": {
        "id": "ctuXDUzAXwUT",
        "colab_type": "text"
      },
      "source": [
        "* BFS(Breadth First Search)\n",
        "  *  BFS는 현재 위치에서 가까운 이웃노드를 다 돌아보고 더 이상 갈 곳이 없으면 방문한 곳에 연결된 노드를 방문하는 방식이다. 직관적으로는 가까운 친구를 먼저 찾아보고 그 다음에는 친구의 친구를 찾는 방식으로 이해할 수 있다.\n",
        "  * BFS 알고리즘은 큐와 visit 리스트를 이용하여 출발노드에서 가볼 수 있는 곳을 큐에 enQueue 하고 하나씩 deQueue한 다음 방문으로 처리하고 현재 노드에서 가볼 수 있는 곳을 계속 큐에 넣는다. \n",
        "  * 큐가 empty 가 되면 알고리즘이 끝난다.\n",
        "  * BFS는 가까운 곳을 먼저 방문하기 때문에 최소경로를 찾을 수 있는 알고리즘이다.\n",
        "  "
      ]
    },
    {
      "cell_type": "code",
      "metadata": {
        "id": "HPohmC0_E_p5",
        "colab_type": "code",
        "colab": {}
      },
      "source": [
        "class Queue:\n",
        "    def __init__(self):\n",
        "        self.q = []\n",
        "\n",
        "    def enQueue(self, item):\n",
        "        self.q.append(item)\n",
        "\n",
        "    def deQueue(self):\n",
        "        if self.isEmpty() == False:\n",
        "            return self.q.pop(0)\n",
        "\n",
        "    def size(self):\n",
        "        return len(self.q)\n",
        "\n",
        "    def isEmpty(self):\n",
        "        if len(self.q) > 0:\n",
        "            return False\n",
        "        else:\n",
        "            return True\n",
        "\n",
        "    def peek(self):\n",
        "        if self.isEmpty() == False:\n",
        "            return self.q[0]\n",
        "\n",
        "    def delete(self, item):\n",
        "        if item in self.q:\n",
        "            self.q.remove(item)\n",
        "        else:\n",
        "            print(\"해당 아이템이 존재하지 않습니다.\")\n",
        "\n"
      ],
      "execution_count": 0,
      "outputs": []
    },
    {
      "cell_type": "code",
      "metadata": {
        "id": "UFkjHFTjFImj",
        "colab_type": "code",
        "outputId": "127a7fb4-f24d-4b7e-9557-fafbcd464448",
        "colab": {
          "base_uri": "https://localhost:8080/",
          "height": 34
        }
      },
      "source": [
        "class Graph:\n",
        "    def __init__(self, graph, start):\n",
        "        self.graph = graph\n",
        "        self.start = start\n",
        "        self.s = Stack()\n",
        "        self.visit = []\n",
        "\n",
        "    def dfs(self):\n",
        "        self.s.push(self.start)\n",
        "        while self.s.isEmpty() == False:\n",
        "            curNode = self.s.pop()\n",
        "            if curNode not in self.visit:\n",
        "                for node in set(self.graph[curNode]) - set(self.visit):\n",
        "                    self.s.push(node)\n",
        "                self.visit.append(curNode)\n",
        "            else:\n",
        "                print(curNode,\"에 싸이클이 존재합니다.\" )\n",
        "        return self.visit\n",
        "    \n",
        "    def bfs(self):\n",
        "        visit = [self.start]\n",
        "        queue = Queue()\n",
        "        for item in self.graph[self.start]:\n",
        "            queue.enQueue(item)\n",
        "\n",
        "        while queue.isEmpty() == False:\n",
        "            item = queue.deQueue()\n",
        "            if not item in visit:  # 현재 아이템이 가본 곳이 아니면 ...\n",
        "                for _item in self.graph[item]:\n",
        "                    queue.enQueue(_item)\n",
        "                visit.append(item)\n",
        "        return visit\n",
        "    \n",
        "#     def bfs(self):\n",
        "#         visit = []\n",
        "#         queue = Queue()\n",
        "#         queue.enQueue(self.start)\n",
        "#         while queue.isEmpty() == False:\n",
        "#             curNode = queue.deQueue()\n",
        "#             if curNode not in visit:\n",
        "#                 for node in self.graph[curNode]:\n",
        "#                     queue.enQueue(node)\n",
        "#                 visit.append(curNode)\n",
        "#         return visit\n",
        "\n",
        "bfs = Graph(g1, 'A')\n",
        "print(bfs.bfs())\n"
      ],
      "execution_count": 0,
      "outputs": [
        {
          "output_type": "stream",
          "text": [
            "['A', 'B', 'C', 'D', 'E', 'G', 'F']\n"
          ],
          "name": "stdout"
        }
      ]
    },
    {
      "cell_type": "markdown",
      "metadata": {
        "id": "b7a4bmFl3Y5z",
        "colab_type": "text"
      },
      "source": [
        "#### 연결성분 찾기\n",
        "* 연결성분은 그래프에서 연결된 집합을 구하는 것이다.\n",
        "* 그래프의 키 집합에서 임의 키를 선정해 DFS를 수행하여 구한 경로를 하나의 집합으로 묶는다. 이후, 묶인 키를 키 집합에서 제외한다.\n",
        "* 이후, 남은 키 집합에서 더 이상 남은 키가 없을 때까지 위의 과정을 반복한다.\n",
        "\n",
        "<center><img src=\"https://drive.google.com/uc?id=1YfjZH4LJNc30GqhD4DhFBRMl8NJKbYYs\" width=\"300\" height=\"200\" ></center>\n"
      ]
    },
    {
      "cell_type": "code",
      "metadata": {
        "id": "v256wc_A4zhF",
        "colab_type": "code",
        "outputId": "c3bf3c5e-8d6c-4296-864c-c2f1c1ea5b54",
        "colab": {
          "base_uri": "https://localhost:8080/",
          "height": 134
        }
      },
      "source": [
        "g = {}\n",
        "g[0] = [3]\n",
        "g[1] = [6,10]\n",
        "g[2] = [7,11]\n",
        "g[3] = [0,6,8]\n",
        "g[4] = [13]\n",
        "g[5] = [14]\n",
        "g[6] = [1,3,8,10,11]\n",
        "g[7] = [2,11]\n",
        "g[8] = [3,6,10,12]\n",
        "g[9] = [13]\n",
        "g[10] = [1,6,8]\n",
        "g[11] = [2,6,7]\n",
        "g[12] = [8]\n",
        "g[13] = [4,9]\n",
        "g[14] = [5]\n",
        "\n",
        "def connComponent(g):\n",
        "    keyLists = list(g.keys())\n",
        "    remains = set(keyLists)\n",
        "    while len(remains) > 0:\n",
        "        dfs = Graph(g, list(remains)[0])\n",
        "        conns = dfs.dfs()\n",
        "        print(conns)\n",
        "        remains = remains - set(conns)\n",
        "\n",
        "connComponent(g)"
      ],
      "execution_count": 0,
      "outputs": [
        {
          "output_type": "stream",
          "text": [
            "2 에 싸이클이 존재합니다.\n",
            "1 에 싸이클이 존재합니다.\n",
            "8 에 싸이클이 존재합니다.\n",
            "8 에 싸이클이 존재합니다.\n",
            "[0, 3, 6, 11, 7, 2, 10, 1, 8, 12]\n",
            "[4, 13, 9]\n",
            "[5, 14]\n"
          ],
          "name": "stdout"
        }
      ]
    },
    {
      "cell_type": "markdown",
      "metadata": {
        "id": "IhcoSfR1Bw36",
        "colab_type": "text"
      },
      "source": [
        "#### 위상정렬\n",
        "\n",
        "<center><img src=\"https://drive.google.com/uc?id=1VrFWDB17Q6IZrG2Ib9xcTQcfcKQW2B2L\" width=\"300\" height=\"200\" ></center>\n",
        "\n",
        "* 시작지점에서 방향에 따라 이동하면서 방문처리한다.\n",
        "* 끝노드를 만나면 되돌아 나오면서 끝노드부터 리스트에 기록한다.\n",
        "* 예: 파이썬-> 자료구조->운영체제->인공지능->알고리즘->데이터베이스->데이터마이닝->S/W 프로젝트 까지 이동하면서 방문처리하고 이 패스를 거꾸로 리스트에 삽입한다.\n",
        "리스트에는 [S/W 프로젝트, 데이터마이닝,데이터베이스,알고리즘,인공지능,운영체제,자료구조] 이 삽입된다.\n",
        "* 파이썬에서 시작할 때, 자료구조로 갔으니까 이번에는 컴퓨터 입문으로 시작해서 위의 프로세스를 반복한다.\n",
        "* 컴퓨터 입문 다음 노드인 자료구조부터는 이미 방문한 노드이므로 자신이 마지막 노드가 되어 리스트에 삽입된다. \n",
        "* 리스트에는 [S/W 프로젝트, 데이터마이닝,데이터베이스,알고리즘,인공지능,자료구조, 컴퓨터입문]\n",
        "* 다음으로 마지막에 파이썬이 리스트에 추가된다. 이제 리스트를 거꾸로 뒤집어 리턴하면 \n",
        "[파이썬, 컴퓨터입문,자료구조,운영체제,인공지능,알고리즘,데이터베이스,데이터마이닝,S/W 프로젝트]가 된다.\n",
        "\n",
        "<center><img src=\"https://drive.google.com/uc?id=1NYySDOxKTbWSc90ZM712CHAA9R6wlHuV\" width=\"500\" height=\"50\" ></center>\n"
      ]
    },
    {
      "cell_type": "code",
      "metadata": {
        "id": "_pHOH6MjE1e4",
        "colab_type": "code",
        "outputId": "84e2ab00-b3b0-4c98-859a-dc79db01123a",
        "colab": {
          "base_uri": "https://localhost:8080/",
          "height": 34
        }
      },
      "source": [
        "class Graph:\n",
        "    def __init__(self, graph, start):\n",
        "        self.graph = graph\n",
        "        self.start = start\n",
        "        self.s = Stack()\n",
        "        self.visit = []\n",
        "\n",
        "    def dfs(self):\n",
        "        self.s.push(self.start)\n",
        "        while self.s.isEmpty() == False:\n",
        "            curNode = self.s.pop()\n",
        "            if curNode not in self.visit:\n",
        "                for node in set(self.graph[curNode]) - set(self.visit):\n",
        "                    self.s.push(node)\n",
        "                    print(curNode,end=\" \")\n",
        "                    self.s.print()\n",
        "                self.visit.append(curNode)\n",
        "            else:\n",
        "                print(\"Cycle Detected at \", curNode)\n",
        "        return self.visit\n",
        "\n",
        "    def bfs(self):\n",
        "        visit = [self.start]\n",
        "        queue = Queue()\n",
        "        for item in self.graph[self.start]:\n",
        "            queue.enQueue(item)\n",
        "\n",
        "        while queue.isEmpty() == False:\n",
        "            item = queue.deQueue()\n",
        "            if not item in visit:  # 현재 아이템이 가본 곳이 아니면 ...\n",
        "                for _item in self.graph[item]:\n",
        "                    queue.enQueue(_item)\n",
        "                visit.append(item)\n",
        "        return visit\n",
        "\n",
        "    # 방향 그래프에 대한 위상정렬\n",
        "    def topologySort(self):\n",
        "        keys = list(self.graph.keys())\n",
        "        self.visited = dict.fromkeys(keys,False) # 모든 key에 대해 False 값을 assign한 딕셔너리를 만든다. # Question : 리스트를 쓰지 않고 딕셔너리를 사용한 이유?\n",
        "        self.path = []\n",
        "        for node in keys:\n",
        "            if self.visited[node] == False:\n",
        "                self._sort(node)\n",
        "        return self.path[::-1]\n",
        "\n",
        "    def _sort(self, curNode): # curNode에 연결된 노드 중 가보지 않은 노드를 재귀로 방문함\n",
        "        self.visited[curNode] = True\n",
        "        for node in self.graph[curNode]:\n",
        "            if not self.visited[node]:\n",
        "                self._sort(node)\n",
        "        self.path.append(curNode) # 끝부터 삽입한다.\n",
        "        \n",
        "      # self.visited를 리스트형으로 활용한 코드  \n",
        "#     def topologySort(self):\n",
        "#         keys = list(self.graph.keys())\n",
        "#         self.visited = []\n",
        "#         self.path = []\n",
        "#         for node in keys:\n",
        "#             if node not in self.visited:\n",
        "#                 self._sort(node)\n",
        "#         return self.path[::-1]\n",
        "    \n",
        "#     def _sort(self, curNode):\n",
        "#         self.visited.append(curNode)\n",
        "#         for node in self.graph[curNode]:\n",
        "#             if node not in self.visited:\n",
        "#                 self._sort(node)\n",
        "#         self.path.append(curNode)\n",
        "\n",
        "g = {}\n",
        "g['파이썬'] = ['자료구조','컴퓨터입문']\n",
        "g['자료구조'] = ['운영체제','알고리즘']\n",
        "g['컴퓨터입문'] = ['자료구조']\n",
        "g['운영체제'] = ['인공지능']\n",
        "g ['인공지능'] = ['알고리즘','데이터마이닝']\n",
        "g ['알고리즘'] = ['데이터베이스']\n",
        "g ['데이터베이스'] = ['데이터마이닝']\n",
        "g ['데이터마이닝'] = ['SW프로젝트']\n",
        "g ['SW프로젝트'] = []\n",
        "\n",
        "path = Graph(g, '파이썬')\n",
        "print(path.topologySort())"
      ],
      "execution_count": 0,
      "outputs": [
        {
          "output_type": "stream",
          "text": [
            "['파이썬', '컴퓨터입문', '자료구조', '운영체제', '인공지능', '알고리즘', '데이터베이스', '데이터마이닝', 'SW프로젝트']\n"
          ],
          "name": "stdout"
        }
      ]
    },
    {
      "cell_type": "markdown",
      "metadata": {
        "id": "ql6d8gjn1lcw",
        "colab_type": "text"
      },
      "source": [
        "#### 최소비용신장트리\n",
        "* 간선에 가중치(물리적인 거리, 비용)가 존재하는 가중치 그래프에서 가중치의 합이 최소화되도록 구성한 트리를 말한다.\n",
        "* 최소비용신장트리는 두개의 정점사이에 한개 경로만 존재한다. 그러므로 싸이클도 존재할 수 없다.\n",
        "* 복잡한 그래프에서 최소비용신장트리를 구성하는 것은 네트워크가 작동할 수 있는 최소 조건을 구하는 의미가 있다.\n",
        "* 최소비용신장트리를 구하는 방법으로는 Kruskal 알고리즘, Prim 알고리즘, Sollin 알고리즘 등이 있다.\n",
        "\n",
        "##### Kruskal 알고리즘\n",
        "* forward-selection : 하나씩 추가하면서 연결을 갖는지?\n",
        "* backward-elimination : 하나씩 제거하면서 연결을 갖는지?\n",
        "* 간선들의 가중값을 정렬한 후, 가장 작은 가중값을 가지는 간선부터 추가해 간다.\n",
        "* 추가중에 간선의 수가 n-1이 되면 알고리즘이 종료된다. n은 노드 수다.\n",
        "\n",
        "<center><img src=\"https://drive.google.com/uc?id=1udy_0nAYtLq8XrPQt1O1uexRGsMwyS1V\" width=\"500\" height=\"500\" ></center>\n",
        "\n",
        "* 위의 그림에서 최소 간선 (4,6) 부터 차례대로 빈 트리에 삽입한다.\n",
        "* 삽입과정에서 (1,4), (2,4), (3,6)은 싸이클이 형성되므로 스킵한다.\n",
        "* 삽입하다가 삽입된 간선이 6개(노드수-1)가 되면 알고리즘이 종료된다.\n",
        "* 싸이클을 탐지하는 방법으로 Union-Find 알고리즘을 사용할 수 있다.\n",
        "\n",
        "\n",
        "##### Union Find Algorithm\n",
        "* Union Find 알고리즘은 노드 연결을 나타내는 리스트를 정의하고 추가 되는 엣지(n1, n2)에 대해 Union 해 간다.\n",
        "* 예를 들어, 현재 [[0,1,2],[3,4]] 이 존재할 때, 아래와 같이 처리한다.\n",
        "  * [[0,1,2],[3,4]] + [5,6] = [[0,1,2],[3,4],[5,6]] # 연결할 수 없으므로 따로 생성\n",
        "  * [[0,1,2],[3,4]] + [1,5] = [[0,1,2,5],[3,4]]      # 존재하는 곳에 연결함\n",
        "  * [[0,1,2],[3,4]] + [1,3] = [[0,1,2,3,4]]        # n1, n2 모두 존재하므로 두개가 존재하는 서브 리스트를 합쳐\n",
        "  * [[0,1,2],[3,4]] + [0,2] =  싸이클                 # 0과 2가 모두 0번째로 같은 위치에 존재하므로 추가할 필요가 없고 이때 싸이클이 존재한다.\n",
        "  "
      ]
    },
    {
      "cell_type": "code",
      "metadata": {
        "id": "vEkc_RTLbRsV",
        "colab_type": "code",
        "outputId": "ee0bd541-6b1b-48dd-92a6-0b1547e9e1d7",
        "colab": {
          "base_uri": "https://localhost:8080/",
          "height": 167
        }
      },
      "source": [
        "def isCycle(n1, n2):\n",
        "    u = [[0, 1, 2],[3, 4]]\n",
        "    idx1 = idx2 = -1\n",
        "    for i in range(len(u)):\n",
        "        if n1 in u[i]:\n",
        "            idx1 = i\n",
        "        if n2 in u[i]:\n",
        "            idx2 = i\n",
        "\n",
        "    if idx1 == -1 and idx2 == -1: # [n1,n2] 이 기존 리스트에 없다면 \n",
        "        u.append([n1,n2])\n",
        "        print(u)\n",
        "        return False\n",
        "    elif idx1 == -1:              # [n1,n2] 이 기존 리스트 중 한 곳에만 있다면\n",
        "        u[idx2].append(n1)\n",
        "        print(u)\n",
        "        return False\n",
        "    elif idx2 == -1:              # [n1,n2] 이 기존 리스트 중 한 곳에만 있다면\n",
        "        u[idx1].append(n2)\n",
        "        print(u)\n",
        "        return False\n",
        "    elif idx1 != idx2:            # [n1,n2] 이 기존 리스트에 서로 다른 곳에 존재한다면 \n",
        "        d1 = u[idx1]\n",
        "        d2 = u[idx2]\n",
        "        union = d1 + d2\n",
        "        u.remove(d1)\n",
        "        u.remove(d2)\n",
        "        u.append(union)\n",
        "        print(u)\n",
        "        return False\n",
        "\n",
        "    elif idx1 == idx2 and len(u[idx1]) > 2: # [n1,n2] 이 기존 리스트에 같은 곳에 존재한다면\n",
        "        print(u)\n",
        "        return True\n",
        "    else: # len(u[idx1]) == 2인 경우 싸이클이 아니다. # Question : 없는 경우? => 코드 실수, 배제하고 코드 볼 것\n",
        "        return False\n",
        "\n",
        "print(isCycle(2,3))\n",
        "print(isCycle(2,0)) # 0 - 1, 1 - 2 가 연결되어 있다고 가정\n",
        "print(isCycle(1,5))\n",
        "print(isCycle(4,6))"
      ],
      "execution_count": 0,
      "outputs": [
        {
          "output_type": "stream",
          "text": [
            "[[0, 1, 2, 3, 4]]\n",
            "False\n",
            "[[0, 1, 2], [3, 4]]\n",
            "True\n",
            "[[0, 1, 2, 5], [3, 4]]\n",
            "False\n",
            "[[0, 1, 2], [3, 4, 6]]\n",
            "False\n"
          ],
          "name": "stdout"
        }
      ]
    },
    {
      "cell_type": "code",
      "metadata": {
        "id": "AEinWMFDgFJg",
        "colab_type": "code",
        "outputId": "9e4eb97f-9320-4029-882d-ce34b2522cee",
        "colab": {
          "base_uri": "https://localhost:8080/",
          "height": 145
        }
      },
      "source": [
        "class SpanningTree:\n",
        "    def __init__(self, graph):\n",
        "        self.graph = graph\n",
        "        self.nodes = set()\n",
        "        self.union = []\n",
        "        \n",
        "        # 그래프의 노드를 구함\n",
        "        for edge in graph:\n",
        "            self.nodes.add(edge[0])\n",
        "            self.nodes.add(edge[1])\n",
        "        self.nNode = len(self.nodes)\n",
        "\n",
        "    def isCycle(self, n1, n2):\n",
        "        idx1 = idx2 = -1\n",
        "        for i in range(len(self.union)):\n",
        "            if n1 in self.union[i]:\n",
        "                idx1 = i\n",
        "            if n2 in self.union[i]:\n",
        "                idx2 = i\n",
        "\n",
        "        if idx1 == -1 and idx2 == -1:\n",
        "            self.union.append([n1, n2])\n",
        "            return False\n",
        "        elif idx1 == -1:\n",
        "            self.union[idx2].append(n1)\n",
        "            return False\n",
        "        elif idx2 == -1:\n",
        "            self.union[idx1].append(n2)\n",
        "            return False\n",
        "        elif idx1 != idx2:\n",
        "            d1 = self.union[idx1]\n",
        "            d2 = self.union[idx2]\n",
        "            union = d1 + d2\n",
        "            self.union.remove(d1)\n",
        "            self.union.remove(d2)\n",
        "            self.union.append(union)\n",
        "            return False\n",
        "        elif idx1 == idx2 and len(self.union[idx1]) > 2:\n",
        "            print(self.union[idx1])\n",
        "            return True\n",
        "        else:\n",
        "            return False\n",
        "\n",
        "    def kruskal(self):\n",
        "        self.graph.sort(key = lambda t: t[2]) # 그래프를 2번째 원소기준으로 소트한다.\n",
        "        tree = []  # 최소비용신장트리를 담을 리스트를 만든다.\n",
        "        nedges = 0 # nedges == self.nNode - 1이면 알고리즘이 끝난다.\n",
        "        i = 0\n",
        "        while nedges < self.nNode - 1:\n",
        "            if self.isCycle(self.graph[i][0],self.graph[i][1]) == False:\n",
        "                tree.append(self.graph[i])\n",
        "                nedges += 1\n",
        "            else:\n",
        "                print(\"싸이클 발견\",self.graph[i] )\n",
        "            i += 1\n",
        "\n",
        "        return tree\n",
        "\n",
        "g = [(0,1,9),(0,2,10),(1,3,10),(1,4,5),(1,6,3),(2,3,9),(2,4,7),(2,5,2),(3,5,4),(3,6,8),(4,6,1),(5,6,6)]\n",
        "t = SpanningTree(g)\n",
        "print(t.kruskal())"
      ],
      "execution_count": 0,
      "outputs": [
        {
          "output_type": "stream",
          "text": [
            "[4, 6, 1]\n",
            "싸이클 발견 (1, 4, 5)\n",
            "[2, 5, 3, 4, 6, 1]\n",
            "싸이클 발견 (2, 4, 7)\n",
            "[2, 5, 3, 4, 6, 1]\n",
            "싸이클 발견 (3, 6, 8)\n",
            "[(4, 6, 1), (2, 5, 2), (1, 6, 3), (3, 5, 4), (5, 6, 6), (0, 1, 9)]\n"
          ],
          "name": "stdout"
        }
      ]
    },
    {
      "cell_type": "markdown",
      "metadata": {
        "id": "SHURYD_ZHiJq",
        "colab_type": "text"
      },
      "source": [
        "##### Prim 알고리즘\n",
        "* 프림 알고리즘은 최소비용 엣지를 추가하는데 이미 추가된 노드와 연결 가능한 엣지 중 최소 비용 엣지를 추가하는 방법이다. \n",
        "* 그림 (a)와 같이 그룹이 만들어지면 그룹에서 가장 가까운 노드를 선택해 (b)처럼 그룹에 포함시키는 방식으로 삽입된 간선이 (노드수-1)개가 되면 알고리즘이 종료된다.\n",
        "* 이 과정에서도 싸이클이 발생할 수 있다. 싸이클을 발생시키는 엣지는 스킵한다.\n",
        "\n",
        "<center><img src=\"https://drive.google.com/uc?id=1hegvtRryt6Xe7aa7uunaBS2RJGGMsD1m\" width=\"500\" height=\"200\" ></center>\n",
        "\n",
        "* 알고리즘\n",
        "  * step 0: 최소비용신장트리 mst를 저장할 리스트를 만든다.\n",
        "  * step 1: 그래프에서 최소비용 엣지를 선택해 mst에 추가한다.\n",
        "  * step 2: 그래프의 엣지집합과 mst의 차집합을 remains로 구하고, mst에 존재하는 노드집합과 연결된 remains 엣지 중 최소비용엣지를 구한다.\n",
        "  * step 3: step 2에서 구한 최소비용엣지가 mst에 추가될 때, 싸이클이 형성되지 않으면 추가하고 싸이클이 형성되면 스킵한다.\n",
        "  * step 4: remains에서 최소비용엣지를 삭제하고 갱신된 mst와 remains를 이용하여 최소비용엣지를 찾는 작업을 반복한다.\n",
        "  * step 5: mst에 추가된 엣지의 수가 그래프 노드 수 - 1 이 되면 알고리즘을 중단하고 mst를 리턴한다.\n",
        "  "
      ]
    },
    {
      "cell_type": "code",
      "metadata": {
        "id": "vAbS0xCC1pQK",
        "colab_type": "code",
        "outputId": "63cf9101-6369-423e-dbe2-0c34354da865",
        "colab": {
          "base_uri": "https://localhost:8080/",
          "height": 108
        }
      },
      "source": [
        "class SpanningTree:\n",
        "    def __init__(self, graph):\n",
        "        self.graph = graph\n",
        "        self.nodes = set() # 그래프의 노드 집합\n",
        "        self.union = [] # 싸이클 여부를 판단하는 리스트\n",
        "\n",
        "        for edge in graph: # 모든 그래프의 엣지에 대해 노드를 추출해 nodes 집합에 저장한다.\n",
        "            self.nodes.add(edge[0])\n",
        "            self.nodes.add(edge[1])\n",
        "        self.nNode = len(self.nodes) # 그래프에 존재하는 노드의 수\n",
        "\n",
        "    # union 리스트에 Union-Find 알고리즘의 결과를 저장하면서 싸이클 발생 여부를 리턴한다.\n",
        "    # 새로 입력된 엣지 (n1, n2)가 union 리스트에 어느 곳에 있는지를 판단하여 idx1, idx2를 생성한다.\n",
        "\n",
        "    # idx1, idx2가 모두 -1이면 입력된 엣지가 union 집합에 있는 엣지들과 연결되어 있지 않으므로 새로운 엣지로 추가하고 싸이클 여부는 False다.\n",
        "    # idx1, idx2 둘 중 하나가 -1이면 하나는 연결되어 있고 하나는 새 노드이므로 연결되어 있는 노드집합에 추가하고 싸이클 여부는 False다.\n",
        "    # idx1, idx2 둘 다 0 이상이고, 서로 다른 값을 가지면, 두 노드 집합을 연결하고 싸이클 여부는 False다.\n",
        "    # idx1, idx2 둘 다 0 이상이고, 서로 같은 값을 가지면, 싸이클 여부는 True 이므로 엣지를 추가하지 않는다.\n",
        "    def isCycle(self, n1, n2):\n",
        "        idx1 = idx2 = -1\n",
        "        for i in range(len(self.union)):\n",
        "            if n1 in self.union[i]:\n",
        "                idx1 = i\n",
        "            if n2 in self.union[i]:\n",
        "                idx2 = i\n",
        "\n",
        "        if idx1 == -1 and idx2 == -1:\n",
        "            self.union.append([n1, n2])\n",
        "            return False\n",
        "        elif idx1 == -1:\n",
        "            self.union[idx2].append(n1)\n",
        "            return False\n",
        "        elif idx2 == -1:\n",
        "            self.union[idx1].append(n2)\n",
        "            return False\n",
        "        elif idx1 != idx2:\n",
        "            d1 = self.union[idx1]\n",
        "            d2 = self.union[idx2]\n",
        "            union = d1 + d2\n",
        "            self.union.remove(d1)\n",
        "            self.union.remove(d2)\n",
        "            self.union.append(union)\n",
        "            return False\n",
        "        elif idx1 == idx2 and len(self.union[idx1]) > 2:\n",
        "            return True\n",
        "        else:\n",
        "            return False\n",
        "\n",
        "    def kruskal1(self):\n",
        "        self.graph.sort(key = lambda t: t[2])\n",
        "        tree = []\n",
        "        nedges = 0\n",
        "        i = 0\n",
        "        while nedges < self.nNode - 1:\n",
        "            if self.isCycle(self.graph[i][0],self.graph[i][1]) == False:\n",
        "                tree.append(self.graph[i])\n",
        "                nedges += 1\n",
        "            else:\n",
        "                print(\"cycle found\",self.graph[i] )\n",
        "            i += 1\n",
        "        return tree\n",
        "\n",
        "    # 최소비용신장트리 과정에서 남아 있는 엣지(remains) 들 중에 nodes에 연결된 최소비용 엣지를 구해 리턴한다.\n",
        "    def _minEdge(self, remains, nodes):\n",
        "        import sys\n",
        "        mini = sys.maxsize\n",
        "        for node in nodes:\n",
        "            for edge in remains:\n",
        "                if edge[0] == node or edge[1] == node:\n",
        "                    if edge[2] < mini:\n",
        "                        minEdge = edge\n",
        "                        mini = minEdge[2]\n",
        "        return minEdge\n",
        "\n",
        "    # 최소비용신장트리 mst에 존재하는 노드의 집합을 구해 리턴한다.\n",
        "    def _getNodes(self, mst):\n",
        "        nodes = []\n",
        "        for edge in mst:\n",
        "            nodes.append(edge[0])\n",
        "            nodes.append(edge[1])\n",
        "        return nodes\n",
        "\n",
        "    # Prim 알고리즘으로 최소비용신장트리를 구한다.\n",
        "    def prim(self):\n",
        "        mst = [] # 최소비용신장트리를 저장할 리스트\n",
        "        self.union = [] # 싸이클 여부를 판단할 리스트\n",
        "        self.graph.sort(key=lambda t: t[2]) # 그래프를 소트해서 최소비용 엣지하나를 구함\n",
        "        if self.isCycle(self.graph[0][0], self.graph[0][1]) == False:\n",
        "            mst.append(self.graph[0]) # 첫번째 엣지를 mst에 추가\n",
        "\n",
        "        remains = list(set(self.graph) - set(mst)) # 그래프에서 mst를 제외한 집합으로 remains에서 엣지를 선택해 mst에 추가할 것임\n",
        "        nodes = self._getNodes(mst) # 현재, mst에 존재하는 노드집합을 구함\n",
        "        minEdge = self._minEdge(remains, nodes) # 현재, mst에 존재하는 노드와 연결된 엣지들 중에 최소비용 엣지를 구함\n",
        "\n",
        "        while len(mst) < self.nNode - 1:\n",
        "            if self.isCycle(minEdge[0], minEdge[1]) == False: # 최소비용 엣지가 싸이클을 형성하지 않으면 mst에 추가\n",
        "                mst.append(minEdge)\n",
        "            remains.remove(minEdge) # 싸이클을 형성 여부와 상관없이 remains에서 제거\n",
        "            #print(mst)\n",
        "            nodes = self._getNodes(mst) # 업데이트된 mst와 remains를 이용하여 최소비용엣지를 구하고 루프를 반복함\n",
        "            minEdge = self._minEdge(remains, nodes)\n",
        "\n",
        "        return mst\n",
        "\n",
        "g = [(0,1,9),(0,2,10),(1,3,10),(1,4,5),(1,6,3),(2,3,9),\n",
        "     (2,4,7),(2,5,2),(3,5,4),(3,6,8),(4,6,1),(5,6,6)]\n",
        "t = SpanningTree(g)\n",
        "print(t.kruskal1())\n",
        "print(t.prim())"
      ],
      "execution_count": 0,
      "outputs": [
        {
          "output_type": "stream",
          "text": [
            "cycle found (1, 4, 5)\n",
            "cycle found (2, 4, 7)\n",
            "cycle found (3, 6, 8)\n",
            "[(4, 6, 1), (2, 5, 2), (1, 6, 3), (3, 5, 4), (5, 6, 6), (0, 1, 9)]\n",
            "[(4, 6, 1), (1, 6, 3), (5, 6, 6), (2, 5, 2), (3, 5, 4), (0, 1, 9)]\n"
          ],
          "name": "stdout"
        }
      ]
    },
    {
      "cell_type": "markdown",
      "metadata": {
        "id": "20oeDd5LK-0C",
        "colab_type": "text"
      },
      "source": [
        "### Dijkstra 알고리즘\n",
        "\n",
        "* BFS를 사용하여 최소거리 경로를 찾을 수 있다.    \n",
        "* 다익스트라 알고리즘은 최소 Cost를 가지는 경로를 찾을 수 있는 알고리즘이다.\n",
        "* 여기서, Cost는 시간일 수도 있고, 시간, 신호등 수, 주변 경관 등을 적절하게 점수화 한 것일 수도 있다.     \n",
        "   예를 들어, 시간이 오래 걸리거나 신호등이 많거나 차선이 좁으면 상승하는  Cost  함수를 만들 수 있다면 이 Cost 함수를 최소화 하는 경로를 찾을 수 있다는 의미이다. \n",
        "* 이를 이용하면 네비게이션 알고리즘에서 최단경로, 최소시간, 최소비용, 최적 경로라는 이름으로 경로를 탐색하고 사용자는 이 중 적절한 경로를 선택하도록 하는 것이 가능하다.\n",
        "* 다익스트라 알고리즘은 현재노드를 통해 연결된 노드로 가는 것과 다른 경로를 통해 가는 Cost를 비교하여 더 작은 Cost가 있을 경우, 업데이트하는 방법이다.\n",
        "* 아래의 그림에서 A로 가는 방법은 start에서 A로 가는 방법과 start -> B -> A의 방법이 있고 이 중 후자가 더 빠르다. 이 경우, 'A': [5, 'B'] 와 같이 만들어야 한다.\n",
        "\n",
        "<center><img src=\"https://drive.google.com/uc?id=17-N_4cqBA_H9BKKVgTeZDuhCgwVKSH8s\" width=\"300\" height=\"150\" ></center>\n",
        "\n",
        "\n",
        "* 위 그래프를 딕셔너리에 저장해보자."
      ]
    },
    {
      "cell_type": "code",
      "metadata": {
        "id": "u77jO4vCL_C2",
        "colab_type": "code",
        "colab": {}
      },
      "source": [
        "# 경로 그래프를 만든다.\n",
        "graph = ['start','A', 6],['start','B', 2], ['A', 'finish', 1], ['B', 'finish', 5], ['B', 'A', 3]\n"
      ],
      "execution_count": 0,
      "outputs": []
    },
    {
      "cell_type": "code",
      "metadata": {
        "id": "ql7Uk-J4kXFn",
        "colab_type": "code",
        "outputId": "5ecd7e3d-8301-4fff-999d-fc81ae194fa6",
        "colab": {
          "base_uri": "https://localhost:8080/",
          "height": 36
        }
      },
      "source": [
        "# 노드 집합을 만든다. 노드 집합에서 노드를 꺼내 visits로 옮기는 작업이 진행될 것이다.\n",
        "# nodes에 있는 모든 노드가 visits로 이동하면 알고리즘이 끝난다.\n",
        "\n",
        "nodes = set()\n",
        "for edge in graph:\n",
        "    nodes.add(edge[0])\n",
        "    nodes.add(edge[1])\n",
        "nodes\n"
      ],
      "execution_count": 0,
      "outputs": [
        {
          "output_type": "execute_result",
          "data": {
            "text/plain": [
              "{'A', 'B', 'finish', 'start'}"
            ]
          },
          "metadata": {
            "tags": []
          },
          "execution_count": 17
        }
      ]
    },
    {
      "cell_type": "code",
      "metadata": {
        "id": "EOVMjiirMK_o",
        "colab_type": "code",
        "outputId": "b9183690-cac1-4bd3-d3ee-43c4a76653e7",
        "colab": {
          "base_uri": "https://localhost:8080/",
          "height": 36
        }
      },
      "source": [
        "\n",
        "# 방문한 노드를 기록하기 위한 집합을 만든다.\n",
        "visits = set()\n",
        "\n",
        "# 출발점에서 모든 노드와 거리는 무한대로 설정하고 각 노드의 부모노드는 \"모름\"으로 초기설정한다.\n",
        "\n",
        "cost = {}\n",
        "\n",
        "for node in nodes:\n",
        "    cost[node] = [float(\"inf\"), None]\n",
        "\n",
        "# 시작과 끝 노드를 정의한다.\n",
        "start = 'start'\n",
        "end = 'end'\n",
        "\n",
        "# 시작노드의 거리는 0으로 설정한다.\n",
        "curNode = start\n",
        "cost[curNode][0] = 0    \n",
        "\n",
        "print(cost)"
      ],
      "execution_count": 0,
      "outputs": [
        {
          "output_type": "stream",
          "text": [
            "{'finish': [inf, None], 'start': [0, None], 'A': [inf, None], 'B': [inf, None]}\n"
          ],
          "name": "stdout"
        }
      ]
    },
    {
      "cell_type": "code",
      "metadata": {
        "id": "5jf9D1JHji5v",
        "colab_type": "code",
        "outputId": "742f9068-4743-4539-fa06-fe4fa927f0f4",
        "colab": {
          "base_uri": "https://localhost:8080/",
          "height": 36
        }
      },
      "source": [
        "# 'start'에서 갈 수 있는 노드는 'A', 'B' 다.\n",
        "\n",
        "def _neighbor(curNode):\n",
        "    # curNode에 연결된 이웃노드를 리스트로 리턴한다.\n",
        "    neighbor = {}\n",
        "    for edge in graph:\n",
        "        if edge[0] == curNode:\n",
        "            neighbor[edge[1]]= edge[2]\n",
        "        elif edge[1] == curNode:\n",
        "            neighbor[edge[0]] = edge[2] # Question : 양방향그래프?\n",
        "    return neighbor\n",
        "\n",
        "neighbors = _neighbor(curNode)\n",
        "neighbors"
      ],
      "execution_count": 0,
      "outputs": [
        {
          "output_type": "execute_result",
          "data": {
            "text/plain": [
              "{'A': 6, 'B': 2}"
            ]
          },
          "metadata": {
            "tags": []
          },
          "execution_count": 19
        }
      ]
    },
    {
      "cell_type": "code",
      "metadata": {
        "id": "emMJa0lvkfnt",
        "colab_type": "code",
        "outputId": "d1ec7df9-4cd9-4d94-d5c8-a5abac44aa53",
        "colab": {
          "base_uri": "https://localhost:8080/",
          "height": 55
        }
      },
      "source": [
        "def _getWeight(n1, n2):\n",
        "    # 그래프에서 노드 n1, n2의 가중값을 리턴한다.\n",
        "    for edge in graph:\n",
        "        if edge[0] == n1 and edge[1] == n2:\n",
        "            return edge[2]\n",
        "        elif edge[0] == n2 and edge[1] == n1:\n",
        "            return edge[2]\n",
        "    return None\n",
        "\n",
        "visits.add(curNode)\n",
        "nodes.remove(curNode)\n",
        "\n",
        "# 모든 이웃에 대해 현재 노드를 통해 이웃노드에 접근하는 cost가 더 작을 경우, cost 값을 갱신하고 부모노드를 변경한다.\n",
        "# 'A': [6, 'start'] 는 'A'에 'start'를 통해 접근할 경우, cost가 6이란 의미다. 만약, 'A'에 다른 노드를 통해 접근할 때 더 작은 cost가 있다면 갱신한다.\n",
        "# curNode에서 갈 수 있는 모든 이웃에 대해 \n",
        "# curNode를 통해 node로 가는 비용 cost[curNode][0] + _getWeight(curNode,node) 이 현재시점에서 알고있는 node의 비용보다 작다면 \n",
        "# node의 비용과 parent 노드를 curNode를 통해 가는 것으로 갱신한다.\n",
        "\n",
        "for node in neighbors:\n",
        "    if cost[curNode][0] + _getWeight(curNode,node) < cost[node][0]:\n",
        "        cost[node][0] = cost[curNode][0] + _getWeight(curNode, node)\n",
        "        cost[node][1] = curNode\n",
        "        \n",
        "print(nodes)        \n",
        "print(cost)"
      ],
      "execution_count": 0,
      "outputs": [
        {
          "output_type": "stream",
          "text": [
            "{'finish', 'A', 'B'}\n",
            "{'finish': [inf, None], 'start': [0, None], 'A': [6, 'start'], 'B': [2, 'start']}\n"
          ],
          "name": "stdout"
        }
      ]
    },
    {
      "cell_type": "markdown",
      "metadata": {
        "id": "JxN6yu31kw4Q",
        "colab_type": "text"
      },
      "source": [
        "* 다시 nodes 집합 {'finish', 'B', 'A'} 중에 최소 비용을 가지는 노드를 curNode로 선정하고 위 과정을 반복한다.\n",
        "   여기서는 B가 선택된다. \n",
        "* 이를 위해서는 cost에서 nodes에 있는 키를 대상으로 최소비용노드를 선택해야 한다.\n",
        "* 딕셔너리 부분집합을 정의하기 위해 아래의 코드를 사용할 수 있다.<br>\n",
        "   dictfilt = lambda x, y: dict([ (i,x[i]) for i in x if i in set(y) ]) <br>\n",
        "   curNode = min(dictfilt(cost, nodes), key=dictfilt(cost, nodes).get) "
      ]
    },
    {
      "cell_type": "code",
      "metadata": {
        "id": "dcOxT59sk0bh",
        "colab_type": "code",
        "outputId": "016d3c50-f26b-4964-d20a-f19068ec299b",
        "colab": {
          "base_uri": "https://localhost:8080/",
          "height": 34
        }
      },
      "source": [
        "dictfilt = lambda x, y: dict([ (i,x[i]) for i in x if i in set(y) ])\n",
        "\n",
        "my_dict = {\"a\":1,\"b\":2,\"c\":3,\"d\":4}\n",
        "wanted_keys = (\"c\",\"d\")\n",
        "\n",
        "# run it\n",
        "dictfilt(my_dict, wanted_keys)"
      ],
      "execution_count": 0,
      "outputs": [
        {
          "output_type": "execute_result",
          "data": {
            "text/plain": [
              "{'c': 3, 'd': 4}"
            ]
          },
          "metadata": {
            "tags": []
          },
          "execution_count": 3
        }
      ]
    },
    {
      "cell_type": "code",
      "metadata": {
        "id": "kWJf4G0ikpl7",
        "colab_type": "code",
        "outputId": "a97b9d40-8517-4ca9-fda0-90430c033223",
        "colab": {
          "base_uri": "https://localhost:8080/",
          "height": 55
        }
      },
      "source": [
        "# Wow...\n",
        "dictfilt = lambda x, y: dict([ (i,x[i]) for i in x if i in set(y) ])\n",
        "print(dictfilt(cost, nodes))  \n",
        "\n",
        "curNode = min(dictfilt(cost, nodes), key=dictfilt(cost, nodes).get) \n",
        "print(curNode)"
      ],
      "execution_count": 0,
      "outputs": [
        {
          "output_type": "stream",
          "text": [
            "{'finish': [inf, None], 'A': [6, 'start'], 'B': [2, 'start']}\n",
            "B\n"
          ],
          "name": "stdout"
        }
      ]
    },
    {
      "cell_type": "code",
      "metadata": {
        "id": "huz-U_2doaka",
        "colab_type": "code",
        "outputId": "d6176ff5-ae62-416a-e7e7-ff28cf820c6a",
        "colab": {
          "base_uri": "https://localhost:8080/",
          "height": 55
        }
      },
      "source": [
        "# 위의 딕셔너리 필터는 아래의 코드와 같다.\n",
        "\n",
        "print(cost, nodes)\n",
        "import sys\n",
        "mini = sys.maxsize\n",
        "for key, value in cost.items():\n",
        "    if key in nodes:\n",
        "        if value[0] < mini:\n",
        "            mini = value[0]\n",
        "            curNode = key\n",
        "print(curNode)\n",
        "    "
      ],
      "execution_count": 0,
      "outputs": [
        {
          "output_type": "stream",
          "text": [
            "{'finish': [inf, None], 'start': [0, None], 'A': [6, 'start'], 'B': [2, 'start']} {'finish', 'A', 'B'}\n",
            "B\n"
          ],
          "name": "stdout"
        }
      ]
    },
    {
      "cell_type": "code",
      "metadata": {
        "id": "nxOmwTi69PyV",
        "colab_type": "code",
        "outputId": "124f034a-596f-4279-a721-0f97ccb40dbf",
        "colab": {
          "base_uri": "https://localhost:8080/",
          "height": 36
        }
      },
      "source": [
        "# 'B'에서 갈 수 있는 노드는 'start', A', 'finish' 다.\n",
        "neighbors = _neighbor(curNode)\n",
        "print(neighbors)"
      ],
      "execution_count": 0,
      "outputs": [
        {
          "output_type": "stream",
          "text": [
            "{'start': 2, 'finish': 5, 'A': 3}\n"
          ],
          "name": "stdout"
        }
      ]
    },
    {
      "cell_type": "code",
      "metadata": {
        "id": "yQH8Flv4oo4o",
        "colab_type": "code",
        "outputId": "3e2e72f0-435e-4244-ae8f-2a4c31151740",
        "colab": {
          "base_uri": "https://localhost:8080/",
          "height": 55
        }
      },
      "source": [
        "# 모든 이웃에 대해 현재 노드를 통해 이웃노드에 접근하는 cost가 더 작을 경우, dist 값을 갱신하고 부모노드를 변경한다.\n",
        "# 'A' 로 갈 수 있는 방법이 'start'에서 직접 가는 것 보다 'B'를 통과해 가는 것이 비용이 작아 'A'의 비용과 부모노드가 갱신되었다.\n",
        "\n",
        "visits.add(curNode)\n",
        "nodes.remove(curNode)\n",
        "for node in neighbors:\n",
        "    if cost[curNode][0] + _getWeight(curNode,node) < cost[node][0]:\n",
        "        cost[node][0] = cost[curNode][0] + _getWeight(curNode, node)\n",
        "        cost[node][1] = curNode\n",
        "print(nodes)        \n",
        "print(cost)"
      ],
      "execution_count": 0,
      "outputs": [
        {
          "output_type": "stream",
          "text": [
            "{'finish', 'A'}\n",
            "{'finish': [7, 'B'], 'start': [0, None], 'A': [5, 'B'], 'B': [2, 'start']}\n"
          ],
          "name": "stdout"
        }
      ]
    },
    {
      "cell_type": "code",
      "metadata": {
        "id": "2dbR7Ie0oyUq",
        "colab_type": "code",
        "outputId": "ee43721e-0b9c-4589-aab6-661865cdeb26",
        "colab": {
          "base_uri": "https://localhost:8080/",
          "height": 36
        }
      },
      "source": [
        "# {'end', 'A'} 중에 비용이 작은 노드는 'A'다.\n",
        "dictfilt = lambda x, y: dict([ (i,x[i]) for i in x if i in set(y) ]) \n",
        "curNode = min(dictfilt(cost, nodes), key=dictfilt(cost, nodes).get) \n",
        "print(curNode)"
      ],
      "execution_count": 0,
      "outputs": [
        {
          "output_type": "stream",
          "text": [
            "A\n"
          ],
          "name": "stdout"
        }
      ]
    },
    {
      "cell_type": "code",
      "metadata": {
        "id": "Dz7lPnwlo4Pm",
        "colab_type": "code",
        "outputId": "e594f805-11b0-42cc-856f-89dd8a35d1d3",
        "colab": {
          "base_uri": "https://localhost:8080/",
          "height": 73
        }
      },
      "source": [
        "neighbors = _neighbor(curNode)\n",
        "print(neighbors)\n",
        "\n",
        "visits.add(curNode)\n",
        "nodes.remove(curNode)\n",
        "for node in neighbors:\n",
        "    if cost[curNode][0] + _getWeight(curNode,node) < cost[node][0]:\n",
        "        cost[node][0] = cost[curNode][0] + _getWeight(curNode, node)\n",
        "        cost[node][1] = curNode\n",
        "print(nodes)        \n",
        "print(cost)"
      ],
      "execution_count": 0,
      "outputs": [
        {
          "output_type": "stream",
          "text": [
            "{'start': 6, 'finish': 1, 'B': 3}\n",
            "{'finish'}\n",
            "{'finish': [6, 'A'], 'start': [0, None], 'A': [5, 'B'], 'B': [2, 'start']}\n"
          ],
          "name": "stdout"
        }
      ]
    },
    {
      "cell_type": "markdown",
      "metadata": {
        "id": "Og0VhNP8o-6o",
        "colab_type": "text"
      },
      "source": [
        "* 이제 노드에는 finish 하나만 남았고 finish의 이웃이 없으므로 알고리즘은 종료해도 된다.\n",
        "* 실제로는 node가 완전히 비워질 때까지 알고리즘을 반복해야 한다.\n",
        "* cost에서 최소비용 경로는 아래와 같이 구할 수 있다.\n",
        "   finish <- finish의 부모인 'A' <- 'A'의 부모인 'B' <- 'B'의 부모인 'start' 순서다.\n",
        "* 최종적으로 start -> 'B' -> 'A' -> 'finish' 가 최소비용경로다.   "
      ]
    },
    {
      "cell_type": "markdown",
      "metadata": {
        "id": "GSw8nfxzwUSq",
        "colab_type": "text"
      },
      "source": [
        "### 예제:아래의 그래프에서 0->3으로 가는 최소비용경로는?\n",
        "\n",
        "<center><img src=\"https://drive.google.com/uc?id=1ld8EGLdOA37raFZwAx5xzeLtuSLqmhDv\" width=\"400\" height=\"300\" ></center>"
      ]
    },
    {
      "cell_type": "code",
      "metadata": {
        "id": "gw4JphfSwXMq",
        "colab_type": "code",
        "outputId": "ea7abe78-9f74-4190-ccb6-1a8df1042a4f",
        "colab": {
          "base_uri": "https://localhost:8080/",
          "height": 36
        }
      },
      "source": [
        "# 그래프를 정의한다.(이 그래프는 양방향이다.)\n",
        "\n",
        "graph = [(0, 1, 7), (0, 4, 3), (0, 5, 10), (1, 2, 4), (1, 4, 2), \n",
        "     (1, 5, 6), (1, 3, 10), (2, 3, 2),(3, 5, 9), (3, 6, 4), (4, 6, 5)]\n",
        "nodes = set()\n",
        "for edge in graph:\n",
        "    nodes.add(edge[0])\n",
        "    nodes.add(edge[1])\n",
        "nodes\n"
      ],
      "execution_count": 0,
      "outputs": [
        {
          "output_type": "execute_result",
          "data": {
            "text/plain": [
              "{0, 1, 2, 3, 4, 5, 6}"
            ]
          },
          "metadata": {
            "tags": []
          },
          "execution_count": 27
        }
      ]
    },
    {
      "cell_type": "code",
      "metadata": {
        "id": "lC_wl2IvyoaU",
        "colab_type": "code",
        "outputId": "351a508c-f82c-4204-f964-fbf519fd79d4",
        "colab": {
          "base_uri": "https://localhost:8080/",
          "height": 36
        }
      },
      "source": [
        "# 방문한 노드를 기록하기 위한 집합을 만든다.\n",
        "visits = set()\n",
        "\n",
        "# 출발점에서 모든 노드와 거리는 무한대로 설정하고 각 노드의 부모노드는 \"모름\"으로 초기설정한다.\n",
        "\n",
        "cost = {}\n",
        "\n",
        "for node in nodes:\n",
        "    cost[node] = [float(\"inf\"),None]\n",
        "\n",
        "# 시작과 끝 노드를 정의한다.\n",
        "start = 0\n",
        "end = 3\n",
        "\n",
        "# 시작노드의 거리는 0으로 설정한다.\n",
        "curNode = start\n",
        "cost[curNode][0] = 0    \n",
        "\n",
        "print(cost)"
      ],
      "execution_count": 0,
      "outputs": [
        {
          "output_type": "stream",
          "text": [
            "{0: [0, None], 1: [inf, None], 2: [inf, None], 3: [inf, None], 4: [inf, None], 5: [inf, None], 6: [inf, None]}\n"
          ],
          "name": "stdout"
        }
      ]
    },
    {
      "cell_type": "markdown",
      "metadata": {
        "id": "eEqMHLIYrFqD",
        "colab_type": "text"
      },
      "source": [
        "이제 다익스트라 알고리즘을 시작할 준비가 끝났다.\n",
        "\n",
        "### Step 0:  nodes에서 최소거리 노드를 찾는다. 처음에는 시작점의 거리가 0이고 나머지는 inf 이므로 시작점이 현재 노드가 된다.\n",
        "### Step 1: 현재 노드를 방문한것으로 처리한다.\n",
        "### Step 2: 현재노드의 이웃노드를 구하고 현재노드를 통해 이웃노드로 가는 비용과 이 노드를 거치지 않고 가는 비용을 비교하여 만약, 현재노드를 통해 가는 것이 작으면 비용과 부모노드를 업데이트 한다.\n",
        "### Step 3: 방문하지 않은 노드들 중에 최소비용노드를 찾아 현재노드로 지정하고 Step 1으로 이동한다."
      ]
    },
    {
      "cell_type": "code",
      "metadata": {
        "id": "kKOiq6nvy_bK",
        "colab_type": "code",
        "outputId": "69f8f7b3-b488-4667-d89c-a51b8b2aa5bf",
        "colab": {
          "base_uri": "https://localhost:8080/",
          "height": 36
        }
      },
      "source": [
        "def _neighbor(curNode):\n",
        "    # curNode에 연결된 이웃노드를 리스트로 리턴한다.\n",
        "    neighbor = {}\n",
        "    for edge in graph:\n",
        "        if edge[0] == curNode:\n",
        "            neighbor[edge[1]]= edge[2]\n",
        "        elif edge[1] == curNode:\n",
        "            neighbor[edge[0]] = edge[2]\n",
        "    return neighbor\n",
        "\n",
        "def _getWeight(n1, n2):\n",
        "    # 그래프에서 노드 n1, n2의 가중값을 리턴한다.\n",
        "    for edge in graph:\n",
        "        if edge[0] == n1 and edge[1] == n2:\n",
        "            return edge[2]\n",
        "        elif edge[0] == n2 and edge[1] == n1:\n",
        "            return edge[2]\n",
        "    return None\n",
        "\n",
        "dictfilt = lambda x, y: dict([ (i,x[i]) for i in x if i in set(y) ])\n",
        "\n",
        "while True:        \n",
        "    visits.add(curNode)\n",
        "    nodes.remove(curNode)\n",
        "    neighbors = _neighbor(curNode)\n",
        "    # 모든 이웃에 대해 현재 노드를 통해 이웃노드에 접근하는 cost가 더 작을 경우, cost 값을 갱신하고 부모노드를 변경한다.\n",
        "    for node in neighbors:\n",
        "        if cost[curNode][0] + _getWeight(curNode,node) < cost[node][0]:\n",
        "            cost[node][0] = cost[curNode][0] + _getWeight(curNode, node)\n",
        "            cost[node][1] = curNode\n",
        "            \n",
        "    if len(nodes) > 0:\n",
        "        curNode = min(dictfilt(cost, nodes), key=dictfilt(cost, nodes).get) \n",
        "    else:\n",
        "        break\n",
        "\n",
        "path = [end]\n",
        "\n",
        "while end != start:\n",
        "    path.append(cost[end][1])\n",
        "    end = cost[end][1]\n",
        "\n",
        "print(path[::-1])"
      ],
      "execution_count": 0,
      "outputs": [
        {
          "output_type": "stream",
          "text": [
            "[0, 4, 1, 2, 3]\n"
          ],
          "name": "stdout"
        }
      ]
    },
    {
      "cell_type": "markdown",
      "metadata": {
        "id": "roG_JOn-zRmo",
        "colab_type": "text"
      },
      "source": [
        "<font color='red'>H.W #11 :  다익스트라 알고리즘으로 지하철 최단 경로를 구하시오. <br> \n",
        "(1) 먼저, 위 코드를 클래스로 만들어 재사용 가능하도록 개발하시오. <br>\n",
        "      (class dijkstra 이름으로 개발하고 setEdge(self,a,b,w), getPath(self,start,end) 메소드를 구현하세요) <br>\n",
        "(2) subway.csv 파일에서 원하는 경로에 대한 최소비용 경로를 계산해보세요. <br></font>"
      ]
    },
    {
      "cell_type": "code",
      "metadata": {
        "id": "qOVQaq-jOgWQ",
        "colab_type": "code",
        "colab": {}
      },
      "source": [
        ""
      ],
      "execution_count": 0,
      "outputs": []
    }
  ]
}