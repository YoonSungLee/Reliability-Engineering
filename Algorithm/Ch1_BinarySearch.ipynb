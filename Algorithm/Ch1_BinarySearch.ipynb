{
  "nbformat": 4,
  "nbformat_minor": 0,
  "metadata": {
    "colab": {
      "name": "Ch1 BinarySearch.ipynb",
      "provenance": [],
      "collapsed_sections": []
    },
    "kernelspec": {
      "name": "python3",
      "display_name": "Python 3"
    }
  },
  "cells": [
    {
      "cell_type": "markdown",
      "metadata": {
        "id": "HmaFJwSUOfoH",
        "colab_type": "text"
      },
      "source": [
        "# <font color='blue'><div style=\"text-align: center\">Ch 1. 알고리즘 소개</font> \n",
        "\n",
        "\n",
        "\n",
        "* 컴퓨터 프로그램은 자료와 알고리즘으로 구성되어 있다. \n",
        "* 자료구조는 자료를 효율적으로 저장하고 꺼낼 수 있는 구조에 대한 얘기를 다루고 알고리즘은 자료를 원하는 형태로 가공하기 위해 효율적인 계산법을 공부하는 것임\n",
        "* 알고리즘이란?\n",
        "    * 문제해결 절차\n",
        "    * 입력으로 부터 출력을 만드는 과정\n",
        "    * 효율적인 알고리즘을 공부하면서 이를 통해 최적의 해를 구할 수 있는 생각하는 과정을 습득\n",
        "    * 미래에 닥쳐올 문제해결을 위한 기본기 제공\n",
        "\n",
        "* 효율적인 알고리즘\n",
        "    * 이해하기 쉽다.\n",
        "    * 수행시간이 짧다.\n",
        "    \n",
        "* 좋은 코드짜기\n",
        "    * 간결한 코드: 코드가 짧으면 버그 위험이 작다.\n",
        "    * 적극적으로 코드 재사용을 한다.\n",
        "    * 적극적으로 표준 라이브러리를 사용한다.    \n",
        "    * 데이터와 알고리즘을 분리한다.\n",
        "\n",
        "## 알고리즘 분석\n",
        "* 문제 정의\n",
        "* 컴퓨터가 수행할 내용을 순서대로 정의함\n",
        "  예: 라면 끓이기\n",
        "  * 입력과 출력의 정의\n",
        "  * 입력으로 출력을 구할 수 있는가?\n",
        "  * 입력으로 출력을 구하는 단계를 정의함\n",
        "* 수행시간 및 메모리 사용 분석 \n",
        "\n",
        "## 문제해결전략\n",
        "\n",
        "* 알고 있는 최적 알고리즘을 응용해서 풀 수 있는문제인가?\n",
        "  * 알고리즘 공부를 통해 알고 있는 최적의 알고리즘 혹은 많은 경험을 통해 얻은 본인만의 알고리즘을 조합 혹은 일부 변형해서 푸는 것이다.\n",
        "* 단순 무식하게 풀 수 있는가? 즉, 시간과 공간을 제약하지 않고 풀 수 있는지 검토하는 것이다.\n",
        "  * 컴퓨터는 사람보다 단순 무식한 일을 빠른 속도로 수행한다.\n",
        "* 문제를 수식으로 표현할 수 있는가?\n",
        "  * 예를 들어, 최소제곱법과 같은 수학적 논리를 이용하면 단순 무식하게 하는 것보다 빠르다.\n",
        "* 문제를 단순화 할 수 없는가?\n",
        "  * 예를 들어 Divide and Conquer 방식으로 문제를 단순화하고 이를 조합하는 것이다.\n",
        "\n",
        "## 수행시간 분석\n",
        "* 컴퓨터 마다 성능이 다르므로 특정 컴퓨터에서 수행시간을 측정하는 것이 아님\n",
        "  * 연산회수를 비교하는 방식으로 성능을 분석함\n",
        "  * 입력이 증가가 수행시간에 미치는 영향을 분석함\n",
        "  \n",
        "## 흔히 하는 실수\n",
        "\n",
        "* 좋은 프로그래머가 되기 위해서는 흔히 하는 실수를 범하지 않도록 연습해야 한다.\n",
        "* 실수 Case\n",
        "  * Off by one Error: A[i], A[j] 까지의 평균을 구할 때, 몇 으로 나눠야 하는가? 답은 j - i + 1 이다. j - i 가 아니다.\n",
        "  * 대소문자 구분, 정수 실수 구분 문제\n",
        "  * Stack overflow: 재귀호출에서 재귀호출의 깊이가 너무 큰 경우에 발생한다. 컴파일러 마다 재귀호출의 크기를 지정해줄 수 있다.\n",
        "  * 다차원 배열의 행과 열 바꿔 쓰는 오류\n",
        "  * if 문의 MECE(Mutually Exclusive Collectively Exhaustive) 성질 위반\n",
        "  * 변수 초기화를 안해서 생기는 오류\n",
        "  * self Test 없이 프로그램을 완성해서 생기는 오류\n",
        "  * 변수 범위 오류(예: nCr 계산)\n",
        "  * 오차의 누적\n",
        "\n",
        "* 이번 장에서는 간단한 탐색 알고리즘을 통해 알고리즘의 중요성을 공부할 것임\n",
        "\n"
      ]
    },
    {
      "cell_type": "code",
      "metadata": {
        "id": "nAYl93ScRC1D",
        "colab_type": "code",
        "colab": {
          "base_uri": "https://localhost:8080/",
          "height": 52
        },
        "outputId": "bcdef1b8-04e9-4649-8184-b8fb7f51729f"
      },
      "source": [
        "# 순차탐색: 처음 위치부터 순차적으로 탐색하여 원하는 자료를 찾는다.\n",
        "# 순차 탐색의 문제는 찾는 숫자의 위치에 따라 탐색 속도의 차이가 많이 난다.\n",
        "# 탐색 속도는 O(n) 이다.\n",
        "\n",
        "x = int(input(\"0~100 사이의 정수를 입력하세요: \"))\n",
        "cnt = 0\n",
        "for i in range(101):\n",
        "    cnt += 1 \n",
        "    if i == x:\n",
        "        print(\"%d 를 %d번만에 찾았습니다.\" %(x, cnt))\n",
        "        "
      ],
      "execution_count": null,
      "outputs": [
        {
          "output_type": "stream",
          "text": [
            "0~100 사이의 정수를 입력하세요: 0\n",
            "0 를 1번만에 찾았습니다.\n"
          ],
          "name": "stdout"
        }
      ]
    },
    {
      "cell_type": "markdown",
      "metadata": {
        "id": "XCjpi8H_RyGC",
        "colab_type": "text"
      },
      "source": [
        "#### Binary Search\n",
        "* 자료가 존재할 수 있는 범위 a, b를 지정하고 범위를 반으로 나눈다.\n",
        "* 찾고자 하는 자료가 나눈 두개의 그룹 중에 어디에 있는지 판단하여 하나를 선택하고 나머지는 버린다.\n",
        "* 이렇게  반씩 나누어 찾고자하는 자료가 없는 그룹을 버리는 방법이 이진탐색이다."
      ]
    },
    {
      "cell_type": "code",
      "metadata": {
        "id": "j6wZscEWR3Dj",
        "colab_type": "code",
        "colab": {
          "base_uri": "https://localhost:8080/",
          "height": 122
        },
        "outputId": "91590f33-1207-411a-953f-7e242f46e8ec"
      },
      "source": [
        "x = int(input(\"0~100 사이의 정수를 입력하세요: \"))\n",
        "a = 0\n",
        "b = 100\n",
        "m = (a + b) // 2\n",
        "\n",
        "cnt = 0\n",
        "while True:\n",
        "    cnt += 1\n",
        "    if x > m: \n",
        "        a = m\n",
        "        m = (a + b) // 2\n",
        "    elif x < m:\n",
        "        b = m\n",
        "        m = (a + b) // 2\n",
        "    else:\n",
        "        print(\"%d 를 %d번만에 찾았습니다.\" %(x, cnt))\n",
        "        break\n",
        "    print(a,m,b)    "
      ],
      "execution_count": null,
      "outputs": [
        {
          "output_type": "stream",
          "text": [
            "0~100 사이의 정수를 입력하세요: 28\n",
            "0 25 50\n",
            "25 37 50\n",
            "25 31 37\n",
            "25 28 31\n",
            "28 를 5번만에 찾았습니다.\n"
          ],
          "name": "stdout"
        }
      ]
    },
    {
      "cell_type": "markdown",
      "metadata": {
        "id": "dG71jz6BBSq4",
        "colab_type": "text"
      },
      "source": [
        "n개 데이터가 주어졌을 때, 시행회수는 몇번일까?\n",
        "\n",
        "$ n \\rightarrow \\frac {n}{2} \\rightarrow \\frac {n}{4}\\rightarrow \\cdots $\n",
        "\n",
        "k 번 수행 후에는 $ \\frac {n}{2^k} $ 이 된다.\n",
        "탐색은 $ \\frac {n}{2^k} = 1$ 이 될 때 끝나므로 $ n = 2^k $ 에서 k는 log(n)에 비례하는 값이 된다.\n",
        "\n",
        "$$ k = log(n) \\rightarrow O(log \\ n)$$\n",
        "\n",
        "여기서, 빅오(O) 표기는 n이 증가함에 따라 걸리는 최대시간을 말한다.\n",
        "\n",
        "### 빅오 표기법\n",
        "* 빅오 표기법은  n이 증가함에 따라 필요한 알고리즘 수행 속도를 표기하는 방법이다. \n",
        "* 실제, 컴퓨터의 계산시간은 컴퓨터 성능에 따라 다르므로 여기서는 n의 증가에 따른 상대적 속도를 비교하는 것이다.\n",
        "* 빅오는 최악의 경우를 가정한 시간이다. 그러므로, 최악의 경우가 아닌 평균도 중요할 수 있다.\n",
        "<br>\n",
        "\n",
        "<center><img src='https://drive.google.com/uc?id=1LmGuvq4b2zLwhh2OYAutux969hNyO_Bn' width='400' height='300' /></center>\n",
        "\n",
        "* O(n!) 알고리즘은 n이 증가함에 따라 n!로 증가하는데 이는 엄청난 것이다.\n",
        "   예를 들어, 한 외판원이 다섯 개의 도시를 방문해야 한다고 가정하자.\n",
        "   아래와 같이 모든 가능한 경우의 거리를 계산한 후, 가장 짧은 거리의 경로로 이동하면 된다.\n",
        "   \n",
        "  <center> <center><img src='https://drive.google.com/uc?id=1CT11lUGxONDQ5KYIfbTLvb9cGeGmBjgp' width='300' height='100' /></center> </center>\n",
        "\n",
        "* 5개의 도시를 이동하는 방법은 5! = 120 가지이고 6개는 720가지로 도시 수 하나가 증가해도 엄청나게 비교해야 할 경우의 수가 많아진다.  "
      ]
    },
    {
      "cell_type": "markdown",
      "metadata": {
        "id": "iSrTqxI_VP_2",
        "colab_type": "text"
      },
      "source": [
        " ## <font color='red'> 알고리즘 기초문제 풀기</font>\n",
        " \n"
      ]
    },
    {
      "cell_type": "code",
      "metadata": {
        "id": "7kuwDlgGzV4F",
        "colab_type": "code",
        "colab": {
          "base_uri": "https://localhost:8080/",
          "height": 125
        },
        "outputId": "2896ba49-637b-4a25-8146-eeb60eb4678e"
      },
      "source": [
        "from google.colab import drive\n",
        "drive.mount('/gdrive')"
      ],
      "execution_count": null,
      "outputs": [
        {
          "output_type": "stream",
          "text": [
            "Go to this URL in a browser: https://accounts.google.com/o/oauth2/auth?client_id=947318989803-6bn6qk8qdgf4n4g3pfee6491hc0brc4i.apps.googleusercontent.com&redirect_uri=urn%3aietf%3awg%3aoauth%3a2.0%3aoob&response_type=code&scope=email%20https%3a%2f%2fwww.googleapis.com%2fauth%2fdocs.test%20https%3a%2f%2fwww.googleapis.com%2fauth%2fdrive%20https%3a%2f%2fwww.googleapis.com%2fauth%2fdrive.photos.readonly%20https%3a%2f%2fwww.googleapis.com%2fauth%2fpeopleapi.readonly\n",
            "\n",
            "Enter your authorization code:\n",
            "··········\n",
            "Mounted at /gdrive\n"
          ],
          "name": "stdout"
        }
      ]
    },
    {
      "cell_type": "code",
      "metadata": {
        "id": "PhfHQ45MOpla",
        "colab_type": "code",
        "colab": {
          "base_uri": "https://localhost:8080/",
          "height": 34
        },
        "outputId": "44008d84-25bc-4111-b590-746e6bda699c"
      },
      "source": [
        "# ex2-1: k번재 약수             O(n) 속도로 풀 수 있는 문제\n",
        "\n",
        "f = open(\"/gdrive/My Drive/algorithm/data/ex2_1.txt\", 'r')\n",
        "n, k = map(int, f.readline().split())\n",
        "\n",
        "cnt = 0\n",
        "for i in range(1, n+1):\n",
        "    if n % i == 0:\n",
        "        cnt += 1\n",
        "        if cnt == k:\n",
        "            print(i)\n",
        "if cnt < k:\n",
        "    print(-1)\n"
      ],
      "execution_count": null,
      "outputs": [
        {
          "output_type": "stream",
          "text": [
            "3\n"
          ],
          "name": "stdout"
        }
      ]
    },
    {
      "cell_type": "code",
      "metadata": {
        "id": "I8mlB4VEQYDy",
        "colab_type": "code",
        "colab": {
          "base_uri": "https://localhost:8080/",
          "height": 52
        },
        "outputId": "0da98c4d-ce3d-448b-f474-797291117fa5"
      },
      "source": [
        "# ex2-2: k번째 작은 수\n",
        "\n",
        "f = open(\"/gdrive/My Drive/algorithm/data/ex2_2.txt\", 'r')\n",
        "T = int(f.readline())\n",
        "\n",
        "for i in range(T):\n",
        "    n, s, e, k = map(int, f.readline().split())\n",
        "    a = list(map(int, f.readline().split()))\n",
        "    _a = a[s-1:e]\n",
        "    _a.sort()\n",
        "    print(_a[k-1])\n"
      ],
      "execution_count": null,
      "outputs": [
        {
          "output_type": "stream",
          "text": [
            "7\n",
            "6\n"
          ],
          "name": "stdout"
        }
      ]
    },
    {
      "cell_type": "code",
      "metadata": {
        "id": "WCHCjYYpSNIP",
        "colab_type": "code",
        "colab": {
          "base_uri": "https://localhost:8080/",
          "height": 34
        },
        "outputId": "703fc6df-e9fa-4f5b-f8f9-da4f68ead13e"
      },
      "source": [
        "# ex2-3: O(n**3)\n",
        "f = open(\"/gdrive/My Drive/algorithm/data/ex2_3.txt\", 'r')\n",
        "n, k = map(int, f.readline().split())\n",
        "a = list(map(int, f.readline().split()))\n",
        "\n",
        "res = set()\n",
        "for i in range(n-2):\n",
        "    for j in range(i+1, n-1):\n",
        "        for m in range(j+1, n):\n",
        "                res.add(a[i] + a[j] + a[m])\n",
        "\n",
        "res = list(res)\n",
        "res.sort()\n",
        "print(res[-k])"
      ],
      "execution_count": null,
      "outputs": [
        {
          "output_type": "stream",
          "text": [
            "143\n"
          ],
          "name": "stdout"
        }
      ]
    },
    {
      "cell_type": "code",
      "metadata": {
        "id": "ogBO0ys0WC5-",
        "colab_type": "code",
        "colab": {
          "base_uri": "https://localhost:8080/",
          "height": 34
        },
        "outputId": "72208b18-e50f-4022-9373-adf91e473cbb"
      },
      "source": [
        "# ex2_4:\n",
        "f = open(\"/gdrive/My Drive/algorithm/data/ex2_4.txt\", 'r')\n",
        "n = int(f.readline())\n",
        "a = list(map(int, f.readline().split()))\n",
        "\n",
        "avg = round(sum(a) / n)\n",
        "#print(avg, a)\n",
        "gap = list(map(lambda a: abs(a - avg), a))\n",
        "#print(gap)\n",
        "\n",
        "# idx = []\n",
        "# for i in range(n):\n",
        "#     if gap[i] == min(gap):\n",
        "#         idx.append(i)\n",
        "\n",
        "idx = list(index for index, value in enumerate(gap) if value == min(gap))\n",
        "#print(idx)\n",
        "\n",
        "idx_len = len(idx)\n",
        "if idx_len == 1:\n",
        "    print(idx[0]+1)\n",
        "elif idx_len == 2:\n",
        "    if a[idx[0]] > a[idx[1]]:\n",
        "        print(idx[0]+1)\n",
        "    else:\n",
        "        print(idx[1]+1)\n",
        "elif idx_len > 2:\n",
        "    score_max = a[idx[0]]\n",
        "    for i in range(idx_len):\n",
        "        if a[idx[i]] > score_max:\n",
        "            score_max = a[idx[i]]\n",
        "    idx = list(index for index, value in enumerate(a) if value == score_max) \n",
        "    print(avg, idx[0]+1)"
      ],
      "execution_count": null,
      "outputs": [
        {
          "output_type": "stream",
          "text": [
            "74 9\n"
          ],
          "name": "stdout"
        }
      ]
    },
    {
      "cell_type": "code",
      "metadata": {
        "id": "oz2VffhyH7Xg",
        "colab_type": "code",
        "colab": {
          "base_uri": "https://localhost:8080/",
          "height": 34
        },
        "outputId": "ffaa8ef3-0145-47db-ada3-837f4d6d7478"
      },
      "source": [
        "# ex2-5: \n",
        "f = open(\"/gdrive/My Drive/algorithm/data/ex2_5.txt\", 'r')\n",
        "n, m = map(int, f.readline().split())\n",
        "\n",
        "res = dict()\n",
        "for i in range(1, n+1):\n",
        "    for j in range(1, m+1):\n",
        "        if i+j in res.keys():\n",
        "            res[i+j] += 1\n",
        "        else:\n",
        "            res[i+j] = 1\n",
        "\n",
        "for key, value in res.items():\n",
        "    if value == max(res.values()):\n",
        "        print(key, end = \" \")"
      ],
      "execution_count": null,
      "outputs": [
        {
          "output_type": "stream",
          "text": [
            "5 6 7 "
          ],
          "name": "stdout"
        }
      ]
    },
    {
      "cell_type": "markdown",
      "metadata": {
        "id": "UJLdJwhq7zpY",
        "colab_type": "text"
      },
      "source": [
        "## <font color='red'> H.W #1: 나머지 문제 풀기</font>"
      ]
    },
    {
      "cell_type": "code",
      "metadata": {
        "id": "JJ8eAFd--Biw",
        "colab_type": "code",
        "colab": {}
      },
      "source": [
        ""
      ],
      "execution_count": null,
      "outputs": []
    }
  ]
}