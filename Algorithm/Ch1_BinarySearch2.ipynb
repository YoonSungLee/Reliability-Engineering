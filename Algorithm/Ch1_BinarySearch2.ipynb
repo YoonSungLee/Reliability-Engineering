{
  "nbformat": 4,
  "nbformat_minor": 0,
  "metadata": {
    "colab": {
      "name": "Ch1 BinarySearch2.ipynb",
      "provenance": [],
      "collapsed_sections": []
    },
    "kernelspec": {
      "name": "python3",
      "display_name": "Python 3"
    }
  },
  "cells": [
    {
      "cell_type": "code",
      "metadata": {
        "id": "4dKX9KTxGcre",
        "colab_type": "code",
        "colab": {
          "base_uri": "https://localhost:8080/",
          "height": 125
        },
        "outputId": "280a9fe8-6fd7-487f-969e-39aa60ead263"
      },
      "source": [
        "from google.colab import drive\n",
        "drive.mount('/gdrive')"
      ],
      "execution_count": 1,
      "outputs": [
        {
          "output_type": "stream",
          "text": [
            "Go to this URL in a browser: https://accounts.google.com/o/oauth2/auth?client_id=947318989803-6bn6qk8qdgf4n4g3pfee6491hc0brc4i.apps.googleusercontent.com&redirect_uri=urn%3aietf%3awg%3aoauth%3a2.0%3aoob&response_type=code&scope=email%20https%3a%2f%2fwww.googleapis.com%2fauth%2fdocs.test%20https%3a%2f%2fwww.googleapis.com%2fauth%2fdrive%20https%3a%2f%2fwww.googleapis.com%2fauth%2fdrive.photos.readonly%20https%3a%2f%2fwww.googleapis.com%2fauth%2fpeopleapi.readonly\n",
            "\n",
            "Enter your authorization code:\n",
            "··········\n",
            "Mounted at /gdrive\n"
          ],
          "name": "stdout"
        }
      ]
    },
    {
      "cell_type": "code",
      "metadata": {
        "id": "WrAB4fhf1irT",
        "colab_type": "code",
        "colab": {
          "base_uri": "https://localhost:8080/",
          "height": 34
        },
        "outputId": "71a2921a-8601-43e7-8812-5282e456332c"
      },
      "source": [
        "# ex4-1: \n",
        "f = open(\"/gdrive/My Drive/University Lecture/알고리즘/data/ex4_1.txt\", 'r')\n",
        "n, m = map(int, f.readline().split())\n",
        "a = list(map(int, f.readline().split()))\n",
        "a.sort()\n",
        "a"
      ],
      "execution_count": 3,
      "outputs": [
        {
          "output_type": "execute_result",
          "data": {
            "text/plain": [
              "[12, 23, 32, 57, 65, 81, 87, 99]"
            ]
          },
          "metadata": {
            "tags": []
          },
          "execution_count": 3
        }
      ]
    },
    {
      "cell_type": "code",
      "metadata": {
        "id": "FlHTPtMZGXOl",
        "colab_type": "code",
        "colab": {
          "base_uri": "https://localhost:8080/",
          "height": 34
        },
        "outputId": "19296630-7ed4-47e0-8c3d-38712d5680f4"
      },
      "source": [
        "mini = 0\n",
        "maxi = len(a) - 1\n",
        "mid = (mini + maxi) // 2\n",
        "\n",
        "while m != a[mid]:\n",
        "    if m > a[mid]:\n",
        "        mini = mid\n",
        "    elif m < a[mid]:\n",
        "        maxi = mid\n",
        "    mid = (mini + maxi) // 2\n",
        "    #print(mini, mid, maxi)\n",
        "print(mid+1)"
      ],
      "execution_count": 4,
      "outputs": [
        {
          "output_type": "stream",
          "text": [
            "3\n"
          ],
          "name": "stdout"
        }
      ]
    },
    {
      "cell_type": "code",
      "metadata": {
        "id": "h4qsImB0IgBY",
        "colab_type": "code",
        "colab": {
          "base_uri": "https://localhost:8080/",
          "height": 175
        },
        "outputId": "2b885c51-79a2-41db-fca0-576e8b53f53c"
      },
      "source": [
        "# ex4-2: 랜선 자르기\n",
        "def count(lines, n):\n",
        "    cnt = 0\n",
        "    for line in lines:\n",
        "        cnt += line // n\n",
        "    return cnt\n",
        "\n",
        "f = open(\"/gdrive/My Drive/University Lecture/알고리즘/data/ex4_2.txt\", 'r')\n",
        "k, n = map(int, f.readline().split())\n",
        "lines = []\n",
        "for i in range(k):\n",
        "    lines.append(int(f.readline()))\n",
        "\n",
        "mini = 1\n",
        "maxi = max(lines)\n",
        "mid = (mini + maxi) // 2\n",
        "\n",
        "while True:\n",
        "    if count(lines, mid) > n:\n",
        "        mini = mid\n",
        "    elif count(lines, mid) < n:\n",
        "        maxi = mid\n",
        "    else:\n",
        "        mini = mid + 1\n",
        "        if mini == maxi:\n",
        "            break\n",
        "    mid = (mini + maxi) // 2\n",
        "    print(mini, mid, maxi, count(lines, mid))\n",
        "print(mid)"
      ],
      "execution_count": 5,
      "outputs": [
        {
          "output_type": "stream",
          "text": [
            "1 201 401 10\n",
            "1 101 201 23\n",
            "101 151 201 15\n",
            "151 176 201 13\n",
            "176 188 201 11\n",
            "189 195 201 11\n",
            "196 198 201 11\n",
            "199 200 201 11\n",
            "200\n"
          ],
          "name": "stdout"
        }
      ]
    },
    {
      "cell_type": "code",
      "metadata": {
        "id": "BM-qfJZ2Jbq1",
        "colab_type": "code",
        "colab": {}
      },
      "source": [
        "# ex4-3: 뮤직 비디오\n",
        "f = open(\"/gdrive/My Drive/University Lecture/알고리즘/data/ex4_3.txt\", 'r')\n",
        "n, m = map(int, f.readline().split())\n",
        "a = list(map(int, f.readline().split()))"
      ],
      "execution_count": 6,
      "outputs": []
    },
    {
      "cell_type": "code",
      "metadata": {
        "id": "BUSq0qH7TxTu",
        "colab_type": "code",
        "colab": {
          "base_uri": "https://localhost:8080/",
          "height": 34
        },
        "outputId": "2094d81e-a053-4a83-92fe-af29c3719b05"
      },
      "source": [
        "# 곡리스트 a에 대해 각각 크기 vol인 DVD m 장에 곡을 넣는다.\n",
        "def check(a, m, vol):\n",
        "    dvd = [] # m 장의 DVD 리스트 생성\n",
        "    _a = a[:] \n",
        "    for i in range(m):\n",
        "        _dvd = [] # 각 DVD\n",
        "        summ = 0  # 각 DVD 누적 길이\n",
        "        while len(_a) > 0 and summ + _a[0] <= vol: # 누적 길이가 vol이하면 추가\n",
        "            summ += _a.pop(0)\n",
        "        dvd.append(summ)\n",
        "    return len(_a), dvd, sum(dvd) == sum(a) # 못넣은 곡수, dvd 생성 결과, 다넣었는지 여부\n",
        "\n",
        "mini = 1\n",
        "maxi = sum(a)\n",
        "mid = (mini + maxi) // 2\n",
        "\n",
        "while True:\n",
        "    remain, dvd, successYN = check(a, m, mid)\n",
        "    #print(mini, mid, maxi, dvd,remain, successYN)\n",
        "    if remain > 0:\n",
        "        mini = mid\n",
        "    else:\n",
        "        if maxi - mini <= 2:\n",
        "            break\n",
        "        else:\n",
        "            maxi = mid + 1\n",
        "    mid = (mini + maxi) // 2\n",
        "\n",
        "print(mid)"
      ],
      "execution_count": 7,
      "outputs": [
        {
          "output_type": "stream",
          "text": [
            "17\n"
          ],
          "name": "stdout"
        }
      ]
    },
    {
      "cell_type": "markdown",
      "metadata": {
        "id": "SRE--E7oWqBV",
        "colab_type": "text"
      },
      "source": [
        "## <font color='red'> H.W #2: Section 4 나머지 문제 풀기</font>"
      ]
    },
    {
      "cell_type": "code",
      "metadata": {
        "id": "fUjScQ74i-VH",
        "colab_type": "code",
        "colab": {
          "base_uri": "https://localhost:8080/",
          "height": 34
        },
        "outputId": "0bcb3b56-3938-4b29-a084-2337721d928b"
      },
      "source": [
        "# ex2-8: 뒤집은 소수\n",
        "\n",
        "f = open(\"/gdrive/My Drive/algorithm/data/ex2_8.txt\", 'r')\n",
        "n = int(f.readline())\n",
        "a = list(f.readline().split())\n",
        "n, a"
      ],
      "execution_count": null,
      "outputs": [
        {
          "output_type": "execute_result",
          "data": {
            "text/plain": [
              "(5, ['32', '55', '62', '3700', '250'])"
            ]
          },
          "metadata": {
            "tags": []
          },
          "execution_count": 4
        }
      ]
    },
    {
      "cell_type": "code",
      "metadata": {
        "id": "YaxzFoJtMHGR",
        "colab_type": "code",
        "colab": {
          "base_uri": "https://localhost:8080/",
          "height": 34
        },
        "outputId": "f5616a01-da9f-4027-c4ce-fe06ea5d524e"
      },
      "source": [
        "def reverse(x):\n",
        "    return x[::-1]\n",
        "\n",
        "def isPrime(x):\n",
        "    num = 2\n",
        "    while num < x:\n",
        "        if x % num == 0:\n",
        "            return False\n",
        "        num += 1\n",
        "    return True\n",
        "\n",
        "for _a in a:\n",
        "    reverse_num = int(reverse(_a))\n",
        "    #print(reverse_num)\n",
        "    if isPrime(reverse_num) == True:\n",
        "        print(reverse_num, end = \" \")\n"
      ],
      "execution_count": null,
      "outputs": [
        {
          "output_type": "stream",
          "text": [
            "23 73 "
          ],
          "name": "stdout"
        }
      ]
    },
    {
      "cell_type": "code",
      "metadata": {
        "id": "8Wpz8hNUNwmy",
        "colab_type": "code",
        "colab": {
          "base_uri": "https://localhost:8080/",
          "height": 34
        },
        "outputId": "c3f79ce1-a948-439e-e5f2-839af71db020"
      },
      "source": [
        "# ex2-9: 주사위게임\n",
        "\n",
        "def freq(x):\n",
        "    dice = dict()\n",
        "    for val in x:\n",
        "        if val in dice.keys():\n",
        "            dice[val] += 1\n",
        "        else:\n",
        "            dice[val] = 1\n",
        "    return dice\n",
        "\n",
        "f = open(\"/gdrive/My Drive/algorithm/data/ex2_9.txt\", 'r')\n",
        "n = int(f.readline())\n",
        "\n",
        "res = []\n",
        "for i in range(n):\n",
        "    a = list(map(int,f.readline().split()))\n",
        "    a_dic = freq(a)\n",
        "    if len(a_dic) == 1:\n",
        "        res.append(10000 + list(a_dic.keys())[0] * 1000)\n",
        "    elif len(a_dic) == 2:\n",
        "        _tmp = list(a_dic.keys())\n",
        "        if a_dic[_tmp[0]] > a_dic[_tmp[1]]:\n",
        "            res.append(1000 + _tmp[0] * 100)\n",
        "        else:\n",
        "            res.append(1000 + _tmp[1] * 100)\n",
        "    elif len(a_dic) == 3:\n",
        "        res.append(max(a) * 100)\n",
        "print(max(res))"
      ],
      "execution_count": null,
      "outputs": [
        {
          "output_type": "stream",
          "text": [
            "12000\n"
          ],
          "name": "stdout"
        }
      ]
    },
    {
      "cell_type": "code",
      "metadata": {
        "id": "8D6my6tLQRGR",
        "colab_type": "code",
        "colab": {
          "base_uri": "https://localhost:8080/",
          "height": 34
        },
        "outputId": "c5dd246a-e886-4a61-951f-d3c2ab36c23f"
      },
      "source": [
        "# ex4-4: \n",
        "f = open(\"/gdrive/My Drive/algorithm/data/ex4_4.txt\", 'r')\n",
        "n, c = map(int, f.readline().split())\n",
        "x = []\n",
        "for i in range(n):\n",
        "    x.append(int(f.readline()))\n",
        "x.sort()\n",
        "\n",
        "def sim(x, n, c, mid):\n",
        "    pivot = 0\n",
        "    horse = 1\n",
        "    for i in range(1, n):\n",
        "        if x[i] - x[pivot] >= mid:\n",
        "            horse += 1\n",
        "            pivot = i\n",
        "    return horse == c\n",
        "\n",
        "\n",
        "mini = min(x)\n",
        "maxi = max(x)\n",
        "mid = (mini + maxi) // 2\n",
        "\n",
        "while True:\n",
        "    #print(mini, mid, maxi,sim(x, n, c, mid))\n",
        "    if sim(x, n, c, mid) == False:\n",
        "        maxi = mid\n",
        "    else:\n",
        "        mini = mid\n",
        "        if maxi - mini == 1:\n",
        "            break\n",
        "    mid = (mini + maxi) // 2\n",
        "\n",
        "print(mid)"
      ],
      "execution_count": null,
      "outputs": [
        {
          "output_type": "stream",
          "text": [
            "3\n"
          ],
          "name": "stdout"
        }
      ]
    },
    {
      "cell_type": "code",
      "metadata": {
        "id": "izA4DwtYwVqY",
        "colab_type": "code",
        "colab": {
          "base_uri": "https://localhost:8080/",
          "height": 34
        },
        "outputId": "1bb89a7c-ab90-4073-b3ec-cf41ccc81435"
      },
      "source": [
        "# ex4_10\n",
        "\n",
        "f = open(\"/gdrive/My Drive/algorithm/data/ex4_10.txt\", 'r')\n",
        "n = int(f.readline())\n",
        "a = list(map(int,f.readline().split()))\n",
        "res = [0] * n                         # 결과 리스트를 만든다.\n",
        "\n",
        "for i in range(1, n+1):               # i = 1,2,..., n\n",
        "    cnt = 0\n",
        "    for j in range(n):                # 모든 i에 대해 i 보다 큰 수를 좌측부터 카운트한다.\n",
        "        if res[j] == 0:\n",
        "            if cnt < a[i-1]:\n",
        "                cnt += 1\n",
        "            else:                     # 카운트 결과가 원하는 값이면 그 결과를 프린트 한다.\n",
        "                res[j] = i\n",
        "                break\n",
        "print(res)"
      ],
      "execution_count": null,
      "outputs": [
        {
          "output_type": "stream",
          "text": [
            "[4, 8, 6, 2, 5, 1, 3, 7]\n"
          ],
          "name": "stdout"
        }
      ]
    },
    {
      "cell_type": "code",
      "metadata": {
        "id": "HmXUYGzG2t50",
        "colab_type": "code",
        "colab": {
          "base_uri": "https://localhost:8080/",
          "height": 36
        },
        "outputId": "86634158-2e23-4054-9e2f-38008d6c3ee6"
      },
      "source": [
        "import numpy as np\n",
        "def divide(a, nWhite=0,nBlue=0):\n",
        "    n = a.shape[0]\n",
        "    if np.sum(a) == n**2:\n",
        "        return nWhite, nBlue + 1\n",
        "    if np.sum(a) == 0:\n",
        "        return nWhite+1, nBlue     \n",
        "    nWhite, nBlue = divide(a[:n//2, :n//2], nWhite, nBlue)\n",
        "    nWhite, nBlue = divide(a[:n//2, n//2:], nWhite, nBlue)\n",
        "    nWhite, nBlue = divide(a[n//2:,:n//2], nWhite, nBlue)\n",
        "    nWhite, nBlue = divide(a[n//2:,n//2:], nWhite, nBlue)\n",
        "\n",
        "    return nWhite, nBlue\n",
        "\n",
        "f = open(\"/gdrive/My Drive/algorithm/data/colorPaper.txt\", 'r')\n",
        "n = int(f.readline())\n",
        "a = []\n",
        "for i in range(n):\n",
        "    a.append(list(map(int,f.readline().split())))\n",
        "\n",
        "a = np.array(a)\n",
        "print(divide(a))\n",
        "\n"
      ],
      "execution_count": null,
      "outputs": [
        {
          "output_type": "stream",
          "text": [
            "(9, 7)\n"
          ],
          "name": "stdout"
        }
      ]
    }
  ]
}