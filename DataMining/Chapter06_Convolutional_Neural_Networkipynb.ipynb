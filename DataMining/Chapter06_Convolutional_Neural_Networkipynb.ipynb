{
  "nbformat": 4,
  "nbformat_minor": 0,
  "metadata": {
    "colab": {
      "name": "Chapter06_Convolutional Neural Networkipynb",
      "provenance": [],
      "collapsed_sections": [],
      "authorship_tag": "ABX9TyMsHBXIJynVoJO1bnUfvGkI"
    },
    "kernelspec": {
      "name": "python3",
      "display_name": "Python 3"
    },
    "accelerator": "GPU"
  },
  "cells": [
    {
      "cell_type": "markdown",
      "metadata": {
        "id": "taPo7xgmnSRJ",
        "colab_type": "text"
      },
      "source": [
        "# Feature Extraction"
      ]
    },
    {
      "cell_type": "markdown",
      "metadata": {
        "id": "HYARW7I1u-mX",
        "colab_type": "text"
      },
      "source": [
        "딥러닝이 나오기 전에는 이미지를 서로 구분할 수 있는 핵심적 특징을 수치로 표현하고 이 수치를 분포 차이를 이용하여 이미지를 인식하는 방법을 사용했다. 이 방법은 훌륭하지만, Feature를 만들어 내는 것이 고통스러운 작업이다."
      ]
    },
    {
      "cell_type": "markdown",
      "metadata": {
        "id": "yICHXTeIuzAp",
        "colab_type": "text"
      },
      "source": [
        "<img src=\"https://i.imgur.com/Yzq3JFD.jpg\" width=\"100%\">"
      ]
    },
    {
      "cell_type": "code",
      "metadata": {
        "id": "4CD3XEj-vIPq",
        "colab_type": "code",
        "colab": {
          "base_uri": "https://localhost:8080/",
          "height": 288
        },
        "outputId": "0f0b0596-8467-4293-e97e-c449f05570b8"
      },
      "source": [
        "# cnnToyImage.ipynb\n",
        "\n",
        "import tensorflow as tf\n",
        "import numpy as np\n",
        "import matplotlib.pyplot as plt\n",
        "image=np.array([[[[1],[2],[3]],\n",
        "                 [[4],[5],[6]],\n",
        "                 [[7],[8],[9]]]], dtype=np.float32)\n",
        "\n",
        "print (image.shape)\n",
        "plt.grid(False)\n",
        "plt.imshow(image.reshape(3,3), cmap='Greys')\n",
        "plt.show()"
      ],
      "execution_count": 1,
      "outputs": [
        {
          "output_type": "stream",
          "text": [
            "(1, 3, 3, 1)\n"
          ],
          "name": "stdout"
        },
        {
          "output_type": "display_data",
          "data": {
            "image/png": "[encoded data removed]",
            "text/plain": [
              "<Figure size 432x288 with 1 Axes>"
            ]
          },
          "metadata": {
            "tags": [],
            "needs_background": "light"
          }
        }
      ]
    },
    {
      "cell_type": "code",
      "metadata": {
        "id": "dhaqHTFo2j7K",
        "colab_type": "code",
        "colab": {
          "base_uri": "https://localhost:8080/",
          "height": 148
        },
        "outputId": "c409060b-5c21-41a3-9399-240e61a4ebd6"
      },
      "source": [
        "weight=tf.constant([[[[1.]],[[1.]]],\n",
        "                    [[[1.]],[[1.]]]])\n",
        "print (\"weight.shape\", weight.shape)\n",
        "conv2d=tf.nn.conv2d(image, weight, strides=[1,1,1,1], padding='VALID')\n",
        "conv2d_img=conv2d.numpy()\n",
        "print (\"conv2d_img.shape\",conv2d_img.shape )\n",
        "print(conv2d_img)"
      ],
      "execution_count": 6,
      "outputs": [
        {
          "output_type": "stream",
          "text": [
            "weight.shape (2, 2, 1, 1)\n",
            "conv2d_img.shape (1, 2, 2, 1)\n",
            "[[[[12.]\n",
            "   [16.]]\n",
            "\n",
            "  [[24.]\n",
            "   [28.]]]]\n"
          ],
          "name": "stdout"
        }
      ]
    },
    {
      "cell_type": "code",
      "metadata": {
        "id": "CIIbp4P82j_W",
        "colab_type": "code",
        "colab": {
          "base_uri": "https://localhost:8080/",
          "height": 241
        },
        "outputId": "9727d45c-4a96-4b7e-b5db-d78600bedf25"
      },
      "source": [
        "conv2d = tf.nn.conv2d(image, weight, strides=[1,1,1,1], padding='SAME')\n",
        "conv2d = tf.nn.relu(conv2d)\n",
        "conv2d_img=conv2d.numpy()\n",
        "print (\"conv2d_img.shape\",conv2d_img.shape)\n",
        "print(conv2d_img)"
      ],
      "execution_count": 7,
      "outputs": [
        {
          "output_type": "stream",
          "text": [
            "conv2d_img.shape (1, 3, 3, 1)\n",
            "[[[[12.]\n",
            "   [16.]\n",
            "   [ 9.]]\n",
            "\n",
            "  [[24.]\n",
            "   [28.]\n",
            "   [15.]]\n",
            "\n",
            "  [[15.]\n",
            "   [17.]\n",
            "   [ 9.]]]]\n"
          ],
          "name": "stdout"
        }
      ]
    },
    {
      "cell_type": "code",
      "metadata": {
        "id": "C5rXs4yG2jyx",
        "colab_type": "code",
        "colab": {
          "base_uri": "https://localhost:8080/",
          "height": 167
        },
        "outputId": "5a1cb1dd-d53a-44f7-80e1-e227be10fd74"
      },
      "source": [
        "image=np.array([[[[1,1,1],[2,2,2],[3,3,3]],\n",
        "                 [[4,4,4],[5,5,5],[6,6,6]],\n",
        "                 [[7,7,7],[8,8,8],[9,9,9]]]], dtype=np.float32)\n",
        "print (image.shape)\n",
        "weight=tf.constant([[[[1.],[1.],[1.]],[[1.],[1.],[1.]]],\n",
        "                    [[[1.],[1.],[1.]],[[1.],[1.],[1.]]]])\n",
        "print (\"weight.shape\", weight.shape)\n",
        "\n",
        "conv2d=tf.nn.conv2d(image, weight, strides=[1,1,1,1], padding='VALID')\n",
        "conv2d_img=conv2d.numpy()\n",
        "print (\"conv2d_img.shape\", conv2d_img.shape)\n",
        "print(conv2d_img)"
      ],
      "execution_count": 8,
      "outputs": [
        {
          "output_type": "stream",
          "text": [
            "(1, 3, 3, 3)\n",
            "weight.shape (2, 2, 3, 1)\n",
            "conv2d_img.shape (1, 2, 2, 1)\n",
            "[[[[36.]\n",
            "   [48.]]\n",
            "\n",
            "  [[72.]\n",
            "   [84.]]]]\n"
          ],
          "name": "stdout"
        }
      ]
    },
    {
      "cell_type": "code",
      "metadata": {
        "id": "Qvlqde4A2jpE",
        "colab_type": "code",
        "colab": {
          "base_uri": "https://localhost:8080/",
          "height": 260
        },
        "outputId": "abdce237-d2b3-4cb7-c533-54f9e16e9e46"
      },
      "source": [
        "image=np.array([[[[1],[2],[3]],\n",
        "                 [[4],[5],[6]],\n",
        "                 [[7],[8],[9]]]], dtype=np.float32)\n",
        "\n",
        "weight=tf.constant([[[[1.,10., -1.]],[[1.,10., -1.]]],\n",
        "                    [[[1.,10., -1.]],[[1.,10., -1.]]]])\n",
        "print (\"weight.shape\", weight.shape)\n",
        "conv2d=tf.nn.conv2d(image, weight, strides=[1,1,1,1], padding='SAME')\n",
        "conv2d_img=conv2d.numpy()\n",
        "print (\"conv2d_img.shape\",conv2d_img.shape)\n",
        "print(conv2d_img)"
      ],
      "execution_count": 9,
      "outputs": [
        {
          "output_type": "stream",
          "text": [
            "weight.shape (2, 2, 1, 3)\n",
            "conv2d_img.shape (1, 3, 3, 3)\n",
            "[[[[ 12. 120. -12.]\n",
            "   [ 16. 160. -16.]\n",
            "   [  9.  90.  -9.]]\n",
            "\n",
            "  [[ 24. 240. -24.]\n",
            "   [ 28. 280. -28.]\n",
            "   [ 15. 150. -15.]]\n",
            "\n",
            "  [[ 15. 150. -15.]\n",
            "   [ 17. 170. -17.]\n",
            "   [  9.  90.  -9.]]]]\n"
          ],
          "name": "stdout"
        }
      ]
    },
    {
      "cell_type": "code",
      "metadata": {
        "id": "potnlgaM2jhR",
        "colab_type": "code",
        "colab": {
          "base_uri": "https://localhost:8080/",
          "height": 572
        },
        "outputId": "60c662cf-2129-4e5a-9452-f8c48d9f0e80"
      },
      "source": [
        "# plotting Code\n",
        "conv2d_img=np.swapaxes(conv2d_img, 0,3)\n",
        "for i, one_img in enumerate(conv2d_img):\n",
        "    print (one_img.reshape(3,3))\n",
        "    plt.subplot(1,3,i+1), plt.grid(False), plt.imshow(one_img.reshape(3,3), cmap='gray')\n",
        "    plt.show()"
      ],
      "execution_count": 10,
      "outputs": [
        {
          "output_type": "stream",
          "text": [
            "[[12. 16.  9.]\n",
            " [24. 28. 15.]\n",
            " [15. 17.  9.]]\n"
          ],
          "name": "stdout"
        },
        {
          "output_type": "display_data",
          "data": {
            "image/png": "[encoded data removed]",
            "text/plain": [
              "<Figure size 432x288 with 1 Axes>"
            ]
          },
          "metadata": {
            "tags": [],
            "needs_background": "light"
          }
        },
        {
          "output_type": "stream",
          "text": [
            "[[120. 160.  90.]\n",
            " [240. 280. 150.]\n",
            " [150. 170.  90.]]\n"
          ],
          "name": "stdout"
        },
        {
          "output_type": "display_data",
          "data": {
            "image/png": "[encoded data removed]",
            "text/plain": [
              "<Figure size 432x288 with 1 Axes>"
            ]
          },
          "metadata": {
            "tags": [],
            "needs_background": "light"
          }
        },
        {
          "output_type": "stream",
          "text": [
            "[[-12. -16.  -9.]\n",
            " [-24. -28. -15.]\n",
            " [-15. -17.  -9.]]\n"
          ],
          "name": "stdout"
        },
        {
          "output_type": "display_data",
          "data": {
            "image/png": "[encoded data removed]",
            "text/plain": [
              "<Figure size 432x288 with 1 Axes>"
            ]
          },
          "metadata": {
            "tags": [],
            "needs_background": "light"
          }
        }
      ]
    },
    {
      "cell_type": "code",
      "metadata": {
        "id": "3op1k4Aq2jX1",
        "colab_type": "code",
        "colab": {
          "base_uri": "https://localhost:8080/",
          "height": 303
        },
        "outputId": "fabf4a8a-772b-4482-c2d3-8bc7e5abf490"
      },
      "source": [
        "# Mnist_convLayer.ipynb\n",
        "\n",
        "import tensorflow as tf\n",
        "import numpy as np\n",
        "import matplotlib.pyplot as plt\n",
        "from tensorflow.keras import datasets\n",
        "from tensorflow.keras.utils import to_categorical\n",
        "mnist = datasets.mnist\n",
        "(train_x, train_y), (test_x, test_y) = mnist.load_data()\n",
        "\n",
        "img=train_x[0]\n",
        "plt.imshow(img, cmap='gray')\n",
        "plt.show()"
      ],
      "execution_count": 11,
      "outputs": [
        {
          "output_type": "stream",
          "text": [
            "Downloading data from https://storage.googleapis.com/tensorflow/tf-keras-datasets/mnist.npz\n",
            "11493376/11490434 [==============================] - 0s 0us/step\n"
          ],
          "name": "stdout"
        },
        {
          "output_type": "display_data",
          "data": {
            "image/png": "[encoded data removed]",
            "text/plain": [
              "<Figure size 432x288 with 1 Axes>"
            ]
          },
          "metadata": {
            "tags": [],
            "needs_background": "light"
          }
        }
      ]
    },
    {
      "cell_type": "code",
      "metadata": {
        "id": "v7Rf0Ccw2jOq",
        "colab_type": "code",
        "colab": {
          "base_uri": "https://localhost:8080/",
          "height": 559
        },
        "outputId": "f8f9e4dc-78ec-4fe3-c70f-f9db7adc7e7b"
      },
      "source": [
        "img=img.reshape(-1,28,28,1)\n",
        "W1=tf.random.normal([3,3,1,5], stddev=0.01)\n",
        "W1"
      ],
      "execution_count": 12,
      "outputs": [
        {
          "output_type": "execute_result",
          "data": {
            "text/plain": [
              "<tf.Tensor: shape=(3, 3, 1, 5), dtype=float32, numpy=\n",
              "array([[[[ 0.0184574 , -0.01170227,  0.00828892, -0.01142316,\n",
              "           0.00205196]],\n",
              "\n",
              "        [[-0.0060019 , -0.00150527,  0.00422387,  0.00921819,\n",
              "           0.0038018 ]],\n",
              "\n",
              "        [[-0.04055589, -0.00293045,  0.0019571 ,  0.0254155 ,\n",
              "           0.00314312]]],\n",
              "\n",
              "\n",
              "       [[[-0.01401243, -0.00277041,  0.01457643, -0.00421239,\n",
              "          -0.01014566]],\n",
              "\n",
              "        [[ 0.02243598,  0.0225643 , -0.00235105,  0.00738867,\n",
              "          -0.00871697]],\n",
              "\n",
              "        [[ 0.00612691, -0.00629935,  0.00136519,  0.01544933,\n",
              "          -0.00366551]]],\n",
              "\n",
              "\n",
              "       [[[ 0.00063295, -0.00122113,  0.00763885, -0.00881646,\n",
              "           0.00395189]],\n",
              "\n",
              "        [[ 0.00226791,  0.00230267, -0.01173156, -0.01526328,\n",
              "          -0.00885781]],\n",
              "\n",
              "        [[-0.00649816, -0.00420148,  0.00868593, -0.00731919,\n",
              "          -0.01122164]]]], dtype=float32)>"
            ]
          },
          "metadata": {
            "tags": []
          },
          "execution_count": 12
        }
      ]
    },
    {
      "cell_type": "code",
      "metadata": {
        "id": "dYK3q0Vl2jFM",
        "colab_type": "code",
        "colab": {
          "base_uri": "https://localhost:8080/",
          "height": 491
        },
        "outputId": "da68d499-f9d4-47b7-a123-ff5d989f9093"
      },
      "source": [
        "conv2d=tf.nn.conv2d(img, W1, strides=[1,2,2,1], padding='SAME')\n",
        "conv2d_img=conv2d.numpy()\n",
        "print('conv2d_img',conv2d_img.shape)\n",
        "conv2d_img=np.swapaxes(conv2d_img,0,3)\n",
        "for i, one_img in enumerate(conv2d_img):\n",
        "    plt.subplot(1,5,i+1), plt.imshow(one_img.reshape(14,14), cmap='gray'), plt.show()"
      ],
      "execution_count": 13,
      "outputs": [
        {
          "output_type": "stream",
          "text": [
            "conv2d_img (1, 14, 14, 5)\n"
          ],
          "name": "stdout"
        },
        {
          "output_type": "display_data",
          "data": {
            "image/png": "[encoded data removed]",
            "text/plain": [
              "<Figure size 432x288 with 1 Axes>"
            ]
          },
          "metadata": {
            "tags": [],
            "needs_background": "light"
          }
        },
        {
          "output_type": "display_data",
          "data": {
            "image/png": "[encoded data removed]",
            "text/plain": [
              "<Figure size 432x288 with 1 Axes>"
            ]
          },
          "metadata": {
            "tags": [],
            "needs_background": "light"
          }
        },
        {
          "output_type": "display_data",
          "data": {
            "image/png": "[encoded data removed]",
            "text/plain": [
              "<Figure size 432x288 with 1 Axes>"
            ]
          },
          "metadata": {
            "tags": [],
            "needs_background": "light"
          }
        },
        {
          "output_type": "display_data",
          "data": {
            "image/png": "[encoded data removed]",
            "text/plain": [
              "<Figure size 432x288 with 1 Axes>"
            ]
          },
          "metadata": {
            "tags": [],
            "needs_background": "light"
          }
        },
        {
          "output_type": "display_data",
          "data": {
            "image/png": "[encoded data removed]",
            "text/plain": [
              "<Figure size 432x288 with 1 Axes>"
            ]
          },
          "metadata": {
            "tags": [],
            "needs_background": "light"
          }
        }
      ]
    },
    {
      "cell_type": "code",
      "metadata": {
        "id": "06q8CKU82i6n",
        "colab_type": "code",
        "colab": {
          "base_uri": "https://localhost:8080/",
          "height": 481
        },
        "outputId": "0dc8849f-981c-4558-d8fc-c901e4e77b4c"
      },
      "source": [
        "pool=tf.nn.max_pool(conv2d, ksize=[1,2,2,1], strides=[1,2,2,1], padding='SAME')\n",
        "pool_img=pool.numpy()\n",
        "print('pool_img',pool_img.shape)\n",
        "pool_img=np.swapaxes(pool_img,0,3)\n",
        "for i, one_img in enumerate(pool_img):\n",
        "    plt.subplot(1,5,i+1), plt.imshow(one_img.reshape(7,7), cmap='gray'), plt.show()"
      ],
      "execution_count": 17,
      "outputs": [
        {
          "output_type": "stream",
          "text": [
            "pool_img (1, 7, 7, 5)\n"
          ],
          "name": "stdout"
        },
        {
          "output_type": "display_data",
          "data": {
            "image/png": "[encoded data removed]",
            "text/plain": [
              "<Figure size 432x288 with 1 Axes>"
            ]
          },
          "metadata": {
            "tags": [],
            "needs_background": "light"
          }
        },
        {
          "output_type": "display_data",
          "data": {
            "image/png": "[encoded data removed]",
            "text/plain": [
              "<Figure size 432x288 with 1 Axes>"
            ]
          },
          "metadata": {
            "tags": [],
            "needs_background": "light"
          }
        },
        {
          "output_type": "display_data",
          "data": {
            "image/png": "[encoded data removed]",
            "text/plain": [
              "<Figure size 432x288 with 1 Axes>"
            ]
          },
          "metadata": {
            "tags": [],
            "needs_background": "light"
          }
        },
        {
          "output_type": "display_data",
          "data": {
            "image/png": "[encoded data removed]",
            "text/plain": [
              "<Figure size 432x288 with 1 Axes>"
            ]
          },
          "metadata": {
            "tags": [],
            "needs_background": "light"
          }
        },
        {
          "output_type": "display_data",
          "data": {
            "image/png": "[encoded data removed]",
            "text/plain": [
              "<Figure size 432x288 with 1 Axes>"
            ]
          },
          "metadata": {
            "tags": [],
            "needs_background": "light"
          }
        }
      ]
    },
    {
      "cell_type": "code",
      "metadata": {
        "id": "wKk2Z-eK2itD",
        "colab_type": "code",
        "colab": {}
      },
      "source": [
        "# Mnist_CNN_TF2.ipynb\n",
        "\n",
        "import tensorflow as tf\n",
        "from tensorflow.keras import layers, models\n",
        "from tensorflow.keras import datasets \n",
        "from tensorflow.keras.utils import to_categorical"
      ],
      "execution_count": 0,
      "outputs": []
    },
    {
      "cell_type": "code",
      "metadata": {
        "id": "mdkHZ2Ts7HId",
        "colab_type": "code",
        "colab": {
          "base_uri": "https://localhost:8080/",
          "height": 36
        },
        "outputId": "854d79df-f4e8-45a0-affb-4e850fc4b6cd"
      },
      "source": [
        "(train_images, train_labels), (test_images, test_labels) = datasets.mnist.load_data()\n",
        "\n",
        "train_images = train_images.reshape((60000, 28, 28, 1))\n",
        "test_images = test_images.reshape((10000, 28, 28, 1))\n",
        "\n",
        "# 픽셀 값을 0~1 사이로 정규화합니다.\n",
        "train_images, test_images = train_images / 255.0, test_images / 255.0\n",
        "train_y_onehot = to_categorical(train_labels)\n",
        "test_y_onehot = to_categorical(test_labels)\n",
        "train_y_onehot[0]"
      ],
      "execution_count": 19,
      "outputs": [
        {
          "output_type": "execute_result",
          "data": {
            "text/plain": [
              "array([0., 0., 0., 0., 0., 1., 0., 0., 0., 0.], dtype=float32)"
            ]
          },
          "metadata": {
            "tags": []
          },
          "execution_count": 19
        }
      ]
    },
    {
      "cell_type": "code",
      "metadata": {
        "id": "7xS_YhYY7HXR",
        "colab_type": "code",
        "colab": {
          "base_uri": "https://localhost:8080/",
          "height": 391
        },
        "outputId": "e8d28f1f-f010-4051-b5c6-fc4276af64cd"
      },
      "source": [
        "model = models.Sequential()\n",
        "# (B, 28, 28, 1)\n",
        "model.add(layers.Conv2D(32, (3, 3), activation='relu',input_shape=(28, 28, 1)))    # w: 1*3*3*32+32=320\n",
        "# (B, 26, 26, 32)\n",
        "model.add(layers.MaxPooling2D((2, 2)))\n",
        "# (B, 13, 13, 32)\n",
        "model.add(layers.Conv2D(64, (3, 3), activation='relu')) # w: 32*3*3*64+64=18496\n",
        "# (B, 11, 11, 64)\n",
        "model.add(layers.MaxPooling2D((2, 2)))\n",
        "# (B, 5, 5, 64)\n",
        "model.add(layers.Flatten())\n",
        "# (B, 1600)\n",
        "model.add(layers.Dense(10, activation='softmax'))       # w: 1600*10+10=16010\n",
        "# (B, 10)\n",
        "model.summary()"
      ],
      "execution_count": 20,
      "outputs": [
        {
          "output_type": "stream",
          "text": [
            "Model: \"sequential\"\n",
            "_________________________________________________________________\n",
            "Layer (type)                 Output Shape              Param #   \n",
            "=================================================================\n",
            "conv2d (Conv2D)              (None, 26, 26, 32)        320       \n",
            "_________________________________________________________________\n",
            "max_pooling2d (MaxPooling2D) (None, 13, 13, 32)        0         \n",
            "_________________________________________________________________\n",
            "conv2d_1 (Conv2D)            (None, 11, 11, 64)        18496     \n",
            "_________________________________________________________________\n",
            "max_pooling2d_1 (MaxPooling2 (None, 5, 5, 64)          0         \n",
            "_________________________________________________________________\n",
            "flatten (Flatten)            (None, 1600)              0         \n",
            "_________________________________________________________________\n",
            "dense (Dense)                (None, 10)                16010     \n",
            "=================================================================\n",
            "Total params: 34,826\n",
            "Trainable params: 34,826\n",
            "Non-trainable params: 0\n",
            "_________________________________________________________________\n"
          ],
          "name": "stdout"
        }
      ]
    },
    {
      "cell_type": "code",
      "metadata": {
        "id": "5imig27i7HS9",
        "colab_type": "code",
        "colab": {
          "base_uri": "https://localhost:8080/",
          "height": 223
        },
        "outputId": "ad3ba1ae-4296-4eba-db75-10c6a59335a4"
      },
      "source": [
        "model.compile(optimizer='adam',\n",
        "              loss='categorical_crossentropy',\n",
        "              metrics=['accuracy'])\n",
        "\n",
        "model.fit(train_images, train_y_onehot, epochs=5)"
      ],
      "execution_count": 21,
      "outputs": [
        {
          "output_type": "stream",
          "text": [
            "Epoch 1/5\n",
            "1875/1875 [==============================] - 6s 3ms/step - loss: 0.1591 - accuracy: 0.9524\n",
            "Epoch 2/5\n",
            "1875/1875 [==============================] - 6s 3ms/step - loss: 0.0534 - accuracy: 0.9838\n",
            "Epoch 3/5\n",
            "1875/1875 [==============================] - 6s 3ms/step - loss: 0.0393 - accuracy: 0.9882\n",
            "Epoch 4/5\n",
            "1875/1875 [==============================] - 6s 3ms/step - loss: 0.0310 - accuracy: 0.9904\n",
            "Epoch 5/5\n",
            "1875/1875 [==============================] - 6s 3ms/step - loss: 0.0232 - accuracy: 0.9925\n"
          ],
          "name": "stdout"
        },
        {
          "output_type": "execute_result",
          "data": {
            "text/plain": [
              "<tensorflow.python.keras.callbacks.History at 0x7fc2feaca4a8>"
            ]
          },
          "metadata": {
            "tags": []
          },
          "execution_count": 21
        }
      ]
    },
    {
      "cell_type": "code",
      "metadata": {
        "id": "uUdT6GQj7HO-",
        "colab_type": "code",
        "colab": {
          "base_uri": "https://localhost:8080/",
          "height": 36
        },
        "outputId": "f6918b54-fcae-4a63-df2e-f8b70694c95d"
      },
      "source": [
        "test_loss, test_acc = model.evaluate(test_images,  test_y_onehot, verbose=2)"
      ],
      "execution_count": 22,
      "outputs": [
        {
          "output_type": "stream",
          "text": [
            "313/313 - 1s - loss: 0.0273 - accuracy: 0.9917\n"
          ],
          "name": "stdout"
        }
      ]
    },
    {
      "cell_type": "code",
      "metadata": {
        "id": "ePYDsr497HDE",
        "colab_type": "code",
        "colab": {
          "base_uri": "https://localhost:8080/",
          "height": 36
        },
        "outputId": "7adffbc6-9a83-46cf-c6d4-12e25a9eb46a"
      },
      "source": [
        "print(test_acc)"
      ],
      "execution_count": 23,
      "outputs": [
        {
          "output_type": "stream",
          "text": [
            "0.9916999936103821\n"
          ],
          "name": "stdout"
        }
      ]
    },
    {
      "cell_type": "markdown",
      "metadata": {
        "id": "Xx8jtBforDZP",
        "colab_type": "text"
      },
      "source": [
        "# Question"
      ]
    },
    {
      "cell_type": "markdown",
      "metadata": {
        "id": "cJFHNwdQrEog",
        "colab_type": "text"
      },
      "source": [
        "1. CNN에서 C는 무엇인가?\n",
        " * convolutional\n",
        "\n",
        "2. Mnist CNN의 정확도는?\n",
        " * 99%"
      ]
    }
  ]
}