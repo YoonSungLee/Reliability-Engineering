{
  "nbformat": 4,
  "nbformat_minor": 0,
  "metadata": {
    "colab": {
      "name": "Chapter06_Convolutional Neural Networkipynb",
      "provenance": [],
      "collapsed_sections": [],
      "machine_shape": "hm",
      "authorship_tag": "ABX9TyO1nh5/o9p7FCq4qbbpJGTZ"
    },
    "kernelspec": {
      "name": "python3",
      "display_name": "Python 3"
    },
    "accelerator": "GPU"
  },
  "cells": [
    {
      "cell_type": "markdown",
      "metadata": {
        "id": "taPo7xgmnSRJ",
        "colab_type": "text"
      },
      "source": [
        "# Feature Extraction"
      ]
    },
    {
      "cell_type": "markdown",
      "metadata": {
        "id": "HYARW7I1u-mX",
        "colab_type": "text"
      },
      "source": [
        "딥러닝이 나오기 전에는 이미지를 서로 구분할 수 있는 핵심적 특징을 수치로 표현하고 이 수치를 분포 차이를 이용하여 이미지를 인식하는 방법을 사용했다. 이 방법은 훌륭하지만, Feature를 만들어 내는 것이 고통스러운 작업이다."
      ]
    },
    {
      "cell_type": "markdown",
      "metadata": {
        "id": "yICHXTeIuzAp",
        "colab_type": "text"
      },
      "source": [
        "<img src=\"https://i.imgur.com/Yzq3JFD.jpg\" width=\"100%\">"
      ]
    },
    {
      "cell_type": "code",
      "metadata": {
        "id": "4CD3XEj-vIPq",
        "colab_type": "code",
        "outputId": "0f0b0596-8467-4293-e97e-c449f05570b8",
        "colab": {
          "base_uri": "https://localhost:8080/",
          "height": 288
        }
      },
      "source": [
        "# cnnToyImage.ipynb\n",
        "\n",
        "import tensorflow as tf\n",
        "import numpy as np\n",
        "import matplotlib.pyplot as plt\n",
        "image=np.array([[[[1],[2],[3]],\n",
        "                 [[4],[5],[6]],\n",
        "                 [[7],[8],[9]]]], dtype=np.float32)\n",
        "\n",
        "print (image.shape)\n",
        "plt.grid(False)\n",
        "plt.imshow(image.reshape(3,3), cmap='Greys')\n",
        "plt.show()"
      ],
      "execution_count": 0,
      "outputs": [
        {
          "output_type": "stream",
          "text": [
            "(1, 3, 3, 1)\n"
          ],
          "name": "stdout"
        },
        {
          "output_type": "display_data",
          "data": {
            "image/png": "[encoded data removed]",
            "text/plain": [
              "<Figure size 432x288 with 1 Axes>"
            ]
          },
          "metadata": {
            "tags": [],
            "needs_background": "light"
          }
        }
      ]
    },
    {
      "cell_type": "code",
      "metadata": {
        "id": "dhaqHTFo2j7K",
        "colab_type": "code",
        "outputId": "c409060b-5c21-41a3-9399-240e61a4ebd6",
        "colab": {
          "base_uri": "https://localhost:8080/",
          "height": 148
        }
      },
      "source": [
        "weight=tf.constant([[[[1.]],[[1.]]],\n",
        "                    [[[1.]],[[1.]]]])\n",
        "print (\"weight.shape\", weight.shape)\n",
        "conv2d=tf.nn.conv2d(image, weight, strides=[1,1,1,1], padding='VALID')\n",
        "conv2d_img=conv2d.numpy()\n",
        "print (\"conv2d_img.shape\",conv2d_img.shape )\n",
        "print(conv2d_img)"
      ],
      "execution_count": 0,
      "outputs": [
        {
          "output_type": "stream",
          "text": [
            "weight.shape (2, 2, 1, 1)\n",
            "conv2d_img.shape (1, 2, 2, 1)\n",
            "[[[[12.]\n",
            "   [16.]]\n",
            "\n",
            "  [[24.]\n",
            "   [28.]]]]\n"
          ],
          "name": "stdout"
        }
      ]
    },
    {
      "cell_type": "code",
      "metadata": {
        "id": "CIIbp4P82j_W",
        "colab_type": "code",
        "outputId": "9727d45c-4a96-4b7e-b5db-d78600bedf25",
        "colab": {
          "base_uri": "https://localhost:8080/",
          "height": 241
        }
      },
      "source": [
        "conv2d = tf.nn.conv2d(image, weight, strides=[1,1,1,1], padding='SAME')\n",
        "conv2d = tf.nn.relu(conv2d)\n",
        "conv2d_img=conv2d.numpy()\n",
        "print (\"conv2d_img.shape\",conv2d_img.shape)\n",
        "print(conv2d_img)"
      ],
      "execution_count": 0,
      "outputs": [
        {
          "output_type": "stream",
          "text": [
            "conv2d_img.shape (1, 3, 3, 1)\n",
            "[[[[12.]\n",
            "   [16.]\n",
            "   [ 9.]]\n",
            "\n",
            "  [[24.]\n",
            "   [28.]\n",
            "   [15.]]\n",
            "\n",
            "  [[15.]\n",
            "   [17.]\n",
            "   [ 9.]]]]\n"
          ],
          "name": "stdout"
        }
      ]
    },
    {
      "cell_type": "code",
      "metadata": {
        "id": "C5rXs4yG2jyx",
        "colab_type": "code",
        "outputId": "5a1cb1dd-d53a-44f7-80e1-e227be10fd74",
        "colab": {
          "base_uri": "https://localhost:8080/",
          "height": 167
        }
      },
      "source": [
        "image=np.array([[[[1,1,1],[2,2,2],[3,3,3]],\n",
        "                 [[4,4,4],[5,5,5],[6,6,6]],\n",
        "                 [[7,7,7],[8,8,8],[9,9,9]]]], dtype=np.float32)\n",
        "print (image.shape)\n",
        "weight=tf.constant([[[[1.],[1.],[1.]],[[1.],[1.],[1.]]],\n",
        "                    [[[1.],[1.],[1.]],[[1.],[1.],[1.]]]])\n",
        "print (\"weight.shape\", weight.shape)\n",
        "\n",
        "conv2d=tf.nn.conv2d(image, weight, strides=[1,1,1,1], padding='VALID')\n",
        "conv2d_img=conv2d.numpy()\n",
        "print (\"conv2d_img.shape\", conv2d_img.shape)\n",
        "print(conv2d_img)"
      ],
      "execution_count": 0,
      "outputs": [
        {
          "output_type": "stream",
          "text": [
            "(1, 3, 3, 3)\n",
            "weight.shape (2, 2, 3, 1)\n",
            "conv2d_img.shape (1, 2, 2, 1)\n",
            "[[[[36.]\n",
            "   [48.]]\n",
            "\n",
            "  [[72.]\n",
            "   [84.]]]]\n"
          ],
          "name": "stdout"
        }
      ]
    },
    {
      "cell_type": "code",
      "metadata": {
        "id": "Qvlqde4A2jpE",
        "colab_type": "code",
        "outputId": "abdce237-d2b3-4cb7-c533-54f9e16e9e46",
        "colab": {
          "base_uri": "https://localhost:8080/",
          "height": 260
        }
      },
      "source": [
        "image=np.array([[[[1],[2],[3]],\n",
        "                 [[4],[5],[6]],\n",
        "                 [[7],[8],[9]]]], dtype=np.float32)\n",
        "\n",
        "weight=tf.constant([[[[1.,10., -1.]],[[1.,10., -1.]]],\n",
        "                    [[[1.,10., -1.]],[[1.,10., -1.]]]])\n",
        "print (\"weight.shape\", weight.shape)\n",
        "conv2d=tf.nn.conv2d(image, weight, strides=[1,1,1,1], padding='SAME')\n",
        "conv2d_img=conv2d.numpy()\n",
        "print (\"conv2d_img.shape\",conv2d_img.shape)\n",
        "print(conv2d_img)"
      ],
      "execution_count": 0,
      "outputs": [
        {
          "output_type": "stream",
          "text": [
            "weight.shape (2, 2, 1, 3)\n",
            "conv2d_img.shape (1, 3, 3, 3)\n",
            "[[[[ 12. 120. -12.]\n",
            "   [ 16. 160. -16.]\n",
            "   [  9.  90.  -9.]]\n",
            "\n",
            "  [[ 24. 240. -24.]\n",
            "   [ 28. 280. -28.]\n",
            "   [ 15. 150. -15.]]\n",
            "\n",
            "  [[ 15. 150. -15.]\n",
            "   [ 17. 170. -17.]\n",
            "   [  9.  90.  -9.]]]]\n"
          ],
          "name": "stdout"
        }
      ]
    },
    {
      "cell_type": "code",
      "metadata": {
        "id": "potnlgaM2jhR",
        "colab_type": "code",
        "outputId": "60c662cf-2129-4e5a-9452-f8c48d9f0e80",
        "colab": {
          "base_uri": "https://localhost:8080/",
          "height": 572
        }
      },
      "source": [
        "# plotting Code\n",
        "conv2d_img=np.swapaxes(conv2d_img, 0,3)\n",
        "for i, one_img in enumerate(conv2d_img):\n",
        "    print (one_img.reshape(3,3))\n",
        "    plt.subplot(1,3,i+1), plt.grid(False), plt.imshow(one_img.reshape(3,3), cmap='gray')\n",
        "    plt.show()"
      ],
      "execution_count": 0,
      "outputs": [
        {
          "output_type": "stream",
          "text": [
            "[[12. 16.  9.]\n",
            " [24. 28. 15.]\n",
            " [15. 17.  9.]]\n"
          ],
          "name": "stdout"
        },
        {
          "output_type": "display_data",
          "data": {
            "image/png": "[encoded data removed]",
            "text/plain": [
              "<Figure size 432x288 with 1 Axes>"
            ]
          },
          "metadata": {
            "tags": [],
            "needs_background": "light"
          }
        },
        {
          "output_type": "stream",
          "text": [
            "[[120. 160.  90.]\n",
            " [240. 280. 150.]\n",
            " [150. 170.  90.]]\n"
          ],
          "name": "stdout"
        },
        {
          "output_type": "display_data",
          "data": {
            "image/png": "[encoded data removed]",
            "text/plain": [
              "<Figure size 432x288 with 1 Axes>"
            ]
          },
          "metadata": {
            "tags": [],
            "needs_background": "light"
          }
        },
        {
          "output_type": "stream",
          "text": [
            "[[-12. -16.  -9.]\n",
            " [-24. -28. -15.]\n",
            " [-15. -17.  -9.]]\n"
          ],
          "name": "stdout"
        },
        {
          "output_type": "display_data",
          "data": {
            "image/png": "[encoded data removed]",
            "text/plain": [
              "<Figure size 432x288 with 1 Axes>"
            ]
          },
          "metadata": {
            "tags": [],
            "needs_background": "light"
          }
        }
      ]
    },
    {
      "cell_type": "code",
      "metadata": {
        "id": "3op1k4Aq2jX1",
        "colab_type": "code",
        "outputId": "fabf4a8a-772b-4482-c2d3-8bc7e5abf490",
        "colab": {
          "base_uri": "https://localhost:8080/",
          "height": 303
        }
      },
      "source": [
        "# Mnist_convLayer.ipynb\n",
        "\n",
        "import tensorflow as tf\n",
        "import numpy as np\n",
        "import matplotlib.pyplot as plt\n",
        "from tensorflow.keras import datasets\n",
        "from tensorflow.keras.utils import to_categorical\n",
        "mnist = datasets.mnist\n",
        "(train_x, train_y), (test_x, test_y) = mnist.load_data()\n",
        "\n",
        "img=train_x[0]\n",
        "plt.imshow(img, cmap='gray')\n",
        "plt.show()"
      ],
      "execution_count": 0,
      "outputs": [
        {
          "output_type": "stream",
          "text": [
            "Downloading data from https://storage.googleapis.com/tensorflow/tf-keras-datasets/mnist.npz\n",
            "11493376/11490434 [==============================] - 0s 0us/step\n"
          ],
          "name": "stdout"
        },
        {
          "output_type": "display_data",
          "data": {
            "image/png": "[encoded data removed]",
            "text/plain": [
              "<Figure size 432x288 with 1 Axes>"
            ]
          },
          "metadata": {
            "tags": [],
            "needs_background": "light"
          }
        }
      ]
    },
    {
      "cell_type": "code",
      "metadata": {
        "id": "v7Rf0Ccw2jOq",
        "colab_type": "code",
        "outputId": "f8f9e4dc-78ec-4fe3-c70f-f9db7adc7e7b",
        "colab": {
          "base_uri": "https://localhost:8080/",
          "height": 559
        }
      },
      "source": [
        "img=img.reshape(-1,28,28,1)\n",
        "W1=tf.random.normal([3,3,1,5], stddev=0.01)\n",
        "W1"
      ],
      "execution_count": 0,
      "outputs": [
        {
          "output_type": "execute_result",
          "data": {
            "text/plain": [
              "<tf.Tensor: shape=(3, 3, 1, 5), dtype=float32, numpy=\n",
              "array([[[[ 0.0184574 , -0.01170227,  0.00828892, -0.01142316,\n",
              "           0.00205196]],\n",
              "\n",
              "        [[-0.0060019 , -0.00150527,  0.00422387,  0.00921819,\n",
              "           0.0038018 ]],\n",
              "\n",
              "        [[-0.04055589, -0.00293045,  0.0019571 ,  0.0254155 ,\n",
              "           0.00314312]]],\n",
              "\n",
              "\n",
              "       [[[-0.01401243, -0.00277041,  0.01457643, -0.00421239,\n",
              "          -0.01014566]],\n",
              "\n",
              "        [[ 0.02243598,  0.0225643 , -0.00235105,  0.00738867,\n",
              "          -0.00871697]],\n",
              "\n",
              "        [[ 0.00612691, -0.00629935,  0.00136519,  0.01544933,\n",
              "          -0.00366551]]],\n",
              "\n",
              "\n",
              "       [[[ 0.00063295, -0.00122113,  0.00763885, -0.00881646,\n",
              "           0.00395189]],\n",
              "\n",
              "        [[ 0.00226791,  0.00230267, -0.01173156, -0.01526328,\n",
              "          -0.00885781]],\n",
              "\n",
              "        [[-0.00649816, -0.00420148,  0.00868593, -0.00731919,\n",
              "          -0.01122164]]]], dtype=float32)>"
            ]
          },
          "metadata": {
            "tags": []
          },
          "execution_count": 12
        }
      ]
    },
    {
      "cell_type": "code",
      "metadata": {
        "id": "dYK3q0Vl2jFM",
        "colab_type": "code",
        "outputId": "da68d499-f9d4-47b7-a123-ff5d989f9093",
        "colab": {
          "base_uri": "https://localhost:8080/",
          "height": 491
        }
      },
      "source": [
        "conv2d=tf.nn.conv2d(img, W1, strides=[1,2,2,1], padding='SAME')\n",
        "conv2d_img=conv2d.numpy()\n",
        "print('conv2d_img',conv2d_img.shape)\n",
        "conv2d_img=np.swapaxes(conv2d_img,0,3)\n",
        "for i, one_img in enumerate(conv2d_img):\n",
        "    plt.subplot(1,5,i+1), plt.imshow(one_img.reshape(14,14), cmap='gray'), plt.show()"
      ],
      "execution_count": 0,
      "outputs": [
        {
          "output_type": "stream",
          "text": [
            "conv2d_img (1, 14, 14, 5)\n"
          ],
          "name": "stdout"
        },
        {
          "output_type": "display_data",
          "data": {
            "image/png": "[encoded data removed]",
            "text/plain": [
              "<Figure size 432x288 with 1 Axes>"
            ]
          },
          "metadata": {
            "tags": [],
            "needs_background": "light"
          }
        },
        {
          "output_type": "display_data",
          "data": {
            "image/png": "[encoded data removed]",
            "text/plain": [
              "<Figure size 432x288 with 1 Axes>"
            ]
          },
          "metadata": {
            "tags": [],
            "needs_background": "light"
          }
        },
        {
          "output_type": "display_data",
          "data": {
            "image/png": "[encoded data removed]",
            "text/plain": [
              "<Figure size 432x288 with 1 Axes>"
            ]
          },
          "metadata": {
            "tags": [],
            "needs_background": "light"
          }
        },
        {
          "output_type": "display_data",
          "data": {
            "image/png": "[encoded data removed]",
            "text/plain": [
              "<Figure size 432x288 with 1 Axes>"
            ]
          },
          "metadata": {
            "tags": [],
            "needs_background": "light"
          }
        },
        {
          "output_type": "display_data",
          "data": {
            "image/png": "[encoded data removed]",
            "text/plain": [
              "<Figure size 432x288 with 1 Axes>"
            ]
          },
          "metadata": {
            "tags": [],
            "needs_background": "light"
          }
        }
      ]
    },
    {
      "cell_type": "code",
      "metadata": {
        "id": "06q8CKU82i6n",
        "colab_type": "code",
        "outputId": "0dc8849f-981c-4558-d8fc-c901e4e77b4c",
        "colab": {
          "base_uri": "https://localhost:8080/",
          "height": 481
        }
      },
      "source": [
        "pool=tf.nn.max_pool(conv2d, ksize=[1,2,2,1], strides=[1,2,2,1], padding='SAME')\n",
        "pool_img=pool.numpy()\n",
        "print('pool_img',pool_img.shape)\n",
        "pool_img=np.swapaxes(pool_img,0,3)\n",
        "for i, one_img in enumerate(pool_img):\n",
        "    plt.subplot(1,5,i+1), plt.imshow(one_img.reshape(7,7), cmap='gray'), plt.show()"
      ],
      "execution_count": 0,
      "outputs": [
        {
          "output_type": "stream",
          "text": [
            "pool_img (1, 7, 7, 5)\n"
          ],
          "name": "stdout"
        },
        {
          "output_type": "display_data",
          "data": {
            "image/png": "[encoded data removed]",
            "text/plain": [
              "<Figure size 432x288 with 1 Axes>"
            ]
          },
          "metadata": {
            "tags": [],
            "needs_background": "light"
          }
        },
        {
          "output_type": "display_data",
          "data": {
            "image/png": "[encoded data removed]",
            "text/plain": [
              "<Figure size 432x288 with 1 Axes>"
            ]
          },
          "metadata": {
            "tags": [],
            "needs_background": "light"
          }
        },
        {
          "output_type": "display_data",
          "data": {
            "image/png": "[encoded data removed]",
            "text/plain": [
              "<Figure size 432x288 with 1 Axes>"
            ]
          },
          "metadata": {
            "tags": [],
            "needs_background": "light"
          }
        },
        {
          "output_type": "display_data",
          "data": {
            "image/png": "[encoded data removed]",
            "text/plain": [
              "<Figure size 432x288 with 1 Axes>"
            ]
          },
          "metadata": {
            "tags": [],
            "needs_background": "light"
          }
        },
        {
          "output_type": "display_data",
          "data": {
            "image/png": "[encoded data removed]",
            "text/plain": [
              "<Figure size 432x288 with 1 Axes>"
            ]
          },
          "metadata": {
            "tags": [],
            "needs_background": "light"
          }
        }
      ]
    },
    {
      "cell_type": "code",
      "metadata": {
        "id": "wKk2Z-eK2itD",
        "colab_type": "code",
        "colab": {}
      },
      "source": [
        "# Mnist_CNN_TF2.ipynb\n",
        "\n",
        "import tensorflow as tf\n",
        "from tensorflow.keras import layers, models\n",
        "from tensorflow.keras import datasets \n",
        "from tensorflow.keras.utils import to_categorical"
      ],
      "execution_count": 0,
      "outputs": []
    },
    {
      "cell_type": "code",
      "metadata": {
        "id": "mdkHZ2Ts7HId",
        "colab_type": "code",
        "outputId": "854d79df-f4e8-45a0-affb-4e850fc4b6cd",
        "colab": {
          "base_uri": "https://localhost:8080/",
          "height": 36
        }
      },
      "source": [
        "(train_images, train_labels), (test_images, test_labels) = datasets.mnist.load_data()\n",
        "\n",
        "train_images = train_images.reshape((60000, 28, 28, 1))\n",
        "test_images = test_images.reshape((10000, 28, 28, 1))\n",
        "\n",
        "# 픽셀 값을 0~1 사이로 정규화합니다.\n",
        "train_images, test_images = train_images / 255.0, test_images / 255.0\n",
        "train_y_onehot = to_categorical(train_labels)\n",
        "test_y_onehot = to_categorical(test_labels)\n",
        "train_y_onehot[0]"
      ],
      "execution_count": 0,
      "outputs": [
        {
          "output_type": "execute_result",
          "data": {
            "text/plain": [
              "array([0., 0., 0., 0., 0., 1., 0., 0., 0., 0.], dtype=float32)"
            ]
          },
          "metadata": {
            "tags": []
          },
          "execution_count": 19
        }
      ]
    },
    {
      "cell_type": "code",
      "metadata": {
        "id": "7xS_YhYY7HXR",
        "colab_type": "code",
        "outputId": "e8d28f1f-f010-4051-b5c6-fc4276af64cd",
        "colab": {
          "base_uri": "https://localhost:8080/",
          "height": 391
        }
      },
      "source": [
        "model = models.Sequential()\n",
        "# (B, 28, 28, 1)\n",
        "model.add(layers.Conv2D(32, (3, 3), activation='relu',input_shape=(28, 28, 1)))    # w: 1*3*3*32+32=320\n",
        "# (B, 26, 26, 32)\n",
        "model.add(layers.MaxPooling2D((2, 2)))\n",
        "# (B, 13, 13, 32)\n",
        "model.add(layers.Conv2D(64, (3, 3), activation='relu')) # w: 32*3*3*64+64=18496\n",
        "# (B, 11, 11, 64)\n",
        "model.add(layers.MaxPooling2D((2, 2)))\n",
        "# (B, 5, 5, 64)\n",
        "model.add(layers.Flatten())\n",
        "# (B, 1600)\n",
        "model.add(layers.Dense(10, activation='softmax'))       # w: 1600*10+10=16010\n",
        "# (B, 10)\n",
        "model.summary()"
      ],
      "execution_count": 0,
      "outputs": [
        {
          "output_type": "stream",
          "text": [
            "Model: \"sequential\"\n",
            "_________________________________________________________________\n",
            "Layer (type)                 Output Shape              Param #   \n",
            "=================================================================\n",
            "conv2d (Conv2D)              (None, 26, 26, 32)        320       \n",
            "_________________________________________________________________\n",
            "max_pooling2d (MaxPooling2D) (None, 13, 13, 32)        0         \n",
            "_________________________________________________________________\n",
            "conv2d_1 (Conv2D)            (None, 11, 11, 64)        18496     \n",
            "_________________________________________________________________\n",
            "max_pooling2d_1 (MaxPooling2 (None, 5, 5, 64)          0         \n",
            "_________________________________________________________________\n",
            "flatten (Flatten)            (None, 1600)              0         \n",
            "_________________________________________________________________\n",
            "dense (Dense)                (None, 10)                16010     \n",
            "=================================================================\n",
            "Total params: 34,826\n",
            "Trainable params: 34,826\n",
            "Non-trainable params: 0\n",
            "_________________________________________________________________\n"
          ],
          "name": "stdout"
        }
      ]
    },
    {
      "cell_type": "code",
      "metadata": {
        "id": "5imig27i7HS9",
        "colab_type": "code",
        "outputId": "ad3ba1ae-4296-4eba-db75-10c6a59335a4",
        "colab": {
          "base_uri": "https://localhost:8080/",
          "height": 223
        }
      },
      "source": [
        "model.compile(optimizer='adam',\n",
        "              loss='categorical_crossentropy',\n",
        "              metrics=['accuracy'])\n",
        "\n",
        "model.fit(train_images, train_y_onehot, epochs=5)"
      ],
      "execution_count": 0,
      "outputs": [
        {
          "output_type": "stream",
          "text": [
            "Epoch 1/5\n",
            "1875/1875 [==============================] - 6s 3ms/step - loss: 0.1591 - accuracy: 0.9524\n",
            "Epoch 2/5\n",
            "1875/1875 [==============================] - 6s 3ms/step - loss: 0.0534 - accuracy: 0.9838\n",
            "Epoch 3/5\n",
            "1875/1875 [==============================] - 6s 3ms/step - loss: 0.0393 - accuracy: 0.9882\n",
            "Epoch 4/5\n",
            "1875/1875 [==============================] - 6s 3ms/step - loss: 0.0310 - accuracy: 0.9904\n",
            "Epoch 5/5\n",
            "1875/1875 [==============================] - 6s 3ms/step - loss: 0.0232 - accuracy: 0.9925\n"
          ],
          "name": "stdout"
        },
        {
          "output_type": "execute_result",
          "data": {
            "text/plain": [
              "<tensorflow.python.keras.callbacks.History at 0x7fc2feaca4a8>"
            ]
          },
          "metadata": {
            "tags": []
          },
          "execution_count": 21
        }
      ]
    },
    {
      "cell_type": "code",
      "metadata": {
        "id": "uUdT6GQj7HO-",
        "colab_type": "code",
        "outputId": "f6918b54-fcae-4a63-df2e-f8b70694c95d",
        "colab": {
          "base_uri": "https://localhost:8080/",
          "height": 36
        }
      },
      "source": [
        "test_loss, test_acc = model.evaluate(test_images,  test_y_onehot, verbose=2)"
      ],
      "execution_count": 0,
      "outputs": [
        {
          "output_type": "stream",
          "text": [
            "313/313 - 1s - loss: 0.0273 - accuracy: 0.9917\n"
          ],
          "name": "stdout"
        }
      ]
    },
    {
      "cell_type": "code",
      "metadata": {
        "id": "ePYDsr497HDE",
        "colab_type": "code",
        "outputId": "7adffbc6-9a83-46cf-c6d4-12e25a9eb46a",
        "colab": {
          "base_uri": "https://localhost:8080/",
          "height": 36
        }
      },
      "source": [
        "print(test_acc)"
      ],
      "execution_count": 0,
      "outputs": [
        {
          "output_type": "stream",
          "text": [
            "0.9916999936103821\n"
          ],
          "name": "stdout"
        }
      ]
    },
    {
      "cell_type": "code",
      "metadata": {
        "id": "p0lVU2QI7LsM",
        "colab_type": "code",
        "colab": {}
      },
      "source": [
        "# Mnist_CNNDNN_TF2.ipynb\n",
        "\n",
        "import tensorflow as tf\n",
        "from tensorflow.keras import layers, models\n",
        "from tensorflow.keras import datasets \n",
        "from tensorflow.keras.utils import to_categorical"
      ],
      "execution_count": 0,
      "outputs": []
    },
    {
      "cell_type": "code",
      "metadata": {
        "id": "qrvnL0_v7Sdj",
        "colab_type": "code",
        "outputId": "f80cd955-5344-4f05-fe53-c528a29709af",
        "colab": {
          "base_uri": "https://localhost:8080/",
          "height": 73
        }
      },
      "source": [
        "(train_images, train_labels), (test_images, test_labels) = datasets.mnist.load_data()\n",
        "\n",
        "train_images = train_images.reshape((60000, 28, 28, 1))\n",
        "test_images = test_images.reshape((10000, 28, 28, 1))\n",
        "\n",
        "# 픽셀 값을 0~1 사이로 정규화합니다.\n",
        "train_images, test_images = train_images / 255.0, test_images / 255.0\n",
        "train_y_onehot = to_categorical(train_labels)\n",
        "test_y_onehot = to_categorical(test_labels)\n",
        "train_y_onehot[0]"
      ],
      "execution_count": 0,
      "outputs": [
        {
          "output_type": "stream",
          "text": [
            "Downloading data from https://storage.googleapis.com/tensorflow/tf-keras-datasets/mnist.npz\n",
            "11493376/11490434 [==============================] - 0s 0us/step\n"
          ],
          "name": "stdout"
        },
        {
          "output_type": "execute_result",
          "data": {
            "text/plain": [
              "array([0., 0., 0., 0., 0., 1., 0., 0., 0., 0.], dtype=float32)"
            ]
          },
          "metadata": {
            "tags": []
          },
          "execution_count": 2
        }
      ]
    },
    {
      "cell_type": "code",
      "metadata": {
        "id": "Dwu-96mT7Spl",
        "colab_type": "code",
        "outputId": "c12c0c88-3276-40c7-88f7-193ff4724076",
        "colab": {
          "base_uri": "https://localhost:8080/",
          "height": 540
        }
      },
      "source": [
        "model = models.Sequential()\n",
        "# (B, 28, 28, 1)\n",
        "model.add(layers.Conv2D(32, (3, 3), activation='relu', padding='same', input_shape=(28, 28, 1)))\n",
        "# (B, 28, 28, 32)\n",
        "model.add(layers.MaxPooling2D((2, 2)))\n",
        "# (B, 14, 14, 32)\n",
        "model.add(layers.Conv2D(64, (3, 3), activation='relu', padding='same'))\n",
        "# (B, 14, 14, 64)\n",
        "model.add(layers.MaxPooling2D((2, 2)))\n",
        "# (B, 7, 7, 64)\n",
        "model.add(layers.Conv2D(64, (3, 3), activation='relu', padding='same'))\n",
        "# (B, 7, 7, 64)\n",
        "model.add(layers.MaxPooling2D((2, 2)))\n",
        "# (B, 3, 3, 64)\n",
        "model.add(layers.Flatten())\n",
        "# (B, 576)\n",
        "model.add(layers.Dense(128, activation='relu'))\n",
        "# (B, 128)\n",
        "model.add(layers.Dense(64, activation='relu'))\n",
        "# (B, 64)\n",
        "model.add(layers.Dense(10, activation='softmax'))\n",
        "# (B, 10)\n",
        "model.summary()"
      ],
      "execution_count": 0,
      "outputs": [
        {
          "output_type": "stream",
          "text": [
            "Model: \"sequential\"\n",
            "_________________________________________________________________\n",
            "Layer (type)                 Output Shape              Param #   \n",
            "=================================================================\n",
            "conv2d (Conv2D)              (None, 28, 28, 32)        320       \n",
            "_________________________________________________________________\n",
            "max_pooling2d (MaxPooling2D) (None, 14, 14, 32)        0         \n",
            "_________________________________________________________________\n",
            "conv2d_1 (Conv2D)            (None, 14, 14, 64)        18496     \n",
            "_________________________________________________________________\n",
            "max_pooling2d_1 (MaxPooling2 (None, 7, 7, 64)          0         \n",
            "_________________________________________________________________\n",
            "conv2d_2 (Conv2D)            (None, 7, 7, 64)          36928     \n",
            "_________________________________________________________________\n",
            "max_pooling2d_2 (MaxPooling2 (None, 3, 3, 64)          0         \n",
            "_________________________________________________________________\n",
            "flatten (Flatten)            (None, 576)               0         \n",
            "_________________________________________________________________\n",
            "dense (Dense)                (None, 128)               73856     \n",
            "_________________________________________________________________\n",
            "dense_1 (Dense)              (None, 64)                8256      \n",
            "_________________________________________________________________\n",
            "dense_2 (Dense)              (None, 10)                650       \n",
            "=================================================================\n",
            "Total params: 138,506\n",
            "Trainable params: 138,506\n",
            "Non-trainable params: 0\n",
            "_________________________________________________________________\n"
          ],
          "name": "stdout"
        }
      ]
    },
    {
      "cell_type": "code",
      "metadata": {
        "id": "oj4Tywrm7Svk",
        "colab_type": "code",
        "outputId": "e97e9883-943f-4d5f-e307-a979b1532fb7",
        "colab": {
          "base_uri": "https://localhost:8080/",
          "height": 223
        }
      },
      "source": [
        "model.compile(optimizer='adam',\n",
        "              loss='categorical_crossentropy',\n",
        "              metrics=['accuracy'])\n",
        "model.fit(train_images, train_y_onehot, batch_size = 100, epochs=5)"
      ],
      "execution_count": 0,
      "outputs": [
        {
          "output_type": "stream",
          "text": [
            "Epoch 1/5\n",
            "600/600 [==============================] - 2s 4ms/step - loss: 0.2199 - accuracy: 0.9311\n",
            "Epoch 2/5\n",
            "600/600 [==============================] - 2s 4ms/step - loss: 0.0584 - accuracy: 0.9819\n",
            "Epoch 3/5\n",
            "600/600 [==============================] - 2s 4ms/step - loss: 0.0423 - accuracy: 0.9872\n",
            "Epoch 4/5\n",
            "600/600 [==============================] - 2s 4ms/step - loss: 0.0303 - accuracy: 0.9905\n",
            "Epoch 5/5\n",
            "600/600 [==============================] - 3s 4ms/step - loss: 0.0267 - accuracy: 0.9918\n"
          ],
          "name": "stdout"
        },
        {
          "output_type": "execute_result",
          "data": {
            "text/plain": [
              "<tensorflow.python.keras.callbacks.History at 0x7fae0c2959b0>"
            ]
          },
          "metadata": {
            "tags": []
          },
          "execution_count": 4
        }
      ]
    },
    {
      "cell_type": "code",
      "metadata": {
        "id": "AwR51xsk7S1L",
        "colab_type": "code",
        "outputId": "40b4eec3-a580-481d-b545-08506b7b65f1",
        "colab": {
          "base_uri": "https://localhost:8080/",
          "height": 36
        }
      },
      "source": [
        "test_loss, test_acc = model.evaluate(test_images,  test_y_onehot, verbose=2)"
      ],
      "execution_count": 0,
      "outputs": [
        {
          "output_type": "stream",
          "text": [
            "313/313 - 1s - loss: 0.0321 - accuracy: 0.9902\n"
          ],
          "name": "stdout"
        }
      ]
    },
    {
      "cell_type": "code",
      "metadata": {
        "id": "XvIlGARh7S60",
        "colab_type": "code",
        "outputId": "ac02156a-aa8b-46dc-cb76-c8283fa2950f",
        "colab": {
          "base_uri": "https://localhost:8080/",
          "height": 36
        }
      },
      "source": [
        "print(test_acc)"
      ],
      "execution_count": 0,
      "outputs": [
        {
          "output_type": "stream",
          "text": [
            "0.9901999831199646\n"
          ],
          "name": "stdout"
        }
      ]
    },
    {
      "cell_type": "code",
      "metadata": {
        "id": "r8WShRMN7TY0",
        "colab_type": "code",
        "outputId": "a205e5b9-380d-4154-e94c-1588660f1747",
        "colab": {
          "base_uri": "https://localhost:8080/",
          "height": 261
        }
      },
      "source": [
        "# FashionMnist.ipynb\n",
        "\n",
        "import tensorflow as tf\n",
        "import matplotlib.pyplot as plt\n",
        "import numpy as np\n",
        "# Load the fashion-mnist pre-shuffled train data and test data\n",
        "(x_train, y_train), (x_test, y_test) = tf.keras.datasets.fashion_mnist.load_data()\n",
        "\n",
        "print(\"x_train shape:\", x_train.shape, \"y_train shape:\", y_train.shape)\n",
        "\n",
        "# Print training set shape - note there are 60,000 training data of image size of 28x28, 60,000 train labels)\n",
        "print(\"x_train shape:\", x_train.shape, \"y_train shape:\", y_train.shape)\n",
        "\n",
        "# Print the number of training and test datasets\n",
        "print(x_train.shape[0], 'train set')\n",
        "print(x_test.shape[0], 'test set')"
      ],
      "execution_count": 0,
      "outputs": [
        {
          "output_type": "stream",
          "text": [
            "Downloading data from https://storage.googleapis.com/tensorflow/tf-keras-datasets/train-labels-idx1-ubyte.gz\n",
            "32768/29515 [=================================] - 0s 0us/step\n",
            "Downloading data from https://storage.googleapis.com/tensorflow/tf-keras-datasets/train-images-idx3-ubyte.gz\n",
            "26427392/26421880 [==============================] - 0s 0us/step\n",
            "Downloading data from https://storage.googleapis.com/tensorflow/tf-keras-datasets/t10k-labels-idx1-ubyte.gz\n",
            "8192/5148 [===============================================] - 0s 0us/step\n",
            "Downloading data from https://storage.googleapis.com/tensorflow/tf-keras-datasets/t10k-images-idx3-ubyte.gz\n",
            "4423680/4422102 [==============================] - 0s 0us/step\n",
            "x_train shape: (60000, 28, 28) y_train shape: (60000,)\n",
            "x_train shape: (60000, 28, 28) y_train shape: (60000,)\n",
            "60000 train set\n",
            "10000 test set\n"
          ],
          "name": "stdout"
        }
      ]
    },
    {
      "cell_type": "code",
      "metadata": {
        "id": "Ede5C6yS7Tc0",
        "colab_type": "code",
        "outputId": "8f5111b8-b602-4cbe-a211-fe4851965182",
        "colab": {
          "base_uri": "https://localhost:8080/",
          "height": 321
        }
      },
      "source": [
        "# Define the text labels\n",
        "fashion_mnist_labels = [\"T-shirt/top\",  # index 0\n",
        "                        \"Trouser\",      # index 1\n",
        "                        \"Pullover\",     # index 2\n",
        "                        \"Dress\",        # index 3\n",
        "                        \"Coat\",         # index 4\n",
        "                        \"Sandal\",       # index 5\n",
        "                        \"Shirt\",        # index 6\n",
        "                        \"Sneaker\",      # index 7\n",
        "                        \"Bag\",          # index 8\n",
        "                        \"Ankle boot\"]   # index 9\n",
        "\n",
        "# Image index, you can pick any number between 0 and 59,999\n",
        "img_index = 5\n",
        "# y_train contains the lables, ranging from 0 to 9\n",
        "label_index = y_train[img_index]\n",
        "# Print the label, for example 2 Pullover\n",
        "print (\"y = \" + str(label_index) + \" \" +(fashion_mnist_labels[label_index]))\n",
        "# # Show one of the images from the training dataset\n",
        "plt.imshow(x_train[img_index])\n",
        "plt.show()\n",
        "\n",
        "x_train = x_train.astype('float32') / 255\n",
        "x_test = x_test.astype('float32') / 255\n",
        "\n",
        "print(\"Number of train data - \" + str(len(x_train)))\n",
        "print(\"Number of test data - \" + str(len(x_test)))\n"
      ],
      "execution_count": 0,
      "outputs": [
        {
          "output_type": "stream",
          "text": [
            "y = 2 Pullover\n"
          ],
          "name": "stdout"
        },
        {
          "output_type": "display_data",
          "data": {
            "image/png": "[encoded data removed]",
            "text/plain": [
              "<Figure size 432x288 with 1 Axes>"
            ]
          },
          "metadata": {
            "tags": [],
            "needs_background": "light"
          }
        },
        {
          "output_type": "stream",
          "text": [
            "Number of train data - 60000\n",
            "Number of test data - 10000\n"
          ],
          "name": "stdout"
        }
      ]
    },
    {
      "cell_type": "code",
      "metadata": {
        "id": "neNXTlpv9LYV",
        "colab_type": "code",
        "outputId": "bfa75008-90db-49ea-8b0d-2043fa992bc9",
        "colab": {
          "base_uri": "https://localhost:8080/",
          "height": 55
        }
      },
      "source": [
        "# 6만장 중, 1~55000장은 train, 55000~60000은 valid dataSet\n",
        "(x_train, x_valid) = x_train[5000:], x_train[:5000]\n",
        "(y_train, y_valid) = y_train[5000:], y_train[:5000]\n",
        "\n",
        "print(x_train.shape, x_valid.shape)\n",
        "print(y_train.shape, y_valid.shape)"
      ],
      "execution_count": 0,
      "outputs": [
        {
          "output_type": "stream",
          "text": [
            "(55000, 28, 28) (5000, 28, 28)\n",
            "(55000,) (5000,)\n"
          ],
          "name": "stdout"
        }
      ]
    },
    {
      "cell_type": "code",
      "metadata": {
        "id": "hSSqAXtY9LeE",
        "colab_type": "code",
        "outputId": "42f10729-a0b4-40da-da18-e9a8edf222f4",
        "colab": {
          "base_uri": "https://localhost:8080/",
          "height": 92
        }
      },
      "source": [
        "w, h = 28, 28\n",
        "x_train = x_train.reshape(x_train.shape[0], w, h, 1)\n",
        "x_valid = x_valid.reshape(x_valid.shape[0], w, h, 1)\n",
        "x_test = x_test.reshape(x_test.shape[0], w, h, 1)\n",
        "\n",
        "# One-hot encode the labels\n",
        "y_train = tf.keras.utils.to_categorical(y_train, 10)\n",
        "y_valid = tf.keras.utils.to_categorical(y_valid, 10)\n",
        "y_test = tf.keras.utils.to_categorical(y_test, 10)\n",
        "\n",
        "# Print training set shape\n",
        "print(\"x_train shape:\", x_train.shape, \"y_train shape:\", y_train.shape)\n",
        "\n",
        "# Print the number of training, validation, and test datasets\n",
        "print(x_train.shape[0], 'train set')\n",
        "print(x_valid.shape[0], 'validation set')\n",
        "print(x_test.shape[0], 'test set')\n"
      ],
      "execution_count": 0,
      "outputs": [
        {
          "output_type": "stream",
          "text": [
            "x_train shape: (55000, 28, 28, 1) y_train shape: (55000, 10)\n",
            "55000 train set\n",
            "5000 validation set\n",
            "10000 test set\n"
          ],
          "name": "stdout"
        }
      ]
    },
    {
      "cell_type": "markdown",
      "metadata": {
        "id": "11c90UUF9LjZ",
        "colab_type": "text"
      },
      "source": [
        "<center><img src=\"https://drive.google.com/uc?id=1eMJDywkwenvNfRUIPUEzsK-vomeNVIQ1\" width=\"800\" height=\"400\"></center>"
      ]
    },
    {
      "cell_type": "code",
      "metadata": {
        "id": "5PZCnzh89LoD",
        "colab_type": "code",
        "outputId": "f9203624-2077-4017-8e4d-422c601dc18d",
        "colab": {
          "base_uri": "https://localhost:8080/",
          "height": 540
        }
      },
      "source": [
        "model = tf.keras.Sequential()\n",
        "\n",
        "# Must define the input shape in the first layer of the neural network\n",
        "# (B, 28, 28, 1)\n",
        "model.add(tf.keras.layers.Conv2D(filters=64, kernel_size=2, padding='same', activation='relu', input_shape=(28,28,1)))\n",
        "# (B, 28, 28, 64)\n",
        "model.add(tf.keras.layers.MaxPooling2D(pool_size=2))\n",
        "# (B, 14, 14, 64)\n",
        "model.add(tf.keras.layers.Dropout(0.3))\n",
        "# (B, 14, 14, 64)\n",
        "model.add(tf.keras.layers.Conv2D(filters=32, kernel_size=2, padding='same', activation='relu'))\n",
        "# (B, 14, 14, 64)\n",
        "model.add(tf.keras.layers.MaxPooling2D(pool_size=2))\n",
        "# (B, 7, 7, 32)\n",
        "model.add(tf.keras.layers.Dropout(0.3))\n",
        "# (B, 7, 7, 32)\n",
        "model.add(tf.keras.layers.Flatten())\n",
        "# (B, 1568)\n",
        "model.add(tf.keras.layers.Dense(256, activation='relu'))\n",
        "# (B, 256)\n",
        "model.add(tf.keras.layers.Dropout(0.5))\n",
        "# (B, 256)\n",
        "model.add(tf.keras.layers.Dense(10, activation='softmax'))\n",
        "# (B, 10)\n",
        "\n",
        "# Take a look at the model summary\n",
        "model.summary()\n"
      ],
      "execution_count": 0,
      "outputs": [
        {
          "output_type": "stream",
          "text": [
            "Model: \"sequential_1\"\n",
            "_________________________________________________________________\n",
            "Layer (type)                 Output Shape              Param #   \n",
            "=================================================================\n",
            "conv2d_3 (Conv2D)            (None, 28, 28, 64)        320       \n",
            "_________________________________________________________________\n",
            "max_pooling2d_3 (MaxPooling2 (None, 14, 14, 64)        0         \n",
            "_________________________________________________________________\n",
            "dropout (Dropout)            (None, 14, 14, 64)        0         \n",
            "_________________________________________________________________\n",
            "conv2d_4 (Conv2D)            (None, 14, 14, 32)        8224      \n",
            "_________________________________________________________________\n",
            "max_pooling2d_4 (MaxPooling2 (None, 7, 7, 32)          0         \n",
            "_________________________________________________________________\n",
            "dropout_1 (Dropout)          (None, 7, 7, 32)          0         \n",
            "_________________________________________________________________\n",
            "flatten_1 (Flatten)          (None, 1568)              0         \n",
            "_________________________________________________________________\n",
            "dense_3 (Dense)              (None, 256)               401664    \n",
            "_________________________________________________________________\n",
            "dropout_2 (Dropout)          (None, 256)               0         \n",
            "_________________________________________________________________\n",
            "dense_4 (Dense)              (None, 10)                2570      \n",
            "=================================================================\n",
            "Total params: 412,778\n",
            "Trainable params: 412,778\n",
            "Non-trainable params: 0\n",
            "_________________________________________________________________\n"
          ],
          "name": "stdout"
        }
      ]
    },
    {
      "cell_type": "code",
      "metadata": {
        "id": "9UNcJ1Nw9Ls7",
        "colab_type": "code",
        "outputId": "040ef140-0af5-4982-fb70-22659904af59",
        "colab": {
          "base_uri": "https://localhost:8080/",
          "height": 447
        }
      },
      "source": [
        "import time\n",
        "s = time.time()\n",
        "\n",
        "model.compile(loss='categorical_crossentropy',\n",
        "             optimizer='adam',\n",
        "             metrics=['accuracy'])\n",
        "\n",
        "model.fit(x_train,\n",
        "         y_train,\n",
        "         batch_size=64,\n",
        "         epochs=10,\n",
        "         validation_data=(x_valid, y_valid) ,verbose=2)\n",
        "\n",
        "\n",
        "# Evaluate the model on test set\n",
        "score = model.evaluate(x_test, y_test, verbose=0)\n",
        "\n",
        "# Print test accuracy\n",
        "print('\\n', 'Test accuracy:', score[1])\n",
        "e = time.time()\n",
        "print(e-s)"
      ],
      "execution_count": 0,
      "outputs": [
        {
          "output_type": "stream",
          "text": [
            "Epoch 1/10\n",
            "860/860 - 4s - loss: 0.5958 - accuracy: 0.7831 - val_loss: 0.3806 - val_accuracy: 0.8650\n",
            "Epoch 2/10\n",
            "860/860 - 3s - loss: 0.4168 - accuracy: 0.8484 - val_loss: 0.3188 - val_accuracy: 0.8882\n",
            "Epoch 3/10\n",
            "860/860 - 4s - loss: 0.3776 - accuracy: 0.8625 - val_loss: 0.3148 - val_accuracy: 0.8870\n",
            "Epoch 4/10\n",
            "860/860 - 4s - loss: 0.3500 - accuracy: 0.8721 - val_loss: 0.2884 - val_accuracy: 0.8936\n",
            "Epoch 5/10\n",
            "860/860 - 4s - loss: 0.3267 - accuracy: 0.8815 - val_loss: 0.2656 - val_accuracy: 0.9076\n",
            "Epoch 6/10\n",
            "860/860 - 4s - loss: 0.3132 - accuracy: 0.8861 - val_loss: 0.2606 - val_accuracy: 0.9054\n",
            "Epoch 7/10\n",
            "860/860 - 4s - loss: 0.2973 - accuracy: 0.8901 - val_loss: 0.2481 - val_accuracy: 0.9050\n",
            "Epoch 8/10\n",
            "860/860 - 4s - loss: 0.2871 - accuracy: 0.8951 - val_loss: 0.2472 - val_accuracy: 0.9048\n",
            "Epoch 9/10\n",
            "860/860 - 4s - loss: 0.2798 - accuracy: 0.8981 - val_loss: 0.2329 - val_accuracy: 0.9126\n",
            "Epoch 10/10\n",
            "860/860 - 4s - loss: 0.2742 - accuracy: 0.8993 - val_loss: 0.2357 - val_accuracy: 0.9124\n",
            "\n",
            " Test accuracy: 0.9108999967575073\n",
            "37.1841516494751\n"
          ],
          "name": "stdout"
        }
      ]
    },
    {
      "cell_type": "code",
      "metadata": {
        "id": "okbJzuJI9LyD",
        "colab_type": "code",
        "outputId": "cc116484-c3f2-49ff-b1a5-191f1f4e17bc",
        "colab": {
          "base_uri": "https://localhost:8080/",
          "height": 335
        }
      },
      "source": [
        "import numpy as np\n",
        "y_hat = model.predict(x_test)\n",
        "\n",
        "# Plot a random sample of 10 test images, their predicted labels and ground truth\n",
        "figure = plt.figure(figsize=(20, 8))\n",
        "for i, index in enumerate(np.random.choice(x_test.shape[0], size=15, replace=False)):\n",
        "    ax = figure.add_subplot(3, 5, i + 1, xticks=[], yticks=[])\n",
        "    # Display each image\n",
        "    ax.imshow(np.squeeze(x_test[index]))\n",
        "    predict_index = np.argmax(y_hat[index])\n",
        "    true_index = np.argmax(y_test[index])\n",
        "    # Set the title for each image\n",
        "    ax.set_title(\"{} ({})\".format(fashion_mnist_labels[predict_index], \n",
        "                                  fashion_mnist_labels[true_index]),\n",
        "                                  color=(\"green\" if predict_index == true_index else \"red\"))"
      ],
      "execution_count": 0,
      "outputs": [
        {
          "output_type": "display_data",
          "data": {
            "image/png": "[encoded data removed]",
            "text/plain": [
              "<Figure size 1440x576 with 15 Axes>"
            ]
          },
          "metadata": {
            "tags": []
          }
        }
      ]
    },
    {
      "cell_type": "code",
      "metadata": {
        "id": "8acxiHH1o8Y-",
        "colab_type": "code",
        "colab": {}
      },
      "source": [
        "# image2np.ipynb\n",
        "\n",
        "import os\n",
        "os.environ['TF_CPP_MIN_LOG_LEVEL']='2'\n",
        "import matplotlib.image as mpimg\n",
        "import csv\n",
        "\n",
        "def conv2np(fname):\n",
        "    # 그림 한장을 flatten 해서 수치로 출력한다.\n",
        "    # 32 * 32 * 3 = 3072개 숫자를 리턴한다.\n",
        "   image=mpimg.imread(fname)\n",
        "   return image.reshape(3072)\n",
        "\n",
        "\n",
        "def csvWriter(folder, csvName):\n",
        "    # 입력 폴더에서 이미지 리스트를 만들고 리스트에서 이미지를 하나씩 꺼내 (X, Y) 데이터를 생성\n",
        "    # \"cifar3Train.csv\", \"cifar3Test.csv\" 로 저장\n",
        "    images = os.listdir(folder)\n",
        "\n",
        "    xData = []\n",
        "    yData = []\n",
        "    for image in images:\n",
        "        if image.find('airplane') >= 0:     yData.append([1, 0, 0, 0, 0, 0, 0, 0, 0, 0])\n",
        "        elif image.find('automobile') >= 0: yData.append([0, 1, 0, 0, 0, 0, 0, 0, 0, 0])\n",
        "        elif image.find('bird') >= 0:       yData.append([0, 0, 1, 0, 0, 0, 0, 0, 0, 0])\n",
        "        elif image.find('cat') >= 0:        yData.append([0, 0, 0, 1, 0, 0, 0, 0, 0, 0])\n",
        "        elif image.find('deer') >= 0:       yData.append([0, 0, 0, 0, 1, 0, 0, 0, 0, 0])\n",
        "        elif image.find('dog') >= 0:        yData.append([0, 0, 0, 0, 0, 1, 0, 0, 0, 0])\n",
        "        elif image.find('frog') >= 0:       yData.append([0, 0, 0, 0, 0, 0, 1, 0, 0, 0])\n",
        "        elif image.find('horse') >= 0:      yData.append([0, 0, 0, 0, 0, 0, 0, 1, 0, 0])\n",
        "        elif image.find('ship') >= 0:       yData.append([0, 0, 0, 0, 0, 0, 0, 0, 1, 0])\n",
        "        elif image.find('truck') >= 0:      yData.append([0, 0, 0, 0, 0, 0, 0, 0, 0, 1])\n",
        "        else:\n",
        "            print(\"error\")\n",
        "        xData.append(conv2np(folder+image))\n",
        "\n",
        "    f = open(\"./\"+csvName, 'w', newline='')\n",
        "    writer = csv.writer(f)\n",
        "\n",
        "    for i in range(len(yData)):\n",
        "        temp = xData[i].tolist() + yData[i]\n",
        "        writer.writerow(temp)\n",
        "\n",
        "    f.close()\n",
        "\n",
        "csvWriter(\"D:/CNN/CIFAR10/train/\", \"cifar3Train.csv\")\n",
        "csvWriter(\"D:/CNN/CIFAR10/test/\", \"cifar3Test.csv\")"
      ],
      "execution_count": 0,
      "outputs": []
    },
    {
      "cell_type": "code",
      "metadata": {
        "id": "qnOCh3o99L2y",
        "colab_type": "code",
        "colab": {}
      },
      "source": [
        "# Cifar10_74_TF2.ipynb\n",
        "\n",
        "import tensorflow as tf\n",
        "from tensorflow.keras import layers, models\n",
        "from tensorflow.keras import datasets \n",
        "from tensorflow.keras.utils import to_categorical"
      ],
      "execution_count": 0,
      "outputs": []
    },
    {
      "cell_type": "code",
      "metadata": {
        "id": "qFBEkj4D9L7_",
        "colab_type": "code",
        "outputId": "9a5b3812-63ff-4b65-b200-5c96f59a530b",
        "colab": {
          "base_uri": "https://localhost:8080/",
          "height": 55
        }
      },
      "source": [
        "(x_train, y_train), (x_test, y_test) = datasets.cifar10.load_data()\n",
        "Y_train = to_categorical(y_train)\n",
        "Y_test = to_categorical(y_test)"
      ],
      "execution_count": 0,
      "outputs": [
        {
          "output_type": "stream",
          "text": [
            "Downloading data from https://www.cs.toronto.edu/~kriz/cifar-10-python.tar.gz\n",
            "170500096/170498071 [==============================] - 11s 0us/step\n"
          ],
          "name": "stdout"
        }
      ]
    },
    {
      "cell_type": "code",
      "metadata": {
        "id": "bHMEPJmF9MBj",
        "colab_type": "code",
        "outputId": "1cc17789-a633-43b9-a6b6-1f6f4c374b8b",
        "colab": {
          "base_uri": "https://localhost:8080/",
          "height": 73
        }
      },
      "source": [
        "# x_train.shape = (50000, 32, 32, 3)\n",
        "# x_test.shape = (10000, 32, 32, 3)\n",
        "\n",
        "print(x_train.shape[1:])\n",
        "img_rows, img_cols, _ = x_train.shape[1:]\n",
        "\n",
        "X_train = x_train.reshape(x_train.shape[0], img_rows, img_cols, 3)\n",
        "X_test = x_test.reshape(x_test.shape[0], img_rows, img_cols, 3)\n",
        "input_shape = (img_rows, img_cols, 3)\n",
        "\n",
        "X_train = X_train.astype('float32')\n",
        "X_test = X_test.astype('float32')\n",
        "X_train /= 255\n",
        "X_test /= 255\n",
        "print(Y_train[0])\n",
        "num_classes = 10\n",
        "batch_size = 32\n",
        "print(input_shape)"
      ],
      "execution_count": 0,
      "outputs": [
        {
          "output_type": "stream",
          "text": [
            "(32, 32, 3)\n",
            "[0. 0. 0. 0. 0. 0. 1. 0. 0. 0.]\n",
            "(32, 32, 3)\n"
          ],
          "name": "stdout"
        }
      ]
    },
    {
      "cell_type": "code",
      "metadata": {
        "id": "8hktO3kAH4uw",
        "colab_type": "code",
        "outputId": "bbaa6e9b-483e-4be2-e830-50b126581a5e",
        "colab": {
          "base_uri": "https://localhost:8080/",
          "height": 1000
        }
      },
      "source": [
        "# functional api model\n",
        "\n",
        "x = layers.Input(shape=input_shape,  name='input')\n",
        "# (B, 32, 32, 3)\n",
        "h = layers.Conv2D(32, kernel_size=(3, 3), activation='relu',  name='conv1')(x)\n",
        "# (B, 30, 30, 32)\n",
        "h = layers.Dropout(0.2)(h)\n",
        "# (B, 30, 30, 32)\n",
        "h = layers.Conv2D(32, kernel_size=(3, 3), activation='relu', padding='same', name='conv2')(h)\n",
        "# (B, 30, 30, 32)\n",
        "h = layers.MaxPooling2D(pool_size=(2, 2), name='pool1')(h)\n",
        "# (B, 15, 15, 32)\n",
        "h = layers.Conv2D(64, kernel_size=(3, 3), activation='relu', padding='same', name='conv3')(h)\n",
        "# (B, 15, 15, 64)\n",
        "h = layers.MaxPooling2D(pool_size=(2, 2), name='pool2')(h)\n",
        "# (B, 7, 7, 64)\n",
        "h = layers.Flatten()(h)\n",
        "# (B, 3136)\n",
        "h = layers.Dropout(0.2)(h)\n",
        "# (B, 3136)\n",
        "h = layers.Dense(512, activation='relu', name='poolhidden')(h)\n",
        "# (B, 512)\n",
        "h = layers.Dropout(0.2)(h)\n",
        "# (B, 512)\n",
        "y = layers.Dense(num_classes, activation='softmax', name='output')(h)\n",
        "# (B, 10)\n",
        "\n",
        "model = models.Model(x, y)\n",
        "print(model.summary())\n",
        "epochs = 25\n",
        "model.compile(loss='categorical_crossentropy', optimizer='adam', metrics=['accuracy'])\n",
        "# The professor says that it siuation is overfitting.\n",
        "# As the epoch increases, the loss of the train set decreases,\n",
        "# but the loss of the validation set does not decrease.\n",
        "history = model.fit(X_train, Y_train, batch_size=batch_size,\n",
        "          epochs=epochs, validation_split=0.1, verbose=2)\n",
        "\n",
        "score = model.evaluate(X_test, Y_test)\n",
        "print()\n",
        "print('Test loss:', score[0])\n",
        "print('Test accuracy:', score[1])"
      ],
      "execution_count": 0,
      "outputs": [
        {
          "output_type": "stream",
          "text": [
            "Model: \"model\"\n",
            "_________________________________________________________________\n",
            "Layer (type)                 Output Shape              Param #   \n",
            "=================================================================\n",
            "input (InputLayer)           [(None, 32, 32, 3)]       0         \n",
            "_________________________________________________________________\n",
            "conv1 (Conv2D)               (None, 30, 30, 32)        896       \n",
            "_________________________________________________________________\n",
            "dropout (Dropout)            (None, 30, 30, 32)        0         \n",
            "_________________________________________________________________\n",
            "conv2 (Conv2D)               (None, 30, 30, 32)        9248      \n",
            "_________________________________________________________________\n",
            "pool1 (MaxPooling2D)         (None, 15, 15, 32)        0         \n",
            "_________________________________________________________________\n",
            "conv3 (Conv2D)               (None, 15, 15, 64)        18496     \n",
            "_________________________________________________________________\n",
            "pool2 (MaxPooling2D)         (None, 7, 7, 64)          0         \n",
            "_________________________________________________________________\n",
            "flatten (Flatten)            (None, 3136)              0         \n",
            "_________________________________________________________________\n",
            "dropout_1 (Dropout)          (None, 3136)              0         \n",
            "_________________________________________________________________\n",
            "poolhidden (Dense)           (None, 512)               1606144   \n",
            "_________________________________________________________________\n",
            "dropout_2 (Dropout)          (None, 512)               0         \n",
            "_________________________________________________________________\n",
            "output (Dense)               (None, 10)                5130      \n",
            "=================================================================\n",
            "Total params: 1,639,914\n",
            "Trainable params: 1,639,914\n",
            "Non-trainable params: 0\n",
            "_________________________________________________________________\n",
            "None\n",
            "Epoch 1/25\n",
            "1407/1407 - 6s - loss: 1.4191 - accuracy: 0.4860 - val_loss: 1.0627 - val_accuracy: 0.6242\n",
            "Epoch 2/25\n",
            "1407/1407 - 6s - loss: 1.0321 - accuracy: 0.6315 - val_loss: 0.8960 - val_accuracy: 0.6834\n",
            "Epoch 3/25\n",
            "1407/1407 - 6s - loss: 0.8588 - accuracy: 0.6975 - val_loss: 0.8473 - val_accuracy: 0.7062\n",
            "Epoch 4/25\n",
            "1407/1407 - 6s - loss: 0.7345 - accuracy: 0.7423 - val_loss: 0.7576 - val_accuracy: 0.7392\n",
            "Epoch 5/25\n",
            "1407/1407 - 6s - loss: 0.6291 - accuracy: 0.7777 - val_loss: 0.7869 - val_accuracy: 0.7320\n",
            "Epoch 6/25\n",
            "1407/1407 - 6s - loss: 0.5438 - accuracy: 0.8092 - val_loss: 0.7526 - val_accuracy: 0.7484\n",
            "Epoch 7/25\n",
            "1407/1407 - 6s - loss: 0.4701 - accuracy: 0.8328 - val_loss: 0.7990 - val_accuracy: 0.7448\n",
            "Epoch 8/25\n",
            "1407/1407 - 6s - loss: 0.4056 - accuracy: 0.8536 - val_loss: 0.7803 - val_accuracy: 0.7542\n",
            "Epoch 9/25\n",
            "1407/1407 - 6s - loss: 0.3608 - accuracy: 0.8732 - val_loss: 0.8165 - val_accuracy: 0.7570\n",
            "Epoch 10/25\n",
            "1407/1407 - 6s - loss: 0.3230 - accuracy: 0.8846 - val_loss: 0.8448 - val_accuracy: 0.7496\n",
            "Epoch 11/25\n",
            "1407/1407 - 6s - loss: 0.2953 - accuracy: 0.8945 - val_loss: 0.8496 - val_accuracy: 0.7510\n",
            "Epoch 12/25\n",
            "1407/1407 - 6s - loss: 0.2716 - accuracy: 0.9040 - val_loss: 0.9638 - val_accuracy: 0.7370\n",
            "Epoch 13/25\n",
            "1407/1407 - 6s - loss: 0.2481 - accuracy: 0.9128 - val_loss: 0.9102 - val_accuracy: 0.7470\n",
            "Epoch 14/25\n",
            "1407/1407 - 6s - loss: 0.2294 - accuracy: 0.9191 - val_loss: 0.9668 - val_accuracy: 0.7512\n",
            "Epoch 15/25\n",
            "1407/1407 - 6s - loss: 0.2253 - accuracy: 0.9211 - val_loss: 0.9708 - val_accuracy: 0.7540\n",
            "Epoch 16/25\n",
            "1407/1407 - 6s - loss: 0.2118 - accuracy: 0.9264 - val_loss: 1.0328 - val_accuracy: 0.7478\n",
            "Epoch 17/25\n",
            "1407/1407 - 6s - loss: 0.2049 - accuracy: 0.9290 - val_loss: 0.9954 - val_accuracy: 0.7546\n",
            "Epoch 18/25\n",
            "1407/1407 - 6s - loss: 0.2006 - accuracy: 0.9300 - val_loss: 1.0118 - val_accuracy: 0.7512\n",
            "Epoch 19/25\n",
            "1407/1407 - 6s - loss: 0.1860 - accuracy: 0.9372 - val_loss: 1.0602 - val_accuracy: 0.7476\n",
            "Epoch 20/25\n",
            "1407/1407 - 6s - loss: 0.1848 - accuracy: 0.9368 - val_loss: 1.0070 - val_accuracy: 0.7504\n",
            "Epoch 21/25\n",
            "1407/1407 - 6s - loss: 0.1881 - accuracy: 0.9347 - val_loss: 1.0397 - val_accuracy: 0.7510\n",
            "Epoch 22/25\n",
            "1407/1407 - 6s - loss: 0.1792 - accuracy: 0.9385 - val_loss: 1.1125 - val_accuracy: 0.7448\n",
            "Epoch 23/25\n",
            "1407/1407 - 6s - loss: 0.1677 - accuracy: 0.9441 - val_loss: 1.1274 - val_accuracy: 0.7544\n",
            "Epoch 24/25\n",
            "1407/1407 - 6s - loss: 0.1633 - accuracy: 0.9456 - val_loss: 1.1283 - val_accuracy: 0.7500\n",
            "Epoch 25/25\n",
            "1407/1407 - 6s - loss: 0.1660 - accuracy: 0.9451 - val_loss: 1.1286 - val_accuracy: 0.7386\n",
            "313/313 [==============================] - 1s 2ms/step - loss: 1.1099 - accuracy: 0.7347\n",
            "\n",
            "Test loss: 1.109870433807373\n",
            "Test accuracy: 0.7347000241279602\n"
          ],
          "name": "stdout"
        }
      ]
    },
    {
      "cell_type": "markdown",
      "metadata": {
        "id": "Xx8jtBforDZP",
        "colab_type": "text"
      },
      "source": [
        "# Question"
      ]
    },
    {
      "cell_type": "markdown",
      "metadata": {
        "id": "cJFHNwdQrEog",
        "colab_type": "text"
      },
      "source": [
        "1. CNN에서 C는 무엇인가?\n",
        " * convolutional\n",
        "\n",
        "2. Mnist CNN의 정확도는?\n",
        " * 99%"
      ]
    },
    {
      "cell_type": "markdown",
      "metadata": {
        "id": "uwkcFEycyyZn",
        "colab_type": "text"
      },
      "source": [
        "3. fashion mnist의 이미지 크기는?\n",
        " * 28 x 28 x 1\n",
        "\n",
        "4. model.Sequential 말고 사용되는 model api는?\n",
        " * funtional api"
      ]
    }
  ]
}