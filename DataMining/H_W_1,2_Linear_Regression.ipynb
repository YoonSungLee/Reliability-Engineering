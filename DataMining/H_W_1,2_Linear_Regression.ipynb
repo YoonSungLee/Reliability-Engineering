{
  "nbformat": 4,
  "nbformat_minor": 0,
  "metadata": {
    "colab": {
      "name": "H.W #1,2.Linear Regression.ipynb",
      "provenance": [],
      "collapsed_sections": [],
      "authorship_tag": "ABX9TyOpWfpGzCfIP+gv/I9LM5kv"
    },
    "kernelspec": {
      "name": "python3",
      "display_name": "Python 3"
    }
  },
  "cells": [
    {
      "cell_type": "markdown",
      "metadata": {
        "id": "uge_DBwFxhXi",
        "colab_type": "text"
      },
      "source": [
        "H.W #1: 아래의 x, y 값을 선형 회귀식을 구하고 아래와 같은 Plot을 그리시오."
      ]
    },
    {
      "cell_type": "markdown",
      "metadata": {
        "id": "r_LUnlddxrZG",
        "colab_type": "text"
      },
      "source": [
        "<img src=\"https://i.imgur.com/0ya3iKt.png\" width=\"100%\">"
      ]
    },
    {
      "cell_type": "code",
      "metadata": {
        "id": "xnXeviZp3ZVv",
        "colab_type": "code",
        "outputId": "a8c9281c-1978-4d3a-f377-7647e3db7ddf",
        "colab": {
          "base_uri": "https://localhost:8080/",
          "height": 35
        }
      },
      "source": [
        "x = [1, 2, 3]\n",
        "y = [1, 3, 2]\n",
        "n = len(x)\n",
        "\n",
        "xbar = sum(x)/n\n",
        "ybar = sum(y)/n\n",
        "\n",
        "sumxx = sumxy = 0\n",
        "for i in range(n):\n",
        "    sumxx += (x[i] - xbar)**2\n",
        "    sumxy += (x[i] - xbar) * (y[i] - ybar)\n",
        "\n",
        "beta = sumxy/sumxx\n",
        "alpha = ybar - beta * xbar\n",
        "\n",
        "yhat = []\n",
        "for i in range(n):\n",
        "    yhat.append(alpha + beta *x[i])\n",
        "\n",
        "print('y =',alpha,'+', beta,'x + e')"
      ],
      "execution_count": 2,
      "outputs": [
        {
          "output_type": "stream",
          "text": [
            "y = 1.0 + 0.5 x + e\n"
          ],
          "name": "stdout"
        }
      ]
    },
    {
      "cell_type": "code",
      "metadata": {
        "id": "9KyForN0DyHc",
        "colab_type": "code",
        "colab": {
          "base_uri": "https://localhost:8080/",
          "height": 265
        },
        "outputId": "54e5d205-0215-44a6-990b-91bd796949d9"
      },
      "source": [
        "import matplotlib.pyplot as plt\n",
        "\n",
        "plt.scatter(x, y)\n",
        "plt.plot(x, yhat)\n",
        "plt.show()"
      ],
      "execution_count": 5,
      "outputs": [
        {
          "output_type": "display_data",
          "data": {
            "image/png": "[encoded data removed]",
            "text/plain": [
              "<Figure size 432x288 with 1 Axes>"
            ]
          },
          "metadata": {
            "tags": [],
            "needs_background": "light"
          }
        }
      ]
    },
    {
      "cell_type": "markdown",
      "metadata": {
        "id": "ZZhBCgIb6al3",
        "colab_type": "text"
      },
      "source": [
        "<img src=\"https://i.imgur.com/v885RBz.jpg\" width=\"100%\">"
      ]
    },
    {
      "cell_type": "markdown",
      "metadata": {
        "id": "cYOc4GQiydkP",
        "colab_type": "text"
      },
      "source": [
        "H.W #2: 위 문제를 행렬연산으로 구하시오."
      ]
    },
    {
      "cell_type": "markdown",
      "metadata": {
        "id": "QC4ltECnyfIp",
        "colab_type": "text"
      },
      "source": [
        "<img src=\"https://i.imgur.com/ZmzQnb4.png\" width=\"100%\">"
      ]
    },
    {
      "cell_type": "code",
      "metadata": {
        "id": "_YCRxGbl4zW2",
        "colab_type": "code",
        "outputId": "657fdbfc-c01b-46a5-eb90-e3cd66b747b9",
        "colab": {
          "base_uri": "https://localhost:8080/",
          "height": 55
        }
      },
      "source": [
        "import numpy as np\n",
        "\n",
        "x = np.array([[1,1],[1,2],[1,3]])\n",
        "y = np.array([[1],[3],[2]])\n",
        "\n",
        "beta = np.dot(np.dot(np.linalg.inv(np.dot(x.T, x)), x.T), y)\n",
        "\n",
        "print(beta)"
      ],
      "execution_count": 0,
      "outputs": [
        {
          "output_type": "stream",
          "text": [
            "[[1. ]\n",
            " [0.5]]\n"
          ],
          "name": "stdout"
        }
      ]
    },
    {
      "cell_type": "markdown",
      "metadata": {
        "id": "J8AqMk1ZywPx",
        "colab_type": "text"
      },
      "source": [
        "<img src=\"https://i.imgur.com/mzfmBak.jpg\" width=\"100%\">"
      ]
    }
  ]
}