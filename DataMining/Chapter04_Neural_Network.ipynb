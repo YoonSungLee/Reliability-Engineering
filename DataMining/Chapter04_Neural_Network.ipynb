{
  "nbformat": 4,
  "nbformat_minor": 0,
  "metadata": {
    "colab": {
      "name": "Chapter04_Neural Network.ipynb",
      "provenance": [],
      "collapsed_sections": [],
      "authorship_tag": "ABX9TyN4Qw/lpslU2pcmlcLYs2yh"
    },
    "kernelspec": {
      "name": "python3",
      "display_name": "Python 3"
    },
    "accelerator": "GPU"
  },
  "cells": [
    {
      "cell_type": "markdown",
      "metadata": {
        "id": "86eAeDqpqHPh",
        "colab_type": "text"
      },
      "source": [
        "# XOR"
      ]
    },
    {
      "cell_type": "markdown",
      "metadata": {
        "id": "_kksS_MwxRIS",
        "colab_type": "text"
      },
      "source": [
        "<img src=\"https://i.imgur.com/cQFdJq7.jpg\" width=\"100%\">"
      ]
    },
    {
      "cell_type": "code",
      "metadata": {
        "id": "QQdxMOWso4MY",
        "colab_type": "code",
        "outputId": "00194e38-3d09-4bdf-920d-9afe47ec73a8",
        "colab": {
          "base_uri": "https://localhost:8080/",
          "height": 92
        }
      },
      "source": [
        "# xor.ipynb\n",
        "import math\n",
        "import numpy as np\n",
        "\n",
        "def Sigmoid(x):\n",
        "    return 1/(1+np.exp(-x))\n",
        "\n",
        "x = np.array([[0,0],                            # (4,2)\n",
        "              [0,1],\n",
        "              [1,0],\n",
        "              [1,1]])\n",
        "\n",
        "w1 = np.array([[-2, 5, 4],                      # (2,3)\n",
        "               [ 3, 6, 3]])\n",
        "\n",
        "b1 = np.array([2, -2, -5])                      # (1,3)\n",
        "\n",
        "w2 = np.array([[-4],                            # (3,1)\n",
        "               [ 8],\n",
        "               [-8]])\n",
        "\n",
        "h = Sigmoid(np.dot(x,w1)+b1)                    # (4,2)*(2,3)+(1,3)=(4,3)\n",
        "y = Sigmoid(np.dot(h,w2))                       # (4,3)*(3,1)=(4,1)\n",
        "print (y)"
      ],
      "execution_count": 0,
      "outputs": [
        {
          "output_type": "stream",
          "text": [
            "[[0.06766597]\n",
            " [0.94927397]\n",
            " [0.96979454]\n",
            " [0.0542867 ]]\n"
          ],
          "name": "stdout"
        }
      ]
    },
    {
      "cell_type": "markdown",
      "metadata": {
        "id": "Nd3kPc_VqQcC",
        "colab_type": "text"
      },
      "source": [
        "# Backpropagation"
      ]
    },
    {
      "cell_type": "markdown",
      "metadata": {
        "id": "vnlJxY2iqT6n",
        "colab_type": "text"
      },
      "source": [
        "<img src=\"https://i.imgur.com/CEQ6mqx.jpg\" width=\"100%\">"
      ]
    },
    {
      "cell_type": "code",
      "metadata": {
        "id": "NeBmxqIIrbuP",
        "colab_type": "code",
        "outputId": "f7bc87b0-2c2e-4ce0-a085-830d35e6d6d8",
        "colab": {
          "base_uri": "https://localhost:8080/",
          "height": 129
        }
      },
      "source": [
        "# xor1.ipynb\n",
        "import numpy as np\n",
        "def Sigmoid(x):\n",
        "    return 1/(1+np.exp(-x))\n",
        "\n",
        "lamda = 1\n",
        "x=np.array([[0,0],[0,1],[1,0],[1,1]])\n",
        "t=np.array([[0],[1],[1],[0]])\n",
        "\n",
        "w1=2*np.random.rand(2,3)-1          # -1 ~ 1\n",
        "b1=2*np.random.rand(1,3)-1          # -1 ~ 1\n",
        "w2=2*np.random.rand(3,1)-1          # -1 ~ 1\n",
        "\n",
        "w1, b1, w2"
      ],
      "execution_count": 0,
      "outputs": [
        {
          "output_type": "execute_result",
          "data": {
            "text/plain": [
              "(array([[-0.95502897, -0.10115515, -0.4109373 ],\n",
              "        [-0.0604845 , -0.89544419,  0.47100726]]),\n",
              " array([[-0.51730176, -0.15551825,  0.3934197 ]]),\n",
              " array([[ 0.64137807],\n",
              "        [-0.33651734],\n",
              "        [-0.46654634]]))"
            ]
          },
          "metadata": {
            "tags": []
          },
          "execution_count": 1
        }
      ]
    },
    {
      "cell_type": "code",
      "metadata": {
        "id": "9dkJu659rucX",
        "colab_type": "code",
        "outputId": "2842bbaf-edd5-4439-9219-a92c942f4c29",
        "colab": {
          "base_uri": "https://localhost:8080/",
          "height": 92
        }
      },
      "source": [
        "for i in range(0,1000):\n",
        "    h=Sigmoid(np.dot(x,w1)+b1)\n",
        "    y=Sigmoid(np.dot(h,w2)) # dot(): matrix multiplication.\n",
        "    deltaY= np.multiply(y-t,np.multiply(y,(1-y))) # multiply(): Multiply arguments element-wise.\n",
        "    temp = np.multiply(w2.transpose(),np.multiply(h,(1-h)))\n",
        "    deltaH = deltaY * temp\n",
        "    w2=w2-np.dot(h.transpose(),lamda*deltaY)\n",
        "    w1=w1-np.dot(x.transpose(),lamda*deltaH)\n",
        "    b1=b1-lamda*deltaH\n",
        "print (y)"
      ],
      "execution_count": 0,
      "outputs": [
        {
          "output_type": "stream",
          "text": [
            "[[0.01607888]\n",
            " [0.9819435 ]\n",
            " [0.98196683]\n",
            " [0.01780796]]\n"
          ],
          "name": "stdout"
        }
      ]
    },
    {
      "cell_type": "code",
      "metadata": {
        "id": "1nnrUpUOuQoW",
        "colab_type": "code",
        "colab": {}
      },
      "source": [
        "# XOR_NN_TF2.ipynb\n",
        "\n",
        "import tensorflow as tf\n",
        "import numpy as np"
      ],
      "execution_count": 0,
      "outputs": []
    },
    {
      "cell_type": "code",
      "metadata": {
        "id": "P2qLPuLsuSUf",
        "colab_type": "code",
        "outputId": "dbf24d71-03eb-44c7-fa70-be021cb7822b",
        "colab": {
          "base_uri": "https://localhost:8080/",
          "height": 148
        }
      },
      "source": [
        "x = np.array([[0,0],[0,1],[1,0],[1,1]]).astype('float32')\n",
        "y = np.array([[0],[1],[1],[0]]).astype('float32')\n",
        "x, y"
      ],
      "execution_count": 0,
      "outputs": [
        {
          "output_type": "execute_result",
          "data": {
            "text/plain": [
              "(array([[0., 0.],\n",
              "        [0., 1.],\n",
              "        [1., 0.],\n",
              "        [1., 1.]], dtype=float32), array([[0.],\n",
              "        [1.],\n",
              "        [1.],\n",
              "        [0.]], dtype=float32))"
            ]
          },
          "metadata": {
            "tags": []
          },
          "execution_count": 4
        }
      ]
    },
    {
      "cell_type": "markdown",
      "metadata": {
        "id": "uHKXYwlwxXCG",
        "colab_type": "text"
      },
      "source": [
        "<img src=\"https://i.imgur.com/25JnIFQ.jpg\" width=\"100%\">"
      ]
    },
    {
      "cell_type": "code",
      "metadata": {
        "id": "wLs5JLfquSbe",
        "colab_type": "code",
        "colab": {}
      },
      "source": [
        "from tensorflow.keras import layers\n",
        "model = tf.keras.Sequential()\n",
        "model.add(layers.Dense(3, activation='sigmoid', input_dim=2))\n",
        "model.add(layers.Dense(1, activation='sigmoid'))\n",
        "sgd = tf.keras.optimizers.SGD(learning_rate=0.1)\n",
        "model.compile(optimizer=sgd,loss='binary_crossentropy',metrics=['accuracy'])"
      ],
      "execution_count": 0,
      "outputs": []
    },
    {
      "cell_type": "code",
      "metadata": {
        "id": "ZTUjX951uSg2",
        "colab_type": "code",
        "outputId": "415f1cca-b5cd-4bd5-b2ee-20a7537deea0",
        "colab": {
          "base_uri": "https://localhost:8080/",
          "height": 55
        }
      },
      "source": [
        "model.fit(x, y, epochs=10000, batch_size=4, verbose=0)  # default batch_size: 32\n",
        "model.evaluate(x, y)"
      ],
      "execution_count": 0,
      "outputs": [
        {
          "output_type": "stream",
          "text": [
            "1/1 [==============================] - 0s 2ms/step - loss: 0.0135 - accuracy: 1.0000\n"
          ],
          "name": "stdout"
        },
        {
          "output_type": "execute_result",
          "data": {
            "text/plain": [
              "[0.013456800021231174, 1.0]"
            ]
          },
          "metadata": {
            "tags": []
          },
          "execution_count": 6
        }
      ]
    },
    {
      "cell_type": "code",
      "metadata": {
        "id": "iyZPvRJtuSlO",
        "colab_type": "code",
        "outputId": "aaeb4d62-f829-4c31-ffa0-0752e9cc2232",
        "colab": {
          "base_uri": "https://localhost:8080/",
          "height": 92
        }
      },
      "source": [
        "predicted = model.predict(x)\n",
        "predicted"
      ],
      "execution_count": 0,
      "outputs": [
        {
          "output_type": "execute_result",
          "data": {
            "text/plain": [
              "array([[0.00349279],\n",
              "       [0.9827073 ],\n",
              "       [0.9880476 ],\n",
              "       [0.02064393]], dtype=float32)"
            ]
          },
          "metadata": {
            "tags": []
          },
          "execution_count": 7
        }
      ]
    },
    {
      "cell_type": "markdown",
      "metadata": {
        "id": "W-zPfVTnKcTf",
        "colab_type": "text"
      },
      "source": [
        "# ReLU"
      ]
    },
    {
      "cell_type": "markdown",
      "metadata": {
        "id": "E3OqYmixKfX_",
        "colab_type": "text"
      },
      "source": [
        "* sigmoid 함수에 비해 계산량이 작다.\n",
        "* ReLU의 음숫값이 0으로 죽는 현상을 개선하여 ReakyReLU 개발"
      ]
    },
    {
      "cell_type": "code",
      "metadata": {
        "id": "afsu_u3FGNnG",
        "colab_type": "code",
        "colab": {}
      },
      "source": [
        "# XOR_DNN_TF2.ipynb\n",
        "\n",
        "import tensorflow as tf\n",
        "import numpy as np"
      ],
      "execution_count": 0,
      "outputs": []
    },
    {
      "cell_type": "code",
      "metadata": {
        "id": "C1h6o2ebIOKi",
        "colab_type": "code",
        "colab": {
          "base_uri": "https://localhost:8080/",
          "height": 148
        },
        "outputId": "d05080d0-a049-4490-aea6-e7352c11a751"
      },
      "source": [
        "x = np.array([[0,0],[0,1],[1,0],[1,1]]).astype('float32')\n",
        "y = np.array([[0],[1],[1],[0]]).astype('float32')\n",
        "x, y"
      ],
      "execution_count": 4,
      "outputs": [
        {
          "output_type": "execute_result",
          "data": {
            "text/plain": [
              "(array([[0., 0.],\n",
              "        [0., 1.],\n",
              "        [1., 0.],\n",
              "        [1., 1.]], dtype=float32), array([[0.],\n",
              "        [1.],\n",
              "        [1.],\n",
              "        [0.]], dtype=float32))"
            ]
          },
          "metadata": {
            "tags": []
          },
          "execution_count": 4
        }
      ]
    },
    {
      "cell_type": "code",
      "metadata": {
        "id": "VoyPT7x0IAia",
        "colab_type": "code",
        "colab": {}
      },
      "source": [
        "from tensorflow.keras import layers\n",
        "\n",
        "#actFunc = 'sigmoid' # 학습이 안된다.\n",
        "actFunc = 'relu' # 된다.\n",
        "model = tf.keras.Sequential()\n",
        "model.add(layers.Dense(10, activation=actFunc, input_dim=2))\n",
        "model.add(layers.Dense(10, activation=actFunc))\n",
        "model.add(layers.Dense(10, activation=actFunc))\n",
        "model.add(layers.Dense(10, activation=actFunc))\n",
        "model.add(layers.Dense(10, activation=actFunc))\n",
        "model.add(layers.Dense(10, activation=actFunc))\n",
        "model.add(layers.Dense(10, activation=actFunc))\n",
        "model.add(layers.Dense(1, activation='sigmoid'))    # 출력값을 0~1로 만들기 위함\n",
        "sgd = tf.keras.optimizers.SGD(learning_rate=0.1)\n",
        "model.compile(optimizer=sgd,loss='binary_crossentropy',metrics=['accuracy'])"
      ],
      "execution_count": 0,
      "outputs": []
    },
    {
      "cell_type": "code",
      "metadata": {
        "id": "FpQd2LzGIAnI",
        "colab_type": "code",
        "colab": {
          "base_uri": "https://localhost:8080/",
          "height": 55
        },
        "outputId": "97fbbf10-3b94-4376-c2db-396157339bd1"
      },
      "source": [
        "model.fit(x, y, epochs=10000, batch_size=4, verbose=0)\n",
        "model.evaluate(x, y)"
      ],
      "execution_count": 6,
      "outputs": [
        {
          "output_type": "stream",
          "text": [
            "1/1 [==============================] - 0s 1ms/step - loss: 8.5666e-06 - accuracy: 1.0000\n"
          ],
          "name": "stdout"
        },
        {
          "output_type": "execute_result",
          "data": {
            "text/plain": [
              "[8.566623364458792e-06, 1.0]"
            ]
          },
          "metadata": {
            "tags": []
          },
          "execution_count": 6
        }
      ]
    },
    {
      "cell_type": "code",
      "metadata": {
        "id": "P-olfnL-IArA",
        "colab_type": "code",
        "colab": {
          "base_uri": "https://localhost:8080/",
          "height": 92
        },
        "outputId": "0a204312-f3a8-45d0-df5b-6c49bc5872e3"
      },
      "source": [
        "predicted = model.predict(x)\n",
        "predicted"
      ],
      "execution_count": 7,
      "outputs": [
        {
          "output_type": "execute_result",
          "data": {
            "text/plain": [
              "array([[1.0839906e-05],\n",
              "       [9.9999499e-01],\n",
              "       [9.9999201e-01],\n",
              "       [1.0443308e-05]], dtype=float32)"
            ]
          },
          "metadata": {
            "tags": []
          },
          "execution_count": 7
        }
      ]
    },
    {
      "cell_type": "markdown",
      "metadata": {
        "id": "W6HZq3tCIAvS",
        "colab_type": "text"
      },
      "source": [
        "# Initialization"
      ]
    },
    {
      "cell_type": "markdown",
      "metadata": {
        "id": "GxpC1WF1IAzh",
        "colab_type": "text"
      },
      "source": [
        "W=np.random.randn(fan_in, fan_out)/np.sqrt(fan_in) # Xavier initialization(2010)<br>\n",
        "W=np.random.randn(fan_in, fan_out)/np.sqrt(fan_in/2) #He initialization(2015)\n",
        "<br><br>\n",
        "fan_in: 이전 뉴런의 수\n",
        "fan_out: 이후 뉴런의 수"
      ]
    },
    {
      "cell_type": "markdown",
      "metadata": {
        "id": "irQ3XmyOIA3w",
        "colab_type": "text"
      },
      "source": [
        "# Dropout"
      ]
    },
    {
      "cell_type": "markdown",
      "metadata": {
        "id": "vm4rjDClIA8A",
        "colab_type": "text"
      },
      "source": [
        "결과에 많은 영향을 미쳤던 노드 뿐만 아니라 다른 노드들도 학습을 해주는 방법<br><br>\n",
        "\n",
        "tf.keras.layers.Dropout(0.3): 30%를 죽인다"
      ]
    },
    {
      "cell_type": "markdown",
      "metadata": {
        "id": "17-lkSXWIBII",
        "colab_type": "text"
      },
      "source": [
        "# Batch Normalization"
      ]
    },
    {
      "cell_type": "markdown",
      "metadata": {
        "id": "CjV1v8YQPE1U",
        "colab_type": "text"
      },
      "source": [
        "MNIST dataset을 예로 들어보자. MNIST dataset은 총 60000개의 이미지가 존재하고, 각 이미지는 (28,28)의 크기를 갖는다. 당연히 전체 dataset을 학습시키면 각 epoch마다 도출되는 cost값은 점점 줄어드는 추세이다. 그런데 이 방법은 각 epoch을 계산하는 시간이 오래 걸리기 때문에 전체 dataset을 batch로 나눠 batch 단위로 학습하고 cost가 도출된다. 우리는 이러한 방법을 SGD(Stochastic Gradient Descent)라고 한다. 왜냐하면 batch마다 도출되는 cost가 계속해서 줄어들지 않을 수 있기 때문이다. 이는 전체 dataset은 표준화되어있지만, 각 batch로 봤을 땐 표준화되어있지 않기 때문이다. 결국 cost curve는 전체적으로 감소하는 그래프이지만 들쭉날쭉하며 불안전한 양상을 보일것이다."
      ]
    },
    {
      "cell_type": "code",
      "metadata": {
        "id": "xchieHdRPFEr",
        "colab_type": "code",
        "colab": {}
      },
      "source": [
        "# Mnist_DNN_TF2.ipynb\n",
        "\n",
        "import tensorflow as tf\n",
        "import numpy as np"
      ],
      "execution_count": 0,
      "outputs": []
    },
    {
      "cell_type": "code",
      "metadata": {
        "id": "Del0AgQaPFJL",
        "colab_type": "code",
        "colab": {
          "base_uri": "https://localhost:8080/",
          "height": 55
        },
        "outputId": "b1f65e95-a140-438b-c7a3-8eb55df971ad"
      },
      "source": [
        "from tensorflow.keras import datasets\n",
        "from tensorflow.keras.utils import to_categorical\n",
        "mnist = datasets.mnist\n",
        "(train_x, train_y), (test_x, test_y) = mnist.load_data()"
      ],
      "execution_count": 2,
      "outputs": [
        {
          "output_type": "stream",
          "text": [
            "Downloading data from https://storage.googleapis.com/tensorflow/tf-keras-datasets/mnist.npz\n",
            "11493376/11490434 [==============================] - 0s 0us/step\n"
          ],
          "name": "stdout"
        }
      ]
    },
    {
      "cell_type": "code",
      "metadata": {
        "id": "0tjlCzHzk9za",
        "colab_type": "code",
        "colab": {
          "base_uri": "https://localhost:8080/",
          "height": 36
        },
        "outputId": "ab81dc3f-6944-4b33-b4c8-65a563265698"
      },
      "source": [
        "train_x.shape"
      ],
      "execution_count": 3,
      "outputs": [
        {
          "output_type": "execute_result",
          "data": {
            "text/plain": [
              "(60000, 28, 28)"
            ]
          },
          "metadata": {
            "tags": []
          },
          "execution_count": 3
        }
      ]
    },
    {
      "cell_type": "code",
      "metadata": {
        "id": "SaXppptMk931",
        "colab_type": "code",
        "colab": {}
      },
      "source": [
        "train_x = train_x.reshape(-1,784) \n",
        "test_x = test_x.reshape(-1,784) "
      ],
      "execution_count": 0,
      "outputs": []
    },
    {
      "cell_type": "code",
      "metadata": {
        "id": "T4hVj5Vek98A",
        "colab_type": "code",
        "colab": {}
      },
      "source": [
        "train_x = train_x / 255\n",
        "test_x = test_x / 255"
      ],
      "execution_count": 0,
      "outputs": []
    },
    {
      "cell_type": "code",
      "metadata": {
        "id": "fP2jrbpglGSA",
        "colab_type": "code",
        "colab": {
          "base_uri": "https://localhost:8080/",
          "height": 36
        },
        "outputId": "96496d26-acf6-4c9a-e721-48bec5b4d287"
      },
      "source": [
        "train_y_onehot = to_categorical(train_y)\n",
        "test_y_onehot = to_categorical(test_y)\n",
        "train_y_onehot[0]"
      ],
      "execution_count": 6,
      "outputs": [
        {
          "output_type": "execute_result",
          "data": {
            "text/plain": [
              "array([0., 0., 0., 0., 0., 1., 0., 0., 0., 0.], dtype=float32)"
            ]
          },
          "metadata": {
            "tags": []
          },
          "execution_count": 6
        }
      ]
    },
    {
      "cell_type": "code",
      "metadata": {
        "id": "BNjpGFUGlGWD",
        "colab_type": "code",
        "colab": {
          "base_uri": "https://localhost:8080/",
          "height": 223
        },
        "outputId": "15166586-9e21-4dcf-b716-e7451a0362fa"
      },
      "source": [
        "#Hidden Layer 추가\n",
        "from tensorflow.keras import layers\n",
        "model = tf.keras.Sequential()\n",
        "model.add(layers.Dense(256, activation='relu', input_dim=784))  # weights: 784x256+256\n",
        "model.add(layers.Dense(256, activation='relu'))                 # weights: 256x256+256\n",
        "model.add(layers.Dense(10, activation='softmax'))               # weights: 256x10+10\n",
        "model.compile(optimizer='sgd',loss='categorical_crossentropy',metrics=['accuracy'])\n",
        "model.fit(train_x, train_y_onehot, batch_size = 100, epochs=5)"
      ],
      "execution_count": 7,
      "outputs": [
        {
          "output_type": "stream",
          "text": [
            "Epoch 1/5\n",
            "600/600 [==============================] - 1s 2ms/step - loss: 1.0753 - accuracy: 0.7426\n",
            "Epoch 2/5\n",
            "600/600 [==============================] - 1s 2ms/step - loss: 0.4266 - accuracy: 0.8842\n",
            "Epoch 3/5\n",
            "600/600 [==============================] - 1s 2ms/step - loss: 0.3452 - accuracy: 0.9026\n",
            "Epoch 4/5\n",
            "600/600 [==============================] - 1s 2ms/step - loss: 0.3071 - accuracy: 0.9122\n",
            "Epoch 5/5\n",
            "600/600 [==============================] - 1s 2ms/step - loss: 0.2825 - accuracy: 0.9192\n"
          ],
          "name": "stdout"
        },
        {
          "output_type": "execute_result",
          "data": {
            "text/plain": [
              "<tensorflow.python.keras.callbacks.History at 0x7f14800f2780>"
            ]
          },
          "metadata": {
            "tags": []
          },
          "execution_count": 7
        }
      ]
    },
    {
      "cell_type": "code",
      "metadata": {
        "id": "j5nU4jqplGZo",
        "colab_type": "code",
        "colab": {
          "base_uri": "https://localhost:8080/",
          "height": 223
        },
        "outputId": "23fec7f1-0246-4457-c603-f4f1f4e127fd"
      },
      "source": [
        "# adam 옵티마이저 사용\n",
        "from tensorflow.keras import layers\n",
        "model = tf.keras.Sequential()\n",
        "model.add(layers.Dense(256, activation='relu', input_dim=784))\n",
        "model.add(layers.Dense(256, activation='relu'))\n",
        "model.add(layers.Dense(10, activation='softmax'))\n",
        "model.compile(optimizer='adam',loss='categorical_crossentropy',metrics=['accuracy'])\n",
        "model.fit(train_x, train_y_onehot, batch_size = 100, epochs=5)"
      ],
      "execution_count": 8,
      "outputs": [
        {
          "output_type": "stream",
          "text": [
            "Epoch 1/5\n",
            "600/600 [==============================] - 1s 2ms/step - loss: 0.2432 - accuracy: 0.9297\n",
            "Epoch 2/5\n",
            "600/600 [==============================] - 1s 2ms/step - loss: 0.0912 - accuracy: 0.9715\n",
            "Epoch 3/5\n",
            "600/600 [==============================] - 1s 2ms/step - loss: 0.0592 - accuracy: 0.9808\n",
            "Epoch 4/5\n",
            "600/600 [==============================] - 1s 2ms/step - loss: 0.0434 - accuracy: 0.9862\n",
            "Epoch 5/5\n",
            "600/600 [==============================] - 1s 2ms/step - loss: 0.0332 - accuracy: 0.9893\n"
          ],
          "name": "stdout"
        },
        {
          "output_type": "execute_result",
          "data": {
            "text/plain": [
              "<tensorflow.python.keras.callbacks.History at 0x7f143a5d81d0>"
            ]
          },
          "metadata": {
            "tags": []
          },
          "execution_count": 8
        }
      ]
    },
    {
      "cell_type": "code",
      "metadata": {
        "id": "5zHkknlGk-AB",
        "colab_type": "code",
        "colab": {
          "base_uri": "https://localhost:8080/",
          "height": 223
        },
        "outputId": "5aeb1c9f-9073-4f4b-f98f-c9aa31e1322b"
      },
      "source": [
        "# adam 옵티마이저 + He init.\n",
        "from tensorflow.keras import layers\n",
        "model = tf.keras.Sequential()\n",
        "model.add(layers.Dense(256, activation='relu', input_dim=784, kernel_initializer='he_normal'))\n",
        "model.add(layers.Dense(256, activation='relu', kernel_initializer='he_normal'))\n",
        "model.add(layers.Dense(10, activation='softmax', kernel_initializer='he_normal'))\n",
        "model.compile(optimizer='adam',loss='categorical_crossentropy',metrics=['accuracy'])\n",
        "model.fit(train_x, train_y_onehot, batch_size = 100, epochs=5)"
      ],
      "execution_count": 9,
      "outputs": [
        {
          "output_type": "stream",
          "text": [
            "Epoch 1/5\n",
            "600/600 [==============================] - 1s 2ms/step - loss: 0.2355 - accuracy: 0.9306\n",
            "Epoch 2/5\n",
            "600/600 [==============================] - 1s 2ms/step - loss: 0.0908 - accuracy: 0.9724\n",
            "Epoch 3/5\n",
            "600/600 [==============================] - 1s 2ms/step - loss: 0.0580 - accuracy: 0.9816\n",
            "Epoch 4/5\n",
            "600/600 [==============================] - 1s 2ms/step - loss: 0.0428 - accuracy: 0.9863\n",
            "Epoch 5/5\n",
            "600/600 [==============================] - 1s 2ms/step - loss: 0.0302 - accuracy: 0.9903\n"
          ],
          "name": "stdout"
        },
        {
          "output_type": "execute_result",
          "data": {
            "text/plain": [
              "<tensorflow.python.keras.callbacks.History at 0x7f1497a46ef0>"
            ]
          },
          "metadata": {
            "tags": []
          },
          "execution_count": 9
        }
      ]
    },
    {
      "cell_type": "code",
      "metadata": {
        "id": "258jEGAXPFOb",
        "colab_type": "code",
        "colab": {
          "base_uri": "https://localhost:8080/",
          "height": 55
        },
        "outputId": "985f0f64-cbb1-4afa-d783-57452ae2b8c0"
      },
      "source": [
        "model.evaluate(test_x, test_y_onehot)"
      ],
      "execution_count": 10,
      "outputs": [
        {
          "output_type": "stream",
          "text": [
            "313/313 [==============================] - 1s 2ms/step - loss: 0.0768 - accuracy: 0.9775\n"
          ],
          "name": "stdout"
        },
        {
          "output_type": "execute_result",
          "data": {
            "text/plain": [
              "[0.07684167474508286, 0.9775000214576721]"
            ]
          },
          "metadata": {
            "tags": []
          },
          "execution_count": 10
        }
      ]
    },
    {
      "cell_type": "code",
      "metadata": {
        "id": "DhSLQ00Sljl4",
        "colab_type": "code",
        "colab": {}
      },
      "source": [
        "# adam optimizer와 He 초기화 방법, 드롭아웃 추가\n",
        "from tensorflow.keras import layers\n",
        "model = tf.keras.Sequential()\n",
        "model.add(layers.Dense(256, activation='relu', kernel_initializer='he_normal', input_dim=784))\n",
        "model.add(layers.Dropout(0.3))\n",
        "model.add(layers.Dense(256, activation='relu', kernel_initializer='he_normal'))\n",
        "model.add(layers.Dropout(0.3))\n",
        "model.add(layers.Dense(10, activation='softmax'))\n",
        "model.compile(optimizer='adam',loss='categorical_crossentropy',metrics=['accuracy'])"
      ],
      "execution_count": 0,
      "outputs": []
    },
    {
      "cell_type": "code",
      "metadata": {
        "id": "nHhiciqYllaQ",
        "colab_type": "code",
        "colab": {
          "base_uri": "https://localhost:8080/",
          "height": 409
        },
        "outputId": "4901afad-f247-4058-b92e-575da3837960"
      },
      "source": [
        "model.fit(train_x, train_y_onehot, batch_size = 100, epochs=10)"
      ],
      "execution_count": 12,
      "outputs": [
        {
          "output_type": "stream",
          "text": [
            "Epoch 1/10\n",
            "600/600 [==============================] - 1s 2ms/step - loss: 0.3426 - accuracy: 0.8949\n",
            "Epoch 2/10\n",
            "600/600 [==============================] - 1s 2ms/step - loss: 0.1526 - accuracy: 0.9542\n",
            "Epoch 3/10\n",
            "600/600 [==============================] - 1s 2ms/step - loss: 0.1134 - accuracy: 0.9650\n",
            "Epoch 4/10\n",
            "600/600 [==============================] - 1s 2ms/step - loss: 0.0929 - accuracy: 0.9711\n",
            "Epoch 5/10\n",
            "600/600 [==============================] - 1s 2ms/step - loss: 0.0802 - accuracy: 0.9749\n",
            "Epoch 6/10\n",
            "600/600 [==============================] - 1s 2ms/step - loss: 0.0713 - accuracy: 0.9772\n",
            "Epoch 7/10\n",
            "600/600 [==============================] - 1s 2ms/step - loss: 0.0649 - accuracy: 0.9789\n",
            "Epoch 8/10\n",
            "600/600 [==============================] - 1s 2ms/step - loss: 0.0578 - accuracy: 0.9812\n",
            "Epoch 9/10\n",
            "600/600 [==============================] - 1s 2ms/step - loss: 0.0531 - accuracy: 0.9826\n",
            "Epoch 10/10\n",
            "600/600 [==============================] - 1s 2ms/step - loss: 0.0497 - accuracy: 0.9837\n"
          ],
          "name": "stdout"
        },
        {
          "output_type": "execute_result",
          "data": {
            "text/plain": [
              "<tensorflow.python.keras.callbacks.History at 0x7f143a48ce48>"
            ]
          },
          "metadata": {
            "tags": []
          },
          "execution_count": 12
        }
      ]
    },
    {
      "cell_type": "code",
      "metadata": {
        "id": "usj5KTV-lli4",
        "colab_type": "code",
        "colab": {
          "base_uri": "https://localhost:8080/",
          "height": 55
        },
        "outputId": "a46c4ad3-cd60-4249-abc9-895f1e736561"
      },
      "source": [
        "model.evaluate(test_x, test_y_onehot)"
      ],
      "execution_count": 13,
      "outputs": [
        {
          "output_type": "stream",
          "text": [
            "313/313 [==============================] - 1s 2ms/step - loss: 0.0712 - accuracy: 0.9788\n"
          ],
          "name": "stdout"
        },
        {
          "output_type": "execute_result",
          "data": {
            "text/plain": [
              "[0.07120649516582489, 0.9787999987602234]"
            ]
          },
          "metadata": {
            "tags": []
          },
          "execution_count": 13
        }
      ]
    },
    {
      "cell_type": "code",
      "metadata": {
        "id": "8eG21HRQllpY",
        "colab_type": "code",
        "colab": {
          "base_uri": "https://localhost:8080/",
          "height": 223
        },
        "outputId": "25b9e8a8-ca1b-4e4d-ff5b-21d097ba78c3"
      },
      "source": [
        "# 오버피팅 상황 만들기\n",
        "from tensorflow.keras import layers\n",
        "model = tf.keras.Sequential()\n",
        "model.add(layers.Dense(512, activation='relu', input_dim=784))\n",
        "\n",
        "model.add(layers.Dense(512, activation='relu'))\n",
        "\n",
        "model.add(layers.Dense(512, activation='relu'))\n",
        "\n",
        "model.add(layers.Dense(512, activation='relu'))\n",
        "\n",
        "model.add(layers.Dense(512, activation='relu'))\n",
        "\n",
        "model.add(layers.Dense(512, activation='relu'))\n",
        "\n",
        "model.add(layers.Dense(512, activation='relu'))\n",
        "\n",
        "model.add(layers.Dense(512, activation='relu'))\n",
        "\n",
        "model.add(layers.Dense(10, activation='softmax'))\n",
        "model.compile(optimizer='adam',loss='categorical_crossentropy',metrics=['accuracy'])\n",
        "model.fit(train_x, train_y_onehot, batch_size = 100, epochs=5)"
      ],
      "execution_count": 14,
      "outputs": [
        {
          "output_type": "stream",
          "text": [
            "Epoch 1/5\n",
            "600/600 [==============================] - 2s 4ms/step - loss: 0.2766 - accuracy: 0.9186\n",
            "Epoch 2/5\n",
            "600/600 [==============================] - 2s 3ms/step - loss: 0.1226 - accuracy: 0.9655\n",
            "Epoch 3/5\n",
            "600/600 [==============================] - 2s 3ms/step - loss: 0.0921 - accuracy: 0.9755\n",
            "Epoch 4/5\n",
            "600/600 [==============================] - 2s 3ms/step - loss: 0.0754 - accuracy: 0.9797\n",
            "Epoch 5/5\n",
            "600/600 [==============================] - 2s 3ms/step - loss: 0.0650 - accuracy: 0.9836\n"
          ],
          "name": "stdout"
        },
        {
          "output_type": "execute_result",
          "data": {
            "text/plain": [
              "<tensorflow.python.keras.callbacks.History at 0x7f143a283438>"
            ]
          },
          "metadata": {
            "tags": []
          },
          "execution_count": 14
        }
      ]
    },
    {
      "cell_type": "code",
      "metadata": {
        "id": "WNB6vLT0llvI",
        "colab_type": "code",
        "colab": {
          "base_uri": "https://localhost:8080/",
          "height": 55
        },
        "outputId": "2bd456d4-f09c-4e56-d127-6465be5c1f60"
      },
      "source": [
        "model.evaluate(test_x, test_y_onehot)"
      ],
      "execution_count": 15,
      "outputs": [
        {
          "output_type": "stream",
          "text": [
            "313/313 [==============================] - 1s 2ms/step - loss: 0.1161 - accuracy: 0.9714\n"
          ],
          "name": "stdout"
        },
        {
          "output_type": "execute_result",
          "data": {
            "text/plain": [
              "[0.11612177640199661, 0.9714000225067139]"
            ]
          },
          "metadata": {
            "tags": []
          },
          "execution_count": 15
        }
      ]
    },
    {
      "cell_type": "code",
      "metadata": {
        "id": "rddMO9SYlvbw",
        "colab_type": "code",
        "colab": {}
      },
      "source": [
        "model.save(\"test.h5\")"
      ],
      "execution_count": 0,
      "outputs": []
    },
    {
      "cell_type": "code",
      "metadata": {
        "id": "AnD7hSm8lyGw",
        "colab_type": "code",
        "colab": {
          "base_uri": "https://localhost:8080/",
          "height": 36
        },
        "outputId": "5bd5f3cf-0dfd-454e-fa81-9bc5d4bab9bf"
      },
      "source": [
        "!ls "
      ],
      "execution_count": 17,
      "outputs": [
        {
          "output_type": "stream",
          "text": [
            "sample_data  test.h5\n"
          ],
          "name": "stdout"
        }
      ]
    },
    {
      "cell_type": "code",
      "metadata": {
        "id": "hctZQn-FlyMA",
        "colab_type": "code",
        "colab": {
          "base_uri": "https://localhost:8080/",
          "height": 55
        },
        "outputId": "279eca58-976b-4227-a822-2e0c7e46d0cf"
      },
      "source": [
        "import tensorflow as tf\n",
        "from tensorflow.keras import datasets\n",
        "from tensorflow.keras.utils import to_categorical\n",
        "#from tensorflow import keras\n",
        "mnist = datasets.mnist\n",
        "(train_x, train_y), (test_x, test_y) = mnist.load_data()\n",
        "train_x = train_x.reshape(-1,784) \n",
        "test_x = test_x.reshape(-1,784)\n",
        "train_x = train_x / 255\n",
        "test_x = test_x / 255\n",
        "train_y_onehot = to_categorical(train_y)\n",
        "test_y_onehot = to_categorical(test_y)\n",
        "train_y_onehot[0]\n",
        "\n",
        "model = tf.keras.models.load_model('test.h5')\n",
        "model.evaluate(test_x, test_y_onehot)"
      ],
      "execution_count": 18,
      "outputs": [
        {
          "output_type": "stream",
          "text": [
            "313/313 [==============================] - 1s 2ms/step - loss: 0.1161 - accuracy: 0.9714\n"
          ],
          "name": "stdout"
        },
        {
          "output_type": "execute_result",
          "data": {
            "text/plain": [
              "[0.11612177640199661, 0.9714000225067139]"
            ]
          },
          "metadata": {
            "tags": []
          },
          "execution_count": 18
        }
      ]
    },
    {
      "cell_type": "code",
      "metadata": {
        "id": "RF3Ls3QllyQ5",
        "colab_type": "code",
        "colab": {
          "base_uri": "https://localhost:8080/",
          "height": 388
        },
        "outputId": "479e9e61-c58e-47df-f958-09d5403dfcee"
      },
      "source": [
        "import tensorflow as tf\n",
        "my_devices = tf.config.experimental.list_physical_devices(device_type='CPU')\n",
        "tf.config.experimental.set_visible_devices(devices= my_devices, device_type='CPU')"
      ],
      "execution_count": 19,
      "outputs": [
        {
          "output_type": "error",
          "ename": "RuntimeError",
          "evalue": "ignored",
          "traceback": [
            "\u001b[0;31m---------------------------------------------------------------------------\u001b[0m",
            "\u001b[0;31mRuntimeError\u001b[0m                              Traceback (most recent call last)",
            "\u001b[0;32m<ipython-input-19-b2413dfc3f5e>\u001b[0m in \u001b[0;36m<module>\u001b[0;34m()\u001b[0m\n\u001b[1;32m      1\u001b[0m \u001b[0;32mimport\u001b[0m \u001b[0mtensorflow\u001b[0m \u001b[0;32mas\u001b[0m \u001b[0mtf\u001b[0m\u001b[0;34m\u001b[0m\u001b[0;34m\u001b[0m\u001b[0m\n\u001b[1;32m      2\u001b[0m \u001b[0mmy_devices\u001b[0m \u001b[0;34m=\u001b[0m \u001b[0mtf\u001b[0m\u001b[0;34m.\u001b[0m\u001b[0mconfig\u001b[0m\u001b[0;34m.\u001b[0m\u001b[0mexperimental\u001b[0m\u001b[0;34m.\u001b[0m\u001b[0mlist_physical_devices\u001b[0m\u001b[0;34m(\u001b[0m\u001b[0mdevice_type\u001b[0m\u001b[0;34m=\u001b[0m\u001b[0;34m'CPU'\u001b[0m\u001b[0;34m)\u001b[0m\u001b[0;34m\u001b[0m\u001b[0;34m\u001b[0m\u001b[0m\n\u001b[0;32m----> 3\u001b[0;31m \u001b[0mtf\u001b[0m\u001b[0;34m.\u001b[0m\u001b[0mconfig\u001b[0m\u001b[0;34m.\u001b[0m\u001b[0mexperimental\u001b[0m\u001b[0;34m.\u001b[0m\u001b[0mset_visible_devices\u001b[0m\u001b[0;34m(\u001b[0m\u001b[0mdevices\u001b[0m\u001b[0;34m=\u001b[0m \u001b[0mmy_devices\u001b[0m\u001b[0;34m,\u001b[0m \u001b[0mdevice_type\u001b[0m\u001b[0;34m=\u001b[0m\u001b[0;34m'CPU'\u001b[0m\u001b[0;34m)\u001b[0m\u001b[0;34m\u001b[0m\u001b[0;34m\u001b[0m\u001b[0m\n\u001b[0m",
            "\u001b[0;32m/usr/local/lib/python3.6/dist-packages/tensorflow/python/framework/config.py\u001b[0m in \u001b[0;36mset_visible_devices\u001b[0;34m(devices, device_type)\u001b[0m\n\u001b[1;32m    441\u001b[0m     \u001b[0mRuntimeError\u001b[0m\u001b[0;34m:\u001b[0m \u001b[0mRuntime\u001b[0m \u001b[0;32mis\u001b[0m \u001b[0malready\u001b[0m \u001b[0minitialized\u001b[0m\u001b[0;34m.\u001b[0m\u001b[0;34m\u001b[0m\u001b[0;34m\u001b[0m\u001b[0m\n\u001b[1;32m    442\u001b[0m   \"\"\"\n\u001b[0;32m--> 443\u001b[0;31m   \u001b[0mcontext\u001b[0m\u001b[0;34m.\u001b[0m\u001b[0mcontext\u001b[0m\u001b[0;34m(\u001b[0m\u001b[0;34m)\u001b[0m\u001b[0;34m.\u001b[0m\u001b[0mset_visible_devices\u001b[0m\u001b[0;34m(\u001b[0m\u001b[0mdevices\u001b[0m\u001b[0;34m,\u001b[0m \u001b[0mdevice_type\u001b[0m\u001b[0;34m)\u001b[0m\u001b[0;34m\u001b[0m\u001b[0;34m\u001b[0m\u001b[0m\n\u001b[0m\u001b[1;32m    444\u001b[0m \u001b[0;34m\u001b[0m\u001b[0m\n\u001b[1;32m    445\u001b[0m \u001b[0;34m\u001b[0m\u001b[0m\n",
            "\u001b[0;32m/usr/local/lib/python3.6/dist-packages/tensorflow/python/eager/context.py\u001b[0m in \u001b[0;36mset_visible_devices\u001b[0;34m(self, devices, device_type)\u001b[0m\n\u001b[1;32m   1292\u001b[0m     \u001b[0;32mif\u001b[0m \u001b[0mself\u001b[0m\u001b[0;34m.\u001b[0m\u001b[0m_context_handle\u001b[0m \u001b[0;32mis\u001b[0m \u001b[0;32mnot\u001b[0m \u001b[0;32mNone\u001b[0m\u001b[0;34m:\u001b[0m\u001b[0;34m\u001b[0m\u001b[0;34m\u001b[0m\u001b[0m\n\u001b[1;32m   1293\u001b[0m       raise RuntimeError(\n\u001b[0;32m-> 1294\u001b[0;31m           \"Visible devices cannot be modified after being initialized\")\n\u001b[0m\u001b[1;32m   1295\u001b[0m \u001b[0;34m\u001b[0m\u001b[0m\n\u001b[1;32m   1296\u001b[0m     \u001b[0mself\u001b[0m\u001b[0;34m.\u001b[0m\u001b[0m_visible_device_list\u001b[0m \u001b[0;34m=\u001b[0m \u001b[0mvisible_device_list\u001b[0m\u001b[0;34m\u001b[0m\u001b[0;34m\u001b[0m\u001b[0m\n",
            "\u001b[0;31mRuntimeError\u001b[0m: Visible devices cannot be modified after being initialized"
          ]
        }
      ]
    },
    {
      "cell_type": "code",
      "metadata": {
        "id": "YbEEzSEJl1MI",
        "colab_type": "code",
        "colab": {
          "base_uri": "https://localhost:8080/",
          "height": 73
        },
        "outputId": "82eaae36-d2eb-4910-b456-387a63365243"
      },
      "source": [
        "a = tf.constant([[1.0, 2.0, 3.0], [4.0, 5.0, 6.0]])\n",
        "b = tf.constant([[1.0, 2.0], [3.0, 4.0], [5.0, 6.0]])\n",
        "c = tf.matmul(a, b)\n",
        "c"
      ],
      "execution_count": 20,
      "outputs": [
        {
          "output_type": "execute_result",
          "data": {
            "text/plain": [
              "<tf.Tensor: shape=(2, 2), dtype=float32, numpy=\n",
              "array([[22., 28.],\n",
              "       [49., 64.]], dtype=float32)>"
            ]
          },
          "metadata": {
            "tags": []
          },
          "execution_count": 20
        }
      ]
    },
    {
      "cell_type": "markdown",
      "metadata": {
        "id": "4kFbKAqKpwD9",
        "colab_type": "text"
      },
      "source": [
        "# Quiz"
      ]
    },
    {
      "cell_type": "markdown",
      "metadata": {
        "id": "77bgvSf6gjKp",
        "colab_type": "text"
      },
      "source": [
        "1. 시그모이드함수의 미분값은?\n",
        " * S(x)(1-S(x))\n",
        "\n",
        "2. Backpropagation에서 Back의 의미는?\n",
        " * 신경망에서 우측결과로 좌측 값을 계산한다."
      ]
    },
    {
      "cell_type": "markdown",
      "metadata": {
        "id": "cRvB_eQ3MtP-",
        "colab_type": "text"
      },
      "source": [
        "3. dropout 설명에서 나온 축구선수가 아닌 것은?\n",
        " * 박지성(O), 손흥민(O), 안정환\n",
        "4. SGD에서 S는 무엇의 약자인가?\n",
        " * Stochastic"
      ]
    }
  ]
}