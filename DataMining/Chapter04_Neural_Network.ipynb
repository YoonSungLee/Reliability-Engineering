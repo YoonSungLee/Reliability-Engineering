{
  "nbformat": 4,
  "nbformat_minor": 0,
  "metadata": {
    "colab": {
      "name": "Chapter04_Neural Network.ipynb",
      "provenance": [],
      "collapsed_sections": [],
      "authorship_tag": "ABX9TyNOBq26CYSgwjbenyXy8dJc"
    },
    "kernelspec": {
      "name": "python3",
      "display_name": "Python 3"
    },
    "accelerator": "GPU"
  },
  "cells": [
    {
      "cell_type": "markdown",
      "metadata": {
        "id": "86eAeDqpqHPh",
        "colab_type": "text"
      },
      "source": [
        "# XOR"
      ]
    },
    {
      "cell_type": "markdown",
      "metadata": {
        "id": "_kksS_MwxRIS",
        "colab_type": "text"
      },
      "source": [
        "<img src=\"https://i.imgur.com/cQFdJq7.jpg\" width=\"100%\">"
      ]
    },
    {
      "cell_type": "code",
      "metadata": {
        "id": "QQdxMOWso4MY",
        "colab_type": "code",
        "outputId": "00194e38-3d09-4bdf-920d-9afe47ec73a8",
        "colab": {
          "base_uri": "https://localhost:8080/",
          "height": 92
        }
      },
      "source": [
        "# xor.ipynb\n",
        "import math\n",
        "import numpy as np\n",
        "\n",
        "def Sigmoid(x):\n",
        "    return 1/(1+np.exp(-x))\n",
        "\n",
        "x = np.array([[0,0],                            # (4,2)\n",
        "              [0,1],\n",
        "              [1,0],\n",
        "              [1,1]])\n",
        "\n",
        "w1 = np.array([[-2, 5, 4],                      # (2,3)\n",
        "               [ 3, 6, 3]])\n",
        "\n",
        "b1 = np.array([2, -2, -5])                      # (1,3)\n",
        "\n",
        "w2 = np.array([[-4],                            # (3,1)\n",
        "               [ 8],\n",
        "               [-8]])\n",
        "\n",
        "h = Sigmoid(np.dot(x,w1)+b1)                    # (4,2)*(2,3)+(1,3)=(4,3)\n",
        "y = Sigmoid(np.dot(h,w2))                       # (4,3)*(3,1)=(4,1)\n",
        "print (y)"
      ],
      "execution_count": 0,
      "outputs": [
        {
          "output_type": "stream",
          "text": [
            "[[0.06766597]\n",
            " [0.94927397]\n",
            " [0.96979454]\n",
            " [0.0542867 ]]\n"
          ],
          "name": "stdout"
        }
      ]
    },
    {
      "cell_type": "markdown",
      "metadata": {
        "id": "Nd3kPc_VqQcC",
        "colab_type": "text"
      },
      "source": [
        "# Backpropagation"
      ]
    },
    {
      "cell_type": "markdown",
      "metadata": {
        "id": "vnlJxY2iqT6n",
        "colab_type": "text"
      },
      "source": [
        "<img src=\"https://i.imgur.com/CEQ6mqx.jpg\" width=\"100%\">"
      ]
    },
    {
      "cell_type": "code",
      "metadata": {
        "id": "NeBmxqIIrbuP",
        "colab_type": "code",
        "outputId": "f7bc87b0-2c2e-4ce0-a085-830d35e6d6d8",
        "colab": {
          "base_uri": "https://localhost:8080/",
          "height": 129
        }
      },
      "source": [
        "# xor1.ipynb\n",
        "import numpy as np\n",
        "def Sigmoid(x):\n",
        "    return 1/(1+np.exp(-x))\n",
        "\n",
        "lamda = 1\n",
        "x=np.array([[0,0],[0,1],[1,0],[1,1]])\n",
        "t=np.array([[0],[1],[1],[0]])\n",
        "\n",
        "w1=2*np.random.rand(2,3)-1          # -1 ~ 1\n",
        "b1=2*np.random.rand(1,3)-1          # -1 ~ 1\n",
        "w2=2*np.random.rand(3,1)-1          # -1 ~ 1\n",
        "\n",
        "w1, b1, w2"
      ],
      "execution_count": 0,
      "outputs": [
        {
          "output_type": "execute_result",
          "data": {
            "text/plain": [
              "(array([[-0.95502897, -0.10115515, -0.4109373 ],\n",
              "        [-0.0604845 , -0.89544419,  0.47100726]]),\n",
              " array([[-0.51730176, -0.15551825,  0.3934197 ]]),\n",
              " array([[ 0.64137807],\n",
              "        [-0.33651734],\n",
              "        [-0.46654634]]))"
            ]
          },
          "metadata": {
            "tags": []
          },
          "execution_count": 1
        }
      ]
    },
    {
      "cell_type": "code",
      "metadata": {
        "id": "9dkJu659rucX",
        "colab_type": "code",
        "outputId": "2842bbaf-edd5-4439-9219-a92c942f4c29",
        "colab": {
          "base_uri": "https://localhost:8080/",
          "height": 92
        }
      },
      "source": [
        "for i in range(0,1000):\n",
        "    h=Sigmoid(np.dot(x,w1)+b1)\n",
        "    y=Sigmoid(np.dot(h,w2)) # dot(): matrix multiplication.\n",
        "    deltaY= np.multiply(y-t,np.multiply(y,(1-y))) # multiply(): Multiply arguments element-wise.\n",
        "    temp = np.multiply(w2.transpose(),np.multiply(h,(1-h)))\n",
        "    deltaH = deltaY * temp\n",
        "    w2=w2-np.dot(h.transpose(),lamda*deltaY)\n",
        "    w1=w1-np.dot(x.transpose(),lamda*deltaH)\n",
        "    b1=b1-lamda*deltaH\n",
        "print (y)"
      ],
      "execution_count": 0,
      "outputs": [
        {
          "output_type": "stream",
          "text": [
            "[[0.01607888]\n",
            " [0.9819435 ]\n",
            " [0.98196683]\n",
            " [0.01780796]]\n"
          ],
          "name": "stdout"
        }
      ]
    },
    {
      "cell_type": "code",
      "metadata": {
        "id": "1nnrUpUOuQoW",
        "colab_type": "code",
        "colab": {}
      },
      "source": [
        "# XOR_NN_TF2.ipynb\n",
        "\n",
        "import tensorflow as tf\n",
        "import numpy as np"
      ],
      "execution_count": 0,
      "outputs": []
    },
    {
      "cell_type": "code",
      "metadata": {
        "id": "P2qLPuLsuSUf",
        "colab_type": "code",
        "outputId": "dbf24d71-03eb-44c7-fa70-be021cb7822b",
        "colab": {
          "base_uri": "https://localhost:8080/",
          "height": 148
        }
      },
      "source": [
        "x = np.array([[0,0],[0,1],[1,0],[1,1]]).astype('float32')\n",
        "y = np.array([[0],[1],[1],[0]]).astype('float32')\n",
        "x, y"
      ],
      "execution_count": 0,
      "outputs": [
        {
          "output_type": "execute_result",
          "data": {
            "text/plain": [
              "(array([[0., 0.],\n",
              "        [0., 1.],\n",
              "        [1., 0.],\n",
              "        [1., 1.]], dtype=float32), array([[0.],\n",
              "        [1.],\n",
              "        [1.],\n",
              "        [0.]], dtype=float32))"
            ]
          },
          "metadata": {
            "tags": []
          },
          "execution_count": 4
        }
      ]
    },
    {
      "cell_type": "markdown",
      "metadata": {
        "id": "uHKXYwlwxXCG",
        "colab_type": "text"
      },
      "source": [
        "<img src=\"https://i.imgur.com/25JnIFQ.jpg\" width=\"100%\">"
      ]
    },
    {
      "cell_type": "code",
      "metadata": {
        "id": "wLs5JLfquSbe",
        "colab_type": "code",
        "colab": {}
      },
      "source": [
        "from tensorflow.keras import layers\n",
        "model = tf.keras.Sequential()\n",
        "model.add(layers.Dense(3, activation='sigmoid', input_dim=2))\n",
        "model.add(layers.Dense(1, activation='sigmoid'))\n",
        "sgd = tf.keras.optimizers.SGD(learning_rate=0.1)\n",
        "model.compile(optimizer=sgd,loss='binary_crossentropy',metrics=['accuracy'])"
      ],
      "execution_count": 0,
      "outputs": []
    },
    {
      "cell_type": "code",
      "metadata": {
        "id": "ZTUjX951uSg2",
        "colab_type": "code",
        "outputId": "415f1cca-b5cd-4bd5-b2ee-20a7537deea0",
        "colab": {
          "base_uri": "https://localhost:8080/",
          "height": 55
        }
      },
      "source": [
        "model.fit(x, y, epochs=10000, batch_size=4, verbose=0)  # default batch_size: 32\n",
        "model.evaluate(x, y)"
      ],
      "execution_count": 0,
      "outputs": [
        {
          "output_type": "stream",
          "text": [
            "1/1 [==============================] - 0s 2ms/step - loss: 0.0135 - accuracy: 1.0000\n"
          ],
          "name": "stdout"
        },
        {
          "output_type": "execute_result",
          "data": {
            "text/plain": [
              "[0.013456800021231174, 1.0]"
            ]
          },
          "metadata": {
            "tags": []
          },
          "execution_count": 6
        }
      ]
    },
    {
      "cell_type": "code",
      "metadata": {
        "id": "iyZPvRJtuSlO",
        "colab_type": "code",
        "outputId": "aaeb4d62-f829-4c31-ffa0-0752e9cc2232",
        "colab": {
          "base_uri": "https://localhost:8080/",
          "height": 92
        }
      },
      "source": [
        "predicted = model.predict(x)\n",
        "predicted"
      ],
      "execution_count": 0,
      "outputs": [
        {
          "output_type": "execute_result",
          "data": {
            "text/plain": [
              "array([[0.00349279],\n",
              "       [0.9827073 ],\n",
              "       [0.9880476 ],\n",
              "       [0.02064393]], dtype=float32)"
            ]
          },
          "metadata": {
            "tags": []
          },
          "execution_count": 7
        }
      ]
    },
    {
      "cell_type": "markdown",
      "metadata": {
        "id": "4kFbKAqKpwD9",
        "colab_type": "text"
      },
      "source": [
        "# Quiz"
      ]
    },
    {
      "cell_type": "markdown",
      "metadata": {
        "id": "77bgvSf6gjKp",
        "colab_type": "text"
      },
      "source": [
        "1. 시그모이드함수의 미분값은?\n",
        " * S(x)(1-S(x))\n",
        "\n",
        "2. Backpropagation에서 Back의 의미는?\n",
        " * 신경망에서 우측결과로 좌측 값을 계산한다."
      ]
    }
  ]
}