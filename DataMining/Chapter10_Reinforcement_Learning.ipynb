{
  "nbformat": 4,
  "nbformat_minor": 0,
  "metadata": {
    "colab": {
      "name": "Chapter10_Reinforcement Learning.ipynb",
      "provenance": [],
      "collapsed_sections": [],
      "authorship_tag": "ABX9TyM1OGL1k0TpRSMAtuE5yG4X"
    },
    "kernelspec": {
      "name": "python3",
      "display_name": "Python 3"
    }
  },
  "cells": [
    {
      "cell_type": "markdown",
      "metadata": {
        "id": "UILFTEEVT97P",
        "colab_type": "text"
      },
      "source": [
        "<img src='https://i.postimg.cc/YCGGP392/image.png' width='100%'>"
      ]
    },
    {
      "cell_type": "markdown",
      "metadata": {
        "id": "Kg0UWf62YBnA",
        "colab_type": "text"
      },
      "source": [
        "<img src='https://i.postimg.cc/nrSrRjfQ/image.png' width='100%'>"
      ]
    },
    {
      "cell_type": "markdown",
      "metadata": {
        "id": "jTtcjtCTYLda",
        "colab_type": "text"
      },
      "source": [
        "# Question"
      ]
    },
    {
      "cell_type": "markdown",
      "metadata": {
        "id": "uNMFpltKYM4e",
        "colab_type": "text"
      },
      "source": [
        "강화학습에 사용한 게임예제는?\n",
        " * Cart Pole --> O\n",
        " * Angry Bird\n",
        " * Candy Crush"
      ]
    }
  ]
}