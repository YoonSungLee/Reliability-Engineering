{
  "nbformat": 4,
  "nbformat_minor": 0,
  "metadata": {
    "colab": {
      "name": "Chapter09_딥러닝 응용분야.ipynb",
      "provenance": [],
      "collapsed_sections": [],
      "authorship_tag": "ABX9TyMbiWJhdEW0ekUvppylgyPR"
    },
    "kernelspec": {
      "name": "python3",
      "display_name": "Python 3"
    }
  },
  "cells": [
    {
      "cell_type": "markdown",
      "metadata": {
        "id": "b3qKKUNfLQUL",
        "colab_type": "text"
      },
      "source": [
        "# GAN"
      ]
    },
    {
      "cell_type": "markdown",
      "metadata": {
        "id": "klQdROm_EjC7",
        "colab_type": "text"
      },
      "source": [
        "<img src='https://i.postimg.cc/26wdc6KQ/image.png' width='100%'>"
      ]
    },
    {
      "cell_type": "markdown",
      "metadata": {
        "id": "yEgl9zTWLTbc",
        "colab_type": "text"
      },
      "source": [
        "# Object Detection"
      ]
    },
    {
      "cell_type": "markdown",
      "metadata": {
        "id": "HPUeCugOMwdy",
        "colab_type": "text"
      },
      "source": [
        "<img src='https://i.postimg.cc/9frTCb0n/image.png' width='100%'>"
      ]
    },
    {
      "cell_type": "markdown",
      "metadata": {
        "id": "yAtU1JRyQbP6",
        "colab_type": "text"
      },
      "source": [
        "<img src='https://i.postimg.cc/tgK1yHLs/image.png' width='100%'>"
      ]
    },
    {
      "cell_type": "markdown",
      "metadata": {
        "id": "tBCrCdn4Q9G1",
        "colab_type": "text"
      },
      "source": [
        "# 지문 인식"
      ]
    },
    {
      "cell_type": "markdown",
      "metadata": {
        "id": "95dnpzzFRGJU",
        "colab_type": "text"
      },
      "source": [
        "<img src='https://i.postimg.cc/3NnJyMbC/image.png' width='100%'>"
      ]
    }
  ]
}