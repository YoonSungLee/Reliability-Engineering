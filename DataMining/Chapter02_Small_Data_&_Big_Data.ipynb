{
  "nbformat": 4,
  "nbformat_minor": 0,
  "metadata": {
    "colab": {
      "name": "Chapter02_Small Data & Big Data.ipynb",
      "provenance": [],
      "collapsed_sections": [],
      "authorship_tag": "ABX9TyOWbyiDf9Po+he30UItTGro",
      "include_colab_link": true
    },
    "kernelspec": {
      "name": "python3",
      "display_name": "Python 3"
    }
  },
  "cells": [
    {
      "cell_type": "markdown",
      "metadata": {
        "id": "view-in-github",
        "colab_type": "text"
      },
      "source": [
        "<a href=\"https://colab.research.google.com/github/YoonSungLee/University-Lectures/blob/master/DataMining/Chapter02_Small_Data_%26_Big_Data.ipynb\" target=\"_parent\"><img src=\"https://colab.research.google.com/assets/colab-badge.svg\" alt=\"Open In Colab\"/></a>"
      ]
    },
    {
      "cell_type": "markdown",
      "metadata": {
        "id": "VPVXbQP7xotz",
        "colab_type": "text"
      },
      "source": [
        "# Log Data"
      ]
    },
    {
      "cell_type": "markdown",
      "metadata": {
        "id": "lc43femq7IeO",
        "colab_type": "text"
      },
      "source": [
        "ex) user들의 행동\n",
        "1. 가자마자 나간다.\n",
        "2. banner click --> keyword search --> 나간다.\n",
        "3. ... --> 장바구니에 넣는다. --> 나간다."
      ]
    },
    {
      "cell_type": "markdown",
      "metadata": {
        "id": "hU_ys1gx7ffw",
        "colab_type": "text"
      },
      "source": [
        "위의 데이터들은 길이가 모두 다르다(sequential).<br>\n",
        "--> 분석이 어려움(SAS, R의 한계)<br>\n",
        "--> programming적인 방법 필요"
      ]
    },
    {
      "cell_type": "markdown",
      "metadata": {
        "id": "JhrUWI4O7utv",
        "colab_type": "text"
      },
      "source": [
        "# 비정형데이터"
      ]
    },
    {
      "cell_type": "markdown",
      "metadata": {
        "id": "G_NnqUk-7xIx",
        "colab_type": "text"
      },
      "source": [
        "Image Data<br>\n",
        "ex) pixel(picture element): 해상도=1920x1080\n",
        "<br><br>\n",
        "Sound Data: 시계열 데이터"
      ]
    },
    {
      "cell_type": "markdown",
      "metadata": {
        "id": "ePwq0fxC7-KX",
        "colab_type": "text"
      },
      "source": [
        "# 통계"
      ]
    },
    {
      "cell_type": "markdown",
      "metadata": {
        "id": "0zNjXD6MTbt-",
        "colab_type": "text"
      },
      "source": [
        "* Galton(1800년대 말)\n",
        "* Pearson\n",
        "* Fisher: F분포, 실험계획법"
      ]
    },
    {
      "cell_type": "markdown",
      "metadata": {
        "id": "KcwcvDkdThw5",
        "colab_type": "text"
      },
      "source": [
        "# Small Data"
      ]
    },
    {
      "cell_type": "markdown",
      "metadata": {
        "id": "Noww1gb4TkMm",
        "colab_type": "text"
      },
      "source": [
        "Data수집에 시간과 비용이 많이 소요 --> small data 수집"
      ]
    },
    {
      "cell_type": "markdown",
      "metadata": {
        "id": "hgvhEncuTpcp",
        "colab_type": "text"
      },
      "source": [
        "# 오차"
      ]
    },
    {
      "cell_type": "markdown",
      "metadata": {
        "id": "3sUJ7beATrA5",
        "colab_type": "text"
      },
      "source": [
        "* 표본오차: 전수조사의 값과 표본조사의 값 사이의 차이\n",
        "* 비표본오차: 과학적 접근이 어려워 계산이 불가능<br>\n",
        "ex) 샤이트럼프"
      ]
    },
    {
      "cell_type": "markdown",
      "metadata": {
        "id": "XbCQfIdDT19M",
        "colab_type": "text"
      },
      "source": [
        "# Linear, Non Linear"
      ]
    },
    {
      "cell_type": "markdown",
      "metadata": {
        "id": "46S2KLSLT-TC",
        "colab_type": "text"
      },
      "source": [
        "1. Linear\n",
        "* y = ax + b\n",
        "* 문제를 단순화하고 예측보다는 구조파악만 하는 경우"
      ]
    },
    {
      "cell_type": "markdown",
      "metadata": {
        "id": "vleaiaLNUFgs",
        "colab_type": "text"
      },
      "source": [
        "2. Non-linear\n",
        "* y=sin(x), y=exp(x), y=1/(1+exp(x))"
      ]
    },
    {
      "cell_type": "markdown",
      "metadata": {
        "id": "cwCpvH5IUQkY",
        "colab_type": "text"
      },
      "source": [
        "ex)<br>\n",
        "y = exp(ax+b): Non-linear, Curve Linear<br>\n",
        "<br>\n",
        "y = exp(ax+b) --> Non-linear\n",
        "ln(y) = ax+b<br>\n",
        "y' = ax+b --> Linear"
      ]
    },
    {
      "cell_type": "markdown",
      "metadata": {
        "id": "2SBmPUArUuzw",
        "colab_type": "text"
      },
      "source": [
        "# 교락(confounding)"
      ]
    },
    {
      "cell_type": "markdown",
      "metadata": {
        "id": "uwQB1wfQUzYC",
        "colab_type": "text"
      },
      "source": [
        "다른 인자나 블록 인자 또는 교호 작용에 의한 효과와 인자 간의 미소 효과나 인자의 주 효과가 구분되지 않고 혼합되는 일"
      ]
    },
    {
      "cell_type": "markdown",
      "metadata": {
        "id": "-mfsGj19islw",
        "colab_type": "text"
      },
      "source": [
        "# Quiz"
      ]
    },
    {
      "cell_type": "markdown",
      "metadata": {
        "id": "ifxJKFLTit9F",
        "colab_type": "text"
      },
      "source": [
        "1. 2강에서 소개되는 통계학자의 이름이 아닌 것은?\n",
        "  * Pearson(O), Fisher(O), Bayes(X)\n",
        "2. 과학적으로 계산이 불가능한 오차는?\n",
        "  * 비표본오차"
      ]
    }
  ]
}