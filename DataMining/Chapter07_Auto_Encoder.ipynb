{
  "nbformat": 4,
  "nbformat_minor": 0,
  "metadata": {
    "colab": {
      "name": "Chapter07_Auto Encoder.ipynb",
      "provenance": [],
      "collapsed_sections": [],
      "machine_shape": "hm",
      "authorship_tag": "ABX9TyOp7PDl0orpxiJNXq1mmIS8"
    },
    "kernelspec": {
      "name": "python3",
      "display_name": "Python 3"
    },
    "accelerator": "GPU"
  },
  "cells": [
    {
      "cell_type": "markdown",
      "metadata": {
        "id": "NAbK7MxAyTgY",
        "colab_type": "text"
      },
      "source": [
        "# AutuEncoder"
      ]
    },
    {
      "cell_type": "markdown",
      "metadata": {
        "id": "lpnAcB4iyUsD",
        "colab_type": "text"
      },
      "source": [
        "<img src='https://i.postimg.cc/VNp9ctR1/image.png' width='100%'>"
      ]
    },
    {
      "cell_type": "markdown",
      "metadata": {
        "id": "buhmrpcK0x6C",
        "colab_type": "text"
      },
      "source": [
        "# PCA"
      ]
    },
    {
      "cell_type": "markdown",
      "metadata": {
        "id": "8xY9-NY6yO3y",
        "colab_type": "text"
      },
      "source": [
        "<img src='https://i.postimg.cc/PrWSzSMD/image.png' width='100%'>"
      ]
    },
    {
      "cell_type": "markdown",
      "metadata": {
        "id": "gKb0RoEQ0y2I",
        "colab_type": "text"
      },
      "source": [
        "<img src='https://i.postimg.cc/RhRvwcpz/11.jpg' width='100%'>"
      ]
    },
    {
      "cell_type": "markdown",
      "metadata": {
        "id": "t3Aq8Z8iw4sj",
        "colab_type": "text"
      },
      "source": [
        "<img src='https://i.postimg.cc/s27dpY10/22.jpg' width='100%'>"
      ]
    },
    {
      "cell_type": "code",
      "metadata": {
        "id": "k6xMqe0t0zaQ",
        "colab_type": "code",
        "outputId": "b63ace85-7c6c-4124-80cd-c99a2f99344c",
        "colab": {
          "base_uri": "https://localhost:8080/",
          "height": 71
        }
      },
      "source": [
        "# PCA.ipynb\n",
        "\n",
        "import numpy as np\n",
        "\n",
        "x = np.array([[1, 2, 3],\n",
        "              [2, 4, 5],\n",
        "              [3, 7, 6],\n",
        "              [4, 7, 7]])\n",
        "\n",
        "np.cov(x, ddof=1, rowvar=0)"
      ],
      "execution_count": 0,
      "outputs": [
        {
          "output_type": "execute_result",
          "data": {
            "text/plain": [
              "array([[1.66666667, 3.        , 2.16666667],\n",
              "       [3.        , 6.        , 4.        ],\n",
              "       [2.16666667, 4.        , 2.91666667]])"
            ]
          },
          "metadata": {
            "tags": []
          },
          "execution_count": 1
        }
      ]
    },
    {
      "cell_type": "markdown",
      "metadata": {
        "id": "_kC7nCpm1LDS",
        "colab_type": "text"
      },
      "source": [
        "Sxy = ((x[i]-x_bar)(y[i]-y_bar))/(n-1)<br>\n",
        "위의 식을 모든 i에 대하여 구하고 합을 구하면 Sxy를 구할 수 있다. 이를 np.cov로 구할 때, default 설정은 Sxy 구하는 식에서 n으로 나누지만, ddof=1 설정은 n-1로 나눈다."
      ]
    },
    {
      "cell_type": "code",
      "metadata": {
        "id": "rAPqHEYTxZgo",
        "colab_type": "code",
        "outputId": "76d051f9-640f-4390-d0be-478205f74c89",
        "colab": {
          "base_uri": "https://localhost:8080/",
          "height": 89
        }
      },
      "source": [
        "def standardScaler(X):\n",
        "    return (X - np.mean(X, axis = 0)) / np.std(X, ddof = 1, axis = 0)\n",
        "\n",
        "x_norm = standardScaler(x)\n",
        "x_norm"
      ],
      "execution_count": 0,
      "outputs": [
        {
          "output_type": "execute_result",
          "data": {
            "text/plain": [
              "array([[-1.161895  , -1.22474487, -1.3174651 ],\n",
              "       [-0.38729833, -0.40824829, -0.14638501],\n",
              "       [ 0.38729833,  0.81649658,  0.43915503],\n",
              "       [ 1.161895  ,  0.81649658,  1.02469508]])"
            ]
          },
          "metadata": {
            "tags": []
          },
          "execution_count": 2
        }
      ]
    },
    {
      "cell_type": "code",
      "metadata": {
        "id": "V0NBBzNfxdFD",
        "colab_type": "code",
        "outputId": "945b5075-acab-46f6-f5a2-c5bb99af53de",
        "colab": {
          "base_uri": "https://localhost:8080/",
          "height": 71
        }
      },
      "source": [
        "np.cov(x_norm, ddof=1, rowvar=0)"
      ],
      "execution_count": 0,
      "outputs": [
        {
          "output_type": "execute_result",
          "data": {
            "text/plain": [
              "array([[1.        , 0.9486833 , 0.98270763],\n",
              "       [0.9486833 , 1.        , 0.95618289],\n",
              "       [0.98270763, 0.95618289, 1.        ]])"
            ]
          },
          "metadata": {
            "tags": []
          },
          "execution_count": 5
        }
      ]
    },
    {
      "cell_type": "code",
      "metadata": {
        "id": "dUOP1j7QxdJp",
        "colab_type": "code",
        "outputId": "052d2661-c000-4ae2-9035-61f599e7ba04",
        "colab": {
          "base_uri": "https://localhost:8080/",
          "height": 89
        }
      },
      "source": [
        "from sklearn.decomposition import PCA\n",
        "pca = PCA(n_components=3)\n",
        "proj = pca.fit_transform(x_norm) # PCA Score \n",
        "proj"
      ],
      "execution_count": 0,
      "outputs": [
        {
          "output_type": "execute_result",
          "data": {
            "text/plain": [
              "array([[ 2.13871405e+00, -9.87784130e-03, -1.07326328e-01],\n",
              "       [ 5.43064902e-01, -9.93796928e-02,  1.82481305e-01],\n",
              "       [-9.46945423e-01,  3.35884161e-01,  7.58467885e-05],\n",
              "       [-1.73483353e+00, -2.26626627e-01, -7.52308241e-02]])"
            ]
          },
          "metadata": {
            "tags": []
          },
          "execution_count": 6
        }
      ]
    },
    {
      "cell_type": "code",
      "metadata": {
        "id": "TxSPEen3xdNH",
        "colab_type": "code",
        "outputId": "ffdd9dab-6c55-44da-d85d-14b2dda646e5",
        "colab": {
          "base_uri": "https://localhost:8080/",
          "height": 71
        }
      },
      "source": [
        "diag = np.diag(pca.explained_variance_) # eigen values\n",
        "diag"
      ],
      "execution_count": 0,
      "outputs": [
        {
          "output_type": "execute_result",
          "data": {
            "text/plain": [
              "array([[2.92512342, 0.        , 0.        ],\n",
              "       [0.        , 0.05805056, 0.        ],\n",
              "       [0.        , 0.        , 0.01682602]])"
            ]
          },
          "metadata": {
            "tags": []
          },
          "execution_count": 7
        }
      ]
    },
    {
      "cell_type": "code",
      "metadata": {
        "id": "jdHsoNGxxdRC",
        "colab_type": "code",
        "outputId": "95dac993-aa62-41ec-b572-ece3e27b1ffa",
        "colab": {
          "base_uri": "https://localhost:8080/",
          "height": 35
        }
      },
      "source": [
        "np.sum(diag)"
      ],
      "execution_count": 0,
      "outputs": [
        {
          "output_type": "execute_result",
          "data": {
            "text/plain": [
              "3.0000000000000027"
            ]
          },
          "metadata": {
            "tags": []
          },
          "execution_count": 8
        }
      ]
    },
    {
      "cell_type": "code",
      "metadata": {
        "id": "J57rENRKxdUj",
        "colab_type": "code",
        "outputId": "addb53cc-e035-4083-b30c-fd6d0a130e30",
        "colab": {
          "base_uri": "https://localhost:8080/",
          "height": 71
        }
      },
      "source": [
        "eVector = pca.components_.T\n",
        "eVector"
      ],
      "execution_count": 0,
      "outputs": [
        {
          "output_type": "execute_result",
          "data": {
            "text/plain": [
              "array([[-0.57863474, -0.47810253, -0.66075699],\n",
              "       [-0.57328039,  0.81467958, -0.08744579],\n",
              "       [-0.58011329, -0.32819986,  0.74548872]])"
            ]
          },
          "metadata": {
            "tags": []
          },
          "execution_count": 9
        }
      ]
    },
    {
      "cell_type": "code",
      "metadata": {
        "id": "2NRPE5p9xdYn",
        "colab_type": "code",
        "outputId": "02ff312a-54ba-4ef8-d416-52863eec1d65",
        "colab": {
          "base_uri": "https://localhost:8080/",
          "height": 71
        }
      },
      "source": [
        "cov = np.dot(np.dot(eVector, diag), eVector.T)\n",
        "cov\n"
      ],
      "execution_count": 0,
      "outputs": [
        {
          "output_type": "execute_result",
          "data": {
            "text/plain": [
              "array([[1.        , 0.9486833 , 0.98270763],\n",
              "       [0.9486833 , 1.        , 0.95618289],\n",
              "       [0.98270763, 0.95618289, 1.        ]])"
            ]
          },
          "metadata": {
            "tags": []
          },
          "execution_count": 10
        }
      ]
    },
    {
      "cell_type": "code",
      "metadata": {
        "id": "FHmu64lvy-qb",
        "colab_type": "code",
        "outputId": "beb3e05f-13d7-4218-894c-8edfd98a952b",
        "colab": {
          "base_uri": "https://localhost:8080/",
          "height": 379
        }
      },
      "source": [
        "from sklearn.datasets import load_digits\n",
        "from matplotlib import pyplot as plt\n",
        "import numpy as np\n",
        "digits = load_digits()\n",
        "print(digits.data.shape)     # digits는 (1797, 64) 데이터로 8*8 숫자 이미지다.\n",
        "fig = plt.figure(figsize=(6, 6)) # figure size in inches\n",
        "for i in range(64):\n",
        "    ax = fig.add_subplot(8, 8, i + 1, xticks=[], yticks=[])\n",
        "    ax.imshow(digits.images[i], cmap=plt.cm.binary, interpolation='nearest')\n",
        "\n"
      ],
      "execution_count": 0,
      "outputs": [
        {
          "output_type": "stream",
          "text": [
            "(1797, 64)\n"
          ],
          "name": "stdout"
        },
        {
          "output_type": "display_data",
          "data": {
            "image/png": "[encoded data removed]",
            "text/plain": [
              "<Figure size 432x432 with 64 Axes>"
            ]
          },
          "metadata": {
            "tags": []
          }
        }
      ]
    },
    {
      "cell_type": "code",
      "metadata": {
        "id": "dDd1MX38y-j-",
        "colab_type": "code",
        "outputId": "ebe4405d-9c90-477f-8d8e-14563bf921b5",
        "colab": {
          "base_uri": "https://localhost:8080/",
          "height": 35
        }
      },
      "source": [
        "from sklearn.preprocessing import StandardScaler\n",
        "scaler = StandardScaler()\n",
        "scaler.fit(digits.data)\n",
        "digits.data = scaler.transform(digits.data)\n",
        "np.mean(digits.data[:,43]), np.std(digits.data[:,43])   # mean=0, std=1\n"
      ],
      "execution_count": 0,
      "outputs": [
        {
          "output_type": "execute_result",
          "data": {
            "text/plain": [
              "(9.094314369773124e-17, 1.000000000000003)"
            ]
          },
          "metadata": {
            "tags": []
          },
          "execution_count": 12
        }
      ]
    },
    {
      "cell_type": "code",
      "metadata": {
        "id": "7EMyEeLWy-d4",
        "colab_type": "code",
        "outputId": "ae853a66-cf56-49b7-f473-89f9c84d0792",
        "colab": {
          "base_uri": "https://localhost:8080/",
          "height": 35
        }
      },
      "source": [
        "from sklearn.decomposition import PCA\n",
        "pca = PCA(n_components=64)\n",
        "proj = pca.fit_transform(digits.data) # PCA Score \n",
        "proj.shape  # proj는 PCA를 통해 (1797,3) 데이터로 64개의 차원을 3차원으로 줄인 데이터다.\n"
      ],
      "execution_count": 0,
      "outputs": [
        {
          "output_type": "execute_result",
          "data": {
            "text/plain": [
              "(1797, 64)"
            ]
          },
          "metadata": {
            "tags": []
          },
          "execution_count": 13
        }
      ]
    },
    {
      "cell_type": "code",
      "metadata": {
        "id": "5pRF4415y-Yz",
        "colab_type": "code",
        "outputId": "b7b91628-ed70-4c50-920e-7764c025f61b",
        "colab": {
          "base_uri": "https://localhost:8080/",
          "height": 253
        }
      },
      "source": [
        "diag = np.diag(pca.explained_variance_)\n",
        "diag"
      ],
      "execution_count": 0,
      "outputs": [
        {
          "output_type": "execute_result",
          "data": {
            "text/plain": [
              "array([[7.34477606e+00, 0.00000000e+00, 0.00000000e+00, ...,\n",
              "        0.00000000e+00, 0.00000000e+00, 0.00000000e+00],\n",
              "       [0.00000000e+00, 5.83549054e+00, 0.00000000e+00, ...,\n",
              "        0.00000000e+00, 0.00000000e+00, 0.00000000e+00],\n",
              "       [0.00000000e+00, 0.00000000e+00, 5.15396118e+00, ...,\n",
              "        0.00000000e+00, 0.00000000e+00, 0.00000000e+00],\n",
              "       ...,\n",
              "       [0.00000000e+00, 0.00000000e+00, 0.00000000e+00, ...,\n",
              "        1.97430140e-31, 0.00000000e+00, 0.00000000e+00],\n",
              "       [0.00000000e+00, 0.00000000e+00, 0.00000000e+00, ...,\n",
              "        0.00000000e+00, 3.90222011e-32, 0.00000000e+00],\n",
              "       [0.00000000e+00, 0.00000000e+00, 0.00000000e+00, ...,\n",
              "        0.00000000e+00, 0.00000000e+00, 3.84266959e-32]])"
            ]
          },
          "metadata": {
            "tags": []
          },
          "execution_count": 14
        }
      ]
    },
    {
      "cell_type": "code",
      "metadata": {
        "id": "_HhbSNR3y-UZ",
        "colab_type": "code",
        "outputId": "276831f8-5bd2-4fa8-aff7-87f2408842ee",
        "colab": {
          "base_uri": "https://localhost:8080/",
          "height": 35
        }
      },
      "source": [
        "np.sum(diag)"
      ],
      "execution_count": 0,
      "outputs": [
        {
          "output_type": "execute_result",
          "data": {
            "text/plain": [
              "61.03396436525619"
            ]
          },
          "metadata": {
            "tags": []
          },
          "execution_count": 15
        }
      ]
    },
    {
      "cell_type": "code",
      "metadata": {
        "id": "zGRpMaDny-OO",
        "colab_type": "code",
        "colab": {}
      },
      "source": [
        "eVector = pca.components_"
      ],
      "execution_count": 0,
      "outputs": []
    },
    {
      "cell_type": "code",
      "metadata": {
        "id": "cwfe_qQ_zEaH",
        "colab_type": "code",
        "outputId": "c3f63240-fb0f-48dd-9903-8e24791e89e3",
        "colab": {
          "base_uri": "https://localhost:8080/",
          "height": 253
        }
      },
      "source": [
        "cov = np.dot(np.dot(eVector, diag), eVector.T)\n",
        "cov"
      ],
      "execution_count": 0,
      "outputs": [
        {
          "output_type": "execute_result",
          "data": {
            "text/plain": [
              "array([[ 1.29957210e+00, -9.14078178e-02,  1.41877356e-01, ...,\n",
              "        -2.25437889e-16, -1.58758523e-16,  6.34062845e-18],\n",
              "       [-9.14078178e-02,  8.55031581e-01, -2.35686048e-01, ...,\n",
              "        -8.77890102e-17,  3.50021641e-17,  4.72659026e-18],\n",
              "       [ 1.41877356e-01, -2.35686048e-01,  5.27086813e-01, ...,\n",
              "         1.99259716e-16, -7.83384809e-18, -2.92409631e-17],\n",
              "       ...,\n",
              "       [-2.25437889e-16, -8.77890102e-17,  1.99259716e-16, ...,\n",
              "         3.99082642e-01,  1.82528813e-03,  2.90956631e-33],\n",
              "       [-1.58758523e-16,  3.50021641e-17, -7.83384809e-18, ...,\n",
              "         1.82528813e-03,  2.58296665e-01,  3.85000566e-33],\n",
              "       [ 6.34062845e-18,  4.72659026e-18, -2.92409631e-17, ...,\n",
              "         2.90956631e-33,  3.85000566e-33,  7.34477606e+00]])"
            ]
          },
          "metadata": {
            "tags": []
          },
          "execution_count": 17
        }
      ]
    },
    {
      "cell_type": "code",
      "metadata": {
        "id": "AQ_anSXezEeU",
        "colab_type": "code",
        "outputId": "69f13eb9-3d6f-40db-899d-3b0730fcb839",
        "colab": {
          "base_uri": "https://localhost:8080/",
          "height": 287
        }
      },
      "source": [
        "# 3차원으로 줄였어도 3차원 공간에서 점들이 군집화 되어 있어 \n",
        "# 0~9까지의 숫자의 특징을 어느정도 보유하고 있음을 알 수 있다. \n",
        "plt.scatter(proj[:, 0], proj[:, 1], c=digits.target)\n",
        "plt.colorbar()"
      ],
      "execution_count": 0,
      "outputs": [
        {
          "output_type": "execute_result",
          "data": {
            "text/plain": [
              "<matplotlib.colorbar.Colorbar at 0x7f20e9ec3f98>"
            ]
          },
          "metadata": {
            "tags": []
          },
          "execution_count": 18
        },
        {
          "output_type": "display_data",
          "data": {
            "image/png": "[encoded data removed]",
            "text/plain": [
              "<Figure size 432x288 with 2 Axes>"
            ]
          },
          "metadata": {
            "tags": [],
            "needs_background": "light"
          }
        }
      ]
    },
    {
      "cell_type": "markdown",
      "metadata": {
        "id": "Dg04qSL7FTyz",
        "colab_type": "text"
      },
      "source": [
        "# Noise Reduction"
      ]
    },
    {
      "cell_type": "markdown",
      "metadata": {
        "id": "1if7vuSuFVkK",
        "colab_type": "text"
      },
      "source": [
        "<img src='https://i.postimg.cc/QNwGVN8M/image.png' width='100%'>"
      ]
    },
    {
      "cell_type": "code",
      "metadata": {
        "id": "ApzVxUWhzHCk",
        "colab_type": "code",
        "colab": {}
      },
      "source": [
        "# Mnist_AE_TF2.ipynb\n",
        "\n",
        "import numpy as np\n",
        "import tensorflow as tf\n",
        "from tensorflow.keras import layers, models\n",
        "from tensorflow.keras import datasets \n",
        "from tensorflow.keras.utils import to_categorical"
      ],
      "execution_count": 0,
      "outputs": []
    },
    {
      "cell_type": "code",
      "metadata": {
        "id": "XVIAzgR3zHGd",
        "colab_type": "code",
        "outputId": "380d6bb8-d77e-4eb3-cd16-0f6a81fc92a7",
        "colab": {
          "base_uri": "https://localhost:8080/",
          "height": 73
        }
      },
      "source": [
        "(train_images, _), (test_images, _) = datasets.mnist.load_data()\n",
        "\n",
        "train_images = train_images.reshape(-1, 784)\n",
        "test_images = test_images.reshape(-1, 784)\n",
        "\n",
        "# 픽셀 값을 0~1 사이로 정규화합니다.\n",
        "train_images, test_images = train_images / 255.0, test_images / 255.0\n"
      ],
      "execution_count": 0,
      "outputs": [
        {
          "output_type": "stream",
          "text": [
            "Downloading data from https://storage.googleapis.com/tensorflow/tf-keras-datasets/mnist.npz\n",
            "11493376/11490434 [==============================] - 0s 0us/step\n"
          ],
          "name": "stdout"
        }
      ]
    },
    {
      "cell_type": "code",
      "metadata": {
        "id": "DNv1RVyxzHPL",
        "colab_type": "code",
        "outputId": "eb3acf34-aac2-47df-a2b3-4f0acd4f2fd6",
        "colab": {
          "base_uri": "https://localhost:8080/",
          "height": 265
        }
      },
      "source": [
        "import matplotlib.pyplot as plt\n",
        "plt.imshow(train_images[0].reshape(28,28))\n",
        "plt.show()"
      ],
      "execution_count": 0,
      "outputs": [
        {
          "output_type": "display_data",
          "data": {
            "image/png": "[encoded data removed]",
            "text/plain": [
              "<Figure size 432x288 with 1 Axes>"
            ]
          },
          "metadata": {
            "tags": [],
            "needs_background": "light"
          }
        }
      ]
    },
    {
      "cell_type": "code",
      "metadata": {
        "id": "PaX0ZrUizHVV",
        "colab_type": "code",
        "colab": {}
      },
      "source": [
        "noise_factor = 0.2\n",
        "train_images_noisy = train_images + noise_factor * np.random.normal(loc=0.0, scale=1.0, size=train_images.shape)\n",
        "test_images_noisy = test_images + noise_factor * np.random.normal(loc=0.0, scale=1.0, size=test_images.shape)\n",
        "train_images_noisy = np.clip(train_images_noisy, 0., 1.)\n",
        "test_images_noisy = np.clip(test_images_noisy, 0., 1.)"
      ],
      "execution_count": 0,
      "outputs": []
    },
    {
      "cell_type": "code",
      "metadata": {
        "id": "fmOv5NTj-cUP",
        "colab_type": "code",
        "outputId": "72f11d10-76de-446b-b29a-82e46b46da36",
        "colab": {
          "base_uri": "https://localhost:8080/",
          "height": 265
        }
      },
      "source": [
        "plt.imshow(train_images_noisy[0].reshape(28,28))\n",
        "plt.show()"
      ],
      "execution_count": 0,
      "outputs": [
        {
          "output_type": "display_data",
          "data": {
            "image/png": "[encoded data removed]",
            "text/plain": [
              "<Figure size 432x288 with 1 Axes>"
            ]
          },
          "metadata": {
            "tags": [],
            "needs_background": "light"
          }
        }
      ]
    },
    {
      "cell_type": "code",
      "metadata": {
        "id": "ZrylcObg-cYH",
        "colab_type": "code",
        "outputId": "f2e4469b-26da-4741-b094-836bdcf67ee0",
        "colab": {
          "base_uri": "https://localhost:8080/",
          "height": 307
        }
      },
      "source": [
        "model = models.Sequential()\n",
        "model.add(layers.Dense(128, activation='relu', input_dim=784))\n",
        "model.add(layers.Dense(64, activation='relu'))\n",
        "model.add(layers.Dense(128, activation='relu'))\n",
        "model.add(layers.Dense(784, activation='sigmoid'))      # 모든 값들을 0~1 사이로 맞춰주기 위함\n",
        "model.summary()\n",
        "adam = tf.keras.optimizers.Adam(lr=0.01)\n",
        "model.compile(optimizer=adam, loss='binary_crossentropy')"
      ],
      "execution_count": 0,
      "outputs": [
        {
          "output_type": "stream",
          "text": [
            "Model: \"sequential\"\n",
            "_________________________________________________________________\n",
            "Layer (type)                 Output Shape              Param #   \n",
            "=================================================================\n",
            "dense (Dense)                (None, 128)               100480    \n",
            "_________________________________________________________________\n",
            "dense_1 (Dense)              (None, 64)                8256      \n",
            "_________________________________________________________________\n",
            "dense_2 (Dense)              (None, 128)               8320      \n",
            "_________________________________________________________________\n",
            "dense_3 (Dense)              (None, 784)               101136    \n",
            "=================================================================\n",
            "Total params: 218,192\n",
            "Trainable params: 218,192\n",
            "Non-trainable params: 0\n",
            "_________________________________________________________________\n"
          ],
          "name": "stdout"
        }
      ]
    },
    {
      "cell_type": "code",
      "metadata": {
        "id": "c-eT5XOt-cbv",
        "colab_type": "code",
        "outputId": "a752b4b7-acab-4f16-e529-941b3c7657b9",
        "colab": {
          "base_uri": "https://localhost:8080/",
          "height": 1000
        }
      },
      "source": [
        "model.fit(train_images_noisy, train_images_noisy,\n",
        "                epochs=50,\n",
        "                batch_size=100,\n",
        "                shuffle=True,\n",
        "                verbose = 2)\n",
        "\n",
        "decoded_imgs = model.predict(test_images_noisy)"
      ],
      "execution_count": 0,
      "outputs": [
        {
          "output_type": "stream",
          "text": [
            "Epoch 1/50\n",
            "600/600 - 1s - loss: 0.3607\n",
            "Epoch 2/50\n",
            "600/600 - 1s - loss: 0.3400\n",
            "Epoch 3/50\n",
            "600/600 - 1s - loss: 0.3375\n",
            "Epoch 4/50\n",
            "600/600 - 1s - loss: 0.3364\n",
            "Epoch 5/50\n",
            "600/600 - 1s - loss: 0.3357\n",
            "Epoch 6/50\n",
            "600/600 - 1s - loss: 0.3350\n",
            "Epoch 7/50\n",
            "600/600 - 1s - loss: 0.3347\n",
            "Epoch 8/50\n",
            "600/600 - 1s - loss: 0.3343\n",
            "Epoch 9/50\n",
            "600/600 - 1s - loss: 0.3340\n",
            "Epoch 10/50\n",
            "600/600 - 1s - loss: 0.3338\n",
            "Epoch 11/50\n",
            "600/600 - 1s - loss: 0.3337\n",
            "Epoch 12/50\n",
            "600/600 - 1s - loss: 0.3336\n",
            "Epoch 13/50\n",
            "600/600 - 1s - loss: 0.3333\n",
            "Epoch 14/50\n",
            "600/600 - 1s - loss: 0.3332\n",
            "Epoch 15/50\n",
            "600/600 - 1s - loss: 0.3331\n",
            "Epoch 16/50\n",
            "600/600 - 1s - loss: 0.3330\n",
            "Epoch 17/50\n",
            "600/600 - 1s - loss: 0.3330\n",
            "Epoch 18/50\n",
            "600/600 - 1s - loss: 0.3329\n",
            "Epoch 19/50\n",
            "600/600 - 1s - loss: 0.3328\n",
            "Epoch 20/50\n",
            "600/600 - 1s - loss: 0.3327\n",
            "Epoch 21/50\n",
            "600/600 - 1s - loss: 0.3326\n",
            "Epoch 22/50\n",
            "600/600 - 1s - loss: 0.3326\n",
            "Epoch 23/50\n",
            "600/600 - 1s - loss: 0.3325\n",
            "Epoch 24/50\n",
            "600/600 - 1s - loss: 0.3326\n",
            "Epoch 25/50\n",
            "600/600 - 1s - loss: 0.3323\n",
            "Epoch 26/50\n",
            "600/600 - 1s - loss: 0.3324\n",
            "Epoch 27/50\n",
            "600/600 - 1s - loss: 0.3324\n",
            "Epoch 28/50\n",
            "600/600 - 1s - loss: 0.3323\n",
            "Epoch 29/50\n",
            "600/600 - 1s - loss: 0.3324\n",
            "Epoch 30/50\n",
            "600/600 - 1s - loss: 0.3323\n",
            "Epoch 31/50\n",
            "600/600 - 1s - loss: 0.3322\n",
            "Epoch 32/50\n",
            "600/600 - 1s - loss: 0.3322\n",
            "Epoch 33/50\n",
            "600/600 - 1s - loss: 0.3322\n",
            "Epoch 34/50\n",
            "600/600 - 1s - loss: 0.3322\n",
            "Epoch 35/50\n",
            "600/600 - 1s - loss: 0.3322\n",
            "Epoch 36/50\n",
            "600/600 - 1s - loss: 0.3321\n",
            "Epoch 37/50\n",
            "600/600 - 1s - loss: 0.3321\n",
            "Epoch 38/50\n",
            "600/600 - 1s - loss: 0.3320\n",
            "Epoch 39/50\n",
            "600/600 - 1s - loss: 0.3321\n",
            "Epoch 40/50\n",
            "600/600 - 1s - loss: 0.3320\n",
            "Epoch 41/50\n",
            "600/600 - 1s - loss: 0.3321\n",
            "Epoch 42/50\n",
            "600/600 - 1s - loss: 0.3320\n",
            "Epoch 43/50\n",
            "600/600 - 1s - loss: 0.3320\n",
            "Epoch 44/50\n",
            "600/600 - 1s - loss: 0.3320\n",
            "Epoch 45/50\n",
            "600/600 - 1s - loss: 0.3320\n",
            "Epoch 46/50\n",
            "600/600 - 1s - loss: 0.3320\n",
            "Epoch 47/50\n",
            "600/600 - 1s - loss: 0.3320\n",
            "Epoch 48/50\n",
            "600/600 - 1s - loss: 0.3320\n",
            "Epoch 49/50\n",
            "600/600 - 1s - loss: 0.3320\n",
            "Epoch 50/50\n",
            "600/600 - 1s - loss: 0.3320\n"
          ],
          "name": "stdout"
        }
      ]
    },
    {
      "cell_type": "code",
      "metadata": {
        "id": "bXKgn2yg-cfk",
        "colab_type": "code",
        "outputId": "8c1b3caf-8291-4115-c530-f3f58a949ca0",
        "colab": {
          "base_uri": "https://localhost:8080/",
          "height": 201
        }
      },
      "source": [
        "import matplotlib.pyplot as plt\n",
        "\n",
        "n = 10  # how many digits we will display\n",
        "plt.figure(figsize=(20, 4))\n",
        "for i in range(n):\n",
        "    # display original\n",
        "    ax = plt.subplot(2, n, i + 1)\n",
        "    plt.imshow(test_images_noisy[i].reshape(28, 28))\n",
        "    plt.gray()\n",
        "    ax.get_xaxis().set_visible(False)\n",
        "    ax.get_yaxis().set_visible(False)\n",
        "\n",
        "    # display reconstruction\n",
        "    ax = plt.subplot(2, n, i + 1 + n)\n",
        "    plt.imshow(decoded_imgs[i].reshape(28, 28))\n",
        "    plt.gray()\n",
        "    ax.get_xaxis().set_visible(False)\n",
        "    ax.get_yaxis().set_visible(False)\n",
        "plt.show()\n"
      ],
      "execution_count": 0,
      "outputs": [
        {
          "output_type": "display_data",
          "data": {
            "image/png": "[encoded data removed]",
            "text/plain": [
              "<Figure size 1440x288 with 20 Axes>"
            ]
          },
          "metadata": {
            "tags": [],
            "needs_background": "light"
          }
        }
      ]
    },
    {
      "cell_type": "code",
      "metadata": {
        "id": "Qal_KtTi-cj0",
        "colab_type": "code",
        "colab": {}
      },
      "source": [
        "# Mnist_AE_CNN_TF2.ipynb\n",
        "\n",
        "import numpy as np\n",
        "import tensorflow as tf\n",
        "from tensorflow.keras import layers, models\n",
        "from tensorflow.keras import datasets \n",
        "from tensorflow.keras.utils import to_categorical"
      ],
      "execution_count": 0,
      "outputs": []
    },
    {
      "cell_type": "code",
      "metadata": {
        "id": "xRptaWP9-cpi",
        "colab_type": "code",
        "colab": {}
      },
      "source": [
        "(train_images, _), (test_images, _) = datasets.mnist.load_data()\n",
        "\n",
        "train_images = train_images.reshape((60000, 28, 28, 1))\n",
        "test_images = test_images.reshape((10000, 28, 28, 1))\n",
        "\n",
        "# 픽셀 값을 0~1 사이로 정규화합니다.\n",
        "train_images, test_images = train_images / 255.0, test_images / 255.0\n"
      ],
      "execution_count": 0,
      "outputs": []
    },
    {
      "cell_type": "code",
      "metadata": {
        "id": "roKTpW58-cvi",
        "colab_type": "code",
        "colab": {}
      },
      "source": [
        "noise_factor = 0.2\n",
        "train_images_noisy = train_images + noise_factor * np.random.normal(loc=0.0, scale=1.0, size=train_images.shape)\n",
        "test_images_noisy = test_images + noise_factor * np.random.normal(loc=0.0, scale=1.0, size=test_images.shape)\n",
        "train_images_noisy = np.clip(train_images_noisy, 0., 1.)\n",
        "test_images_noisy = np.clip(test_images_noisy, 0., 1.)"
      ],
      "execution_count": 0,
      "outputs": []
    },
    {
      "cell_type": "code",
      "metadata": {
        "id": "SESIIQfRCbXH",
        "colab_type": "code",
        "outputId": "d12ff384-d2f4-4c70-b79b-af1ddbd8f45d",
        "colab": {
          "base_uri": "https://localhost:8080/",
          "height": 488
        }
      },
      "source": [
        "model = models.Sequential()\n",
        "# (B, 28, 28, 1)\n",
        "model.add(layers.Conv2D(32, (3, 3), activation='relu', padding='same', input_shape=(28, 28, 1)))\n",
        "# (B, 28, 28, 32)\n",
        "model.add(layers.MaxPooling2D((2, 2), padding='same'))\n",
        "# (B, 14, 14, 32)\n",
        "model.add(layers.Conv2D(32, (3, 3), activation='relu', padding='same'))\n",
        "# (B, 14, 14, 32)\n",
        "model.add(layers.MaxPooling2D((2, 2), padding='same'))\n",
        "# (B, 7, 7, 32)\n",
        "model.add(layers.Conv2D(32, (3, 3), activation='relu', padding='same'))\n",
        "# (B, 7, 7, 32)\n",
        "model.add(layers.UpSampling2D((2, 2)))\n",
        "# (B, 14, 14, 32)\n",
        "model.add(layers.Conv2D(32, (3, 3), activation='relu', padding='same'))\n",
        "# (B, 14, 14, 32)\n",
        "model.add(layers.UpSampling2D((2, 2)))\n",
        "# (B, 28, 28, 32)\n",
        "model.add(layers.Conv2D(1, (3, 3), activation='sigmoid', padding='same'))\n",
        "# (B, 28, 28, 1)\n",
        "\n",
        "model.summary()\n",
        "\n",
        "model.compile(optimizer='adadelta', loss='binary_crossentropy')"
      ],
      "execution_count": 0,
      "outputs": [
        {
          "output_type": "stream",
          "text": [
            "Model: \"sequential_1\"\n",
            "_________________________________________________________________\n",
            "Layer (type)                 Output Shape              Param #   \n",
            "=================================================================\n",
            "conv2d (Conv2D)              (None, 28, 28, 32)        320       \n",
            "_________________________________________________________________\n",
            "max_pooling2d (MaxPooling2D) (None, 14, 14, 32)        0         \n",
            "_________________________________________________________________\n",
            "conv2d_1 (Conv2D)            (None, 14, 14, 32)        9248      \n",
            "_________________________________________________________________\n",
            "max_pooling2d_1 (MaxPooling2 (None, 7, 7, 32)          0         \n",
            "_________________________________________________________________\n",
            "conv2d_2 (Conv2D)            (None, 7, 7, 32)          9248      \n",
            "_________________________________________________________________\n",
            "up_sampling2d (UpSampling2D) (None, 14, 14, 32)        0         \n",
            "_________________________________________________________________\n",
            "conv2d_3 (Conv2D)            (None, 14, 14, 32)        9248      \n",
            "_________________________________________________________________\n",
            "up_sampling2d_1 (UpSampling2 (None, 28, 28, 32)        0         \n",
            "_________________________________________________________________\n",
            "conv2d_4 (Conv2D)            (None, 28, 28, 1)         289       \n",
            "=================================================================\n",
            "Total params: 28,353\n",
            "Trainable params: 28,353\n",
            "Non-trainable params: 0\n",
            "_________________________________________________________________\n"
          ],
          "name": "stdout"
        }
      ]
    },
    {
      "cell_type": "code",
      "metadata": {
        "id": "dNkta9C2Cbzm",
        "colab_type": "code",
        "outputId": "5754553f-4fcf-4b50-e84f-fdfd7af55824",
        "colab": {
          "base_uri": "https://localhost:8080/",
          "height": 1000
        }
      },
      "source": [
        "model.fit(train_images_noisy, train_images_noisy,\n",
        "                epochs=100,\n",
        "                batch_size=128,\n",
        "                shuffle=True,\n",
        "                verbose = 2)\n",
        "\n",
        "decoded_imgs = model.predict(test_images_noisy)"
      ],
      "execution_count": 0,
      "outputs": [
        {
          "output_type": "stream",
          "text": [
            "Epoch 1/100\n",
            "469/469 - 2s - loss: 0.6820\n",
            "Epoch 2/100\n",
            "469/469 - 2s - loss: 0.6596\n",
            "Epoch 3/100\n",
            "469/469 - 2s - loss: 0.6194\n",
            "Epoch 4/100\n",
            "469/469 - 2s - loss: 0.5880\n",
            "Epoch 5/100\n",
            "469/469 - 2s - loss: 0.5744\n",
            "Epoch 6/100\n",
            "469/469 - 2s - loss: 0.5639\n",
            "Epoch 7/100\n",
            "469/469 - 2s - loss: 0.5524\n",
            "Epoch 8/100\n",
            "469/469 - 2s - loss: 0.5390\n",
            "Epoch 9/100\n",
            "469/469 - 2s - loss: 0.5223\n",
            "Epoch 10/100\n",
            "469/469 - 2s - loss: 0.5013\n",
            "Epoch 11/100\n",
            "469/469 - 2s - loss: 0.4761\n",
            "Epoch 12/100\n",
            "469/469 - 2s - loss: 0.4496\n",
            "Epoch 13/100\n",
            "469/469 - 2s - loss: 0.4266\n",
            "Epoch 14/100\n",
            "469/469 - 2s - loss: 0.4109\n",
            "Epoch 15/100\n",
            "469/469 - 2s - loss: 0.4016\n",
            "Epoch 16/100\n",
            "469/469 - 2s - loss: 0.3959\n",
            "Epoch 17/100\n",
            "469/469 - 2s - loss: 0.3921\n",
            "Epoch 18/100\n",
            "469/469 - 2s - loss: 0.3891\n",
            "Epoch 19/100\n",
            "469/469 - 2s - loss: 0.3866\n",
            "Epoch 20/100\n",
            "469/469 - 2s - loss: 0.3844\n",
            "Epoch 21/100\n",
            "469/469 - 2s - loss: 0.3824\n",
            "Epoch 22/100\n",
            "469/469 - 2s - loss: 0.3807\n",
            "Epoch 23/100\n",
            "469/469 - 2s - loss: 0.3791\n",
            "Epoch 24/100\n",
            "469/469 - 2s - loss: 0.3777\n",
            "Epoch 25/100\n",
            "469/469 - 2s - loss: 0.3765\n",
            "Epoch 26/100\n",
            "469/469 - 2s - loss: 0.3754\n",
            "Epoch 27/100\n",
            "469/469 - 2s - loss: 0.3743\n",
            "Epoch 28/100\n",
            "469/469 - 2s - loss: 0.3734\n",
            "Epoch 29/100\n",
            "469/469 - 2s - loss: 0.3726\n",
            "Epoch 30/100\n",
            "469/469 - 2s - loss: 0.3718\n",
            "Epoch 31/100\n",
            "469/469 - 2s - loss: 0.3710\n",
            "Epoch 32/100\n",
            "469/469 - 2s - loss: 0.3703\n",
            "Epoch 33/100\n",
            "469/469 - 2s - loss: 0.3696\n",
            "Epoch 34/100\n",
            "469/469 - 2s - loss: 0.3690\n",
            "Epoch 35/100\n",
            "469/469 - 2s - loss: 0.3684\n",
            "Epoch 36/100\n",
            "469/469 - 2s - loss: 0.3678\n",
            "Epoch 37/100\n",
            "469/469 - 2s - loss: 0.3672\n",
            "Epoch 38/100\n",
            "469/469 - 2s - loss: 0.3666\n",
            "Epoch 39/100\n",
            "469/469 - 2s - loss: 0.3660\n",
            "Epoch 40/100\n",
            "469/469 - 2s - loss: 0.3655\n",
            "Epoch 41/100\n",
            "469/469 - 2s - loss: 0.3649\n",
            "Epoch 42/100\n",
            "469/469 - 2s - loss: 0.3644\n",
            "Epoch 43/100\n",
            "469/469 - 2s - loss: 0.3639\n",
            "Epoch 44/100\n",
            "469/469 - 2s - loss: 0.3634\n",
            "Epoch 45/100\n",
            "469/469 - 2s - loss: 0.3629\n",
            "Epoch 46/100\n",
            "469/469 - 2s - loss: 0.3624\n",
            "Epoch 47/100\n",
            "469/469 - 2s - loss: 0.3620\n",
            "Epoch 48/100\n",
            "469/469 - 2s - loss: 0.3615\n",
            "Epoch 49/100\n",
            "469/469 - 2s - loss: 0.3611\n",
            "Epoch 50/100\n",
            "469/469 - 2s - loss: 0.3606\n",
            "Epoch 51/100\n",
            "469/469 - 2s - loss: 0.3602\n",
            "Epoch 52/100\n",
            "469/469 - 2s - loss: 0.3598\n",
            "Epoch 53/100\n",
            "469/469 - 2s - loss: 0.3593\n",
            "Epoch 54/100\n",
            "469/469 - 2s - loss: 0.3589\n",
            "Epoch 55/100\n",
            "469/469 - 2s - loss: 0.3585\n",
            "Epoch 56/100\n",
            "469/469 - 2s - loss: 0.3581\n",
            "Epoch 57/100\n",
            "469/469 - 2s - loss: 0.3578\n",
            "Epoch 58/100\n",
            "469/469 - 2s - loss: 0.3574\n",
            "Epoch 59/100\n",
            "469/469 - 2s - loss: 0.3570\n",
            "Epoch 60/100\n",
            "469/469 - 2s - loss: 0.3567\n",
            "Epoch 61/100\n",
            "469/469 - 2s - loss: 0.3563\n",
            "Epoch 62/100\n",
            "469/469 - 2s - loss: 0.3559\n",
            "Epoch 63/100\n",
            "469/469 - 2s - loss: 0.3556\n",
            "Epoch 64/100\n",
            "469/469 - 2s - loss: 0.3553\n",
            "Epoch 65/100\n",
            "469/469 - 2s - loss: 0.3549\n",
            "Epoch 66/100\n",
            "469/469 - 2s - loss: 0.3546\n",
            "Epoch 67/100\n",
            "469/469 - 2s - loss: 0.3543\n",
            "Epoch 68/100\n",
            "469/469 - 2s - loss: 0.3540\n",
            "Epoch 69/100\n",
            "469/469 - 2s - loss: 0.3537\n",
            "Epoch 70/100\n",
            "469/469 - 2s - loss: 0.3534\n",
            "Epoch 71/100\n",
            "469/469 - 2s - loss: 0.3531\n",
            "Epoch 72/100\n",
            "469/469 - 2s - loss: 0.3528\n",
            "Epoch 73/100\n",
            "469/469 - 2s - loss: 0.3525\n",
            "Epoch 74/100\n",
            "469/469 - 2s - loss: 0.3522\n",
            "Epoch 75/100\n",
            "469/469 - 2s - loss: 0.3519\n",
            "Epoch 76/100\n",
            "469/469 - 2s - loss: 0.3517\n",
            "Epoch 77/100\n",
            "469/469 - 2s - loss: 0.3514\n",
            "Epoch 78/100\n",
            "469/469 - 2s - loss: 0.3512\n",
            "Epoch 79/100\n",
            "469/469 - 2s - loss: 0.3509\n",
            "Epoch 80/100\n",
            "469/469 - 2s - loss: 0.3507\n",
            "Epoch 81/100\n",
            "469/469 - 2s - loss: 0.3504\n",
            "Epoch 82/100\n",
            "469/469 - 2s - loss: 0.3502\n",
            "Epoch 83/100\n",
            "469/469 - 2s - loss: 0.3499\n",
            "Epoch 84/100\n",
            "469/469 - 2s - loss: 0.3497\n",
            "Epoch 85/100\n",
            "469/469 - 2s - loss: 0.3495\n",
            "Epoch 86/100\n",
            "469/469 - 2s - loss: 0.3492\n",
            "Epoch 87/100\n",
            "469/469 - 2s - loss: 0.3490\n",
            "Epoch 88/100\n",
            "469/469 - 2s - loss: 0.3488\n",
            "Epoch 89/100\n",
            "469/469 - 2s - loss: 0.3486\n",
            "Epoch 90/100\n",
            "469/469 - 2s - loss: 0.3484\n",
            "Epoch 91/100\n",
            "469/469 - 2s - loss: 0.3482\n",
            "Epoch 92/100\n",
            "469/469 - 2s - loss: 0.3480\n",
            "Epoch 93/100\n",
            "469/469 - 2s - loss: 0.3478\n",
            "Epoch 94/100\n",
            "469/469 - 2s - loss: 0.3476\n",
            "Epoch 95/100\n",
            "469/469 - 2s - loss: 0.3474\n",
            "Epoch 96/100\n",
            "469/469 - 2s - loss: 0.3472\n",
            "Epoch 97/100\n",
            "469/469 - 2s - loss: 0.3470\n",
            "Epoch 98/100\n",
            "469/469 - 2s - loss: 0.3468\n",
            "Epoch 99/100\n",
            "469/469 - 2s - loss: 0.3466\n",
            "Epoch 100/100\n",
            "469/469 - 2s - loss: 0.3465\n"
          ],
          "name": "stdout"
        }
      ]
    },
    {
      "cell_type": "code",
      "metadata": {
        "id": "zxOxKnGrCbcs",
        "colab_type": "code",
        "outputId": "ccfebfb6-11b9-4a21-823a-ad6f839d559c",
        "colab": {
          "base_uri": "https://localhost:8080/",
          "height": 145
        }
      },
      "source": [
        "import matplotlib.pyplot as plt\n",
        "\n",
        "n = 10  # how many digits we will display\n",
        "plt.figure(figsize=(20, 4))\n",
        "for i in range(n):\n",
        "    # display original\n",
        "    ax = plt.subplot(2, n, i + 1)\n",
        "    plt.imshow(test_images_noisy[i].reshape(28, 28))\n",
        "    plt.gray()\n",
        "    ax.get_xaxis().set_visible(False)\n",
        "    ax.get_yaxis().set_visible(False)\n",
        "\n",
        "    # display reconstruction\n",
        "    ax = plt.subplot(2, n, i + 1 + n)\n",
        "    plt.imshow(decoded_imgs[i].reshape(28, 28))\n",
        "    plt.gray()\n",
        "    ax.get_xaxis().set_visible(False)\n",
        "    ax.get_yaxis().set_visible(False)\n",
        "plt.show()\n"
      ],
      "execution_count": 0,
      "outputs": [
        {
          "output_type": "display_data",
          "data": {
            "image/png": "[encoded data removed]",
            "text/plain": [
              "<Figure size 1440x288 with 20 Axes>"
            ]
          },
          "metadata": {
            "tags": [],
            "needs_background": "light"
          }
        }
      ]
    },
    {
      "cell_type": "markdown",
      "metadata": {
        "id": "SNGpQsUPFBVK",
        "colab_type": "text"
      },
      "source": [
        "# Anomaly Detection"
      ]
    },
    {
      "cell_type": "markdown",
      "metadata": {
        "id": "Np_CWb0sF1HL",
        "colab_type": "text"
      },
      "source": [
        "<img src='https://i.postimg.cc/QN28wJWS/image.png' width='100%'>"
      ]
    },
    {
      "cell_type": "code",
      "metadata": {
        "id": "5SGl3vRUE75f",
        "colab_type": "code",
        "colab": {}
      },
      "source": [
        "# AnomalyDetection_Mnist_TF2.ipynb\n",
        "\n",
        "import numpy as np\n",
        "import tensorflow as tf\n",
        "from tensorflow.keras import layers, models\n",
        "from tensorflow.keras import datasets \n",
        "from tensorflow.keras.utils import to_categorical\n",
        "import matplotlib.pyplot as plt\n",
        "import matplotlib.image as mpimg"
      ],
      "execution_count": 0,
      "outputs": []
    },
    {
      "cell_type": "code",
      "metadata": {
        "id": "P5XM3ld9E71E",
        "colab_type": "code",
        "colab": {}
      },
      "source": [
        "(train_images, _), (test_images, _) = datasets.mnist.load_data()\n",
        "\n",
        "train_images = train_images.reshape(-1, 784)\n",
        "test_images = test_images.reshape(-1, 784)\n",
        "\n",
        "# 픽셀 값을 0~1 사이로 정규화합니다.\n",
        "train_images, test_images = train_images / 255.0, test_images / 255.0"
      ],
      "execution_count": 0,
      "outputs": []
    },
    {
      "cell_type": "code",
      "metadata": {
        "id": "9m8SZvfRE7vu",
        "colab_type": "code",
        "outputId": "ebf0f3f4-5f3c-4181-9031-7c97c2e89951",
        "colab": {
          "base_uri": "https://localhost:8080/",
          "height": 869
        }
      },
      "source": [
        "model = models.Sequential()\n",
        "model.add(layers.Dense(128, activation='relu', input_dim=784))\n",
        "model.add(layers.Dense(64, activation='relu'))\n",
        "model.add(layers.Dense(128, activation='relu'))\n",
        "model.add(layers.Dense(784, activation='sigmoid'))\n",
        "model.summary()\n",
        "adam = tf.keras.optimizers.Adam(lr=0.01, beta_1=0.9, beta_2=0.999, epsilon=None, decay=0.0, amsgrad=False)\n",
        "model.compile(optimizer=adam, loss='binary_crossentropy')\n",
        "model.fit(train_images, train_images,\n",
        "                epochs=15,\n",
        "                batch_size=32,\n",
        "                shuffle=True,\n",
        "                verbose = 2)"
      ],
      "execution_count": 0,
      "outputs": [
        {
          "output_type": "stream",
          "text": [
            "Model: \"sequential_2\"\n",
            "_________________________________________________________________\n",
            "Layer (type)                 Output Shape              Param #   \n",
            "=================================================================\n",
            "dense_4 (Dense)              (None, 128)               100480    \n",
            "_________________________________________________________________\n",
            "dense_5 (Dense)              (None, 64)                8256      \n",
            "_________________________________________________________________\n",
            "dense_6 (Dense)              (None, 128)               8320      \n",
            "_________________________________________________________________\n",
            "dense_7 (Dense)              (None, 784)               101136    \n",
            "=================================================================\n",
            "Total params: 218,192\n",
            "Trainable params: 218,192\n",
            "Non-trainable params: 0\n",
            "_________________________________________________________________\n",
            "Epoch 1/15\n",
            "1875/1875 - 3s - loss: 0.1289\n",
            "Epoch 2/15\n",
            "1875/1875 - 3s - loss: 0.1093\n",
            "Epoch 3/15\n",
            "1875/1875 - 3s - loss: 0.1072\n",
            "Epoch 4/15\n",
            "1875/1875 - 3s - loss: 0.1059\n",
            "Epoch 5/15\n",
            "1875/1875 - 3s - loss: 0.1055\n",
            "Epoch 6/15\n",
            "1875/1875 - 3s - loss: 0.1051\n",
            "Epoch 7/15\n",
            "1875/1875 - 3s - loss: 0.1049\n",
            "Epoch 8/15\n",
            "1875/1875 - 3s - loss: 0.1045\n",
            "Epoch 9/15\n",
            "1875/1875 - 3s - loss: 0.1045\n",
            "Epoch 10/15\n",
            "1875/1875 - 3s - loss: 0.1045\n",
            "Epoch 11/15\n",
            "1875/1875 - 3s - loss: 0.1041\n",
            "Epoch 12/15\n",
            "1875/1875 - 3s - loss: 0.1042\n",
            "Epoch 13/15\n",
            "1875/1875 - 3s - loss: 0.1041\n",
            "Epoch 14/15\n",
            "1875/1875 - 3s - loss: 0.1040\n",
            "Epoch 15/15\n",
            "1875/1875 - 3s - loss: 0.1037\n"
          ],
          "name": "stdout"
        },
        {
          "output_type": "execute_result",
          "data": {
            "text/plain": [
              "<tensorflow.python.keras.callbacks.History at 0x7f20ed3b9748>"
            ]
          },
          "metadata": {
            "tags": []
          },
          "execution_count": 38
        }
      ]
    },
    {
      "cell_type": "code",
      "metadata": {
        "id": "QE8M2srHE7qp",
        "colab_type": "code",
        "outputId": "c9abe028-714d-4e9a-f75e-4e4555eb289c",
        "colab": {
          "base_uri": "https://localhost:8080/",
          "height": 265
        }
      },
      "source": [
        "original = test_images[0].reshape(28,28)\n",
        "plt.imshow(original)\n",
        "plt.gray()"
      ],
      "execution_count": 0,
      "outputs": [
        {
          "output_type": "display_data",
          "data": {
            "image/png": "[encoded data removed]",
            "text/plain": [
              "<Figure size 432x288 with 1 Axes>"
            ]
          },
          "metadata": {
            "tags": [],
            "needs_background": "light"
          }
        }
      ]
    },
    {
      "cell_type": "code",
      "metadata": {
        "id": "sjmtPmwKE7lR",
        "colab_type": "code",
        "outputId": "8155cdfe-8c0c-452b-a9b8-322316464a92",
        "colab": {
          "base_uri": "https://localhost:8080/",
          "height": 265
        }
      },
      "source": [
        "decoded = model.predict(test_images[0].reshape(1,784))\n",
        "decoded = decoded.reshape(28,28)\n",
        "plt.imshow(decoded)\n",
        "plt.gray()"
      ],
      "execution_count": 0,
      "outputs": [
        {
          "output_type": "display_data",
          "data": {
            "image/png": "[encoded data removed]",
            "text/plain": [
              "<Figure size 432x288 with 1 Axes>"
            ]
          },
          "metadata": {
            "tags": [],
            "needs_background": "light"
          }
        }
      ]
    },
    {
      "cell_type": "code",
      "metadata": {
        "id": "U-tGyh6vE7gW",
        "colab_type": "code",
        "outputId": "a907b589-17dd-46ae-ab5f-32f05eda03ee",
        "colab": {
          "base_uri": "https://localhost:8080/",
          "height": 128
        }
      },
      "source": [
        "from google.colab import drive\n",
        "drive.mount('/gdrive')"
      ],
      "execution_count": 0,
      "outputs": [
        {
          "output_type": "stream",
          "text": [
            "Go to this URL in a browser: https://accounts.google.com/o/oauth2/auth?client_id=947318989803-6bn6qk8qdgf4n4g3pfee6491hc0brc4i.apps.googleusercontent.com&redirect_uri=urn%3aietf%3awg%3aoauth%3a2.0%3aoob&response_type=code&scope=email%20https%3a%2f%2fwww.googleapis.com%2fauth%2fdocs.test%20https%3a%2f%2fwww.googleapis.com%2fauth%2fdrive%20https%3a%2f%2fwww.googleapis.com%2fauth%2fdrive.photos.readonly%20https%3a%2f%2fwww.googleapis.com%2fauth%2fpeopleapi.readonly\n",
            "\n",
            "Enter your authorization code:\n",
            "··········\n",
            "Mounted at /gdrive\n"
          ],
          "name": "stdout"
        }
      ]
    },
    {
      "cell_type": "code",
      "metadata": {
        "id": "bGvB6tYSE7Wm",
        "colab_type": "code",
        "outputId": "f098484c-255b-4a82-d229-5ed140e6fa89",
        "colab": {
          "base_uri": "https://localhost:8080/",
          "height": 286
        }
      },
      "source": [
        "filename = '/gdrive/My Drive/University Lecture/데이터마이닝/Images/a.png'\n",
        "image = mpimg.imread(filename)\n",
        "image = image[:,:,0]\n",
        "image = (np.where(image == 0, 1, 0))\n",
        "image = image.flatten()\n",
        "image = image.reshape(1,784)\n",
        "aeResult = model.predict(image)\n",
        "print(aeResult.shape)\n",
        "arr1 = np.array(image)\n",
        "arr2 = np.array(aeResult)\n",
        "arr1.shape=(28,28)\n",
        "arr2.shape=(28,28)\n",
        "plt.subplot(211)\n",
        "plt.imshow(arr1)\n",
        "plt.subplot(212)\n",
        "plt.imshow(arr2)\n",
        "plt.show()"
      ],
      "execution_count": 0,
      "outputs": [
        {
          "output_type": "stream",
          "text": [
            "(1, 784)\n"
          ],
          "name": "stdout"
        },
        {
          "output_type": "display_data",
          "data": {
            "image/png": "[encoded data removed]",
            "text/plain": [
              "<Figure size 432x288 with 2 Axes>"
            ]
          },
          "metadata": {
            "tags": [],
            "needs_background": "light"
          }
        }
      ]
    },
    {
      "cell_type": "code",
      "metadata": {
        "id": "5b_FdA64F-Kg",
        "colab_type": "code",
        "outputId": "d62adecc-f0d7-4642-e892-353f440daabe",
        "colab": {
          "base_uri": "https://localhost:8080/",
          "height": 53
        }
      },
      "source": [
        "np.corrcoef(image.reshape(784), aeResult.reshape(784))  # A"
      ],
      "execution_count": 0,
      "outputs": [
        {
          "output_type": "execute_result",
          "data": {
            "text/plain": [
              "array([[1.        , 0.84977713],\n",
              "       [0.84977713, 1.        ]])"
            ]
          },
          "metadata": {
            "tags": []
          },
          "execution_count": 44
        }
      ]
    },
    {
      "cell_type": "code",
      "metadata": {
        "id": "h0J61WP3GDi6",
        "colab_type": "code",
        "outputId": "12074234-2a5b-45c5-cda6-c132399309db",
        "colab": {
          "base_uri": "https://localhost:8080/",
          "height": 53
        }
      },
      "source": [
        "np.corrcoef(test_images[0], decoded.reshape(784))       # 7"
      ],
      "execution_count": 0,
      "outputs": [
        {
          "output_type": "execute_result",
          "data": {
            "text/plain": [
              "array([[1.       , 0.9616785],\n",
              "       [0.9616785, 1.       ]])"
            ]
          },
          "metadata": {
            "tags": []
          },
          "execution_count": 45
        }
      ]
    },
    {
      "cell_type": "markdown",
      "metadata": {
        "id": "hj8_TZcfIv1E",
        "colab_type": "text"
      },
      "source": [
        "# Colorization"
      ]
    },
    {
      "cell_type": "markdown",
      "metadata": {
        "id": "0OIlzwA5I3pB",
        "colab_type": "text"
      },
      "source": [
        "<img src='https://i.postimg.cc/XqfYQrxn/image.png' width='100%'>"
      ]
    },
    {
      "cell_type": "code",
      "metadata": {
        "id": "YosiXKHKI_0J",
        "colab_type": "code",
        "colab": {}
      },
      "source": [
        "# Colorization_TF2.ipynb\n",
        "\n",
        "import numpy as np\n",
        "import tensorflow as tf\n",
        "from tensorflow.keras import layers, models\n",
        "from skimage.io import imsave"
      ],
      "execution_count": 0,
      "outputs": []
    },
    {
      "cell_type": "code",
      "metadata": {
        "id": "0TF0aZzHI_5x",
        "colab_type": "code",
        "outputId": "a4b7d80b-a3c7-4559-c473-07c0bd0ef637",
        "colab": {
          "base_uri": "https://localhost:8080/",
          "height": 35
        }
      },
      "source": [
        "from google.colab import drive\n",
        "drive.mount('/gdrive')"
      ],
      "execution_count": 0,
      "outputs": [
        {
          "output_type": "stream",
          "text": [
            "Drive already mounted at /gdrive; to attempt to forcibly remount, call drive.mount(\"/gdrive\", force_remount=True).\n"
          ],
          "name": "stdout"
        }
      ]
    },
    {
      "cell_type": "code",
      "metadata": {
        "id": "4028jJhSI__h",
        "colab_type": "code",
        "outputId": "bdc59a2d-d40b-4293-923d-5f712b79ae7d",
        "colab": {
          "base_uri": "https://localhost:8080/",
          "height": 53
        }
      },
      "source": [
        "X = np.load('/gdrive/My Drive/University Lecture/데이터마이닝/Images/X.npy') # numpy array, gray Image\n",
        "Y = np.load('/gdrive/My Drive/University Lecture/데이터마이닝/Images/Y.npy') # color Image\n",
        "test_X = np.load('/gdrive/My Drive/University Lecture/데이터마이닝/Images/test_X.npy' ) # gray Image\n",
        "\n",
        "print( X.shape ,Y.shape )\n",
        "print( test_X.shape )"
      ],
      "execution_count": 0,
      "outputs": [
        {
          "output_type": "stream",
          "text": [
            "(190, 64, 64, 1) (190, 64, 64, 3)\n",
            "(9, 64, 64, 1)\n"
          ],
          "name": "stdout"
        }
      ]
    },
    {
      "cell_type": "code",
      "metadata": {
        "id": "267Bj33eJAGK",
        "colab_type": "code",
        "outputId": "9d500bf8-1ea6-4493-be1a-3fa63428b283",
        "colab": {
          "base_uri": "https://localhost:8080/",
          "height": 519
        }
      },
      "source": [
        "from matplotlib import pyplot as plt\n",
        "plt.imshow(Y[0])\n",
        "plt.show()\n",
        "plt.imshow(X[0].reshape((64,64)), cmap='gray')\n",
        "plt.show()"
      ],
      "execution_count": 0,
      "outputs": [
        {
          "output_type": "display_data",
          "data": {
            "image/png": "[encoded data removed]",
            "text/plain": [
              "<Figure size 432x288 with 1 Axes>"
            ]
          },
          "metadata": {
            "tags": [],
            "needs_background": "light"
          }
        },
        {
          "output_type": "display_data",
          "data": {
            "image/png": "[encoded data removed]",
            "text/plain": [
              "<Figure size 432x288 with 1 Axes>"
            ]
          },
          "metadata": {
            "tags": [],
            "needs_background": "light"
          }
        }
      ]
    },
    {
      "cell_type": "code",
      "metadata": {
        "id": "C5FRTjAwJAOq",
        "colab_type": "code",
        "outputId": "e5e1696f-f0df-42d1-e1f3-bee7109f2461",
        "colab": {
          "base_uri": "https://localhost:8080/",
          "height": 706
        }
      },
      "source": [
        "dropout_rate = 0.5\n",
        "DIMEN = 64\n",
        "kernel_size = ( 4 , 4 )\n",
        "\n",
        "NEURAL_SCHEMA = [\n",
        "    layers.Conv2D( 32 , input_shape=( DIMEN , DIMEN , 1 ) , kernel_size=kernel_size , strides=1,activation='relu'),\n",
        "    layers.Dropout( dropout_rate ) ,\n",
        "    layers.Conv2D( 64, kernel_size=kernel_size, strides=1, activation='relu'),\n",
        "    layers.Dropout(dropout_rate),\n",
        "    layers.Conv2D( 128, kernel_size=kernel_size, strides=1, activation='relu') ,\n",
        "    layers.Dropout(dropout_rate),\n",
        "    layers.Conv2D( 256, kernel_size=kernel_size, strides=1, activation='relu'),\n",
        "    layers.Dropout(dropout_rate),\n",
        "    layers.Conv2DTranspose( 128, kernel_size=kernel_size, strides=1, activation='relu'),\n",
        "    layers.Dropout(dropout_rate),\n",
        "    layers.Conv2DTranspose( 64, kernel_size=kernel_size, strides=1, activation='relu'),\n",
        "    layers.Dropout(dropout_rate),\n",
        "    layers.Conv2DTranspose( 32, kernel_size=kernel_size, strides=1, activation='relu'),\n",
        "    layers.Dropout(dropout_rate),\n",
        "    layers.Conv2DTranspose( 3, kernel_size=kernel_size, strides=1, activation='tanh' ),\n",
        "]\n",
        "\n",
        "model = tf.keras.Sequential( NEURAL_SCHEMA )\n",
        "model.summary()\n"
      ],
      "execution_count": 0,
      "outputs": [
        {
          "output_type": "stream",
          "text": [
            "Model: \"sequential_4\"\n",
            "_________________________________________________________________\n",
            "Layer (type)                 Output Shape              Param #   \n",
            "=================================================================\n",
            "conv2d_9 (Conv2D)            (None, 61, 61, 32)        544       \n",
            "_________________________________________________________________\n",
            "dropout_7 (Dropout)          (None, 61, 61, 32)        0         \n",
            "_________________________________________________________________\n",
            "conv2d_10 (Conv2D)           (None, 58, 58, 64)        32832     \n",
            "_________________________________________________________________\n",
            "dropout_8 (Dropout)          (None, 58, 58, 64)        0         \n",
            "_________________________________________________________________\n",
            "conv2d_11 (Conv2D)           (None, 55, 55, 128)       131200    \n",
            "_________________________________________________________________\n",
            "dropout_9 (Dropout)          (None, 55, 55, 128)       0         \n",
            "_________________________________________________________________\n",
            "conv2d_12 (Conv2D)           (None, 52, 52, 256)       524544    \n",
            "_________________________________________________________________\n",
            "dropout_10 (Dropout)         (None, 52, 52, 256)       0         \n",
            "_________________________________________________________________\n",
            "conv2d_transpose_4 (Conv2DTr (None, 55, 55, 128)       524416    \n",
            "_________________________________________________________________\n",
            "dropout_11 (Dropout)         (None, 55, 55, 128)       0         \n",
            "_________________________________________________________________\n",
            "conv2d_transpose_5 (Conv2DTr (None, 58, 58, 64)        131136    \n",
            "_________________________________________________________________\n",
            "dropout_12 (Dropout)         (None, 58, 58, 64)        0         \n",
            "_________________________________________________________________\n",
            "conv2d_transpose_6 (Conv2DTr (None, 61, 61, 32)        32800     \n",
            "_________________________________________________________________\n",
            "dropout_13 (Dropout)         (None, 61, 61, 32)        0         \n",
            "_________________________________________________________________\n",
            "conv2d_transpose_7 (Conv2DTr (None, 64, 64, 3)         1539      \n",
            "=================================================================\n",
            "Total params: 1,379,011\n",
            "Trainable params: 1,379,011\n",
            "Non-trainable params: 0\n",
            "_________________________________________________________________\n"
          ],
          "name": "stdout"
        }
      ]
    },
    {
      "cell_type": "code",
      "metadata": {
        "id": "wawSgzsFLzW9",
        "colab_type": "code",
        "outputId": "1f0261f9-0915-4f75-cd9d-8f4846c2b847",
        "colab": {
          "base_uri": "https://localhost:8080/",
          "height": 1000
        }
      },
      "source": [
        "model.compile(\n",
        "    optimizer=tf.keras.optimizers.Adam(lr=0.0001),\n",
        "    loss='binary_crossentropy', metrics=['mae'])\n",
        "model.fit(X,Y, batch_size=16, epochs=500,verbose = 2)\n",
        "model.save(\"colorModel.h5\")"
      ],
      "execution_count": 0,
      "outputs": [
        {
          "output_type": "stream",
          "text": [
            "Epoch 1/500\n",
            "12/12 - 0s - loss: 4.1683 - mae: 0.4407\n",
            "Epoch 2/500\n",
            "12/12 - 0s - loss: 2.6876 - mae: 0.3510\n",
            "Epoch 3/500\n",
            "12/12 - 0s - loss: 2.0040 - mae: 0.3077\n",
            "Epoch 4/500\n",
            "12/12 - 0s - loss: 1.6175 - mae: 0.2843\n",
            "Epoch 5/500\n",
            "12/12 - 0s - loss: 1.3763 - mae: 0.2676\n",
            "Epoch 6/500\n",
            "12/12 - 0s - loss: 1.2218 - mae: 0.2525\n",
            "Epoch 7/500\n",
            "12/12 - 0s - loss: 1.1100 - mae: 0.2413\n",
            "Epoch 8/500\n",
            "12/12 - 0s - loss: 1.0303 - mae: 0.2364\n",
            "Epoch 9/500\n",
            "12/12 - 0s - loss: 0.9798 - mae: 0.2329\n",
            "Epoch 10/500\n",
            "12/12 - 0s - loss: 0.9420 - mae: 0.2300\n",
            "Epoch 11/500\n",
            "12/12 - 0s - loss: 0.9181 - mae: 0.2323\n",
            "Epoch 12/500\n",
            "12/12 - 0s - loss: 0.8918 - mae: 0.2258\n",
            "Epoch 13/500\n",
            "12/12 - 0s - loss: 0.8665 - mae: 0.2189\n",
            "Epoch 14/500\n",
            "12/12 - 0s - loss: 0.8510 - mae: 0.2150\n",
            "Epoch 15/500\n",
            "12/12 - 0s - loss: 0.8392 - mae: 0.2128\n",
            "Epoch 16/500\n",
            "12/12 - 0s - loss: 0.8296 - mae: 0.2120\n",
            "Epoch 17/500\n",
            "12/12 - 0s - loss: 0.8199 - mae: 0.2129\n",
            "Epoch 18/500\n",
            "12/12 - 0s - loss: 0.8122 - mae: 0.2111\n",
            "Epoch 19/500\n",
            "12/12 - 0s - loss: 0.8048 - mae: 0.2085\n",
            "Epoch 20/500\n",
            "12/12 - 0s - loss: 0.7977 - mae: 0.2062\n",
            "Epoch 21/500\n",
            "12/12 - 0s - loss: 0.7928 - mae: 0.2052\n",
            "Epoch 22/500\n",
            "12/12 - 0s - loss: 0.7867 - mae: 0.2039\n",
            "Epoch 23/500\n",
            "12/12 - 0s - loss: 0.7813 - mae: 0.2027\n",
            "Epoch 24/500\n",
            "12/12 - 0s - loss: 0.7778 - mae: 0.2021\n",
            "Epoch 25/500\n",
            "12/12 - 0s - loss: 0.7730 - mae: 0.2022\n",
            "Epoch 26/500\n",
            "12/12 - 0s - loss: 0.7703 - mae: 0.2032\n",
            "Epoch 27/500\n",
            "12/12 - 0s - loss: 0.7655 - mae: 0.2006\n",
            "Epoch 28/500\n",
            "12/12 - 0s - loss: 0.7610 - mae: 0.1983\n",
            "Epoch 29/500\n",
            "12/12 - 0s - loss: 0.7571 - mae: 0.1969\n",
            "Epoch 30/500\n",
            "12/12 - 0s - loss: 0.7531 - mae: 0.1963\n",
            "Epoch 31/500\n",
            "12/12 - 0s - loss: 0.7510 - mae: 0.1958\n",
            "Epoch 32/500\n",
            "12/12 - 0s - loss: 0.7477 - mae: 0.1949\n",
            "Epoch 33/500\n",
            "12/12 - 0s - loss: 0.7450 - mae: 0.1940\n",
            "Epoch 34/500\n",
            "12/12 - 0s - loss: 0.7424 - mae: 0.1932\n",
            "Epoch 35/500\n",
            "12/12 - 0s - loss: 0.7403 - mae: 0.1924\n",
            "Epoch 36/500\n",
            "12/12 - 0s - loss: 0.7379 - mae: 0.1918\n",
            "Epoch 37/500\n",
            "12/12 - 0s - loss: 0.7350 - mae: 0.1909\n",
            "Epoch 38/500\n",
            "12/12 - 0s - loss: 0.7328 - mae: 0.1903\n",
            "Epoch 39/500\n",
            "12/12 - 0s - loss: 0.7302 - mae: 0.1894\n",
            "Epoch 40/500\n",
            "12/12 - 0s - loss: 0.7282 - mae: 0.1888\n",
            "Epoch 41/500\n",
            "12/12 - 0s - loss: 0.7259 - mae: 0.1888\n",
            "Epoch 42/500\n",
            "12/12 - 0s - loss: 0.7239 - mae: 0.1883\n",
            "Epoch 43/500\n",
            "12/12 - 0s - loss: 0.7216 - mae: 0.1871\n",
            "Epoch 44/500\n",
            "12/12 - 0s - loss: 0.7193 - mae: 0.1863\n",
            "Epoch 45/500\n",
            "12/12 - 0s - loss: 0.7172 - mae: 0.1857\n",
            "Epoch 46/500\n",
            "12/12 - 0s - loss: 0.7155 - mae: 0.1852\n",
            "Epoch 47/500\n",
            "12/12 - 0s - loss: 0.7130 - mae: 0.1841\n",
            "Epoch 48/500\n",
            "12/12 - 0s - loss: 0.7110 - mae: 0.1835\n",
            "Epoch 49/500\n",
            "12/12 - 0s - loss: 0.7088 - mae: 0.1828\n",
            "Epoch 50/500\n",
            "12/12 - 0s - loss: 0.7066 - mae: 0.1820\n",
            "Epoch 51/500\n",
            "12/12 - 0s - loss: 0.7048 - mae: 0.1813\n",
            "Epoch 52/500\n",
            "12/12 - 0s - loss: 0.7030 - mae: 0.1807\n",
            "Epoch 53/500\n",
            "12/12 - 0s - loss: 0.7010 - mae: 0.1801\n",
            "Epoch 54/500\n",
            "12/12 - 0s - loss: 0.6986 - mae: 0.1790\n",
            "Epoch 55/500\n",
            "12/12 - 0s - loss: 0.6960 - mae: 0.1775\n",
            "Epoch 56/500\n",
            "12/12 - 0s - loss: 0.6938 - mae: 0.1765\n",
            "Epoch 57/500\n",
            "12/12 - 0s - loss: 0.6914 - mae: 0.1754\n",
            "Epoch 58/500\n",
            "12/12 - 0s - loss: 0.6893 - mae: 0.1741\n",
            "Epoch 59/500\n",
            "12/12 - 0s - loss: 0.6870 - mae: 0.1729\n",
            "Epoch 60/500\n",
            "12/12 - 0s - loss: 0.6844 - mae: 0.1714\n",
            "Epoch 61/500\n",
            "12/12 - 0s - loss: 0.6819 - mae: 0.1701\n",
            "Epoch 62/500\n",
            "12/12 - 0s - loss: 0.6802 - mae: 0.1691\n",
            "Epoch 63/500\n",
            "12/12 - 0s - loss: 0.6784 - mae: 0.1687\n",
            "Epoch 64/500\n",
            "12/12 - 0s - loss: 0.6768 - mae: 0.1687\n",
            "Epoch 65/500\n",
            "12/12 - 0s - loss: 0.6745 - mae: 0.1670\n",
            "Epoch 66/500\n",
            "12/12 - 0s - loss: 0.6726 - mae: 0.1661\n",
            "Epoch 67/500\n",
            "12/12 - 0s - loss: 0.6708 - mae: 0.1654\n",
            "Epoch 68/500\n",
            "12/12 - 0s - loss: 0.6693 - mae: 0.1648\n",
            "Epoch 69/500\n",
            "12/12 - 0s - loss: 0.6671 - mae: 0.1637\n",
            "Epoch 70/500\n",
            "12/12 - 0s - loss: 0.6658 - mae: 0.1628\n",
            "Epoch 71/500\n",
            "12/12 - 0s - loss: 0.6642 - mae: 0.1622\n",
            "Epoch 72/500\n",
            "12/12 - 0s - loss: 0.6623 - mae: 0.1611\n",
            "Epoch 73/500\n",
            "12/12 - 0s - loss: 0.6606 - mae: 0.1603\n",
            "Epoch 74/500\n",
            "12/12 - 0s - loss: 0.6594 - mae: 0.1597\n",
            "Epoch 75/500\n",
            "12/12 - 0s - loss: 0.6581 - mae: 0.1589\n",
            "Epoch 76/500\n",
            "12/12 - 0s - loss: 0.6564 - mae: 0.1579\n",
            "Epoch 77/500\n",
            "12/12 - 0s - loss: 0.6551 - mae: 0.1571\n",
            "Epoch 78/500\n",
            "12/12 - 0s - loss: 0.6539 - mae: 0.1564\n",
            "Epoch 79/500\n",
            "12/12 - 0s - loss: 0.6524 - mae: 0.1555\n",
            "Epoch 80/500\n",
            "12/12 - 0s - loss: 0.6510 - mae: 0.1545\n",
            "Epoch 81/500\n",
            "12/12 - 0s - loss: 0.6497 - mae: 0.1537\n",
            "Epoch 82/500\n",
            "12/12 - 0s - loss: 0.6486 - mae: 0.1531\n",
            "Epoch 83/500\n",
            "12/12 - 0s - loss: 0.6472 - mae: 0.1522\n",
            "Epoch 84/500\n",
            "12/12 - 0s - loss: 0.6466 - mae: 0.1518\n",
            "Epoch 85/500\n",
            "12/12 - 0s - loss: 0.6453 - mae: 0.1511\n",
            "Epoch 86/500\n",
            "12/12 - 0s - loss: 0.6446 - mae: 0.1504\n",
            "Epoch 87/500\n",
            "12/12 - 0s - loss: 0.6433 - mae: 0.1493\n",
            "Epoch 88/500\n",
            "12/12 - 0s - loss: 0.6421 - mae: 0.1487\n",
            "Epoch 89/500\n",
            "12/12 - 0s - loss: 0.6408 - mae: 0.1479\n",
            "Epoch 90/500\n",
            "12/12 - 0s - loss: 0.6398 - mae: 0.1473\n",
            "Epoch 91/500\n",
            "12/12 - 0s - loss: 0.6386 - mae: 0.1464\n",
            "Epoch 92/500\n",
            "12/12 - 0s - loss: 0.6378 - mae: 0.1458\n",
            "Epoch 93/500\n",
            "12/12 - 0s - loss: 0.6365 - mae: 0.1449\n",
            "Epoch 94/500\n",
            "12/12 - 0s - loss: 0.6355 - mae: 0.1442\n",
            "Epoch 95/500\n",
            "12/12 - 0s - loss: 0.6348 - mae: 0.1436\n",
            "Epoch 96/500\n",
            "12/12 - 0s - loss: 0.6337 - mae: 0.1428\n",
            "Epoch 97/500\n",
            "12/12 - 0s - loss: 0.6328 - mae: 0.1420\n",
            "Epoch 98/500\n",
            "12/12 - 0s - loss: 0.6321 - mae: 0.1417\n",
            "Epoch 99/500\n",
            "12/12 - 0s - loss: 0.6313 - mae: 0.1410\n",
            "Epoch 100/500\n",
            "12/12 - 0s - loss: 0.6304 - mae: 0.1404\n",
            "Epoch 101/500\n",
            "12/12 - 0s - loss: 0.6299 - mae: 0.1400\n",
            "Epoch 102/500\n",
            "12/12 - 0s - loss: 0.6286 - mae: 0.1391\n",
            "Epoch 103/500\n",
            "12/12 - 0s - loss: 0.6281 - mae: 0.1388\n",
            "Epoch 104/500\n",
            "12/12 - 0s - loss: 0.6271 - mae: 0.1382\n",
            "Epoch 105/500\n",
            "12/12 - 0s - loss: 0.6265 - mae: 0.1378\n",
            "Epoch 106/500\n",
            "12/12 - 0s - loss: 0.6262 - mae: 0.1374\n",
            "Epoch 107/500\n",
            "12/12 - 0s - loss: 0.6253 - mae: 0.1368\n",
            "Epoch 108/500\n",
            "12/12 - 0s - loss: 0.6264 - mae: 0.1378\n",
            "Epoch 109/500\n",
            "12/12 - 0s - loss: 0.6261 - mae: 0.1379\n",
            "Epoch 110/500\n",
            "12/12 - 0s - loss: 0.6249 - mae: 0.1373\n",
            "Epoch 111/500\n",
            "12/12 - 0s - loss: 0.6241 - mae: 0.1368\n",
            "Epoch 112/500\n",
            "12/12 - 0s - loss: 0.6229 - mae: 0.1358\n",
            "Epoch 113/500\n",
            "12/12 - 0s - loss: 0.6222 - mae: 0.1351\n",
            "Epoch 114/500\n",
            "12/12 - 0s - loss: 0.6216 - mae: 0.1345\n",
            "Epoch 115/500\n",
            "12/12 - 0s - loss: 0.6211 - mae: 0.1341\n",
            "Epoch 116/500\n",
            "12/12 - 0s - loss: 0.6203 - mae: 0.1336\n",
            "Epoch 117/500\n",
            "12/12 - 0s - loss: 0.6197 - mae: 0.1331\n",
            "Epoch 118/500\n",
            "12/12 - 0s - loss: 0.6191 - mae: 0.1327\n",
            "Epoch 119/500\n",
            "12/12 - 0s - loss: 0.6183 - mae: 0.1320\n",
            "Epoch 120/500\n",
            "12/12 - 0s - loss: 0.6180 - mae: 0.1317\n",
            "Epoch 121/500\n",
            "12/12 - 0s - loss: 0.6172 - mae: 0.1312\n",
            "Epoch 122/500\n",
            "12/12 - 0s - loss: 0.6168 - mae: 0.1308\n",
            "Epoch 123/500\n",
            "12/12 - 0s - loss: 0.6161 - mae: 0.1304\n",
            "Epoch 124/500\n",
            "12/12 - 0s - loss: 0.6156 - mae: 0.1299\n",
            "Epoch 125/500\n",
            "12/12 - 0s - loss: 0.6152 - mae: 0.1296\n",
            "Epoch 126/500\n",
            "12/12 - 0s - loss: 0.6145 - mae: 0.1290\n",
            "Epoch 127/500\n",
            "12/12 - 0s - loss: 0.6143 - mae: 0.1289\n",
            "Epoch 128/500\n",
            "12/12 - 0s - loss: 0.6136 - mae: 0.1282\n",
            "Epoch 129/500\n",
            "12/12 - 0s - loss: 0.6128 - mae: 0.1276\n",
            "Epoch 130/500\n",
            "12/12 - 0s - loss: 0.6129 - mae: 0.1277\n",
            "Epoch 131/500\n",
            "12/12 - 0s - loss: 0.6126 - mae: 0.1274\n",
            "Epoch 132/500\n",
            "12/12 - 0s - loss: 0.6121 - mae: 0.1269\n",
            "Epoch 133/500\n",
            "12/12 - 0s - loss: 0.6115 - mae: 0.1265\n",
            "Epoch 134/500\n",
            "12/12 - 0s - loss: 0.6111 - mae: 0.1260\n",
            "Epoch 135/500\n",
            "12/12 - 0s - loss: 0.6106 - mae: 0.1259\n",
            "Epoch 136/500\n",
            "12/12 - 0s - loss: 0.6104 - mae: 0.1258\n",
            "Epoch 137/500\n",
            "12/12 - 0s - loss: 0.6099 - mae: 0.1253\n",
            "Epoch 138/500\n",
            "12/12 - 0s - loss: 0.6093 - mae: 0.1248\n",
            "Epoch 139/500\n",
            "12/12 - 0s - loss: 0.6092 - mae: 0.1247\n",
            "Epoch 140/500\n",
            "12/12 - 0s - loss: 0.6086 - mae: 0.1239\n",
            "Epoch 141/500\n",
            "12/12 - 0s - loss: 0.6082 - mae: 0.1237\n",
            "Epoch 142/500\n",
            "12/12 - 0s - loss: 0.6078 - mae: 0.1232\n",
            "Epoch 143/500\n",
            "12/12 - 0s - loss: 0.6073 - mae: 0.1229\n",
            "Epoch 144/500\n",
            "12/12 - 0s - loss: 0.6069 - mae: 0.1225\n",
            "Epoch 145/500\n",
            "12/12 - 0s - loss: 0.6066 - mae: 0.1223\n",
            "Epoch 146/500\n",
            "12/12 - 0s - loss: 0.6063 - mae: 0.1220\n",
            "Epoch 147/500\n",
            "12/12 - 0s - loss: 0.6059 - mae: 0.1215\n",
            "Epoch 148/500\n",
            "12/12 - 0s - loss: 0.6056 - mae: 0.1214\n",
            "Epoch 149/500\n",
            "12/12 - 0s - loss: 0.6055 - mae: 0.1213\n",
            "Epoch 150/500\n",
            "12/12 - 0s - loss: 0.6048 - mae: 0.1208\n",
            "Epoch 151/500\n",
            "12/12 - 0s - loss: 0.6117 - mae: 0.1273\n",
            "Epoch 152/500\n",
            "12/12 - 0s - loss: 0.6092 - mae: 0.1249\n",
            "Epoch 153/500\n",
            "12/12 - 0s - loss: 0.6062 - mae: 0.1227\n",
            "Epoch 154/500\n",
            "12/12 - 0s - loss: 0.6054 - mae: 0.1223\n",
            "Epoch 155/500\n",
            "12/12 - 0s - loss: 0.6046 - mae: 0.1214\n",
            "Epoch 156/500\n",
            "12/12 - 0s - loss: 0.6041 - mae: 0.1206\n",
            "Epoch 157/500\n",
            "12/12 - 0s - loss: 0.6033 - mae: 0.1198\n",
            "Epoch 158/500\n",
            "12/12 - 0s - loss: 0.6031 - mae: 0.1194\n",
            "Epoch 159/500\n",
            "12/12 - 0s - loss: 0.6026 - mae: 0.1190\n",
            "Epoch 160/500\n",
            "12/12 - 0s - loss: 0.6022 - mae: 0.1186\n",
            "Epoch 161/500\n",
            "12/12 - 0s - loss: 0.6018 - mae: 0.1181\n",
            "Epoch 162/500\n",
            "12/12 - 0s - loss: 0.6014 - mae: 0.1178\n",
            "Epoch 163/500\n",
            "12/12 - 0s - loss: 0.6011 - mae: 0.1175\n",
            "Epoch 164/500\n",
            "12/12 - 0s - loss: 0.6007 - mae: 0.1170\n",
            "Epoch 165/500\n",
            "12/12 - 0s - loss: 0.6003 - mae: 0.1166\n",
            "Epoch 166/500\n",
            "12/12 - 0s - loss: 0.5999 - mae: 0.1163\n",
            "Epoch 167/500\n",
            "12/12 - 0s - loss: 0.5998 - mae: 0.1162\n",
            "Epoch 168/500\n",
            "12/12 - 0s - loss: 0.5993 - mae: 0.1157\n",
            "Epoch 169/500\n",
            "12/12 - 0s - loss: 0.5992 - mae: 0.1155\n",
            "Epoch 170/500\n",
            "12/12 - 0s - loss: 0.5988 - mae: 0.1152\n",
            "Epoch 171/500\n",
            "12/12 - 0s - loss: 0.5987 - mae: 0.1151\n",
            "Epoch 172/500\n",
            "12/12 - 0s - loss: 0.5983 - mae: 0.1147\n",
            "Epoch 173/500\n",
            "12/12 - 0s - loss: 0.5982 - mae: 0.1146\n",
            "Epoch 174/500\n",
            "12/12 - 0s - loss: 0.5978 - mae: 0.1142\n",
            "Epoch 175/500\n",
            "12/12 - 0s - loss: 0.5973 - mae: 0.1137\n",
            "Epoch 176/500\n",
            "12/12 - 0s - loss: 0.5970 - mae: 0.1133\n",
            "Epoch 177/500\n",
            "12/12 - 0s - loss: 0.5968 - mae: 0.1133\n",
            "Epoch 178/500\n",
            "12/12 - 0s - loss: 0.5966 - mae: 0.1129\n",
            "Epoch 179/500\n",
            "12/12 - 0s - loss: 0.5965 - mae: 0.1128\n",
            "Epoch 180/500\n",
            "12/12 - 0s - loss: 0.5961 - mae: 0.1125\n",
            "Epoch 181/500\n",
            "12/12 - 0s - loss: 0.5957 - mae: 0.1122\n",
            "Epoch 182/500\n",
            "12/12 - 0s - loss: 0.5956 - mae: 0.1119\n",
            "Epoch 183/500\n",
            "12/12 - 0s - loss: 0.5955 - mae: 0.1120\n",
            "Epoch 184/500\n",
            "12/12 - 0s - loss: 0.5950 - mae: 0.1115\n",
            "Epoch 185/500\n",
            "12/12 - 0s - loss: 0.5950 - mae: 0.1115\n",
            "Epoch 186/500\n",
            "12/12 - 0s - loss: 0.5946 - mae: 0.1110\n",
            "Epoch 187/500\n",
            "12/12 - 0s - loss: 0.5943 - mae: 0.1108\n",
            "Epoch 188/500\n",
            "12/12 - 0s - loss: 0.5942 - mae: 0.1106\n",
            "Epoch 189/500\n",
            "12/12 - 0s - loss: 0.5938 - mae: 0.1101\n",
            "Epoch 190/500\n",
            "12/12 - 0s - loss: 0.5939 - mae: 0.1102\n",
            "Epoch 191/500\n",
            "12/12 - 0s - loss: 0.5937 - mae: 0.1100\n",
            "Epoch 192/500\n",
            "12/12 - 0s - loss: 0.5933 - mae: 0.1096\n",
            "Epoch 193/500\n",
            "12/12 - 0s - loss: 0.5929 - mae: 0.1093\n",
            "Epoch 194/500\n",
            "12/12 - 0s - loss: 0.5929 - mae: 0.1093\n",
            "Epoch 195/500\n",
            "12/12 - 0s - loss: 0.5927 - mae: 0.1090\n",
            "Epoch 196/500\n",
            "12/12 - 0s - loss: 0.5925 - mae: 0.1088\n",
            "Epoch 197/500\n",
            "12/12 - 0s - loss: 0.5924 - mae: 0.1088\n",
            "Epoch 198/500\n",
            "12/12 - 0s - loss: 0.5923 - mae: 0.1086\n",
            "Epoch 199/500\n",
            "12/12 - 0s - loss: 0.5920 - mae: 0.1083\n",
            "Epoch 200/500\n",
            "12/12 - 0s - loss: 0.5917 - mae: 0.1080\n",
            "Epoch 201/500\n",
            "12/12 - 0s - loss: 0.5915 - mae: 0.1078\n",
            "Epoch 202/500\n",
            "12/12 - 0s - loss: 0.5912 - mae: 0.1076\n",
            "Epoch 203/500\n",
            "12/12 - 0s - loss: 0.5912 - mae: 0.1076\n",
            "Epoch 204/500\n",
            "12/12 - 0s - loss: 0.5909 - mae: 0.1073\n",
            "Epoch 205/500\n",
            "12/12 - 0s - loss: 0.5910 - mae: 0.1073\n",
            "Epoch 206/500\n",
            "12/12 - 0s - loss: 0.5905 - mae: 0.1068\n",
            "Epoch 207/500\n",
            "12/12 - 0s - loss: 0.5906 - mae: 0.1069\n",
            "Epoch 208/500\n",
            "12/12 - 0s - loss: 0.5904 - mae: 0.1068\n",
            "Epoch 209/500\n",
            "12/12 - 0s - loss: 0.5902 - mae: 0.1066\n",
            "Epoch 210/500\n",
            "12/12 - 0s - loss: 0.5900 - mae: 0.1063\n",
            "Epoch 211/500\n",
            "12/12 - 0s - loss: 0.5899 - mae: 0.1063\n",
            "Epoch 212/500\n",
            "12/12 - 0s - loss: 0.5896 - mae: 0.1061\n",
            "Epoch 213/500\n",
            "12/12 - 0s - loss: 0.5894 - mae: 0.1056\n",
            "Epoch 214/500\n",
            "12/12 - 0s - loss: 0.5895 - mae: 0.1059\n",
            "Epoch 215/500\n",
            "12/12 - 0s - loss: 0.5891 - mae: 0.1055\n",
            "Epoch 216/500\n",
            "12/12 - 0s - loss: 0.5889 - mae: 0.1053\n",
            "Epoch 217/500\n",
            "12/12 - 0s - loss: 0.5889 - mae: 0.1053\n",
            "Epoch 218/500\n",
            "12/12 - 0s - loss: 0.5888 - mae: 0.1052\n",
            "Epoch 219/500\n",
            "12/12 - 0s - loss: 0.5885 - mae: 0.1048\n",
            "Epoch 220/500\n",
            "12/12 - 0s - loss: 0.5883 - mae: 0.1047\n",
            "Epoch 221/500\n",
            "12/12 - 0s - loss: 0.5882 - mae: 0.1044\n",
            "Epoch 222/500\n",
            "12/12 - 0s - loss: 0.5883 - mae: 0.1046\n",
            "Epoch 223/500\n",
            "12/12 - 0s - loss: 0.5878 - mae: 0.1043\n",
            "Epoch 224/500\n",
            "12/12 - 0s - loss: 0.5876 - mae: 0.1040\n",
            "Epoch 225/500\n",
            "12/12 - 0s - loss: 0.5875 - mae: 0.1038\n",
            "Epoch 226/500\n",
            "12/12 - 0s - loss: 0.5874 - mae: 0.1039\n",
            "Epoch 227/500\n",
            "12/12 - 0s - loss: 0.5872 - mae: 0.1037\n",
            "Epoch 228/500\n",
            "12/12 - 0s - loss: 0.5874 - mae: 0.1038\n",
            "Epoch 229/500\n",
            "12/12 - 0s - loss: 0.5871 - mae: 0.1035\n",
            "Epoch 230/500\n",
            "12/12 - 0s - loss: 0.5869 - mae: 0.1033\n",
            "Epoch 231/500\n",
            "12/12 - 0s - loss: 0.5869 - mae: 0.1032\n",
            "Epoch 232/500\n",
            "12/12 - 0s - loss: 0.5867 - mae: 0.1031\n",
            "Epoch 233/500\n",
            "12/12 - 0s - loss: 0.5868 - mae: 0.1031\n",
            "Epoch 234/500\n",
            "12/12 - 0s - loss: 0.5865 - mae: 0.1027\n",
            "Epoch 235/500\n",
            "12/12 - 0s - loss: 0.5861 - mae: 0.1027\n",
            "Epoch 236/500\n",
            "12/12 - 0s - loss: 0.5862 - mae: 0.1026\n",
            "Epoch 237/500\n",
            "12/12 - 0s - loss: 0.5860 - mae: 0.1024\n",
            "Epoch 238/500\n",
            "12/12 - 0s - loss: 0.5858 - mae: 0.1023\n",
            "Epoch 239/500\n",
            "12/12 - 0s - loss: 0.5855 - mae: 0.1019\n",
            "Epoch 240/500\n",
            "12/12 - 0s - loss: 0.5857 - mae: 0.1020\n",
            "Epoch 241/500\n",
            "12/12 - 0s - loss: 0.5855 - mae: 0.1019\n",
            "Epoch 242/500\n",
            "12/12 - 0s - loss: 0.5853 - mae: 0.1016\n",
            "Epoch 243/500\n",
            "12/12 - 0s - loss: 0.5853 - mae: 0.1018\n",
            "Epoch 244/500\n",
            "12/12 - 0s - loss: 0.5851 - mae: 0.1014\n",
            "Epoch 245/500\n",
            "12/12 - 0s - loss: 0.5850 - mae: 0.1013\n",
            "Epoch 246/500\n",
            "12/12 - 0s - loss: 0.5848 - mae: 0.1013\n",
            "Epoch 247/500\n",
            "12/12 - 0s - loss: 0.5848 - mae: 0.1012\n",
            "Epoch 248/500\n",
            "12/12 - 0s - loss: 0.5848 - mae: 0.1012\n",
            "Epoch 249/500\n",
            "12/12 - 0s - loss: 0.5844 - mae: 0.1009\n",
            "Epoch 250/500\n",
            "12/12 - 0s - loss: 0.5845 - mae: 0.1008\n",
            "Epoch 251/500\n",
            "12/12 - 0s - loss: 0.5843 - mae: 0.1006\n",
            "Epoch 252/500\n",
            "12/12 - 0s - loss: 0.5843 - mae: 0.1007\n",
            "Epoch 253/500\n",
            "12/12 - 0s - loss: 0.5840 - mae: 0.1003\n",
            "Epoch 254/500\n",
            "12/12 - 0s - loss: 0.5837 - mae: 0.1001\n",
            "Epoch 255/500\n",
            "12/12 - 0s - loss: 0.5837 - mae: 0.1003\n",
            "Epoch 256/500\n",
            "12/12 - 0s - loss: 0.5838 - mae: 0.1002\n",
            "Epoch 257/500\n",
            "12/12 - 0s - loss: 0.5836 - mae: 0.1000\n",
            "Epoch 258/500\n",
            "12/12 - 0s - loss: 0.5835 - mae: 0.0998\n",
            "Epoch 259/500\n",
            "12/12 - 0s - loss: 0.5834 - mae: 0.0999\n",
            "Epoch 260/500\n",
            "12/12 - 0s - loss: 0.5830 - mae: 0.0993\n",
            "Epoch 261/500\n",
            "12/12 - 0s - loss: 0.5830 - mae: 0.0995\n",
            "Epoch 262/500\n",
            "12/12 - 0s - loss: 0.5831 - mae: 0.0994\n",
            "Epoch 263/500\n",
            "12/12 - 0s - loss: 0.5826 - mae: 0.0991\n",
            "Epoch 264/500\n",
            "12/12 - 0s - loss: 0.5827 - mae: 0.0992\n",
            "Epoch 265/500\n",
            "12/12 - 0s - loss: 0.5828 - mae: 0.0991\n",
            "Epoch 266/500\n",
            "12/12 - 0s - loss: 0.5826 - mae: 0.0991\n",
            "Epoch 267/500\n",
            "12/12 - 0s - loss: 0.5822 - mae: 0.0986\n",
            "Epoch 268/500\n",
            "12/12 - 0s - loss: 0.5824 - mae: 0.0988\n",
            "Epoch 269/500\n",
            "12/12 - 0s - loss: 0.5823 - mae: 0.0986\n",
            "Epoch 270/500\n",
            "12/12 - 0s - loss: 0.5819 - mae: 0.0984\n",
            "Epoch 271/500\n",
            "12/12 - 0s - loss: 0.5820 - mae: 0.0984\n",
            "Epoch 272/500\n",
            "12/12 - 0s - loss: 0.5822 - mae: 0.0985\n",
            "Epoch 273/500\n",
            "12/12 - 0s - loss: 0.5815 - mae: 0.0979\n",
            "Epoch 274/500\n",
            "12/12 - 0s - loss: 0.5816 - mae: 0.0980\n",
            "Epoch 275/500\n",
            "12/12 - 0s - loss: 0.5815 - mae: 0.0980\n",
            "Epoch 276/500\n",
            "12/12 - 0s - loss: 0.5814 - mae: 0.0978\n",
            "Epoch 277/500\n",
            "12/12 - 0s - loss: 0.5813 - mae: 0.0977\n",
            "Epoch 278/500\n",
            "12/12 - 0s - loss: 0.5812 - mae: 0.0976\n",
            "Epoch 279/500\n",
            "12/12 - 0s - loss: 0.5808 - mae: 0.0973\n",
            "Epoch 280/500\n",
            "12/12 - 0s - loss: 0.5811 - mae: 0.0974\n",
            "Epoch 281/500\n",
            "12/12 - 0s - loss: 0.5808 - mae: 0.0972\n",
            "Epoch 282/500\n",
            "12/12 - 0s - loss: 0.5807 - mae: 0.0970\n",
            "Epoch 283/500\n",
            "12/12 - 0s - loss: 0.5806 - mae: 0.0970\n",
            "Epoch 284/500\n",
            "12/12 - 0s - loss: 0.5807 - mae: 0.0969\n",
            "Epoch 285/500\n",
            "12/12 - 0s - loss: 0.5803 - mae: 0.0967\n",
            "Epoch 286/500\n",
            "12/12 - 0s - loss: 0.5802 - mae: 0.0966\n",
            "Epoch 287/500\n",
            "12/12 - 0s - loss: 0.5803 - mae: 0.0967\n",
            "Epoch 288/500\n",
            "12/12 - 0s - loss: 0.5802 - mae: 0.0965\n",
            "Epoch 289/500\n",
            "12/12 - 0s - loss: 0.5800 - mae: 0.0964\n",
            "Epoch 290/500\n",
            "12/12 - 0s - loss: 0.5799 - mae: 0.0962\n",
            "Epoch 291/500\n",
            "12/12 - 0s - loss: 0.5799 - mae: 0.0964\n",
            "Epoch 292/500\n",
            "12/12 - 0s - loss: 0.5794 - mae: 0.0957\n",
            "Epoch 293/500\n",
            "12/12 - 0s - loss: 0.5796 - mae: 0.0960\n",
            "Epoch 294/500\n",
            "12/12 - 0s - loss: 0.5794 - mae: 0.0958\n",
            "Epoch 295/500\n",
            "12/12 - 0s - loss: 0.5795 - mae: 0.0957\n",
            "Epoch 296/500\n",
            "12/12 - 0s - loss: 0.5791 - mae: 0.0954\n",
            "Epoch 297/500\n",
            "12/12 - 0s - loss: 0.5791 - mae: 0.0954\n",
            "Epoch 298/500\n",
            "12/12 - 0s - loss: 0.5791 - mae: 0.0955\n",
            "Epoch 299/500\n",
            "12/12 - 0s - loss: 0.5791 - mae: 0.0954\n",
            "Epoch 300/500\n",
            "12/12 - 0s - loss: 0.5786 - mae: 0.0950\n",
            "Epoch 301/500\n",
            "12/12 - 0s - loss: 0.5788 - mae: 0.0950\n",
            "Epoch 302/500\n",
            "12/12 - 0s - loss: 0.5787 - mae: 0.0950\n",
            "Epoch 303/500\n",
            "12/12 - 0s - loss: 0.5784 - mae: 0.0946\n",
            "Epoch 304/500\n",
            "12/12 - 0s - loss: 0.5784 - mae: 0.0946\n",
            "Epoch 305/500\n",
            "12/12 - 0s - loss: 0.5781 - mae: 0.0945\n",
            "Epoch 306/500\n",
            "12/12 - 0s - loss: 0.5782 - mae: 0.0944\n",
            "Epoch 307/500\n",
            "12/12 - 0s - loss: 0.5780 - mae: 0.0943\n",
            "Epoch 308/500\n",
            "12/12 - 0s - loss: 0.5782 - mae: 0.0944\n",
            "Epoch 309/500\n",
            "12/12 - 0s - loss: 0.5780 - mae: 0.0943\n",
            "Epoch 310/500\n",
            "12/12 - 0s - loss: 0.5779 - mae: 0.0942\n",
            "Epoch 311/500\n",
            "12/12 - 0s - loss: 0.5778 - mae: 0.0940\n",
            "Epoch 312/500\n",
            "12/12 - 0s - loss: 0.5774 - mae: 0.0938\n",
            "Epoch 313/500\n",
            "12/12 - 0s - loss: 0.5776 - mae: 0.0939\n",
            "Epoch 314/500\n",
            "12/12 - 0s - loss: 0.5774 - mae: 0.0936\n",
            "Epoch 315/500\n",
            "12/12 - 0s - loss: 0.5775 - mae: 0.0938\n",
            "Epoch 316/500\n",
            "12/12 - 0s - loss: 0.5774 - mae: 0.0936\n",
            "Epoch 317/500\n",
            "12/12 - 0s - loss: 0.5773 - mae: 0.0936\n",
            "Epoch 318/500\n",
            "12/12 - 0s - loss: 0.5771 - mae: 0.0932\n",
            "Epoch 319/500\n",
            "12/12 - 0s - loss: 0.5768 - mae: 0.0931\n",
            "Epoch 320/500\n",
            "12/12 - 0s - loss: 0.5767 - mae: 0.0929\n",
            "Epoch 321/500\n",
            "12/12 - 0s - loss: 0.5766 - mae: 0.0928\n",
            "Epoch 322/500\n",
            "12/12 - 0s - loss: 0.5766 - mae: 0.0927\n",
            "Epoch 323/500\n",
            "12/12 - 0s - loss: 0.5766 - mae: 0.0928\n",
            "Epoch 324/500\n",
            "12/12 - 0s - loss: 0.5763 - mae: 0.0923\n",
            "Epoch 325/500\n",
            "12/12 - 0s - loss: 0.5764 - mae: 0.0925\n",
            "Epoch 326/500\n",
            "12/12 - 0s - loss: 0.5761 - mae: 0.0923\n",
            "Epoch 327/500\n",
            "12/12 - 0s - loss: 0.5763 - mae: 0.0924\n",
            "Epoch 328/500\n",
            "12/12 - 0s - loss: 0.5760 - mae: 0.0923\n",
            "Epoch 329/500\n",
            "12/12 - 0s - loss: 0.5760 - mae: 0.0920\n",
            "Epoch 330/500\n",
            "12/12 - 0s - loss: 0.5760 - mae: 0.0921\n",
            "Epoch 331/500\n",
            "12/12 - 0s - loss: 0.5759 - mae: 0.0919\n",
            "Epoch 332/500\n",
            "12/12 - 0s - loss: 0.5756 - mae: 0.0916\n",
            "Epoch 333/500\n",
            "12/12 - 0s - loss: 0.5755 - mae: 0.0916\n",
            "Epoch 334/500\n",
            "12/12 - 0s - loss: 0.5756 - mae: 0.0916\n",
            "Epoch 335/500\n",
            "12/12 - 0s - loss: 0.5752 - mae: 0.0912\n",
            "Epoch 336/500\n",
            "12/12 - 0s - loss: 0.5754 - mae: 0.0914\n",
            "Epoch 337/500\n",
            "12/12 - 0s - loss: 0.5752 - mae: 0.0913\n",
            "Epoch 338/500\n",
            "12/12 - 0s - loss: 0.5751 - mae: 0.0913\n",
            "Epoch 339/500\n",
            "12/12 - 0s - loss: 0.5752 - mae: 0.0913\n",
            "Epoch 340/500\n",
            "12/12 - 0s - loss: 0.5750 - mae: 0.0911\n",
            "Epoch 341/500\n",
            "12/12 - 0s - loss: 0.5746 - mae: 0.0905\n",
            "Epoch 342/500\n",
            "12/12 - 0s - loss: 0.5749 - mae: 0.0908\n",
            "Epoch 343/500\n",
            "12/12 - 0s - loss: 0.5746 - mae: 0.0906\n",
            "Epoch 344/500\n",
            "12/12 - 0s - loss: 0.5743 - mae: 0.0902\n",
            "Epoch 345/500\n",
            "12/12 - 0s - loss: 0.5743 - mae: 0.0902\n",
            "Epoch 346/500\n",
            "12/12 - 0s - loss: 0.5742 - mae: 0.0903\n",
            "Epoch 347/500\n",
            "12/12 - 0s - loss: 0.5741 - mae: 0.0899\n",
            "Epoch 348/500\n",
            "12/12 - 0s - loss: 0.5742 - mae: 0.0900\n",
            "Epoch 349/500\n",
            "12/12 - 0s - loss: 0.5740 - mae: 0.0900\n",
            "Epoch 350/500\n",
            "12/12 - 0s - loss: 0.5739 - mae: 0.0898\n",
            "Epoch 351/500\n",
            "12/12 - 0s - loss: 0.5738 - mae: 0.0896\n",
            "Epoch 352/500\n",
            "12/12 - 0s - loss: 0.5738 - mae: 0.0896\n",
            "Epoch 353/500\n",
            "12/12 - 0s - loss: 0.5738 - mae: 0.0897\n",
            "Epoch 354/500\n",
            "12/12 - 0s - loss: 0.5739 - mae: 0.0897\n",
            "Epoch 355/500\n",
            "12/12 - 0s - loss: 0.5736 - mae: 0.0895\n",
            "Epoch 356/500\n",
            "12/12 - 0s - loss: 0.5734 - mae: 0.0892\n",
            "Epoch 357/500\n",
            "12/12 - 0s - loss: 0.5736 - mae: 0.0895\n",
            "Epoch 358/500\n",
            "12/12 - 0s - loss: 0.5732 - mae: 0.0889\n",
            "Epoch 359/500\n",
            "12/12 - 0s - loss: 0.5732 - mae: 0.0889\n",
            "Epoch 360/500\n",
            "12/12 - 0s - loss: 0.5728 - mae: 0.0886\n",
            "Epoch 361/500\n",
            "12/12 - 0s - loss: 0.5730 - mae: 0.0887\n",
            "Epoch 362/500\n",
            "12/12 - 0s - loss: 0.5730 - mae: 0.0888\n",
            "Epoch 363/500\n",
            "12/12 - 0s - loss: 0.5729 - mae: 0.0885\n",
            "Epoch 364/500\n",
            "12/12 - 0s - loss: 0.5729 - mae: 0.0886\n",
            "Epoch 365/500\n",
            "12/12 - 0s - loss: 0.5729 - mae: 0.0886\n",
            "Epoch 366/500\n",
            "12/12 - 0s - loss: 0.5727 - mae: 0.0884\n",
            "Epoch 367/500\n",
            "12/12 - 0s - loss: 0.5725 - mae: 0.0882\n",
            "Epoch 368/500\n",
            "12/12 - 0s - loss: 0.5727 - mae: 0.0884\n",
            "Epoch 369/500\n",
            "12/12 - 0s - loss: 0.5724 - mae: 0.0881\n",
            "Epoch 370/500\n",
            "12/12 - 0s - loss: 0.5723 - mae: 0.0879\n",
            "Epoch 371/500\n",
            "12/12 - 0s - loss: 0.5722 - mae: 0.0877\n",
            "Epoch 372/500\n",
            "12/12 - 0s - loss: 0.5722 - mae: 0.0877\n",
            "Epoch 373/500\n",
            "12/12 - 0s - loss: 0.5720 - mae: 0.0875\n",
            "Epoch 374/500\n",
            "12/12 - 0s - loss: 0.5722 - mae: 0.0876\n",
            "Epoch 375/500\n",
            "12/12 - 0s - loss: 0.5720 - mae: 0.0876\n",
            "Epoch 376/500\n",
            "12/12 - 0s - loss: 0.5719 - mae: 0.0873\n",
            "Epoch 377/500\n",
            "12/12 - 0s - loss: 0.5717 - mae: 0.0870\n",
            "Epoch 378/500\n",
            "12/12 - 0s - loss: 0.5717 - mae: 0.0870\n",
            "Epoch 379/500\n",
            "12/12 - 0s - loss: 0.5715 - mae: 0.0870\n",
            "Epoch 380/500\n",
            "12/12 - 0s - loss: 0.5715 - mae: 0.0869\n",
            "Epoch 381/500\n",
            "12/12 - 0s - loss: 0.5713 - mae: 0.0867\n",
            "Epoch 382/500\n",
            "12/12 - 0s - loss: 0.5713 - mae: 0.0867\n",
            "Epoch 383/500\n",
            "12/12 - 0s - loss: 0.5713 - mae: 0.0866\n",
            "Epoch 384/500\n",
            "12/12 - 0s - loss: 0.5713 - mae: 0.0867\n",
            "Epoch 385/500\n",
            "12/12 - 0s - loss: 0.5712 - mae: 0.0865\n",
            "Epoch 386/500\n",
            "12/12 - 0s - loss: 0.5711 - mae: 0.0865\n",
            "Epoch 387/500\n",
            "12/12 - 0s - loss: 0.5709 - mae: 0.0863\n",
            "Epoch 388/500\n",
            "12/12 - 0s - loss: 0.5710 - mae: 0.0864\n",
            "Epoch 389/500\n",
            "12/12 - 0s - loss: 0.5708 - mae: 0.0860\n",
            "Epoch 390/500\n",
            "12/12 - 0s - loss: 0.5707 - mae: 0.0859\n",
            "Epoch 391/500\n",
            "12/12 - 0s - loss: 0.5707 - mae: 0.0859\n",
            "Epoch 392/500\n",
            "12/12 - 0s - loss: 0.5705 - mae: 0.0857\n",
            "Epoch 393/500\n",
            "12/12 - 0s - loss: 0.5704 - mae: 0.0856\n",
            "Epoch 394/500\n",
            "12/12 - 0s - loss: 0.5704 - mae: 0.0855\n",
            "Epoch 395/500\n",
            "12/12 - 0s - loss: 0.5705 - mae: 0.0855\n",
            "Epoch 396/500\n",
            "12/12 - 0s - loss: 0.5704 - mae: 0.0855\n",
            "Epoch 397/500\n",
            "12/12 - 0s - loss: 0.5704 - mae: 0.0855\n",
            "Epoch 398/500\n",
            "12/12 - 0s - loss: 0.5703 - mae: 0.0853\n",
            "Epoch 399/500\n",
            "12/12 - 0s - loss: 0.5699 - mae: 0.0850\n",
            "Epoch 400/500\n",
            "12/12 - 0s - loss: 0.5700 - mae: 0.0852\n",
            "Epoch 401/500\n",
            "12/12 - 0s - loss: 0.5700 - mae: 0.0850\n",
            "Epoch 402/500\n",
            "12/12 - 0s - loss: 0.5700 - mae: 0.0851\n",
            "Epoch 403/500\n",
            "12/12 - 0s - loss: 0.5697 - mae: 0.0848\n",
            "Epoch 404/500\n",
            "12/12 - 0s - loss: 0.5699 - mae: 0.0849\n",
            "Epoch 405/500\n",
            "12/12 - 0s - loss: 0.5699 - mae: 0.0848\n",
            "Epoch 406/500\n",
            "12/12 - 0s - loss: 0.5699 - mae: 0.0848\n",
            "Epoch 407/500\n",
            "12/12 - 0s - loss: 0.5695 - mae: 0.0844\n",
            "Epoch 408/500\n",
            "12/12 - 0s - loss: 0.5696 - mae: 0.0844\n",
            "Epoch 409/500\n",
            "12/12 - 0s - loss: 0.5696 - mae: 0.0845\n",
            "Epoch 410/500\n",
            "12/12 - 0s - loss: 0.5692 - mae: 0.0842\n",
            "Epoch 411/500\n",
            "12/12 - 0s - loss: 0.5692 - mae: 0.0841\n",
            "Epoch 412/500\n",
            "12/12 - 0s - loss: 0.5693 - mae: 0.0843\n",
            "Epoch 413/500\n",
            "12/12 - 0s - loss: 0.5694 - mae: 0.0842\n",
            "Epoch 414/500\n",
            "12/12 - 0s - loss: 0.5691 - mae: 0.0839\n",
            "Epoch 415/500\n",
            "12/12 - 0s - loss: 0.5690 - mae: 0.0838\n",
            "Epoch 416/500\n",
            "12/12 - 0s - loss: 0.5690 - mae: 0.0838\n",
            "Epoch 417/500\n",
            "12/12 - 0s - loss: 0.5690 - mae: 0.0837\n",
            "Epoch 418/500\n",
            "12/12 - 0s - loss: 0.5689 - mae: 0.0836\n",
            "Epoch 419/500\n",
            "12/12 - 0s - loss: 0.5688 - mae: 0.0836\n",
            "Epoch 420/500\n",
            "12/12 - 0s - loss: 0.5687 - mae: 0.0835\n",
            "Epoch 421/500\n",
            "12/12 - 0s - loss: 0.5688 - mae: 0.0834\n",
            "Epoch 422/500\n",
            "12/12 - 0s - loss: 0.5686 - mae: 0.0832\n",
            "Epoch 423/500\n",
            "12/12 - 0s - loss: 0.5685 - mae: 0.0832\n",
            "Epoch 424/500\n",
            "12/12 - 0s - loss: 0.5685 - mae: 0.0831\n",
            "Epoch 425/500\n",
            "12/12 - 0s - loss: 0.5688 - mae: 0.0834\n",
            "Epoch 426/500\n",
            "12/12 - 0s - loss: 0.5685 - mae: 0.0831\n",
            "Epoch 427/500\n",
            "12/12 - 0s - loss: 0.5685 - mae: 0.0832\n",
            "Epoch 428/500\n",
            "12/12 - 0s - loss: 0.5682 - mae: 0.0828\n",
            "Epoch 429/500\n",
            "12/12 - 0s - loss: 0.5682 - mae: 0.0827\n",
            "Epoch 430/500\n",
            "12/12 - 0s - loss: 0.5685 - mae: 0.0830\n",
            "Epoch 431/500\n",
            "12/12 - 0s - loss: 0.5682 - mae: 0.0828\n",
            "Epoch 432/500\n",
            "12/12 - 0s - loss: 0.5680 - mae: 0.0825\n",
            "Epoch 433/500\n",
            "12/12 - 0s - loss: 0.5682 - mae: 0.0828\n",
            "Epoch 434/500\n",
            "12/12 - 0s - loss: 0.5678 - mae: 0.0824\n",
            "Epoch 435/500\n",
            "12/12 - 0s - loss: 0.5678 - mae: 0.0822\n",
            "Epoch 436/500\n",
            "12/12 - 0s - loss: 0.5679 - mae: 0.0823\n",
            "Epoch 437/500\n",
            "12/12 - 0s - loss: 0.5677 - mae: 0.0822\n",
            "Epoch 438/500\n",
            "12/12 - 0s - loss: 0.5678 - mae: 0.0823\n",
            "Epoch 439/500\n",
            "12/12 - 0s - loss: 0.5676 - mae: 0.0818\n",
            "Epoch 440/500\n",
            "12/12 - 0s - loss: 0.5677 - mae: 0.0822\n",
            "Epoch 441/500\n",
            "12/12 - 0s - loss: 0.5675 - mae: 0.0818\n",
            "Epoch 442/500\n",
            "12/12 - 0s - loss: 0.5676 - mae: 0.0819\n",
            "Epoch 443/500\n",
            "12/12 - 0s - loss: 0.5675 - mae: 0.0819\n",
            "Epoch 444/500\n",
            "12/12 - 0s - loss: 0.5675 - mae: 0.0818\n",
            "Epoch 445/500\n",
            "12/12 - 0s - loss: 0.5674 - mae: 0.0817\n",
            "Epoch 446/500\n",
            "12/12 - 0s - loss: 0.5672 - mae: 0.0814\n",
            "Epoch 447/500\n",
            "12/12 - 0s - loss: 0.5673 - mae: 0.0817\n",
            "Epoch 448/500\n",
            "12/12 - 0s - loss: 0.5673 - mae: 0.0816\n",
            "Epoch 449/500\n",
            "12/12 - 0s - loss: 0.5673 - mae: 0.0816\n",
            "Epoch 450/500\n",
            "12/12 - 0s - loss: 0.5671 - mae: 0.0815\n",
            "Epoch 451/500\n",
            "12/12 - 0s - loss: 0.5671 - mae: 0.0813\n",
            "Epoch 452/500\n",
            "12/12 - 0s - loss: 0.5671 - mae: 0.0814\n",
            "Epoch 453/500\n",
            "12/12 - 0s - loss: 0.5671 - mae: 0.0813\n",
            "Epoch 454/500\n",
            "12/12 - 0s - loss: 0.5670 - mae: 0.0811\n",
            "Epoch 455/500\n",
            "12/12 - 0s - loss: 0.5669 - mae: 0.0810\n",
            "Epoch 456/500\n",
            "12/12 - 0s - loss: 0.5667 - mae: 0.0809\n",
            "Epoch 457/500\n",
            "12/12 - 0s - loss: 0.5666 - mae: 0.0807\n",
            "Epoch 458/500\n",
            "12/12 - 0s - loss: 0.5668 - mae: 0.0809\n",
            "Epoch 459/500\n",
            "12/12 - 0s - loss: 0.5666 - mae: 0.0806\n",
            "Epoch 460/500\n",
            "12/12 - 0s - loss: 0.5666 - mae: 0.0807\n",
            "Epoch 461/500\n",
            "12/12 - 0s - loss: 0.5665 - mae: 0.0806\n",
            "Epoch 462/500\n",
            "12/12 - 0s - loss: 0.5665 - mae: 0.0805\n",
            "Epoch 463/500\n",
            "12/12 - 0s - loss: 0.5664 - mae: 0.0805\n",
            "Epoch 464/500\n",
            "12/12 - 0s - loss: 0.5665 - mae: 0.0805\n",
            "Epoch 465/500\n",
            "12/12 - 0s - loss: 0.5663 - mae: 0.0803\n",
            "Epoch 466/500\n",
            "12/12 - 0s - loss: 0.5663 - mae: 0.0803\n",
            "Epoch 467/500\n",
            "12/12 - 0s - loss: 0.5663 - mae: 0.0803\n",
            "Epoch 468/500\n",
            "12/12 - 0s - loss: 0.5664 - mae: 0.0805\n",
            "Epoch 469/500\n",
            "12/12 - 0s - loss: 0.5662 - mae: 0.0802\n",
            "Epoch 470/500\n",
            "12/12 - 0s - loss: 0.5660 - mae: 0.0800\n",
            "Epoch 471/500\n",
            "12/12 - 0s - loss: 0.5661 - mae: 0.0800\n",
            "Epoch 472/500\n",
            "12/12 - 0s - loss: 0.5660 - mae: 0.0800\n",
            "Epoch 473/500\n",
            "12/12 - 0s - loss: 0.5659 - mae: 0.0799\n",
            "Epoch 474/500\n",
            "12/12 - 0s - loss: 0.5659 - mae: 0.0798\n",
            "Epoch 475/500\n",
            "12/12 - 0s - loss: 0.5660 - mae: 0.0798\n",
            "Epoch 476/500\n",
            "12/12 - 0s - loss: 0.5659 - mae: 0.0798\n",
            "Epoch 477/500\n",
            "12/12 - 0s - loss: 0.5658 - mae: 0.0797\n",
            "Epoch 478/500\n",
            "12/12 - 0s - loss: 0.5658 - mae: 0.0796\n",
            "Epoch 479/500\n",
            "12/12 - 0s - loss: 0.5656 - mae: 0.0794\n",
            "Epoch 480/500\n",
            "12/12 - 0s - loss: 0.5657 - mae: 0.0795\n",
            "Epoch 481/500\n",
            "12/12 - 0s - loss: 0.5654 - mae: 0.0793\n",
            "Epoch 482/500\n",
            "12/12 - 0s - loss: 0.5654 - mae: 0.0792\n",
            "Epoch 483/500\n",
            "12/12 - 0s - loss: 0.5655 - mae: 0.0792\n",
            "Epoch 484/500\n",
            "12/12 - 0s - loss: 0.5654 - mae: 0.0792\n",
            "Epoch 485/500\n",
            "12/12 - 0s - loss: 0.5653 - mae: 0.0790\n",
            "Epoch 486/500\n",
            "12/12 - 0s - loss: 0.5656 - mae: 0.0793\n",
            "Epoch 487/500\n",
            "12/12 - 0s - loss: 0.5653 - mae: 0.0789\n",
            "Epoch 488/500\n",
            "12/12 - 0s - loss: 0.5654 - mae: 0.0791\n",
            "Epoch 489/500\n",
            "12/12 - 0s - loss: 0.5654 - mae: 0.0790\n",
            "Epoch 490/500\n",
            "12/12 - 0s - loss: 0.5653 - mae: 0.0789\n",
            "Epoch 491/500\n",
            "12/12 - 0s - loss: 0.5652 - mae: 0.0788\n",
            "Epoch 492/500\n",
            "12/12 - 0s - loss: 0.5651 - mae: 0.0787\n",
            "Epoch 493/500\n",
            "12/12 - 0s - loss: 0.5651 - mae: 0.0787\n",
            "Epoch 494/500\n",
            "12/12 - 0s - loss: 0.5650 - mae: 0.0786\n",
            "Epoch 495/500\n",
            "12/12 - 0s - loss: 0.5651 - mae: 0.0785\n",
            "Epoch 496/500\n",
            "12/12 - 0s - loss: 0.5650 - mae: 0.0785\n",
            "Epoch 497/500\n",
            "12/12 - 0s - loss: 0.5649 - mae: 0.0784\n",
            "Epoch 498/500\n",
            "12/12 - 0s - loss: 0.5647 - mae: 0.0783\n",
            "Epoch 499/500\n",
            "12/12 - 0s - loss: 0.5649 - mae: 0.0784\n",
            "Epoch 500/500\n",
            "12/12 - 0s - loss: 0.5648 - mae: 0.0785\n"
          ],
          "name": "stdout"
        }
      ]
    },
    {
      "cell_type": "code",
      "metadata": {
        "id": "8dQhKPJLLzc4",
        "colab_type": "code",
        "outputId": "f675b8a5-d29f-4eb7-c9a5-27ba3e020b51",
        "colab": {
          "base_uri": "https://localhost:8080/",
          "height": 200
        }
      },
      "source": [
        "img_array = np.load('/gdrive/My Drive/University Lecture/데이터마이닝/Images/test_X.npy')\n",
        "for i in range(9):\n",
        "    img = img_array[i,:,:,:]\n",
        "    img = img.reshape(64,64)\n",
        "    imsave('/gdrive/My Drive/University Lecture/데이터마이닝/Images/test_X'+str(i)+'.png', img)\n",
        "\n",
        "values = model.predict( test_X )\n",
        "\n",
        "for i in range( 9 ):\n",
        "    image_final = ( values[i] * 255).astype( np.uint8 )\n",
        "    imsave( '/gdrive/My Drive/University Lecture/데이터마이닝/Images/'+'{}.png'.format( i + 1 ) , image_final  )\n",
        "\n",
        "# img_array = np.load('/gdrive/My Drive/DeepLearning/AE/X.npy')\n",
        "# print(img_array.shape)\n",
        "# for i in range(6):\n",
        "#     img = img_array[i,:,:,:]\n",
        "#     img = img.reshape(64,64)\n",
        "#     imsave('/gdrive/My Drive/DeepLearning/AE/X'+str(i)+'.png', img)\n",
        "\n",
        "# img_array = np.load('/gdrive/My Drive/DeepLearning/AE/Y.npy')\n",
        "# print(img_array.shape)\n",
        "# for i in range(6):\n",
        "#     img = img_array[i,:,:,:]\n",
        "#     img = img.reshape(64,64,3)\n",
        "#     imsave('/gdrive/My Drive/DeepLearning/AE/Y'+str(i)+'.png', img)"
      ],
      "execution_count": 0,
      "outputs": [
        {
          "output_type": "stream",
          "text": [
            "WARNING:root:Lossy conversion from float64 to uint8. Range [0, 1]. Convert image to uint8 prior to saving to suppress this warning.\n",
            "WARNING:root:Lossy conversion from float64 to uint8. Range [0, 1]. Convert image to uint8 prior to saving to suppress this warning.\n",
            "WARNING:root:Lossy conversion from float64 to uint8. Range [0, 1]. Convert image to uint8 prior to saving to suppress this warning.\n",
            "WARNING:root:Lossy conversion from float64 to uint8. Range [0, 1]. Convert image to uint8 prior to saving to suppress this warning.\n",
            "WARNING:root:Lossy conversion from float64 to uint8. Range [0, 1]. Convert image to uint8 prior to saving to suppress this warning.\n",
            "WARNING:root:Lossy conversion from float64 to uint8. Range [0, 1]. Convert image to uint8 prior to saving to suppress this warning.\n",
            "WARNING:root:Lossy conversion from float64 to uint8. Range [0, 1]. Convert image to uint8 prior to saving to suppress this warning.\n",
            "WARNING:root:Lossy conversion from float64 to uint8. Range [0, 1]. Convert image to uint8 prior to saving to suppress this warning.\n",
            "WARNING:root:Lossy conversion from float64 to uint8. Range [0, 1]. Convert image to uint8 prior to saving to suppress this warning.\n"
          ],
          "name": "stderr"
        }
      ]
    },
    {
      "cell_type": "code",
      "metadata": {
        "id": "dY7R5YvrLzjL",
        "colab_type": "code",
        "outputId": "67bf3d66-992c-45ec-84da-fd4ba9557e4b",
        "colab": {
          "base_uri": "https://localhost:8080/",
          "height": 286
        }
      },
      "source": [
        "import matplotlib.pyplot as plt\n",
        "\n",
        "gray_img = plt.imread('/gdrive/My Drive/University Lecture/데이터마이닝/Images/test_X0.png')\n",
        "color_img = plt.imread('/gdrive/My Drive/University Lecture/데이터마이닝/Images/1.png')\n",
        "plt.imshow(gray_img)"
      ],
      "execution_count": 0,
      "outputs": [
        {
          "output_type": "execute_result",
          "data": {
            "text/plain": [
              "<matplotlib.image.AxesImage at 0x7f200c1aef60>"
            ]
          },
          "metadata": {
            "tags": []
          },
          "execution_count": 66
        },
        {
          "output_type": "display_data",
          "data": {
            "image/png": "[encoded data removed]",
            "text/plain": [
              "<Figure size 432x288 with 1 Axes>"
            ]
          },
          "metadata": {
            "tags": [],
            "needs_background": "light"
          }
        }
      ]
    },
    {
      "cell_type": "code",
      "metadata": {
        "id": "JkQuSY6dUVCE",
        "colab_type": "code",
        "outputId": "a4401f24-5b3c-4477-f977-54a220678df7",
        "colab": {
          "base_uri": "https://localhost:8080/",
          "height": 286
        }
      },
      "source": [
        "plt.imshow(color_img)"
      ],
      "execution_count": 0,
      "outputs": [
        {
          "output_type": "execute_result",
          "data": {
            "text/plain": [
              "<matplotlib.image.AxesImage at 0x7f200c1162b0>"
            ]
          },
          "metadata": {
            "tags": []
          },
          "execution_count": 67
        },
        {
          "output_type": "display_data",
          "data": {
            "image/png": "[encoded data removed]",
            "text/plain": [
              "<Figure size 432x288 with 1 Axes>"
            ]
          },
          "metadata": {
            "tags": [],
            "needs_background": "light"
          }
        }
      ]
    },
    {
      "cell_type": "markdown",
      "metadata": {
        "id": "pylkYoYlVTRd",
        "colab_type": "text"
      },
      "source": [
        "# Image Search"
      ]
    },
    {
      "cell_type": "markdown",
      "metadata": {
        "id": "B_ZpXT9NLzqZ",
        "colab_type": "text"
      },
      "source": [
        "<img src='https://i.postimg.cc/Y2XxN8jn/image.png' width='100%'>"
      ]
    },
    {
      "cell_type": "code",
      "metadata": {
        "id": "E8vAsuJ9LzxX",
        "colab_type": "code",
        "colab": {}
      },
      "source": [
        "# ImageSearch_CIFAR10_AE_TF2.ipynb\n",
        "\n",
        "import numpy as np\n",
        "import tensorflow as tf\n",
        "from tensorflow.keras import layers, models\n",
        "from tensorflow.keras import datasets \n",
        "from tensorflow.keras.utils import to_categorical\n",
        "import matplotlib.pyplot as plt"
      ],
      "execution_count": 0,
      "outputs": []
    },
    {
      "cell_type": "code",
      "metadata": {
        "id": "RfznhCddVhRh",
        "colab_type": "code",
        "outputId": "addd8492-c82b-4d38-e48c-bfa74f6ad359",
        "colab": {
          "base_uri": "https://localhost:8080/",
          "height": 53
        }
      },
      "source": [
        "(x_train, y_train), (x_test, y_test) = datasets.cifar10.load_data()\n",
        "Y_train = to_categorical(y_train)\n",
        "Y_test = to_categorical(y_test)\n",
        "X_train = x_train.astype('float32')\n",
        "X_test = x_test.astype('float32')\n",
        "X_train /= 255\n",
        "X_test /= 255"
      ],
      "execution_count": 0,
      "outputs": [
        {
          "output_type": "stream",
          "text": [
            "Downloading data from https://www.cs.toronto.edu/~kriz/cifar-10-python.tar.gz\n",
            "170500096/170498071 [==============================] - 11s 0us/step\n"
          ],
          "name": "stdout"
        }
      ]
    },
    {
      "cell_type": "code",
      "metadata": {
        "id": "EBeexdf5VhZM",
        "colab_type": "code",
        "outputId": "07f405fd-82f7-4253-b880-57bf6ec2d151",
        "colab": {
          "base_uri": "https://localhost:8080/",
          "height": 35
        }
      },
      "source": [
        "X_train = np.reshape(X_train, (-1, 32, 32, 3))\n",
        "X_test = np.reshape(X_test, (-1, 32, 32, 3))\n",
        "\n",
        "num_classes = 10\n",
        "batch_size = 32\n",
        "print(X_train.shape, X_test.shape)"
      ],
      "execution_count": 0,
      "outputs": [
        {
          "output_type": "stream",
          "text": [
            "(50000, 32, 32, 3) (10000, 32, 32, 3)\n"
          ],
          "name": "stdout"
        }
      ]
    },
    {
      "cell_type": "code",
      "metadata": {
        "id": "NmGa8h2PVhdn",
        "colab_type": "code",
        "outputId": "2c313584-ad93-4ec7-ea4f-55a7b4112cc2",
        "colab": {
          "base_uri": "https://localhost:8080/",
          "height": 851
        }
      },
      "source": [
        "# Functional API\n",
        "\n",
        "input_img = layers.Input(shape=(32, 32, 3))\n",
        "x = layers.Conv2D(16,(3,3), activation='relu', padding='same')(input_img)\n",
        "x = layers.MaxPooling2D((2,2), padding='same')(x)\n",
        "x = layers.Conv2D(8,(3,3), activation='relu', padding='same')(x)\n",
        "x = layers.MaxPooling2D((2,2), padding='same')(x)\n",
        "x = layers.Conv2D(8,(3,3), activation='relu', padding='same')(x)\n",
        "encoded = layers.MaxPooling2D((2,2), padding='same', name='encoder')(x)\n",
        "\n",
        "x = layers.Conv2D(8, (3, 3), activation='relu', padding='same')(encoded)\n",
        "x = layers.UpSampling2D((2, 2))(x)\n",
        "x = layers.Conv2D(8, (3, 3), activation='relu', padding='same')(x)\n",
        "x = layers.UpSampling2D((2, 2))(x)\n",
        "x = layers.Conv2D(16, (3, 3), activation='relu', padding='same')(x)\n",
        "x = layers.UpSampling2D((2, 2))(x)\n",
        "decoded = layers.Conv2D(3, (3, 3), activation='sigmoid', padding='same')(x)\n",
        "\n",
        "autoencoder = models.Model(input_img, decoded)\n",
        "autoencoder.compile(optimizer='adam', loss='mse')\n",
        "autoencoder.summary()\n",
        "\n",
        "autoencoder.fit(X_train, X_train, epochs=5, batch_size=32, callbacks=None )\n",
        "\n",
        "autoencoder.save('autoencoder.h5')"
      ],
      "execution_count": 0,
      "outputs": [
        {
          "output_type": "stream",
          "text": [
            "Model: \"model\"\n",
            "_________________________________________________________________\n",
            "Layer (type)                 Output Shape              Param #   \n",
            "=================================================================\n",
            "input_1 (InputLayer)         [(None, 32, 32, 3)]       0         \n",
            "_________________________________________________________________\n",
            "conv2d_13 (Conv2D)           (None, 32, 32, 16)        448       \n",
            "_________________________________________________________________\n",
            "max_pooling2d_2 (MaxPooling2 (None, 16, 16, 16)        0         \n",
            "_________________________________________________________________\n",
            "conv2d_14 (Conv2D)           (None, 16, 16, 8)         1160      \n",
            "_________________________________________________________________\n",
            "max_pooling2d_3 (MaxPooling2 (None, 8, 8, 8)           0         \n",
            "_________________________________________________________________\n",
            "conv2d_15 (Conv2D)           (None, 8, 8, 8)           584       \n",
            "_________________________________________________________________\n",
            "encoder (MaxPooling2D)       (None, 4, 4, 8)           0         \n",
            "_________________________________________________________________\n",
            "conv2d_16 (Conv2D)           (None, 4, 4, 8)           584       \n",
            "_________________________________________________________________\n",
            "up_sampling2d_2 (UpSampling2 (None, 8, 8, 8)           0         \n",
            "_________________________________________________________________\n",
            "conv2d_17 (Conv2D)           (None, 8, 8, 8)           584       \n",
            "_________________________________________________________________\n",
            "up_sampling2d_3 (UpSampling2 (None, 16, 16, 8)         0         \n",
            "_________________________________________________________________\n",
            "conv2d_18 (Conv2D)           (None, 16, 16, 16)        1168      \n",
            "_________________________________________________________________\n",
            "up_sampling2d_4 (UpSampling2 (None, 32, 32, 16)        0         \n",
            "_________________________________________________________________\n",
            "conv2d_19 (Conv2D)           (None, 32, 32, 3)         435       \n",
            "=================================================================\n",
            "Total params: 4,963\n",
            "Trainable params: 4,963\n",
            "Non-trainable params: 0\n",
            "_________________________________________________________________\n",
            "Epoch 1/5\n",
            "1563/1563 [==============================] - 5s 3ms/step - loss: 0.0204\n",
            "Epoch 2/5\n",
            "1563/1563 [==============================] - 5s 3ms/step - loss: 0.0143\n",
            "Epoch 3/5\n",
            "1563/1563 [==============================] - 5s 3ms/step - loss: 0.0133\n",
            "Epoch 4/5\n",
            "1563/1563 [==============================] - 5s 3ms/step - loss: 0.0127\n",
            "Epoch 5/5\n",
            "1563/1563 [==============================] - 5s 3ms/step - loss: 0.0123\n"
          ],
          "name": "stdout"
        }
      ]
    },
    {
      "cell_type": "code",
      "metadata": {
        "id": "7d0lpFKNVhhf",
        "colab_type": "code",
        "outputId": "e0347b77-4cad-443f-9fbd-ff2f69b6b2cc",
        "colab": {
          "base_uri": "https://localhost:8080/",
          "height": 284
        }
      },
      "source": [
        "encoder = models.Model(inputs=autoencoder.input, outputs=autoencoder.get_layer('encoder').output)\n",
        "encoder.save('encoder.h5')\n",
        "query = X_test[7]\n",
        "plt.imshow(query.reshape(32,32,3))"
      ],
      "execution_count": 0,
      "outputs": [
        {
          "output_type": "execute_result",
          "data": {
            "text/plain": [
              "<matplotlib.image.AxesImage at 0x7f2034425a20>"
            ]
          },
          "metadata": {
            "tags": []
          },
          "execution_count": 72
        },
        {
          "output_type": "display_data",
          "data": {
            "image/png": "[encoded data removed]",
            "text/plain": [
              "<Figure size 432x288 with 1 Axes>"
            ]
          },
          "metadata": {
            "tags": [],
            "needs_background": "light"
          }
        }
      ]
    },
    {
      "cell_type": "code",
      "metadata": {
        "id": "dGzBWnGZVhmO",
        "colab_type": "code",
        "outputId": "4ad46712-5796-43a2-e3ff-3f9d69bc4e2e",
        "colab": {
          "base_uri": "https://localhost:8080/",
          "height": 35
        }
      },
      "source": [
        "X_test = np.delete(X_test, 7, axis=0)   # 찾으려는 사진을 제거하고 수행\n",
        "print(X_test.shape)"
      ],
      "execution_count": 0,
      "outputs": [
        {
          "output_type": "stream",
          "text": [
            "(9999, 32, 32, 3)\n"
          ],
          "name": "stdout"
        }
      ]
    },
    {
      "cell_type": "code",
      "metadata": {
        "id": "hL_5aezdVhrj",
        "colab_type": "code",
        "colab": {}
      },
      "source": [
        "codes = encoder.predict(X_test)\n",
        "query_code = encoder.predict(query.reshape(1,32, 32, 3))"
      ],
      "execution_count": 0,
      "outputs": []
    },
    {
      "cell_type": "code",
      "metadata": {
        "id": "QDfyEzChVhxM",
        "colab_type": "code",
        "outputId": "146b2640-1b4f-4e73-a0de-ec68056c4156",
        "colab": {
          "base_uri": "https://localhost:8080/",
          "height": 71
        }
      },
      "source": [
        "from sklearn.neighbors import NearestNeighbors\n",
        "n_neigh = 5\n",
        "\n",
        "codes = codes.reshape(-1, 4*4*8); print(codes.shape)\n",
        "query_code = query_code.reshape(1, 4*4*8); print(query_code.shape)\n",
        "\n",
        "\"\"\"### Fit the KNN to the test set\"\"\"\n",
        "\n",
        "nbrs = NearestNeighbors(n_neighbors=n_neigh).fit(codes)\n",
        "\n",
        "distances, indices = nbrs.kneighbors(np.array(query_code))\n",
        "\n",
        "closest_images = X_test[indices]\n",
        "\n",
        "closest_images = closest_images.reshape(-1,32, 32, 3); print(closest_images.shape)"
      ],
      "execution_count": 0,
      "outputs": [
        {
          "output_type": "stream",
          "text": [
            "(9999, 128)\n",
            "(1, 128)\n",
            "(5, 32, 32, 3)\n"
          ],
          "name": "stdout"
        }
      ]
    },
    {
      "cell_type": "code",
      "metadata": {
        "id": "t04s9ynPVnZ0",
        "colab_type": "code",
        "outputId": "b29d49e1-2724-4a58-a2f2-5d9c1bdc0a2f",
        "colab": {
          "base_uri": "https://localhost:8080/",
          "height": 433
        }
      },
      "source": [
        "plt.imshow(query.reshape(32, 32, 3))\n",
        "\n",
        "plt.figure(figsize=(20, 6))\n",
        "for i in range(n_neigh):\n",
        "    # display original\n",
        "    ax = plt.subplot(1, n_neigh, i+1)\n",
        "    plt.imshow(closest_images[i].reshape(32, 32, 3))\n",
        "    plt.gray()\n",
        "    ax.get_xaxis().set_visible(False)\n",
        "    ax.get_yaxis().set_visible(False)\n",
        "    \n",
        "plt.show()"
      ],
      "execution_count": 0,
      "outputs": [
        {
          "output_type": "display_data",
          "data": {
            "image/png": "[encoded data removed]",
            "text/plain": [
              "<Figure size 432x288 with 1 Axes>"
            ]
          },
          "metadata": {
            "tags": [],
            "needs_background": "light"
          }
        },
        {
          "output_type": "display_data",
          "data": {
            "image/png": "[encoded data removed]",
            "text/plain": [
              "<Figure size 1440x432 with 5 Axes>"
            ]
          },
          "metadata": {
            "tags": [],
            "needs_background": "light"
          }
        }
      ]
    },
    {
      "cell_type": "markdown",
      "metadata": {
        "id": "Xx8jtBforDZP",
        "colab_type": "text"
      },
      "source": [
        "# Question"
      ]
    },
    {
      "cell_type": "markdown",
      "metadata": {
        "id": "i9qkdUTUuuaG",
        "colab_type": "text"
      },
      "source": [
        "1. 오토인코더에 설명으로 틀린 것은?\n",
        " * supervised learning 이다. --> 틀린 설명\n",
        " * unsupervised learning이다. --> 맞는 설명\n",
        "\n",
        "2. 오토인코더의 응용분야가 아닌것은?\n",
        " * Colorization --> 응용분야 O\n",
        " * Image Search --> 응용분야 0\n",
        " * Image 확대 --> 응용분야 X"
      ]
    }
  ]
}