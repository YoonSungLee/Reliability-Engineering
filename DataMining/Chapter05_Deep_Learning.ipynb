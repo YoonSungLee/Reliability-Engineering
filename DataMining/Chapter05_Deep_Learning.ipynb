{
  "nbformat": 4,
  "nbformat_minor": 0,
  "metadata": {
    "colab": {
      "name": "Chapter05_Deep Learning.ipynb",
      "provenance": [],
      "collapsed_sections": [],
      "authorship_tag": "ABX9TyNzZQnhcnYVs1WYm8xKQez6"
    },
    "kernelspec": {
      "name": "python3",
      "display_name": "Python 3"
    },
    "accelerator": "GPU"
  },
  "cells": [
    {
      "cell_type": "markdown",
      "metadata": {
        "id": "7FWsQqb3EJIU",
        "colab_type": "text"
      },
      "source": [
        "# Gradient Vanishing problem"
      ]
    },
    {
      "cell_type": "markdown",
      "metadata": {
        "id": "jcY8cm8pEKxi",
        "colab_type": "text"
      },
      "source": [
        "<img src='https://i.imgur.com/fzwNUpF.png' width='100%'>"
      ]
    },
    {
      "cell_type": "markdown",
      "metadata": {
        "id": "DtEDLN88Z-mm",
        "colab_type": "text"
      },
      "source": [
        "# ReLU"
      ]
    },
    {
      "cell_type": "markdown",
      "metadata": {
        "id": "iqgQyMNoaDRR",
        "colab_type": "text"
      },
      "source": [
        "* sigmoid 함수에 비해 계산량이 작다.\n",
        "* ReLU의 음숫값이 0으로 죽는 현상을 개선하여 ReakyReLU 개발"
      ]
    },
    {
      "cell_type": "code",
      "metadata": {
        "id": "gIHrknICaFnF",
        "colab_type": "code",
        "colab": {}
      },
      "source": [
        "# XOR_DNN_TF2.ipynb\n",
        "\n",
        "import tensorflow as tf\n",
        "import numpy as np"
      ],
      "execution_count": 0,
      "outputs": []
    },
    {
      "cell_type": "code",
      "metadata": {
        "id": "8Dkno3A4aIXD",
        "colab_type": "code",
        "outputId": "5527d172-1948-4287-ebb2-3340c958d714",
        "colab": {
          "base_uri": "https://localhost:8080/",
          "height": 148
        }
      },
      "source": [
        "x = np.array([[0,0],[0,1],[1,0],[1,1]]).astype('float32')\n",
        "y = np.array([[0],[1],[1],[0]]).astype('float32')\n",
        "x, y"
      ],
      "execution_count": 0,
      "outputs": [
        {
          "output_type": "execute_result",
          "data": {
            "text/plain": [
              "(array([[0., 0.],\n",
              "        [0., 1.],\n",
              "        [1., 0.],\n",
              "        [1., 1.]], dtype=float32), array([[0.],\n",
              "        [1.],\n",
              "        [1.],\n",
              "        [0.]], dtype=float32))"
            ]
          },
          "metadata": {
            "tags": []
          },
          "execution_count": 2
        }
      ]
    },
    {
      "cell_type": "code",
      "metadata": {
        "id": "ZfPslLXLaIjI",
        "colab_type": "code",
        "colab": {}
      },
      "source": [
        "from tensorflow.keras import layers\n",
        "\n",
        "#actFunc = 'sigmoid' # 학습이 안된다.\n",
        "actFunc = 'relu' # 된다.\n",
        "model = tf.keras.Sequential()\n",
        "model.add(layers.Dense(10, activation=actFunc, input_dim=2))\n",
        "model.add(layers.Dense(10, activation=actFunc))\n",
        "model.add(layers.Dense(10, activation=actFunc))\n",
        "model.add(layers.Dense(10, activation=actFunc))\n",
        "model.add(layers.Dense(10, activation=actFunc))\n",
        "model.add(layers.Dense(10, activation=actFunc))\n",
        "model.add(layers.Dense(10, activation=actFunc))\n",
        "model.add(layers.Dense(1, activation='sigmoid'))    # 출력값을 0~1로 만들기 위함\n",
        "sgd = tf.keras.optimizers.SGD(learning_rate=0.1)\n",
        "model.compile(optimizer=sgd,loss='binary_crossentropy',metrics=['accuracy'])"
      ],
      "execution_count": 0,
      "outputs": []
    },
    {
      "cell_type": "code",
      "metadata": {
        "id": "5wseUDyxaI0C",
        "colab_type": "code",
        "outputId": "5a614b4a-f10a-4f31-86bf-692e025f913f",
        "colab": {
          "base_uri": "https://localhost:8080/",
          "height": 55
        }
      },
      "source": [
        "model.fit(x, y, epochs=10000, batch_size=4, verbose=0)\n",
        "model.evaluate(x, y)"
      ],
      "execution_count": 0,
      "outputs": [
        {
          "output_type": "stream",
          "text": [
            "1/1 [==============================] - 0s 1ms/step - loss: 7.1104e-06 - accuracy: 1.0000\n"
          ],
          "name": "stdout"
        },
        {
          "output_type": "execute_result",
          "data": {
            "text/plain": [
              "[7.110358637874015e-06, 1.0]"
            ]
          },
          "metadata": {
            "tags": []
          },
          "execution_count": 4
        }
      ]
    },
    {
      "cell_type": "code",
      "metadata": {
        "id": "EiowBj__aJMQ",
        "colab_type": "code",
        "outputId": "94e24186-f5b9-4bd3-9801-a66c27553d94",
        "colab": {
          "base_uri": "https://localhost:8080/",
          "height": 92
        }
      },
      "source": [
        "predicted = model.predict(x)\n",
        "predicted"
      ],
      "execution_count": 0,
      "outputs": [
        {
          "output_type": "execute_result",
          "data": {
            "text/plain": [
              "array([[2.0134628e-05],\n",
              "       [9.9999547e-01],\n",
              "       [9.9999881e-01],\n",
              "       [2.5657196e-06]], dtype=float32)"
            ]
          },
          "metadata": {
            "tags": []
          },
          "execution_count": 5
        }
      ]
    },
    {
      "cell_type": "markdown",
      "metadata": {
        "id": "9c5YzgZ7aJSV",
        "colab_type": "text"
      },
      "source": [
        "# Initialization"
      ]
    },
    {
      "cell_type": "markdown",
      "metadata": {
        "id": "kCO3KdTRGTFc",
        "colab_type": "text"
      },
      "source": [
        "신경망 모형에서 초기값에 따라 결과가 달라지기도 하고 해에 수렴하는 속도도 달라진다.<br>\n",
        "그런 이유로 초기값을 어떻게 줄 것이냐 역시 연구의 대상이다.<br>\n",
        "가중치의 분산을 일정 수준 이하로 작게 만들면 더 빠른 수렴을 보인다는 연구결과에 의해 나타난 방법이 Xavier 초기값이다."
      ]
    },
    {
      "cell_type": "markdown",
      "metadata": {
        "id": "SvtVk6uaaJIM",
        "colab_type": "text"
      },
      "source": [
        "W=np.random.randn(fan_in, fan_out)/np.sqrt(fan_in) # Xavier initialization(2010)<br>\n",
        "W=np.random.randn(fan_in, fan_out)/np.sqrt(fan_in/2) #He initialization(2015)\n",
        "<br><br>\n",
        "np.random.randn(): 표준정규분포의 난수<br>\n",
        "fan_in: 이전 뉴런의 수<br>\n",
        "fan_out: 이후 뉴런의 수"
      ]
    },
    {
      "cell_type": "markdown",
      "metadata": {
        "id": "hQKZeLdeaJD8",
        "colab_type": "text"
      },
      "source": [
        "# Dropout"
      ]
    },
    {
      "cell_type": "markdown",
      "metadata": {
        "id": "BfSVnNg7aJBf",
        "colab_type": "text"
      },
      "source": [
        "결과에 많은 영향을 미쳤던 노드 뿐만 아니라 다른 노드들도 학습을 해주는 방법<br><br>\n",
        "\n",
        "tf.keras.layers.Dropout(0.3): 30%를 죽인다"
      ]
    },
    {
      "cell_type": "markdown",
      "metadata": {
        "id": "QvTJQHyFaI_P",
        "colab_type": "text"
      },
      "source": [
        "# Batch Normalization"
      ]
    },
    {
      "cell_type": "markdown",
      "metadata": {
        "id": "5Tr95DZaaI7Y",
        "colab_type": "text"
      },
      "source": [
        "<img src='https://i.imgur.com/3yUB7CG.png' width='100%'>"
      ]
    },
    {
      "cell_type": "markdown",
      "metadata": {
        "id": "ZUcQJy7QMr_n",
        "colab_type": "text"
      },
      "source": [
        "**Important**<br>\n",
        "* 배치 정규화는 미니 배치 처리에서 배치 마다 조금씩 분포가 달라지는 문제를 해결하기 위해 배치단위로 정규화를 실시하는 아이디어다.\n",
        "* 학습시, 배치 단위로 정규화하고, Test 시에는 학습 데이터의 평균과 분산을 이용하여 위의 식으로 변환한 후 Test를 진행하면 된다."
      ]
    },
    {
      "cell_type": "markdown",
      "metadata": {
        "id": "YTxmNuu7KZeY",
        "colab_type": "text"
      },
      "source": [
        "# Optimizer"
      ]
    },
    {
      "cell_type": "markdown",
      "metadata": {
        "id": "Ek5Otg5LKbok",
        "colab_type": "text"
      },
      "source": [
        "MNIST dataset을 예로 들어보자. MNIST dataset은 총 60000개의 이미지가 존재하고, 각 이미지는 (28,28)의 크기를 갖는다. 당연히 전체 dataset을 학습시키면 각 epoch마다 도출되는 cost값은 점점 줄어드는 추세이다. 그런데 이 방법은 각 epoch을 계산하는 시간이 오래 걸리기 때문에 전체 dataset을 batch로 나눠 batch 단위로 학습하고 cost가 도출된다. 우리는 이러한 방법을 SGD(Stochastic Gradient Descent)라고 한다. 왜냐하면 batch마다 도출되는 cost가 계속해서 줄어들지 않을 수 있기 때문이다. 이는 전체 dataset은 표준화되어있지만, 각 batch로 봤을 땐 표준화되어있지 않기 때문이다. 결국 cost curve는 전체적으로 감소하는 그래프이지만 들쭉날쭉하며 불안전한 양상을 보일것이다."
      ]
    },
    {
      "cell_type": "code",
      "metadata": {
        "id": "elHWm5dlaIwV",
        "colab_type": "code",
        "colab": {}
      },
      "source": [
        "# Mnist_DNN_TF2.ipynb\n",
        "\n",
        "import tensorflow as tf\n",
        "import numpy as np"
      ],
      "execution_count": 0,
      "outputs": []
    },
    {
      "cell_type": "code",
      "metadata": {
        "id": "s7tubiZlaIt9",
        "colab_type": "code",
        "outputId": "b400aa2a-187a-4afa-d4c1-263b23900c6b",
        "colab": {
          "base_uri": "https://localhost:8080/",
          "height": 55
        }
      },
      "source": [
        "from tensorflow.keras import datasets\n",
        "from tensorflow.keras.utils import to_categorical\n",
        "mnist = datasets.mnist\n",
        "(train_x, train_y), (test_x, test_y) = mnist.load_data()"
      ],
      "execution_count": 0,
      "outputs": [
        {
          "output_type": "stream",
          "text": [
            "Downloading data from https://storage.googleapis.com/tensorflow/tf-keras-datasets/mnist.npz\n",
            "11493376/11490434 [==============================] - 0s 0us/step\n"
          ],
          "name": "stdout"
        }
      ]
    },
    {
      "cell_type": "code",
      "metadata": {
        "id": "Lxdlu3yxaIqY",
        "colab_type": "code",
        "outputId": "cee967d9-6c14-4875-bd34-63e26e42b873",
        "colab": {
          "base_uri": "https://localhost:8080/",
          "height": 36
        }
      },
      "source": [
        "train_x.shape"
      ],
      "execution_count": 0,
      "outputs": [
        {
          "output_type": "execute_result",
          "data": {
            "text/plain": [
              "(60000, 28, 28)"
            ]
          },
          "metadata": {
            "tags": []
          },
          "execution_count": 8
        }
      ]
    },
    {
      "cell_type": "code",
      "metadata": {
        "id": "akxkBAKoaIf7",
        "colab_type": "code",
        "colab": {}
      },
      "source": [
        "train_x = train_x.reshape(-1,784) \n",
        "test_x = test_x.reshape(-1,784) "
      ],
      "execution_count": 0,
      "outputs": []
    },
    {
      "cell_type": "code",
      "metadata": {
        "id": "SWsoRmWRaIcX",
        "colab_type": "code",
        "colab": {}
      },
      "source": [
        "train_x = train_x / 255\n",
        "test_x = test_x / 255"
      ],
      "execution_count": 0,
      "outputs": []
    },
    {
      "cell_type": "code",
      "metadata": {
        "id": "eZNPVDlzaq_k",
        "colab_type": "code",
        "outputId": "4d39135a-5a9d-49ab-fde6-25857f76a911",
        "colab": {
          "base_uri": "https://localhost:8080/",
          "height": 36
        }
      },
      "source": [
        "train_y_onehot = to_categorical(train_y)\n",
        "test_y_onehot = to_categorical(test_y)\n",
        "train_y_onehot[0]"
      ],
      "execution_count": 0,
      "outputs": [
        {
          "output_type": "execute_result",
          "data": {
            "text/plain": [
              "array([0., 0., 0., 0., 0., 1., 0., 0., 0., 0.], dtype=float32)"
            ]
          },
          "metadata": {
            "tags": []
          },
          "execution_count": 11
        }
      ]
    },
    {
      "cell_type": "code",
      "metadata": {
        "id": "KJ6IYyYCarH-",
        "colab_type": "code",
        "outputId": "735942d7-ebe3-4efa-a360-34f04c61bc90",
        "colab": {
          "base_uri": "https://localhost:8080/",
          "height": 223
        }
      },
      "source": [
        "#Hidden Layer 추가\n",
        "from tensorflow.keras import layers\n",
        "model = tf.keras.Sequential()\n",
        "model.add(layers.Dense(256, activation='relu', input_dim=784))  # weights: 784x256+256\n",
        "model.add(layers.Dense(256, activation='relu'))                 # weights: 256x256+256\n",
        "model.add(layers.Dense(10, activation='softmax'))               # weights: 256x10+10\n",
        "model.compile(optimizer='sgd',loss='categorical_crossentropy',metrics=['accuracy'])\n",
        "model.fit(train_x, train_y_onehot, batch_size = 100, epochs=5)"
      ],
      "execution_count": 0,
      "outputs": [
        {
          "output_type": "stream",
          "text": [
            "Epoch 1/5\n",
            "600/600 [==============================] - 1s 2ms/step - loss: 1.0676 - accuracy: 0.7455\n",
            "Epoch 2/5\n",
            "600/600 [==============================] - 1s 2ms/step - loss: 0.4301 - accuracy: 0.8845\n",
            "Epoch 3/5\n",
            "600/600 [==============================] - 1s 2ms/step - loss: 0.3470 - accuracy: 0.9022\n",
            "Epoch 4/5\n",
            "600/600 [==============================] - 1s 2ms/step - loss: 0.3089 - accuracy: 0.9122\n",
            "Epoch 5/5\n",
            "600/600 [==============================] - 1s 2ms/step - loss: 0.2837 - accuracy: 0.9191\n"
          ],
          "name": "stdout"
        },
        {
          "output_type": "execute_result",
          "data": {
            "text/plain": [
              "<tensorflow.python.keras.callbacks.History at 0x7fecb65cfc18>"
            ]
          },
          "metadata": {
            "tags": []
          },
          "execution_count": 12
        }
      ]
    },
    {
      "cell_type": "code",
      "metadata": {
        "id": "Y8IHWGtKarUQ",
        "colab_type": "code",
        "outputId": "9ea0ebb8-5135-4372-c8fd-b0e4418d10a0",
        "colab": {
          "base_uri": "https://localhost:8080/",
          "height": 223
        }
      },
      "source": [
        "# adam 옵티마이저 사용\n",
        "from tensorflow.keras import layers\n",
        "model = tf.keras.Sequential()\n",
        "model.add(layers.Dense(256, activation='relu', input_dim=784))\n",
        "model.add(layers.Dense(256, activation='relu'))\n",
        "model.add(layers.Dense(10, activation='softmax'))\n",
        "model.compile(optimizer='adam',loss='categorical_crossentropy',metrics=['accuracy'])\n",
        "model.fit(train_x, train_y_onehot, batch_size = 100, epochs=5)"
      ],
      "execution_count": 0,
      "outputs": [
        {
          "output_type": "stream",
          "text": [
            "Epoch 1/5\n",
            "600/600 [==============================] - 1s 2ms/step - loss: 0.2425 - accuracy: 0.9290\n",
            "Epoch 2/5\n",
            "600/600 [==============================] - 1s 2ms/step - loss: 0.0914 - accuracy: 0.9722\n",
            "Epoch 3/5\n",
            "600/600 [==============================] - 1s 2ms/step - loss: 0.0602 - accuracy: 0.9815\n",
            "Epoch 4/5\n",
            "600/600 [==============================] - 1s 2ms/step - loss: 0.0427 - accuracy: 0.9866\n",
            "Epoch 5/5\n",
            "600/600 [==============================] - 1s 2ms/step - loss: 0.0322 - accuracy: 0.9898\n"
          ],
          "name": "stdout"
        },
        {
          "output_type": "execute_result",
          "data": {
            "text/plain": [
              "<tensorflow.python.keras.callbacks.History at 0x7fec5a03b198>"
            ]
          },
          "metadata": {
            "tags": []
          },
          "execution_count": 13
        }
      ]
    },
    {
      "cell_type": "code",
      "metadata": {
        "id": "zepm711AaraP",
        "colab_type": "code",
        "outputId": "afffad96-5f77-4493-de34-574653778602",
        "colab": {
          "base_uri": "https://localhost:8080/",
          "height": 223
        }
      },
      "source": [
        "# adam 옵티마이저 + He init.\n",
        "from tensorflow.keras import layers\n",
        "model = tf.keras.Sequential()\n",
        "model.add(layers.Dense(256, activation='relu', input_dim=784, kernel_initializer='he_normal'))\n",
        "model.add(layers.Dense(256, activation='relu', kernel_initializer='he_normal'))\n",
        "model.add(layers.Dense(10, activation='softmax', kernel_initializer='he_normal'))\n",
        "model.compile(optimizer='adam',loss='categorical_crossentropy',metrics=['accuracy'])\n",
        "model.fit(train_x, train_y_onehot, batch_size = 100, epochs=5)"
      ],
      "execution_count": 0,
      "outputs": [
        {
          "output_type": "stream",
          "text": [
            "Epoch 1/5\n",
            "600/600 [==============================] - 1s 2ms/step - loss: 0.2361 - accuracy: 0.9293\n",
            "Epoch 2/5\n",
            "600/600 [==============================] - 1s 2ms/step - loss: 0.0898 - accuracy: 0.9730\n",
            "Epoch 3/5\n",
            "600/600 [==============================] - 1s 2ms/step - loss: 0.0599 - accuracy: 0.9809\n",
            "Epoch 4/5\n",
            "600/600 [==============================] - 1s 2ms/step - loss: 0.0414 - accuracy: 0.9869\n",
            "Epoch 5/5\n",
            "600/600 [==============================] - 1s 2ms/step - loss: 0.0316 - accuracy: 0.9899\n"
          ],
          "name": "stdout"
        },
        {
          "output_type": "execute_result",
          "data": {
            "text/plain": [
              "<tensorflow.python.keras.callbacks.History at 0x7fec40b082e8>"
            ]
          },
          "metadata": {
            "tags": []
          },
          "execution_count": 14
        }
      ]
    },
    {
      "cell_type": "code",
      "metadata": {
        "id": "fvcdpj09arha",
        "colab_type": "code",
        "outputId": "0dfdf082-83af-4314-d90d-10b885604f19",
        "colab": {
          "base_uri": "https://localhost:8080/",
          "height": 55
        }
      },
      "source": [
        "model.evaluate(test_x, test_y_onehot)"
      ],
      "execution_count": 0,
      "outputs": [
        {
          "output_type": "stream",
          "text": [
            "313/313 [==============================] - 1s 2ms/step - loss: 0.0710 - accuracy: 0.9778\n"
          ],
          "name": "stdout"
        },
        {
          "output_type": "execute_result",
          "data": {
            "text/plain": [
              "[0.07101818174123764, 0.9778000116348267]"
            ]
          },
          "metadata": {
            "tags": []
          },
          "execution_count": 15
        }
      ]
    },
    {
      "cell_type": "code",
      "metadata": {
        "id": "tO1eR5PFaroJ",
        "colab_type": "code",
        "colab": {}
      },
      "source": [
        "# adam optimizer와 He 초기화 방법, 드롭아웃 추가\n",
        "from tensorflow.keras import layers\n",
        "model = tf.keras.Sequential()\n",
        "model.add(layers.Dense(256, activation='relu', kernel_initializer='he_normal', input_dim=784))\n",
        "model.add(layers.Dropout(0.3))\n",
        "model.add(layers.Dense(256, activation='relu', kernel_initializer='he_normal'))\n",
        "model.add(layers.Dropout(0.3))\n",
        "model.add(layers.Dense(10, activation='softmax'))\n",
        "model.compile(optimizer='adam',loss='categorical_crossentropy',metrics=['accuracy'])"
      ],
      "execution_count": 0,
      "outputs": []
    },
    {
      "cell_type": "code",
      "metadata": {
        "id": "DwKUe3AtarQD",
        "colab_type": "code",
        "outputId": "e2932f1c-9524-42ae-a301-ec5a79c54e57",
        "colab": {
          "base_uri": "https://localhost:8080/",
          "height": 409
        }
      },
      "source": [
        "model.fit(train_x, train_y_onehot, batch_size = 100, epochs=10)"
      ],
      "execution_count": 0,
      "outputs": [
        {
          "output_type": "stream",
          "text": [
            "Epoch 1/10\n",
            "600/600 [==============================] - 1s 2ms/step - loss: 0.3351 - accuracy: 0.8977\n",
            "Epoch 2/10\n",
            "600/600 [==============================] - 1s 2ms/step - loss: 0.1500 - accuracy: 0.9544\n",
            "Epoch 3/10\n",
            "600/600 [==============================] - 1s 2ms/step - loss: 0.1102 - accuracy: 0.9665\n",
            "Epoch 4/10\n",
            "600/600 [==============================] - 1s 2ms/step - loss: 0.0925 - accuracy: 0.9712\n",
            "Epoch 5/10\n",
            "600/600 [==============================] - 1s 2ms/step - loss: 0.0791 - accuracy: 0.9756\n",
            "Epoch 6/10\n",
            "600/600 [==============================] - 1s 2ms/step - loss: 0.0709 - accuracy: 0.9773\n",
            "Epoch 7/10\n",
            "600/600 [==============================] - 1s 2ms/step - loss: 0.0613 - accuracy: 0.9811\n",
            "Epoch 8/10\n",
            "600/600 [==============================] - 1s 2ms/step - loss: 0.0590 - accuracy: 0.9808\n",
            "Epoch 9/10\n",
            "600/600 [==============================] - 1s 2ms/step - loss: 0.0522 - accuracy: 0.9832\n",
            "Epoch 10/10\n",
            "600/600 [==============================] - 1s 2ms/step - loss: 0.0479 - accuracy: 0.9848\n"
          ],
          "name": "stdout"
        },
        {
          "output_type": "execute_result",
          "data": {
            "text/plain": [
              "<tensorflow.python.keras.callbacks.History at 0x7fec3f1838d0>"
            ]
          },
          "metadata": {
            "tags": []
          },
          "execution_count": 17
        }
      ]
    },
    {
      "cell_type": "code",
      "metadata": {
        "id": "okZyZd8zaITT",
        "colab_type": "code",
        "outputId": "e10b7060-67bd-4161-b994-750566c54cd3",
        "colab": {
          "base_uri": "https://localhost:8080/",
          "height": 55
        }
      },
      "source": [
        "model.evaluate(test_x, test_y_onehot)"
      ],
      "execution_count": 0,
      "outputs": [
        {
          "output_type": "stream",
          "text": [
            "313/313 [==============================] - 1s 2ms/step - loss: 0.0613 - accuracy: 0.9828\n"
          ],
          "name": "stdout"
        },
        {
          "output_type": "execute_result",
          "data": {
            "text/plain": [
              "[0.06131801754236221, 0.9828000068664551]"
            ]
          },
          "metadata": {
            "tags": []
          },
          "execution_count": 18
        }
      ]
    },
    {
      "cell_type": "code",
      "metadata": {
        "id": "Ul_7auUda2YY",
        "colab_type": "code",
        "outputId": "5dad679a-2a66-49ae-d4a2-13bc8971a9db",
        "colab": {
          "base_uri": "https://localhost:8080/",
          "height": 223
        }
      },
      "source": [
        "# 오버피팅 상황 만들기\n",
        "from tensorflow.keras import layers\n",
        "model = tf.keras.Sequential()\n",
        "model.add(layers.Dense(512, activation='relu', input_dim=784))\n",
        "\n",
        "model.add(layers.Dense(512, activation='relu'))\n",
        "\n",
        "model.add(layers.Dense(512, activation='relu'))\n",
        "\n",
        "model.add(layers.Dense(512, activation='relu'))\n",
        "\n",
        "model.add(layers.Dense(512, activation='relu'))\n",
        "\n",
        "model.add(layers.Dense(512, activation='relu'))\n",
        "\n",
        "model.add(layers.Dense(512, activation='relu'))\n",
        "\n",
        "model.add(layers.Dense(512, activation='relu'))\n",
        "\n",
        "model.add(layers.Dense(10, activation='softmax'))\n",
        "model.compile(optimizer='adam',loss='categorical_crossentropy',metrics=['accuracy'])\n",
        "model.fit(train_x, train_y_onehot, batch_size = 100, epochs=5)"
      ],
      "execution_count": 0,
      "outputs": [
        {
          "output_type": "stream",
          "text": [
            "Epoch 1/5\n",
            "600/600 [==============================] - 2s 3ms/step - loss: 0.2729 - accuracy: 0.9184\n",
            "Epoch 2/5\n",
            "600/600 [==============================] - 2s 3ms/step - loss: 0.1187 - accuracy: 0.9691\n",
            "Epoch 3/5\n",
            "600/600 [==============================] - 2s 3ms/step - loss: 0.0939 - accuracy: 0.9755\n",
            "Epoch 4/5\n",
            "600/600 [==============================] - 2s 3ms/step - loss: 0.0771 - accuracy: 0.9800\n",
            "Epoch 5/5\n",
            "600/600 [==============================] - 2s 3ms/step - loss: 0.0667 - accuracy: 0.9836\n"
          ],
          "name": "stdout"
        },
        {
          "output_type": "execute_result",
          "data": {
            "text/plain": [
              "<tensorflow.python.keras.callbacks.History at 0x7fec3dfda5c0>"
            ]
          },
          "metadata": {
            "tags": []
          },
          "execution_count": 19
        }
      ]
    },
    {
      "cell_type": "code",
      "metadata": {
        "id": "Fs60THBNa2jN",
        "colab_type": "code",
        "outputId": "b8344a51-0ed6-4d17-966e-e7f68634d8ac",
        "colab": {
          "base_uri": "https://localhost:8080/",
          "height": 55
        }
      },
      "source": [
        "model.evaluate(test_x, test_y_onehot)"
      ],
      "execution_count": 0,
      "outputs": [
        {
          "output_type": "stream",
          "text": [
            "313/313 [==============================] - 1s 2ms/step - loss: 0.0903 - accuracy: 0.9779\n"
          ],
          "name": "stdout"
        },
        {
          "output_type": "execute_result",
          "data": {
            "text/plain": [
              "[0.09032953530550003, 0.9779000282287598]"
            ]
          },
          "metadata": {
            "tags": []
          },
          "execution_count": 20
        }
      ]
    },
    {
      "cell_type": "code",
      "metadata": {
        "id": "x0JrKjrHa3CG",
        "colab_type": "code",
        "colab": {}
      },
      "source": [
        "model.save(\"test.h5\")"
      ],
      "execution_count": 0,
      "outputs": []
    },
    {
      "cell_type": "code",
      "metadata": {
        "id": "wx-elkuKa3so",
        "colab_type": "code",
        "outputId": "6156ed60-faa3-400c-855d-ee58e44b9e01",
        "colab": {
          "base_uri": "https://localhost:8080/",
          "height": 36
        }
      },
      "source": [
        "!ls "
      ],
      "execution_count": 0,
      "outputs": [
        {
          "output_type": "stream",
          "text": [
            "sample_data  test.h5\n"
          ],
          "name": "stdout"
        }
      ]
    },
    {
      "cell_type": "code",
      "metadata": {
        "id": "uQSuVIkXa2fh",
        "colab_type": "code",
        "outputId": "905990b0-cc00-424a-e8a6-301aaafcf725",
        "colab": {
          "base_uri": "https://localhost:8080/",
          "height": 55
        }
      },
      "source": [
        "import tensorflow as tf\n",
        "from tensorflow.keras import datasets\n",
        "from tensorflow.keras.utils import to_categorical\n",
        "#from tensorflow import keras\n",
        "mnist = datasets.mnist\n",
        "(train_x, train_y), (test_x, test_y) = mnist.load_data()\n",
        "train_x = train_x.reshape(-1,784) \n",
        "test_x = test_x.reshape(-1,784)\n",
        "train_x = train_x / 255\n",
        "test_x = test_x / 255\n",
        "train_y_onehot = to_categorical(train_y)\n",
        "test_y_onehot = to_categorical(test_y)\n",
        "train_y_onehot[0]\n",
        "\n",
        "model = tf.keras.models.load_model('test.h5')\n",
        "model.evaluate(test_x, test_y_onehot)"
      ],
      "execution_count": 0,
      "outputs": [
        {
          "output_type": "stream",
          "text": [
            "313/313 [==============================] - 1s 2ms/step - loss: 0.0903 - accuracy: 0.9779\n"
          ],
          "name": "stdout"
        },
        {
          "output_type": "execute_result",
          "data": {
            "text/plain": [
              "[0.09032953530550003, 0.9779000282287598]"
            ]
          },
          "metadata": {
            "tags": []
          },
          "execution_count": 23
        }
      ]
    },
    {
      "cell_type": "code",
      "metadata": {
        "id": "i727PMxDa2Uu",
        "colab_type": "code",
        "outputId": "76698968-bcb8-442c-eed5-49f3636f96fb",
        "colab": {
          "base_uri": "https://localhost:8080/",
          "height": 388
        }
      },
      "source": [
        "import tensorflow as tf\n",
        "my_devices = tf.config.experimental.list_physical_devices(device_type='CPU')\n",
        "tf.config.experimental.set_visible_devices(devices= my_devices, device_type='CPU')"
      ],
      "execution_count": 0,
      "outputs": [
        {
          "output_type": "error",
          "ename": "RuntimeError",
          "evalue": "ignored",
          "traceback": [
            "\u001b[0;31m---------------------------------------------------------------------------\u001b[0m",
            "\u001b[0;31mRuntimeError\u001b[0m                              Traceback (most recent call last)",
            "\u001b[0;32m<ipython-input-24-b2413dfc3f5e>\u001b[0m in \u001b[0;36m<module>\u001b[0;34m()\u001b[0m\n\u001b[1;32m      1\u001b[0m \u001b[0;32mimport\u001b[0m \u001b[0mtensorflow\u001b[0m \u001b[0;32mas\u001b[0m \u001b[0mtf\u001b[0m\u001b[0;34m\u001b[0m\u001b[0;34m\u001b[0m\u001b[0m\n\u001b[1;32m      2\u001b[0m \u001b[0mmy_devices\u001b[0m \u001b[0;34m=\u001b[0m \u001b[0mtf\u001b[0m\u001b[0;34m.\u001b[0m\u001b[0mconfig\u001b[0m\u001b[0;34m.\u001b[0m\u001b[0mexperimental\u001b[0m\u001b[0;34m.\u001b[0m\u001b[0mlist_physical_devices\u001b[0m\u001b[0;34m(\u001b[0m\u001b[0mdevice_type\u001b[0m\u001b[0;34m=\u001b[0m\u001b[0;34m'CPU'\u001b[0m\u001b[0;34m)\u001b[0m\u001b[0;34m\u001b[0m\u001b[0;34m\u001b[0m\u001b[0m\n\u001b[0;32m----> 3\u001b[0;31m \u001b[0mtf\u001b[0m\u001b[0;34m.\u001b[0m\u001b[0mconfig\u001b[0m\u001b[0;34m.\u001b[0m\u001b[0mexperimental\u001b[0m\u001b[0;34m.\u001b[0m\u001b[0mset_visible_devices\u001b[0m\u001b[0;34m(\u001b[0m\u001b[0mdevices\u001b[0m\u001b[0;34m=\u001b[0m \u001b[0mmy_devices\u001b[0m\u001b[0;34m,\u001b[0m \u001b[0mdevice_type\u001b[0m\u001b[0;34m=\u001b[0m\u001b[0;34m'CPU'\u001b[0m\u001b[0;34m)\u001b[0m\u001b[0;34m\u001b[0m\u001b[0;34m\u001b[0m\u001b[0m\n\u001b[0m",
            "\u001b[0;32m/usr/local/lib/python3.6/dist-packages/tensorflow/python/framework/config.py\u001b[0m in \u001b[0;36mset_visible_devices\u001b[0;34m(devices, device_type)\u001b[0m\n\u001b[1;32m    441\u001b[0m     \u001b[0mRuntimeError\u001b[0m\u001b[0;34m:\u001b[0m \u001b[0mRuntime\u001b[0m \u001b[0;32mis\u001b[0m \u001b[0malready\u001b[0m \u001b[0minitialized\u001b[0m\u001b[0;34m.\u001b[0m\u001b[0;34m\u001b[0m\u001b[0;34m\u001b[0m\u001b[0m\n\u001b[1;32m    442\u001b[0m   \"\"\"\n\u001b[0;32m--> 443\u001b[0;31m   \u001b[0mcontext\u001b[0m\u001b[0;34m.\u001b[0m\u001b[0mcontext\u001b[0m\u001b[0;34m(\u001b[0m\u001b[0;34m)\u001b[0m\u001b[0;34m.\u001b[0m\u001b[0mset_visible_devices\u001b[0m\u001b[0;34m(\u001b[0m\u001b[0mdevices\u001b[0m\u001b[0;34m,\u001b[0m \u001b[0mdevice_type\u001b[0m\u001b[0;34m)\u001b[0m\u001b[0;34m\u001b[0m\u001b[0;34m\u001b[0m\u001b[0m\n\u001b[0m\u001b[1;32m    444\u001b[0m \u001b[0;34m\u001b[0m\u001b[0m\n\u001b[1;32m    445\u001b[0m \u001b[0;34m\u001b[0m\u001b[0m\n",
            "\u001b[0;32m/usr/local/lib/python3.6/dist-packages/tensorflow/python/eager/context.py\u001b[0m in \u001b[0;36mset_visible_devices\u001b[0;34m(self, devices, device_type)\u001b[0m\n\u001b[1;32m   1292\u001b[0m     \u001b[0;32mif\u001b[0m \u001b[0mself\u001b[0m\u001b[0;34m.\u001b[0m\u001b[0m_context_handle\u001b[0m \u001b[0;32mis\u001b[0m \u001b[0;32mnot\u001b[0m \u001b[0;32mNone\u001b[0m\u001b[0;34m:\u001b[0m\u001b[0;34m\u001b[0m\u001b[0;34m\u001b[0m\u001b[0m\n\u001b[1;32m   1293\u001b[0m       raise RuntimeError(\n\u001b[0;32m-> 1294\u001b[0;31m           \"Visible devices cannot be modified after being initialized\")\n\u001b[0m\u001b[1;32m   1295\u001b[0m \u001b[0;34m\u001b[0m\u001b[0m\n\u001b[1;32m   1296\u001b[0m     \u001b[0mself\u001b[0m\u001b[0;34m.\u001b[0m\u001b[0m_visible_device_list\u001b[0m \u001b[0;34m=\u001b[0m \u001b[0mvisible_device_list\u001b[0m\u001b[0;34m\u001b[0m\u001b[0;34m\u001b[0m\u001b[0m\n",
            "\u001b[0;31mRuntimeError\u001b[0m: Visible devices cannot be modified after being initialized"
          ]
        }
      ]
    },
    {
      "cell_type": "code",
      "metadata": {
        "id": "sSr4kWdKa2PR",
        "colab_type": "code",
        "outputId": "5ee8c652-3de3-494e-ddcb-4d3b3e03bf75",
        "colab": {
          "base_uri": "https://localhost:8080/",
          "height": 73
        }
      },
      "source": [
        "a = tf.constant([[1.0, 2.0, 3.0], [4.0, 5.0, 6.0]])\n",
        "b = tf.constant([[1.0, 2.0], [3.0, 4.0], [5.0, 6.0]])\n",
        "c = tf.matmul(a, b)\n",
        "c"
      ],
      "execution_count": 0,
      "outputs": [
        {
          "output_type": "execute_result",
          "data": {
            "text/plain": [
              "<tf.Tensor: shape=(2, 2), dtype=float32, numpy=\n",
              "array([[22., 28.],\n",
              "       [49., 64.]], dtype=float32)>"
            ]
          },
          "metadata": {
            "tags": []
          },
          "execution_count": 25
        }
      ]
    },
    {
      "cell_type": "markdown",
      "metadata": {
        "id": "R_c06067bIB_",
        "colab_type": "text"
      },
      "source": [
        "# Quiz"
      ]
    },
    {
      "cell_type": "markdown",
      "metadata": {
        "id": "u5fDPpfRbRyG",
        "colab_type": "text"
      },
      "source": [
        "1. dropout 설명에서 나온 축구선수가 아닌 것은?\n",
        " * 박지성(O), 손흥민(O), 안정환\n",
        "2. SGD에서 S는 무엇의 약자인가?\n",
        " * Stochastic"
      ]
    },
    {
      "cell_type": "markdown",
      "metadata": {
        "id": "WQXQGqhMbNgU",
        "colab_type": "text"
      },
      "source": [
        "3. 미니배치에서 6만개의 mnist 이미지를 배치크기 50개로 하면 미지수 갱신 회수는 몇회인가?\n",
        " * 60000 / 50 = 1,200\n",
        "\n",
        "4. mnist 데이터에서 이미지 크기는?\n",
        " * 28 * 28"
      ]
    }
  ]
}