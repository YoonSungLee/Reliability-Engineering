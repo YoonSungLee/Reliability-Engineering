{
  "nbformat": 4,
  "nbformat_minor": 0,
  "metadata": {
    "colab": {
      "name": "Chapter01_딥러닝과 텐서플로우.ipynb",
      "provenance": [],
      "collapsed_sections": [],
      "authorship_tag": "ABX9TyNnjRvsrzX+W2X4XBYMrSyT",
      "include_colab_link": true
    },
    "kernelspec": {
      "name": "python3",
      "display_name": "Python 3"
    }
  },
  "cells": [
    {
      "cell_type": "markdown",
      "metadata": {
        "id": "view-in-github",
        "colab_type": "text"
      },
      "source": [
        "<a href=\"https://colab.research.google.com/github/YoonSungLee/University-Lectures/blob/master/DataMining/Chapter01_%EB%94%A5%EB%9F%AC%EB%8B%9D%EA%B3%BC_%ED%85%90%EC%84%9C%ED%94%8C%EB%A1%9C%EC%9A%B0.ipynb\" target=\"_parent\"><img src=\"https://colab.research.google.com/assets/colab-badge.svg\" alt=\"Open In Colab\"/></a>"
      ]
    },
    {
      "cell_type": "markdown",
      "metadata": {
        "id": "-flCZ3Q2uyTw",
        "colab_type": "text"
      },
      "source": [
        "# Programming Language"
      ]
    },
    {
      "cell_type": "markdown",
      "metadata": {
        "id": "d4jSTUkFvOmj",
        "colab_type": "text"
      },
      "source": [
        "1. C\n",
        "* fast\n",
        "* less memory\n",
        "\n",
        "2. Java\n",
        "* 중간정도의 performance\n",
        "* 인식성이 좋다.\n",
        "\n",
        "3. Python\n",
        "* Interpreter Language\n",
        "* slow\n",
        "* memory를 많이 차지\n",
        "* But, 텐서플로우 프로그램은 텐서들의 플로우를 정의하고 이를 한번에 실행하여 학습 결과를 얻음 --> 속도에 큰 차이가 없다."
      ]
    },
    {
      "cell_type": "markdown",
      "metadata": {
        "id": "NJaBQZ8NwwAX",
        "colab_type": "text"
      },
      "source": [
        "# tensorflow 2.x"
      ]
    },
    {
      "cell_type": "code",
      "metadata": {
        "id": "n4KXqGlPwAc3",
        "colab_type": "code",
        "outputId": "302eb3d0-f8f4-4242-81b3-aa3dc26b0bac",
        "colab": {
          "base_uri": "https://localhost:8080/",
          "height": 36
        }
      },
      "source": [
        "# tensorflow 2.x 실행 코드(Google Colab)\n",
        "\n",
        "%tensorflow_version 2.x"
      ],
      "execution_count": 0,
      "outputs": [
        {
          "output_type": "stream",
          "text": [
            "TensorFlow 2.x selected.\n"
          ],
          "name": "stdout"
        }
      ]
    },
    {
      "cell_type": "code",
      "metadata": {
        "id": "vBRDGyGjw183",
        "colab_type": "code",
        "outputId": "8c75f2ca-e28d-46d9-e7df-f2cf668393fc",
        "colab": {
          "base_uri": "https://localhost:8080/",
          "height": 36
        }
      },
      "source": [
        "import tensorflow as tf\n",
        "import numpy as np\n",
        "\n",
        "a = np.array([1,2,3])\n",
        "b = np.array([11,22,33])\n",
        "\n",
        "# numpy to tensor\n",
        "a = tf.constant(a)\n",
        "b = tf.constant(b)\n",
        "c = a + b\n",
        "\n",
        "# tensor to numpy\n",
        "c = c.numpy()\n",
        "\n",
        "print(c)"
      ],
      "execution_count": 0,
      "outputs": [
        {
          "output_type": "stream",
          "text": [
            "[12 24 36]\n"
          ],
          "name": "stdout"
        }
      ]
    },
    {
      "cell_type": "markdown",
      "metadata": {
        "id": "bb1AcRGrjkcb",
        "colab_type": "text"
      },
      "source": [
        "# Quiz"
      ]
    },
    {
      "cell_type": "markdown",
      "metadata": {
        "id": "fg1n6K2cjlkk",
        "colab_type": "text"
      },
      "source": [
        "1. 데이터마이닝에서 사용하는 언어는?\n",
        "  * Python\n",
        "\n",
        "2. colab을 만든 회사는?\n",
        "  * 구글"
      ]
    }
  ]
}