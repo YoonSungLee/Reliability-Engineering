{
  "nbformat": 4,
  "nbformat_minor": 0,
  "metadata": {
    "colab": {
      "name": "Chapter01_딥러닝과 텐서플로우.ipynb",
      "provenance": [],
      "collapsed_sections": [],
      "authorship_tag": "ABX9TyMfgq/S9vGfd337IbAQoEF9"
    },
    "kernelspec": {
      "name": "python3",
      "display_name": "Python 3"
    }
  },
  "cells": [
    {
      "cell_type": "markdown",
      "metadata": {
        "id": "-7KJzDfYb7vP",
        "colab_type": "text"
      },
      "source": [
        "# Machine Learning"
      ]
    },
    {
      "cell_type": "markdown",
      "metadata": {
        "id": "X2MBDpTgb98c",
        "colab_type": "text"
      },
      "source": [
        "명시적 프로그래밍 없이 컴퓨터 스스로 학습할 수 있는 능력을 갖추게 하는 분야"
      ]
    },
    {
      "cell_type": "markdown",
      "metadata": {
        "id": "0AS6km07ck4O",
        "colab_type": "text"
      },
      "source": [
        "# Semi-supervised Learing"
      ]
    },
    {
      "cell_type": "markdown",
      "metadata": {
        "id": "fgGrZwZvcoN0",
        "colab_type": "text"
      },
      "source": [
        "Supervised Learning 으로 레이블이 존재하는 데이터를 학습시키고 이 모형으로 레이블 없는 Data에 레이블을 추정한다.<br>\n",
        "다음 단계로 추정된 레이블과 관측된 레이블을 이용해 다시 지도학습 모형을 만들고 레이블을 추정한다.<br>\n",
        "이 과정을 더 이상 결과가 변하지 않을 때까지 반복한다.<br>\n",
        "구글 포토나 페이스북에서 자신이 찍힌 사진을 판별해 알려주는 기능이 준 지도학습기법을 사용한 것이다."
      ]
    },
    {
      "cell_type": "markdown",
      "metadata": {
        "id": "wJcS4UzwddpV",
        "colab_type": "text"
      },
      "source": [
        "# Reinforcement Learning"
      ]
    },
    {
      "cell_type": "markdown",
      "metadata": {
        "id": "GBH-bbtIdfhD",
        "colab_type": "text"
      },
      "source": [
        "현재 policy에 의해 의사결정 하고 실행한다.<br>\n",
        "실행 결과에 따라 벌점을 받을 수 있다.<br>\n",
        "벌점을 최소화하는 방향으로 의사결정 policy를 수정한다.<br>\n",
        "이 과정을 반복한다."
      ]
    },
    {
      "cell_type": "markdown",
      "metadata": {
        "id": "-flCZ3Q2uyTw",
        "colab_type": "text"
      },
      "source": [
        "# Programming Language"
      ]
    },
    {
      "cell_type": "markdown",
      "metadata": {
        "id": "d4jSTUkFvOmj",
        "colab_type": "text"
      },
      "source": [
        "1. C\n",
        "* fast\n",
        "* less memory\n",
        "\n",
        "2. Java\n",
        "* 중간정도의 performance\n",
        "* 인식성이 좋다.\n",
        "\n",
        "3. Python\n",
        "* Interpreter Language\n",
        "* slow\n",
        "* memory를 많이 차지\n",
        "* But, 텐서플로우 프로그램은 텐서들의 플로우를 정의하고 이를 한번에 실행하여 학습 결과를 얻음 --> 속도에 큰 차이가 없다."
      ]
    },
    {
      "cell_type": "markdown",
      "metadata": {
        "id": "NJaBQZ8NwwAX",
        "colab_type": "text"
      },
      "source": [
        "# tensorflow 2.x"
      ]
    },
    {
      "cell_type": "code",
      "metadata": {
        "id": "n4KXqGlPwAc3",
        "colab_type": "code",
        "outputId": "302eb3d0-f8f4-4242-81b3-aa3dc26b0bac",
        "colab": {
          "base_uri": "https://localhost:8080/",
          "height": 36
        }
      },
      "source": [
        "# tensorflow 2.x 실행 코드(Google Colab)\n",
        "\n",
        "%tensorflow_version 2.x"
      ],
      "execution_count": 0,
      "outputs": [
        {
          "output_type": "stream",
          "text": [
            "TensorFlow 2.x selected.\n"
          ],
          "name": "stdout"
        }
      ]
    },
    {
      "cell_type": "code",
      "metadata": {
        "id": "vBRDGyGjw183",
        "colab_type": "code",
        "outputId": "8c75f2ca-e28d-46d9-e7df-f2cf668393fc",
        "colab": {
          "base_uri": "https://localhost:8080/",
          "height": 36
        }
      },
      "source": [
        "import tensorflow as tf\n",
        "import numpy as np\n",
        "\n",
        "a = np.array([1,2,3])\n",
        "b = np.array([11,22,33])\n",
        "\n",
        "# numpy to tensor\n",
        "a = tf.constant(a)\n",
        "b = tf.constant(b)\n",
        "c = a + b\n",
        "\n",
        "# tensor to numpy\n",
        "c = c.numpy()\n",
        "\n",
        "print(c)"
      ],
      "execution_count": 0,
      "outputs": [
        {
          "output_type": "stream",
          "text": [
            "[12 24 36]\n"
          ],
          "name": "stdout"
        }
      ]
    },
    {
      "cell_type": "markdown",
      "metadata": {
        "id": "bb1AcRGrjkcb",
        "colab_type": "text"
      },
      "source": [
        "# Quiz"
      ]
    },
    {
      "cell_type": "markdown",
      "metadata": {
        "id": "fg1n6K2cjlkk",
        "colab_type": "text"
      },
      "source": [
        "1. 데이터마이닝에서 사용하는 언어는?\n",
        "  * Python\n",
        "\n",
        "2. colab을 만든 회사는?\n",
        "  * 구글"
      ]
    }
  ]
}