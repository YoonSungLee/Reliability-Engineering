{
  "nbformat": 4,
  "nbformat_minor": 0,
  "metadata": {
    "colab": {
      "name": "공부자료) Ch 1_Basic Data Structure.ipynb",
      "provenance": [],
      "collapsed_sections": [],
      "include_colab_link": true
    },
    "kernelspec": {
      "name": "python3",
      "display_name": "Python 3"
    }
  },
  "cells": [
    {
      "cell_type": "markdown",
      "metadata": {
        "id": "view-in-github",
        "colab_type": "text"
      },
      "source": [
        "<a href=\"https://colab.research.google.com/github/YoonSungLee/University-Lectures/blob/master/DataStructure/%EA%B3%B5%EB%B6%80%EC%9E%90%EB%A3%8C)_Ch_1_Basic_Data_Structure.ipynb\" target=\"_parent\"><img src=\"https://colab.research.google.com/assets/colab-badge.svg\" alt=\"Open In Colab\"/></a>"
      ]
    },
    {
      "cell_type": "code",
      "metadata": {
        "id": "VHDajF9Dc4Zv",
        "colab_type": "code",
        "colab": {}
      },
      "source": [
        "# 코드 자체에 대한 문제보다는 그것을 수행하는 방법 문제(수도 코드), 그림으로 표현할 줄 알아야 한다.\n",
        "# 0 / 3 / 5 / 8 / 10\n",
        "# 정답을 Optimal하게"
      ],
      "execution_count": 0,
      "outputs": []
    },
    {
      "cell_type": "code",
      "metadata": {
        "id": "lAcLvxEzwD09",
        "colab_type": "code",
        "colab": {}
      },
      "source": [
        "# 과제 : 항상 일요일 자정까지\n",
        "# 툴은 주피터 + 파이참을 주로 이용\n",
        "# Ctrl + M + A = 위로 새로운 코드셀 생성\n",
        "# Ctrl + M + B = 아래로 새로운 코드셀 생성\n",
        "# Ctrl + M + D = 셀 삭제\n",
        "# Ctrl + M + Y = 텍스트셀을 코드셀로 변경\n",
        "# Ctrl + M + M = 코드셀을 텍스트셀로 변경"
      ],
      "execution_count": 0,
      "outputs": []
    },
    {
      "cell_type": "markdown",
      "metadata": {
        "id": "QYQSdNS7Tssf",
        "colab_type": "text"
      },
      "source": [
        "# <font color='blue'><div style=\"text-align: center\">Ch 1. 자료구조 소개</font> \n",
        "\n",
        "* 자료구조는 데이터를 정돈하여 저장한 구성체를 말한다.\n",
        "* 데이터를 효과적으로 저장, 탐색, 삭제, 삽입 등 연산을 효율적으로 수행할 수 있는 구조\n",
        "* 데이터를 이용한 연산을 효율적으로 수행할 수 있는 구조\n"
      ]
    },
    {
      "cell_type": "code",
      "metadata": {
        "id": "4ks584GHwn0I",
        "colab_type": "code",
        "colab": {}
      },
      "source": [
        "# Programming = Data + Algorithm(공간/시간 효율성 최대화) (+ Data Structer : 수행만 되면 ok)\n",
        "# 자료구조(Data Structure) : 데이터를 컴퓨터에 저장하는 방식\n",
        "# ex) 꺼내기 쉽도록 저장하는 방식, 메모리를 적게 차지하도록 저장하는 방식 등"
      ],
      "execution_count": 0,
      "outputs": []
    },
    {
      "cell_type": "code",
      "metadata": {
        "id": "BtAjN3VLUPDL",
        "colab_type": "code",
        "outputId": "3d6d75f7-8bc8-4442-835e-206c6e70dc69",
        "colab": {
          "base_uri": "https://localhost:8080/",
          "height": 53
        }
      },
      "source": [
        "# 두 개의 프로그램은 같은 결과를 내지만, 아래 프로그램이 더 효율적이다. 즉, 더 효율적인 자료구조를 가진다.\n",
        "a1 = 1\n",
        "a2 = 2\n",
        "a3 = 3\n",
        "\n",
        "a = a1 + a2 + a3\n",
        "print(a)\n",
        "\n",
        "a = [1,2,3]\n",
        "sum = 0\n",
        "for val in a:\n",
        "    sum += val\n",
        "print(sum)"
      ],
      "execution_count": 0,
      "outputs": [
        {
          "output_type": "stream",
          "text": [
            "6\n",
            "6\n"
          ],
          "name": "stdout"
        }
      ]
    },
    {
      "cell_type": "markdown",
      "metadata": {
        "id": "zMv1FYrtUckS",
        "colab_type": "text"
      },
      "source": [
        "### 기초적인 자료구조\n",
        "\n",
        "* integer: 정수를 저장하는 자료구조로 8비트에 저장한다면 아래와 같은 구조로 저장한다.\n",
        "\n",
        "<center> ![](https://drive.google.com/uc?id=1emWE8F4S2DY1NZp7W-Lw9M4hE-5OXoma) </center>\n",
        "\n",
        "* 일반적으로 C, 자바에서는 32비트에 정수를 저장한다.\n",
        "* 파이썬에서는 정수의 범위 제한이 없다. 아래의 예제는 파이썬 정수 중 가장 큰 수에 1을 더해 출력하는 것이다. 문제 없이 잘된다. 왜 일까?\n",
        "* 파이썬에서는 기본적으로 32비트에 정수를 저장하고 long 타입은 64비트에 저장한다.\n",
        "* int --> long 은 자동으로 넘어가고  64 비트에 저장할 수 있는 값보다 큰 값이 저장될 경우에도 자동으로 big integer로 넘어간다.\n",
        "* big integer란 Symbolic 연산으로 직접 클래스를 구현하여 정수 연산을 수행하는 것을 말한다.\n",
        "* 아래는 자바에서 16비트 Integer에서 32768이 -32768로 저장되는 것으로 보여준 예이다.\n",
        "\n",
        "<center> ![](https://drive.google.com/uc?id=1ojIRe9z3zEUYH4_0e0kGb4t_IpN21YM1) </center>\n",
        "\n",
        "\n"
      ]
    },
    {
      "cell_type": "markdown",
      "metadata": {
        "id": "LiDw0mjuy0RI",
        "colab_type": "text"
      },
      "source": [
        "### 부호bit : 양수일 경우 0, 음수일 경우 1로 저장\n",
        "\n",
        "### 자바의 경우)) 정수를 저장하는 자료구조로 8비트에 저장할 때(1비트는 부호bit이고, 나머지 7비트에 정수값을 저장)\n",
        "  * 부호bit가 0일때 : 0 ~ 2**7 - 1 표현\n",
        "  * 부호bit가 1일때 : -2**7 ~ -1 표현\n",
        "  *  -2^7 ~ 2^7 - 1 표현 가능\n",
        "  \n",
        "###그렇다면 127 다음의 수를 표현한다면?\n",
        "  * x = 127\n",
        "  * x = x + 1\n",
        "  * x = ?\n",
        "  \n",
        "  * 127일 경우 8비트는 01111111의 형태로 저장한 상태이다. 이때 1을 더한다면 맨 오른쪽 비트의 1값이 0으로 바뀌고, 왼쪽으로 순서대로 0으로 바뀌게 된다. 맨 왼쪽 비트는 1에서 0으로 바뀐다.\n",
        "  * 최종적으로 10000000의 형태가 되며, 이 값은 -128이다.\n",
        "  \n",
        "### 부호비트가 1 인 표현값을 10진법으로 표현하는 방법\n",
        "  * ex) 1001\n",
        "  * 1) 0과 1을 뒤집는다\n",
        "  * 0110\n",
        "  * 2) 2진법을 10진법으로 변환한다\n",
        "  * 6\n",
        "  * 3) 음수로 변환한 값에서 1을 빼준다\n",
        "  * -7"
      ]
    },
    {
      "cell_type": "code",
      "metadata": {
        "id": "Tx731A7365GR",
        "colab_type": "code",
        "outputId": "3895b90d-284c-4842-c707-c43d40d5944a",
        "colab": {
          "base_uri": "https://localhost:8080/",
          "height": 53
        }
      },
      "source": [
        "# 파이썬에서 정수의 최대값을 구해보자.\n",
        "# 정수 최대값에 1을 더했는데 자바처럼 음수로 변하지 않는다. 왜일까?\n",
        "import sys\n",
        "print(sys.maxsize)\n",
        "print(sys.maxsize+1, type(sys.maxsize+1))"
      ],
      "execution_count": 0,
      "outputs": [
        {
          "output_type": "stream",
          "text": [
            "9223372036854775807\n",
            "9223372036854775808 <class 'int'>\n"
          ],
          "name": "stdout"
        }
      ]
    },
    {
      "cell_type": "code",
      "metadata": {
        "id": "ubwxAZ-5ybpy",
        "colab_type": "code",
        "colab": {}
      },
      "source": [
        "# sys.maxsize : 파이썬에서 표현할 수 있는 정수의 최댓값(=2**63-1)\n",
        "\n",
        "# symbolic 연산 : 파이썬에서 표현할 수 있는 정수의 최대값을 넘어선 계산을 할 경우, CPU가 아닌 파이썬 내의\n",
        "# 새로운 프로그램을 이용하여 계산해 출력한다. 이때 결과값은 str형식이며, int변환 후 변수 대입이 불가능하다."
      ],
      "execution_count": 0,
      "outputs": []
    },
    {
      "cell_type": "code",
      "metadata": {
        "id": "YKK1WSrOHyWs",
        "colab_type": "code",
        "outputId": "bab04e4f-ef26-44a7-dd13-ffa415f66699",
        "colab": {
          "base_uri": "https://localhost:8080/",
          "height": 34
        }
      },
      "source": [
        "2**7 - 1"
      ],
      "execution_count": 0,
      "outputs": [
        {
          "output_type": "execute_result",
          "data": {
            "text/plain": [
              "127"
            ]
          },
          "metadata": {
            "tags": []
          },
          "execution_count": 3
        }
      ]
    },
    {
      "cell_type": "code",
      "metadata": {
        "id": "H4E9FR1l7BZF",
        "colab_type": "code",
        "outputId": "514d91ce-cf35-41a9-df31-12d353ae46e1",
        "colab": {
          "base_uri": "https://localhost:8080/",
          "height": 35
        }
      },
      "source": [
        "# 파이썬에서 정수(long)는 기본적으로 64비트에 저장한다. 메모리 풍풍~~~\n",
        "import math\n",
        "print(math.log2(sys.maxsize+1))"
      ],
      "execution_count": 0,
      "outputs": [
        {
          "output_type": "stream",
          "text": [
            "63.0\n"
          ],
          "name": "stdout"
        }
      ]
    },
    {
      "cell_type": "code",
      "metadata": {
        "id": "g0tXWMMP-qZj",
        "colab_type": "code",
        "outputId": "61a9a1b7-a0d1-4dab-cb64-f0c2c5fd3205",
        "colab": {
          "base_uri": "https://localhost:8080/",
          "height": 36
        }
      },
      "source": [
        "# 100! 도 쉽게 계산할 수 있다. 지금까지 이런 랭귀지는 없었다~~~ 어떻게 가능할까?\n",
        "def factorial(n):\n",
        "    if n <= 1:\n",
        "        return 1\n",
        "    else:\n",
        "        return n * factorial(n-1)\n",
        "factorial(100)"
      ],
      "execution_count": 0,
      "outputs": [
        {
          "output_type": "execute_result",
          "data": {
            "text/plain": [
              "93326215443944152681699238856266700490715968264381621468592963895217599993229915608941463976156518286253697920827223758251185210916864000000000000000000000000"
            ]
          },
          "metadata": {
            "tags": []
          },
          "execution_count": 7
        }
      ]
    },
    {
      "cell_type": "code",
      "metadata": {
        "id": "kX-ji1sE4sx3",
        "colab_type": "code",
        "colab": {}
      },
      "source": [
        "# 재귀식 : Recursive formula\n",
        "# n! = n*((n-1)!)"
      ],
      "execution_count": 0,
      "outputs": []
    },
    {
      "cell_type": "code",
      "metadata": {
        "id": "P0ZEAjra8OR7",
        "colab_type": "code",
        "outputId": "f87b59f6-c0f8-4e30-c863-0ca5cced0746",
        "colab": {
          "base_uri": "https://localhost:8080/",
          "height": 36
        }
      },
      "source": [
        "# 십진수를 이진수로 바꾸는 프로그램\n",
        "dec = 21\n",
        "bin=[]\n",
        "while True:\n",
        "    fraction = dec % 2\n",
        "    bin.append(fraction)\n",
        "    dec=dec//2\n",
        "    if dec < 1: break\n",
        "\n",
        "bin.reverse()\n",
        "print (bin)"
      ],
      "execution_count": 0,
      "outputs": [
        {
          "output_type": "stream",
          "text": [
            "[1, 0, 1, 0, 1]\n"
          ],
          "name": "stdout"
        }
      ]
    },
    {
      "cell_type": "markdown",
      "metadata": {
        "id": "r1zKkmVb9tqY",
        "colab_type": "text"
      },
      "source": [
        "<font color='red'> <H.W # 0>  이진수를 10진수로 바꾸는 프로그램을 작성하시오.</font>"
      ]
    },
    {
      "cell_type": "markdown",
      "metadata": {
        "id": "xtL3ffJJ6bqR",
        "colab_type": "text"
      },
      "source": [
        "* character : 문자 하나를 저장하는 자료구조로 영문은 1 바이트, 한글은 2바이트에 저장가능함\n",
        " * 파이썬에서는 문자하나를 저장하는 자료구조를 제공하지 않음\n",
        " * 파이썬은 unicode 시스템에 의한 문자를 기본적으로 제공함\n",
        " * 유니코드는 전세계 모든 언어에 겹치지 않는 코드를 할당(=매핑)한 코드\n",
        " * utf-8: UTF8은 유니코드 기반의 가변 길이 문자 인코딩 방식으로 8비트 단위로 1바이트에서 4바이트까지 가변적으로 문자를 표현함\n",
        "\n",
        "\n",
        "\n",
        "<center> ![](https://drive.google.com/uc?id=11zbVNHc-IcOrrwWpYcQZw-Hhgtuh1gsP) </center>\n"
      ]
    },
    {
      "cell_type": "code",
      "metadata": {
        "id": "0MGUKsht6lCm",
        "colab_type": "code",
        "colab": {}
      },
      "source": [
        "# 알파벳의 경우에는 ASCII코드에 따라 각 문자에 대응되는 숫자를 2진수로 저장한다.\n",
        "# 출력시에는 반대로 2진수 숫자를 읽어서 ASCII코드에 대응되는 문자를 출력한다.\n",
        "# ASCII코드의 문자는 일종의 그림파일이라고 할 수 있다."
      ],
      "execution_count": 0,
      "outputs": []
    },
    {
      "cell_type": "code",
      "metadata": {
        "id": "cOnaYDIp5Mz-",
        "colab_type": "code",
        "colab": {}
      },
      "source": [
        "# string : character 모음\n",
        "# character는 파이썬에는 존재하지 않는다.\n",
        "# 'python'의 'p'는 character가 아니라 length가 1인 string이다."
      ],
      "execution_count": 0,
      "outputs": []
    },
    {
      "cell_type": "code",
      "metadata": {
        "id": "np8yF5zyYFi5",
        "colab_type": "code",
        "outputId": "43d09b4c-263f-47e1-acb3-04dba86f9eaa",
        "colab": {
          "base_uri": "https://localhost:8080/",
          "height": 75
        }
      },
      "source": [
        "for i in range(128):\n",
        "    print (i, \":\", chr(i), end=',')"
      ],
      "execution_count": 0,
      "outputs": [
        {
          "output_type": "stream",
          "text": [
            "0 : \u0000,1 : \u0001,2 : \u0002,3 : \u0003,4 : \u0004,5 : \u0005,6 : \u0006,7 : \u0007,8 : \b,9 : \t,10 : \n",
            ",11 : \u000b,12 : \f,13 : \r,14 : \u000e,15 : \u000f,16 : \u0010,17 : \u0011,18 : \u0012,19 : \u0013,20 : \u0014,21 : \u0015,22 : \u0016,23 : \u0017,24 : \u0018,25 : \u0019,26 : \u001a,27 : \u001b,28 : \u001c,29 : \u001d,30 : \u001e,31 : \u001f,32 :  ,33 : !,34 : \",35 : #,36 : $,37 : %,38 : &,39 : ',40 : (,41 : ),42 : *,43 : +,44 : ,,45 : -,46 : .,47 : /,48 : 0,49 : 1,50 : 2,51 : 3,52 : 4,53 : 5,54 : 6,55 : 7,56 : 8,57 : 9,58 : :,59 : ;,60 : <,61 : =,62 : >,63 : ?,64 : @,65 : A,66 : B,67 : C,68 : D,69 : E,70 : F,71 : G,72 : H,73 : I,74 : J,75 : K,76 : L,77 : M,78 : N,79 : O,80 : P,81 : Q,82 : R,83 : S,84 : T,85 : U,86 : V,87 : W,88 : X,89 : Y,90 : Z,91 : [,92 : \\,93 : ],94 : ^,95 : _,96 : `,97 : a,98 : b,99 : c,100 : d,101 : e,102 : f,103 : g,104 : h,105 : i,106 : j,107 : k,108 : l,109 : m,110 : n,111 : o,112 : p,113 : q,114 : r,115 : s,116 : t,117 : u,118 : v,119 : w,120 : x,121 : y,122 : z,123 : {,124 : |,125 : },126 : ~,127 : ,"
          ],
          "name": "stdout"
        }
      ]
    },
    {
      "cell_type": "code",
      "metadata": {
        "id": "mBzPi1iiYP0w",
        "colab_type": "code",
        "outputId": "fb567a8b-19c1-4833-c927-21aa1fdb48de",
        "colab": {
          "base_uri": "https://localhost:8080/",
          "height": 55
        }
      },
      "source": [
        "a = u'가'\n",
        "print(ord(a))\n",
        "print(chr(44032))"
      ],
      "execution_count": 0,
      "outputs": [
        {
          "output_type": "stream",
          "text": [
            "44032\n",
            "가\n"
          ],
          "name": "stdout"
        }
      ]
    },
    {
      "cell_type": "code",
      "metadata": {
        "id": "tknCsBT-607s",
        "colab_type": "code",
        "colab": {}
      },
      "source": [
        "# ord : 문자를 숫자로 변환(Unicode)\n",
        "# chr : 숫자를 문자로 변환(Unicode)\n",
        "# a = u'가' 에서 u는 utf를 의미한다."
      ],
      "execution_count": 0,
      "outputs": []
    },
    {
      "cell_type": "code",
      "metadata": {
        "id": "_2ztwwiO7OkM",
        "colab_type": "code",
        "colab": {}
      },
      "source": [
        "# 시저의 암호화 문제 : 모든 알파벳이 3칸 shift된 채로 표현되어 있다. 올바르게 표현하기 위한 알고리즘은?\n",
        "\n",
        "# 모든 알파벳을 숫자로 변환한 후에 각 숫자에 3을 더해서 다시 문자로 변환하는 알고리즘을 작성할 수 있다."
      ],
      "execution_count": 0,
      "outputs": []
    },
    {
      "cell_type": "code",
      "metadata": {
        "id": "ISVDGtxdmdud",
        "colab_type": "code",
        "outputId": "f20d76e6-9098-4161-f84a-2418b793e373",
        "colab": {
          "base_uri": "https://localhost:8080/",
          "height": 53
        }
      },
      "source": [
        "def interpreter(text):\n",
        "    answer = \"\"\n",
        "    for one in text:\n",
        "        if 97 <= ord(one) <= 119:\n",
        "            answer += chr(ord(one) + 3)\n",
        "        elif 120 <= ord(one) <= 122:\n",
        "            answer += chr(ord(one) - 23)\n",
        "    return answer\n",
        "\n",
        "print(interpreter(\"abcde\"))\n",
        "print(interpreter(\"xyz\"))"
      ],
      "execution_count": 0,
      "outputs": [
        {
          "output_type": "stream",
          "text": [
            "defgh\n",
            "abc\n"
          ],
          "name": "stdout"
        }
      ]
    },
    {
      "cell_type": "markdown",
      "metadata": {
        "id": "2MWZ6A_0Yk7f",
        "colab_type": "text"
      },
      "source": [
        "* String: character의 연결모음(예: \"자료구조\", 'data structure')\n",
        " * character를 연결한 구조로 저장한다.\n"
      ]
    },
    {
      "cell_type": "code",
      "metadata": {
        "id": "hHzxPDmcZ7Da",
        "colab_type": "code",
        "outputId": "c6e9a930-5e51-4569-c6db-3d703f2e15bb",
        "colab": {
          "base_uri": "https://localhost:8080/",
          "height": 35
        }
      },
      "source": [
        "a = \"자료구조\"\n",
        "print(a[0], a[:2], a[-1])"
      ],
      "execution_count": 0,
      "outputs": [
        {
          "output_type": "stream",
          "text": [
            "자 자료 조\n"
          ],
          "name": "stdout"
        }
      ]
    },
    {
      "cell_type": "code",
      "metadata": {
        "id": "CdAXN12Ym_nI",
        "colab_type": "code",
        "outputId": "a253c859-473c-4f20-fee1-dc2f6d5ddbc4",
        "colab": {
          "base_uri": "https://localhost:8080/",
          "height": 35
        }
      },
      "source": [
        "# index자료형을 쉽게 뒤집는 방법\n",
        "a = \"자료구조\"\n",
        "print(a[::-1])"
      ],
      "execution_count": 0,
      "outputs": [
        {
          "output_type": "stream",
          "text": [
            "조구료자\n"
          ],
          "name": "stdout"
        }
      ]
    },
    {
      "cell_type": "markdown",
      "metadata": {
        "id": "9H0p4OQrhMLJ",
        "colab_type": "text"
      },
      "source": [
        "* float: 소수점이 존재하는 숫자를 저장하는 자료구조다.\n",
        "* 실수를 소수부와 지수부로 구분하여 따로 저장한다.\n",
        "* 일반적으로 float와 double로 구분하는데 이는 각각 32비트, 64비트에 저장하는 것을 의미\n",
        "\n",
        "<center><img src=\"https://drive.google.com/uc?id=1Tlq8Ysj6mjw99N-k9turL75YhwBiN6Sp\" width=\"400\" height=\"150\"></center>\n",
        "\n",
        "* float는 integer에 비해 복잡한 자료구조이므로 integer로 처리할 수 있는 것을 float로 처리 하는 것은 비효율적이다.\n"
      ]
    },
    {
      "cell_type": "markdown",
      "metadata": {
        "id": "kBsBUutehggO",
        "colab_type": "text"
      },
      "source": [
        "* Boolean: \n",
        " * True or False 를 나타내는 자료구조로 1비트에 0 혹은 1을 넣으면 된다.\n",
        " * 하지만, 최소단위가 1 바이트 이므로 8 bit에 저장한다.\n",
        " * False는 전체 비트를 0으로 표시하고, True는 하나 이상의 비트를 1로 표시한다."
      ]
    },
    {
      "cell_type": "code",
      "metadata": {
        "id": "ETxVIAfsWxOu",
        "colab_type": "code",
        "outputId": "4f0c08c2-fc8f-4e6d-977c-d005fbea4d77",
        "colab": {
          "base_uri": "https://localhost:8080/",
          "height": 36
        }
      },
      "source": [
        "a = True\n",
        "b = False\n",
        "print(a,b, a+b)"
      ],
      "execution_count": 0,
      "outputs": [
        {
          "output_type": "stream",
          "text": [
            "True False 1\n"
          ],
          "name": "stdout"
        }
      ]
    },
    {
      "cell_type": "code",
      "metadata": {
        "id": "dun9l7w4YfvE",
        "colab_type": "code",
        "colab": {}
      },
      "source": [
        "# python은 True를 1로, False를 0으로 저장한다는 것을 알 수 있다"
      ],
      "execution_count": 0,
      "outputs": []
    },
    {
      "cell_type": "markdown",
      "metadata": {
        "id": "H99qPdP458ch",
        "colab_type": "text"
      },
      "source": [
        "#### 파이썬의 자료 구조\n",
        "* 파이썬에서 모든 것은 객체다.\n",
        " * x = 500 이라고 하면 내부적으로는 두개의 동적 메모리가 생성된다.\n",
        " * x에는 아래 그림처럼 500이 저장된 객체의 주소가 저장된다.\n",
        " * 객체에는 데이터 타입이 int 라는 정보와 값이500이라는 것이 저장된다.\n",
        " * 이러한 작동이 동적으로 일어나므로 형선언을 할 필요가 없는 것이다.\n",
        " * 만약, 다른 변수 y = 500 이 실행되면 새로 객체를 생성하는 것이 아니고 이미 생성된 객체의 주소를 assign 한다.\n",
        " \n",
        "<center><img src=\"https://drive.google.com/uc?id=1qtS1ZB-xx8SnuRYWaxo9YKMgxQxEB4T0\" width=\"200\" height=\"70\"></center>\n"
      ]
    },
    {
      "cell_type": "code",
      "metadata": {
        "id": "mk5-nord72-0",
        "colab_type": "code",
        "outputId": "21061105-3f2f-43ac-fb53-fa53a2be39ab",
        "colab": {
          "base_uri": "https://localhost:8080/",
          "height": 55
        }
      },
      "source": [
        "a = 500\n",
        "print(id(a))\n",
        "print(type(a))"
      ],
      "execution_count": 0,
      "outputs": [
        {
          "output_type": "stream",
          "text": [
            "140207814272304\n",
            "<class 'int'>\n"
          ],
          "name": "stdout"
        }
      ]
    },
    {
      "cell_type": "markdown",
      "metadata": {
        "id": "fWmp_T-85dqk",
        "colab_type": "text"
      },
      "source": [
        "### a = 1; b= 1 일때 id(a) == id(b)인 이유?\n",
        "* 파이썬에서는 아주 적은 값의 경우 캐시(자주 사용하는 값들을 저장하는 장소)를 통해 관리한다. 그래서 1을 a에 저장하고 b에 저장하면 '자주 사용하는 값이네, 그러면 같은 캐시에 저장하고 a,b가 같은 곳을 이용하도록 해야지'라고 판단하여 id의 값이 똑같이 나온다.\n",
        "* 여기서 아주 적은 값이란 -5부터 256까지의 숫자와 몇몇 문자가 있다."
      ]
    },
    {
      "cell_type": "code",
      "metadata": {
        "id": "gsl1A_vX76RS",
        "colab_type": "code",
        "outputId": "ec4048c5-9f4a-415b-9f5b-1f7033203d7b",
        "colab": {
          "base_uri": "https://localhost:8080/",
          "height": 36
        }
      },
      "source": [
        "a = [1,2,3,4]\n",
        "b = a\n",
        "print(id(a), id(b))"
      ],
      "execution_count": 0,
      "outputs": [
        {
          "output_type": "stream",
          "text": [
            "139794632496520 139794632496520\n"
          ],
          "name": "stdout"
        }
      ]
    },
    {
      "cell_type": "code",
      "metadata": {
        "id": "lUHJyKUSVEbz",
        "colab_type": "code",
        "outputId": "d8b928a3-8e55-4920-918f-e03d5f8e5c25",
        "colab": {
          "base_uri": "https://localhost:8080/",
          "height": 36
        }
      },
      "source": [
        "c = a[:]\n",
        "# 리스트를 복사하는 방법\n",
        "print(id(c))"
      ],
      "execution_count": 0,
      "outputs": [
        {
          "output_type": "stream",
          "text": [
            "139794632956616\n"
          ],
          "name": "stdout"
        }
      ]
    },
    {
      "cell_type": "markdown",
      "metadata": {
        "id": "rHpKpa5HVIQe",
        "colab_type": "text"
      },
      "source": [
        "* list: 파이썬 리스트는 동적배열개념으로 구현되어 있다. <br>\n",
        " 아래 그림의 좌측 (a)가 일반적인 배열의 저장방식이다.  <br> \n",
        "  C나 자바 등의 언어에서는 (a)와 같은 형식을 사용한다. <br>\n",
        " 반면, 파이썬의 리스트는 (b) 와 같은 형태로 저장하기 떄문에 많은 메모리를 사용하는 단점이 있지만, 서로 다른 형도 넣을 수 있고, 앞, 뒤에 추가 삭제가 쉽다. <br>하지만, 중간 데이터의 삽입, 삭제를 위해서는 데이터를 이동해야 하는 문제점을 가지고 있다. 그러므로, 중간에 데이터를 추가하거나 삭제가 많은 연산에는 연결 리스트를 사용하는 것이 효율적이다.\n",
        " \n",
        " <center><img src=\" https://drive.google.com/uc?id=1zHcxnNjuWM8PAlPWsiDuqBA_RHC8iITr\" width=\"400\" height=\"150\"></center>\n"
      ]
    },
    {
      "cell_type": "markdown",
      "metadata": {
        "id": "Zc9DweFr6jIy",
        "colab_type": "text"
      },
      "source": [
        "* 파이썬의 리스트는 저장방식으로 인해 메모리가 2배로 필요하다.\n",
        "* (a) 같은 경우는 새로운 데이터값을 입력하기 위해서는 구조를 조각낸 다음 새로운 리스트 구조를 저장해야 하는 단점이 있다."
      ]
    },
    {
      "cell_type": "code",
      "metadata": {
        "id": "Wzlg8ff84s3p",
        "colab_type": "code",
        "outputId": "1cada5a3-bb14-4b9a-826f-1b00e733493e",
        "colab": {
          "base_uri": "https://localhost:8080/",
          "height": 34
        }
      },
      "source": [
        "a = [1,'a']\n",
        "a"
      ],
      "execution_count": 0,
      "outputs": [
        {
          "output_type": "execute_result",
          "data": {
            "text/plain": [
              "[1, 'a']"
            ]
          },
          "metadata": {
            "tags": []
          },
          "execution_count": 1
        }
      ]
    },
    {
      "cell_type": "markdown",
      "metadata": {
        "id": "YfpZzXh9BtE2",
        "colab_type": "text"
      },
      "source": [
        "#### ADT(Abstract Data Type)\n",
        "\n",
        "* 기초적인 자료구조 외 연결 리스트(linked list), queue, stack, Tree, Graph 등은 기본적으로 제공하지 않으므로 직접 만들어 사용하거나 오픈소스로 제공되는 외부 라이브러리를 사용한다.\n",
        "* 자료구조에서는 이러한 자료구조를 직접 만들어보고 응용해보는 공부를 할 것이다.\n",
        "* 자료구조의 개략적 설계도가 ADT 다.\n",
        "* ADT를 구체화하면 자료구조가 완성되는 것이다.\n",
        "* 자료구조를 사용하여 문제를 해결하는 것이 알고리즘이다.\n",
        "\n",
        "<center> ![](https://drive.google.com/uc?id=1Xo9UClleNPCh0qKfFM7yjyde1Lo7hFUR) </center>\n",
        "\n"
      ]
    },
    {
      "cell_type": "markdown",
      "metadata": {
        "id": "MyACsxVuxC5A",
        "colab_type": "text"
      },
      "source": [
        ""
      ]
    }
  ]
}