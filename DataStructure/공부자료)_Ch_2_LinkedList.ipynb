{
  "nbformat": 4,
  "nbformat_minor": 0,
  "metadata": {
    "colab": {
      "name": "공부자료) Ch 2_LinkedList.ipynb",
      "provenance": [],
      "collapsed_sections": [],
      "include_colab_link": true
    },
    "kernelspec": {
      "name": "python3",
      "display_name": "Python 3"
    }
  },
  "cells": [
    {
      "cell_type": "markdown",
      "metadata": {
        "id": "view-in-github",
        "colab_type": "text"
      },
      "source": [
        "<a href=\"https://colab.research.google.com/github/YoonSungLee/University-Lectures/blob/master/DataStructure/%EA%B3%B5%EB%B6%80%EC%9E%90%EB%A3%8C)_Ch_2_LinkedList.ipynb\" target=\"_parent\"><img src=\"https://colab.research.google.com/assets/colab-badge.svg\" alt=\"Open In Colab\"/></a>"
      ]
    },
    {
      "cell_type": "code",
      "metadata": {
        "id": "3uPS1C-SAo-l",
        "colab_type": "code",
        "outputId": "2f29e409-761c-426e-b6ca-3a3ae0a50308",
        "colab": {
          "base_uri": "https://localhost:8080/",
          "height": 35
        }
      },
      "source": [
        "# 각 변수를 이용\n",
        "a1 = 1\n",
        "a2 = 2\n",
        "a3 = 3\n",
        "sum = a1 + a2 + a3\n",
        "sum"
      ],
      "execution_count": 0,
      "outputs": [
        {
          "output_type": "execute_result",
          "data": {
            "text/plain": [
              "6"
            ]
          },
          "metadata": {
            "tags": []
          },
          "execution_count": 1
        }
      ]
    },
    {
      "cell_type": "code",
      "metadata": {
        "id": "kbnvm2MCAz0s",
        "colab_type": "code",
        "outputId": "65ad7fa2-ba1a-4f60-89a0-5510ac4baef8",
        "colab": {
          "base_uri": "https://localhost:8080/",
          "height": 35
        }
      },
      "source": [
        "# 배열(Array)을 이용\n",
        "a = [1,2,3]\n",
        "sum = 0\n",
        "for i in range(3):\n",
        "  sum += a[i]\n",
        "sum"
      ],
      "execution_count": 0,
      "outputs": [
        {
          "output_type": "execute_result",
          "data": {
            "text/plain": [
              "6"
            ]
          },
          "metadata": {
            "tags": []
          },
          "execution_count": 1
        }
      ]
    },
    {
      "cell_type": "markdown",
      "metadata": {
        "id": "5qVV7hzX5pBN",
        "colab_type": "text"
      },
      "source": [
        "# <font color='blue'><div style=\"text-align: center\">Ch 2. Linked List</font> \n",
        "\n",
        "* 아래 그림 처럼 노드를 연결시킨 자료구조\n",
        "* 자료를 연속적인 메모리 공간에 할당할 필요없이 임의 공간에 자료를 저장하고 링크를 이용해 연결함\n",
        "* 리스트에서 원소를 탐색하기 위해서는 순차탐색을 하여야 함 ex) '배'를 찾기 위해 사과 ,앵두, 배 순으로 순차탐색 필요\n",
        "* 배열에서는 삽입/삭제 시 원소 이동이 필요한데 반해 리스트에서는 삽입/삭제가 원활함\n",
        "* 리스트 이름 S에는 사과 노드의 주소가 저장됨\n",
        "* 사과노드는 과일을 저장할 수 있는 장소와 다음 노드의 주소를 저장하는 장소로 구성됨\n",
        "* 마지막 노드의 링크는 null 이 저장됨\n",
        "* 단점 : 공간이 많이 필요하고 속도가 느리다 but 공간과 속도의 지속적인 개선으로 Linked List 사용\n",
        "* 일반적으로는 배열이 더 우수한 성능을 보인다. 하지만 특정한 상황에서는 LinkedList가 더 효율적이다.\n",
        "<center> ![](https://drive.google.com/uc?id=1hgU-79vThtZWe_0wWB0ZTGHmgmPtE020) </center>\n",
        "        "
      ]
    },
    {
      "cell_type": "code",
      "metadata": {
        "id": "wI5GcN8VEJZk",
        "colab_type": "code",
        "colab": {}
      },
      "source": [
        "# 클래스 구조\n",
        "class Student: # 클래스 이름은 대문자로 시작\n",
        "  def __init__(self,0): # 생성자(__init__)\n",
        "    \"\"\"내용\"\"\""
      ],
      "execution_count": 0,
      "outputs": []
    },
    {
      "cell_type": "code",
      "metadata": {
        "id": "MHHJYQUT9lt4",
        "colab_type": "code",
        "outputId": "812b3a2d-c269-4258-fb7f-d38edacbbdf9",
        "colab": {
          "base_uri": "https://localhost:8080/",
          "height": 71
        }
      },
      "source": [
        "# Node Class: item으로 value를 가지고 link를 가진다. link가 없을 경우, None을 입력한다.\n",
        "class Node:\n",
        "    def __init__(self, item=None):\n",
        "        self.item = item\n",
        "        self.link = None\n",
        "\n",
        "a = Node('사과') # self 에 a, item에 '사과' 대입\n",
        "print(id(a))\n",
        "print(a.item)\n",
        "print(a.link)"
      ],
      "execution_count": 0,
      "outputs": [
        {
          "output_type": "stream",
          "text": [
            "139745549212528\n",
            "사과\n",
            "None\n"
          ],
          "name": "stdout"
        }
      ]
    },
    {
      "cell_type": "markdown",
      "metadata": {
        "id": "a1xWmK0I-Ou0",
        "colab_type": "text"
      },
      "source": [
        "* Linked List 설계\n",
        " * root: 리스트 루트 노드이고 Linked List는 root 노드의 주소를 가진다.\n",
        "   * root = Node() # 빈 노드(리스트)를 하나 생성한다. 즉,  item = None\n",
        " * append method: item을 주면 item 노드를 Linked List 마지막 노드에 추가하는 메소드\n",
        "   * item으로 newNode를 만들고 root의 item이 None이면 newNode를 root로 지정하고 아니면 리스트의 끝까지 이동한 후, 마지막 노드의 링크에 newNode의 주소를 삽입\n",
        " * insert method: Linked List에 index로 새 노드를 추가하는 메소드로 index=0 이면 root로 추가하고, index 값에 따라 해당 위치에 삽입한다.\n",
        "   * index < 0 or index >= listSize 이면 error 메세지를 출력한다.\n",
        "   * rootNode를 0번째로 보고 index -1 번째 노드의 링크에 newNode를 넣고 newNode의 링크에      index-1 번째 링크에 있던 주소를 넣는다.\n",
        " * find Method: Linked List에서 해당 아이템을 찾고 index를 리턴한다.  없으면 -1을 리턴한다.\n",
        " * delete method: 주어진 값을 이용해 해당 노드를 찾고 지운다.\n",
        "   * curNode = preNode = root로 초기 지정하고 curNode를 움직일 때 마다 preNode는 curNode의 이전 노드로 갱신한다\n",
        "   * del item이 첫번째 노드면 self.root에 del item의 링크를 넣는다.\n",
        "   * del item이 중간노드면preNode 링크에 del item 링크를 넣는다.\n",
        "   *  마지막 노드라면 preNode 링크에 None를 넣는다.\n",
        " \n",
        " * listSize method: Linked List의 item 수를 리턴한다.\n",
        "\n",
        " * print method: Linked List를 print 한다.\n",
        "\n",
        " "
      ]
    },
    {
      "cell_type": "code",
      "metadata": {
        "id": "GOYLyn9TFZYJ",
        "colab_type": "code",
        "colab": {}
      },
      "source": [
        "# root 노드 만들기\n",
        "\n",
        "class LinkedList:\n",
        "    def __init__(self):\n",
        "        self.root = Node()\n",
        "\n",
        "fruits = LinkedList()\n"
      ],
      "execution_count": 0,
      "outputs": []
    },
    {
      "cell_type": "code",
      "metadata": {
        "id": "TyuXa_wJITNl",
        "colab_type": "code",
        "outputId": "b9ec1292-1455-4a8d-d687-d9f1a9bc1ffb",
        "colab": {
          "base_uri": "https://localhost:8080/",
          "height": 107
        }
      },
      "source": [
        "# append 메소드 구현\n",
        "\n",
        "class LinkedList:\n",
        "    def __init__(self):\n",
        "        self.root = Node()\n",
        "\n",
        "    def append(self, item):\n",
        "        newNode = Node(item)\n",
        "        curNode = self.root\n",
        "        if curNode.item == None:\n",
        "            self.root = newNode\n",
        "        else:\n",
        "            while curNode.link != None:\n",
        "                curNode = curNode.link\n",
        "            curNode.link = newNode\n",
        "    \n",
        "    def print(self):\n",
        "        curNode = self.root\n",
        "        print(curNode.item)\n",
        "        while curNode.link != None:\n",
        "            curNode = curNode.link\n",
        "            print(curNode.item)\n",
        "\n",
        "fruits = LinkedList()\n",
        "fruits.append('사과')\n",
        "fruits.print()\n",
        "fruits.append('앵두')\n",
        "fruits.append('오렌지')\n",
        "fruits.append('포도')\n",
        "fruits.print()"
      ],
      "execution_count": 0,
      "outputs": [
        {
          "output_type": "stream",
          "text": [
            "사과\n",
            "사과\n",
            "앵두\n",
            "오렌지\n",
            "포도\n"
          ],
          "name": "stdout"
        }
      ]
    },
    {
      "cell_type": "code",
      "metadata": {
        "id": "ag8MV1HNXaf1",
        "colab_type": "code",
        "outputId": "2ba3f0a9-842e-4c91-c148-8b6955c95c69",
        "colab": {
          "base_uri": "https://localhost:8080/",
          "height": 107
        }
      },
      "source": [
        "# insert 메소드 구현\n",
        "class LinkedList:\n",
        "    def __init__(self):\n",
        "        self.root = Node()\n",
        "\n",
        "    def append(self, item):\n",
        "        newNode = Node(item)\n",
        "        curNode = self.root\n",
        "        if curNode.item == None:\n",
        "            self.root = newNode\n",
        "        else:\n",
        "            while curNode.link != None:\n",
        "                curNode = curNode.link\n",
        "            curNode.link = newNode\n",
        "    \n",
        "    def print(self):\n",
        "        curNode = self.root\n",
        "        print(curNode.item)\n",
        "        while curNode.link != None:\n",
        "            curNode = curNode.link\n",
        "            print(curNode.item)\n",
        "    \n",
        "    def listSize(self):\n",
        "        curNode = self.root\n",
        "        cnt = 1\n",
        "        while curNode.link != None:\n",
        "            curNode = curNode.link\n",
        "            cnt += 1\n",
        "        return cnt\n",
        "            \n",
        "    def insert(self, idx, item):\n",
        "        n = self.listSize()\n",
        "        if idx < 0 or idx >= n:\n",
        "            print(\"index range error\")\n",
        "        else:\n",
        "            newNode = Node(item)\n",
        "            curNode = self.root\n",
        "            if idx == 0:\n",
        "                _tmp = self.root\n",
        "                self.root = newNode\n",
        "                newNode.link = _tmp\n",
        "            else:\n",
        "                for curIdx in range(idx-1):\n",
        "                    curNode = curNode.link\n",
        "                _tmp = curNode.link\n",
        "                curNode.link = newNode\n",
        "                newNode.link = _tmp\n",
        "\n",
        "fruits = LinkedList()\n",
        "fruits.append('사과')\n",
        "fruits.append('앵두')\n",
        "fruits.append('오렌지')\n",
        "fruits.append('포도')\n",
        "fruits.insert(3,'배')   \n",
        "fruits.print()\n",
        "            \n",
        "            "
      ],
      "execution_count": 0,
      "outputs": [
        {
          "output_type": "stream",
          "text": [
            "사과\n",
            "앵두\n",
            "오렌지\n",
            "배\n",
            "포도\n"
          ],
          "name": "stdout"
        }
      ]
    },
    {
      "cell_type": "code",
      "metadata": {
        "id": "xtDpn8VznL9k",
        "colab_type": "code",
        "outputId": "436936a1-3725-464e-b495-96a27da2e75b",
        "colab": {
          "base_uri": "https://localhost:8080/",
          "height": 34
        }
      },
      "source": [
        "# find 메소드 구현\n",
        "class LinkedList:\n",
        "    def __init__(self):\n",
        "        self.root = Node()\n",
        "\n",
        "    def append(self, item):\n",
        "        newNode = Node(item)\n",
        "        curNode = self.root\n",
        "        if curNode.item == None:\n",
        "            self.root = newNode\n",
        "        else:\n",
        "            while curNode.link != None:\n",
        "                curNode = curNode.link\n",
        "            curNode.link = newNode\n",
        "    \n",
        "    def print(self):\n",
        "        curNode = self.root\n",
        "        print(curNode.item)\n",
        "        while curNode.link != None:\n",
        "            curNode = curNode.link\n",
        "            print(curNode.item)\n",
        "    \n",
        "    def listSize(self):\n",
        "        curNode = self.root\n",
        "        cnt = 1\n",
        "        while curNode.link != None:\n",
        "            curNode = curNode.link\n",
        "            cnt += 1\n",
        "        return cnt\n",
        "            \n",
        "    def insert(self, idx, item):\n",
        "        n = self.listSize()\n",
        "        if idx < 0 or idx >= n:\n",
        "            print(\"index range error\")\n",
        "        else:\n",
        "            newNode = Node(item)\n",
        "            curNode = self.root\n",
        "            if idx == 0:\n",
        "                _tmp = self.root\n",
        "                self.root = newNode\n",
        "                newNode.link = _tmp\n",
        "            else:\n",
        "                for curIdx in range(idx-1):\n",
        "                    curNode = curNode.link\n",
        "                _tmp = curNode.link\n",
        "                curNode.link = newNode\n",
        "                newNode.link = _tmp\n",
        "    \n",
        "    def find(self, item):\n",
        "        find = -1\n",
        "        idx = 0\n",
        "        if self.root.item == item:\n",
        "            find += 1\n",
        "        else:\n",
        "            curNode = self.root\n",
        "            while curNode.link != None:\n",
        "                curNode = curNode.link\n",
        "                idx += 1\n",
        "                if curNode.item == item:\n",
        "                    find = idx\n",
        "                    break\n",
        "        return find\n",
        "        \n",
        "\n",
        "fruits = LinkedList()\n",
        "fruits.append('사과')\n",
        "fruits.append('앵두')\n",
        "fruits.append('오렌지')\n",
        "fruits.append('포도')\n",
        "fruits.insert(3,'배')   \n",
        "fruits.find('배~')"
      ],
      "execution_count": 0,
      "outputs": [
        {
          "output_type": "execute_result",
          "data": {
            "text/plain": [
              "-1"
            ]
          },
          "metadata": {
            "tags": []
          },
          "execution_count": 6
        }
      ]
    },
    {
      "cell_type": "code",
      "metadata": {
        "id": "bGI0tniXsL20",
        "colab_type": "code",
        "colab": {}
      },
      "source": [
        "# 구현 후에는 항상 노드의 처음, 중간, 끝을 확인할 것"
      ],
      "execution_count": 0,
      "outputs": []
    },
    {
      "cell_type": "code",
      "metadata": {
        "id": "g4z0qUeN5oRz",
        "colab_type": "code",
        "outputId": "54c95759-832c-45c1-889d-987ca8d04a4c",
        "colab": {
          "base_uri": "https://localhost:8080/",
          "height": 107
        }
      },
      "source": [
        "# delete 메소드 구현\n",
        "# find method를 이용해 delete 할 item의 인덱스를 구한다.\n",
        "# del item이 첫번째 노드면 self.root에 del item의 링크를 넣는다.\n",
        "# del item이 중간노드면 index-1 번째 링크에 del item 링크를 넣는다.\n",
        "# 마지막 노드라면 index-1 번째 링크에 None를 넣는다.\n",
        "\n",
        "class LinkedList:\n",
        "    def __init__(self):\n",
        "        self.root = Node()\n",
        "\n",
        "    def append(self, item):\n",
        "        newNode = Node(item)\n",
        "        curNode = self.root\n",
        "        if curNode.item == None:\n",
        "            self.root = newNode\n",
        "        else:\n",
        "            while curNode.link != None:\n",
        "                curNode = curNode.link\n",
        "            curNode.link = newNode\n",
        "    \n",
        "    def print(self):\n",
        "        curNode = self.root\n",
        "        print(curNode.item)\n",
        "        while curNode.link != None:\n",
        "            curNode = curNode.link\n",
        "            print(curNode.item)\n",
        "    \n",
        "    def listSize(self):\n",
        "        curNode = self.root\n",
        "        cnt = 1\n",
        "        while curNode.link != None:\n",
        "            curNode = curNode.link\n",
        "            cnt += 1\n",
        "        return cnt\n",
        "            \n",
        "    def insert(self, idx, item):\n",
        "        n = self.listSize()\n",
        "        if idx < 0 or idx >= n:\n",
        "            print(\"index range error\")\n",
        "        else:\n",
        "            newNode = Node(item)\n",
        "            curNode = self.root\n",
        "            if idx == 0:\n",
        "                _tmp = self.root\n",
        "                self.root = newNode\n",
        "                newNode.link = _tmp\n",
        "            else:\n",
        "                for curIdx in range(idx-1):\n",
        "                    curNode = curNode.link\n",
        "                _tmp = curNode.link\n",
        "                curNode.link = newNode\n",
        "                newNode.link = _tmp\n",
        "    \n",
        "    def find(self, item):\n",
        "        find = -1 # find를 정의하는 이유?\n",
        "        idx = 0\n",
        "        if self.root.item == item:\n",
        "            find += 1\n",
        "        else:\n",
        "            curNode = self.root\n",
        "            while curNode.link != None:\n",
        "                curNode = curNode.link\n",
        "                idx += 1\n",
        "                if curNode.item == item:\n",
        "                    find = idx\n",
        "                    break\n",
        "        return find\n",
        "    \n",
        "#     def find(self, item):\n",
        "#         answer = 0\n",
        "#         if self.root.item == item:\n",
        "#                 return answer\n",
        "#         else:\n",
        "#             curNode = self.root\n",
        "#             while curNode.link != None:\n",
        "#                 curNode = curNode.link\n",
        "#                 answer += 1\n",
        "#                 if curNode.item == item:\n",
        "#                     return answer\n",
        "#             return -1\n",
        "    \n",
        "    \n",
        "    def delete(self,item):\n",
        "        delYN = False\n",
        "        curNode = self.root\n",
        "        preNode = curNode\n",
        "        if curNode.item == item:\n",
        "            self.root = self.root.link\n",
        "            delYN = True\n",
        "        else:\n",
        "            while curNode.link != None:\n",
        "                preNode = curNode\n",
        "                curNode = curNode.link\n",
        "                if curNode.item == item:\n",
        "                    preNode.link = curNode.link\n",
        "                    delYN = True\n",
        "        if curNode.item == item:\n",
        "            preNode.link = None\n",
        "            delYN = True\n",
        "        if delYN == False:\n",
        "            print(\"delete failed\")\n",
        "            \n",
        "    def remove(self, item): #delete의 다른 표현법\n",
        "      curNode = self.root\n",
        "      preNode = self.root\n",
        "      if self.root.item == item:\n",
        "        self.root = self.root.link\n",
        "      else:\n",
        "        while curNode != None:\n",
        "          if curNode.item == item:\n",
        "            preNode.link = curNode.link\n",
        "            break\n",
        "          preNode = curNode\n",
        "          curNode = curNode.link\n",
        "\n",
        "            \n",
        "# \"while curNode.link != None\" 의 전에 (실행) 과정이 있어야 한다.\n",
        "# \"while curNode.link != None\" 을 이후로 (노드 바꾸기) -> (실행) 과정을 거치는 코드를 작성해야 한다.\n",
        "\n",
        "#     def remove(self, item):\n",
        "#         if self.root.item == item:\n",
        "#             self.root = self.root.link\n",
        "#         else:\n",
        "#             curNode = self.root\n",
        "#             preNode = self.root\n",
        "#             while curNode.link != None:\n",
        "#                 preNode = curNode\n",
        "#                 curNode = curNode.link\n",
        "#                 if curNode.item == item:\n",
        "#                     preNode.link = curNode.link\n",
        "#                     return\n",
        "#             return \"No item\"\n",
        "\n",
        "\n",
        "        \n",
        "fruits = LinkedList()\n",
        "fruits.append('사과')\n",
        "fruits.append('앵두')\n",
        "fruits.append('오렌지')\n",
        "fruits.append('포도')\n",
        " \n",
        "fruits.delete('포도~')\n",
        "fruits.print()"
      ],
      "execution_count": 0,
      "outputs": [
        {
          "output_type": "stream",
          "text": [
            "delete failed\n",
            "사과\n",
            "앵두\n",
            "오렌지\n",
            "포도\n"
          ],
          "name": "stdout"
        }
      ]
    },
    {
      "cell_type": "markdown",
      "metadata": {
        "id": "7W6FFP1RALoS",
        "colab_type": "text"
      },
      "source": [
        "<font color='red'> <H.W # 1> Linked List class를 위 코드를 보지 말고 스스로 작성해 보세요.</font>"
      ]
    },
    {
      "cell_type": "markdown",
      "metadata": {
        "id": "SZAGVu-_Sm6t",
        "colab_type": "text"
      },
      "source": [
        "#### 리스트 응용문제: 다항식 덧셈\n",
        "\n",
        "* $ p(x) = 4 x^4 + 3x^2 + 3$ , $ q(x) = 3 x^3 + 4x^2 +2x + 1$ 를 더하면 \n",
        "$ p(x) + q(x) = 4x^4 + 3 x^3 + 7 x^2 + 2x + 4 $ 가 된다.\n",
        "* 이 연산을 수행하는 프로그램을 만들어 보자.\n",
        "    * 다항식 p(x) 를 저장하는 자료구조: [[4,4], [3,2], [3,0]]\n",
        "    * add method: 리스트 자료구조에 [coef, k] 형식의 서브 리스트를 추가한다.\n",
        "    * peek method: 0번째 리스트 원소를 리턴한다.\n",
        "    * pop method: 0번째 리스트 원소를 꺼내 리턴한다.\n",
        "    * size method: 리스트의 길이를 리턴한다.\n",
        "    * print method: 다항식 형태를 프린트 한다."
      ]
    },
    {
      "cell_type": "code",
      "metadata": {
        "id": "dv7b6Q8XT1fd",
        "colab_type": "code",
        "outputId": "e62c5fb0-982d-4094-896f-d8ee622de1b4",
        "colab": {
          "base_uri": "https://localhost:8080/",
          "height": 52
        }
      },
      "source": [
        "# 이것만으로는 LinkedList의 예시라고 할 수 없다.\n",
        "\n",
        "class Poly:\n",
        "    def __init__(self):\n",
        "        self.eq = []\n",
        "    def add(self, coef, k):\n",
        "        self.eq.append([coef, k])\n",
        "    def peek(self):\n",
        "        return self.eq[0]\n",
        "    def pop(self):\n",
        "        return self.eq.pop(0)\n",
        "    def size(self):\n",
        "        return len(self.eq)\n",
        "    def print(self):\n",
        "        for term in self.eq:\n",
        "            print(term[0],'x^',term[1],'+', end=' ')\n",
        "        print()\n",
        "        \n",
        "p = Poly()\n",
        "p.add(4,4)\n",
        "p.add(3,2)\n",
        "p.add(3,0)\n",
        "\n",
        "q = Poly()\n",
        "q.add(3,3)\n",
        "q.add(4,2)\n",
        "q.add(2,1)\n",
        "q.add(1,0)\n",
        "\n",
        "p.print()\n",
        "q.print()\n",
        "\n",
        "# print(p.peek())\n",
        "# print(q.peek())\n",
        "\n",
        "# print(p.pop())\n",
        "# print(q.pop())\n",
        "\n",
        "# p.print()\n",
        "# q.print()"
      ],
      "execution_count": 0,
      "outputs": [
        {
          "output_type": "stream",
          "text": [
            "4 x^ 4 + 3 x^ 2 + 3 x^ 0 + \n",
            "3 x^ 3 + 4 x^ 2 + 2 x^ 1 + 1 x^ 0 + \n"
          ],
          "name": "stdout"
        }
      ]
    },
    {
      "cell_type": "markdown",
      "metadata": {
        "id": "TzG6CHXQXLXI",
        "colab_type": "text"
      },
      "source": [
        "####  다항식 덧셈 알고리즘\n",
        "\n",
        "* Step 0: 덧셈 결과를 기록할 빈 다항식을 만든다.\n",
        "* Step 1: 두개의 다항식에서 최고 차수를 찾고 최고 차수가 있는 리스트에서 팝하여 결과 다항식에 추가한다. 만약, 최고 차수를 가지는 항이 두개 다항식에 공통으로 존재하면 계수를 합하여 add한다.\n",
        "* Step 2: 한쪽 다항식이 empty 할 때까지 Step 1을 수행한다.\n",
        "* Step 3: 비어 있지 않은 다항식의 항을 결과 다항식에 add 한다."
      ]
    },
    {
      "cell_type": "code",
      "metadata": {
        "id": "YLonXrWCYWWy",
        "colab_type": "code",
        "outputId": "bb29826d-4c66-4dd0-847a-66a2936d23a7",
        "colab": {
          "base_uri": "https://localhost:8080/",
          "height": 34
        }
      },
      "source": [
        "# 리스트에서 최고차수를 가진 리스트의 인덱스번호가 가장 낮다고 가정한다.\n",
        "\n",
        "def polyAdd(a,b):\n",
        "    c = Poly()\n",
        "    while a.size() > 0 and b.size() > 0: # a와 b 둘다 남아있을 때\n",
        "        if a.peek()[1] > b.peek()[1]:\n",
        "            _tmp = a.pop()\n",
        "            c.add(_tmp[0], _tmp[1])\n",
        "        elif a.peek()[1] < b.peek()[1]:  \n",
        "            _tmp = b.pop()\n",
        "            c.add(_tmp[0], _tmp[1])\n",
        "        else:\n",
        "            _tmp1 = a.pop()\n",
        "            _tmp2 = b.pop()\n",
        "            c.add(_tmp1[0]+_tmp2[0], _tmp1[1])\n",
        "    \n",
        "    while a.size() > 0: # a만 남아있을 때\n",
        "        _tmp = a.pop()\n",
        "        c.add(_tmp[0],_tmp[1])\n",
        "\n",
        "    while b.size() > 0:# b만 남아있을 때\n",
        "        _tmp = b.pop()\n",
        "        c.add(_tmp[0],_tmp[1])\n",
        "    \n",
        "    return c\n",
        "\n",
        "c = polyAdd(p, q)\n",
        "c.print()\n",
        "\n",
        "# Array를 사용하지 않는 이유 : 다항식에 모든 차수가 있지 않게 되면 빈 차수를 모두 0으로 가지고 있어야 한다.(효율성이 떨어진다)"
      ],
      "execution_count": 0,
      "outputs": [
        {
          "output_type": "stream",
          "text": [
            "4 x^ 4 + 3 x^ 3 + 7 x^ 2 + 2 x^ 1 + 4 x^ 0 + \n"
          ],
          "name": "stdout"
        }
      ]
    },
    {
      "cell_type": "markdown",
      "metadata": {
        "id": "t11BF9TNoN32",
        "colab_type": "text"
      },
      "source": [
        "#### 리스트 응용문제: 희소행렬\n",
        "* 희소행렬은 행렬 원소에 0이 많이 포함된 행렬을 말한다.\n",
        "* 희소행렬을 저장할 때, 0도 값이기 때문에 메모리를 차지한다.\n",
        "* Term-Document Matrix가 대표적인 희소행렬이다.\n",
        "\n",
        " <center>![그래프](https://drive.google.com/uc?id=1FnZFSrbvGwieHL4wr6G91hEfZX682XbR)</center>\n",
        " * D1에 각 단어의 빈도수를 저장한다.(D1만으로도 이 문서의 주제 추론 가능)\n",
        "* 희소행렬을 효율적으로 저장하기 위해 아래와 같은 자료구조를 생각할 수 있다.\n",
        " <center>![그래프](https://drive.google.com/uc?id=1ts4fkwXuu_0MiRP-oMCH17Y9eLl79NQp)</center>\n",
        "* (x좌표, y좌표, 값)의 구조로 자료구조를 구성할 수 있다.(LinkedList)\n",
        "* 0 번째 행에는 행렬의 차원 m, n, non-zero element 수를 추가한다.(헤더)\n",
        "* m = 8, n = 7, non_zero elemnet = 10 (헤더)\n",
        "\n",
        "* SparseMatrix 자료구조\n",
        "  * 행렬의 dimension m, n 을 입력받아 희소행렬 리스트를 [[m,n,0]]로 초기 설정한다. 이때 m,n은 index가 아니라 행과 열의 수를 의미한다.\n",
        "  * append method: [i, j, value] 형태의 리스트를 희소행렬 리스트에 추가한다.( 단, value != 0일때) 이때 i,j는 index가 아니라 행과 열을 의미한다.\n",
        "  * shape method: 희소행렬 dimension을 리턴한다.\n",
        "  * getValue method: i, j 행렬값을 리턴한다.\n",
        "  * print method: 희소행렬을 일반적 행렬 형태로 프린트한다. (0으로 구성된 m,n array를 만들고 i,j 행렬값을 업데이트한다.)"
      ]
    },
    {
      "cell_type": "markdown",
      "metadata": {
        "id": "j5qFQ8DLcWGL",
        "colab_type": "text"
      },
      "source": [
        ""
      ]
    },
    {
      "cell_type": "code",
      "metadata": {
        "id": "5ibr0jEyqppO",
        "colab_type": "code",
        "outputId": "0c0b309b-d8a5-4409-8b65-184614f0b577",
        "colab": {
          "base_uri": "https://localhost:8080/",
          "height": 140
        }
      },
      "source": [
        "class SparseMatrix:\n",
        "\n",
        "    def __init__(self, m, n):\n",
        "        self.s = [[m, n, 0]]\n",
        "        self.m = m\n",
        "        self.n = n\n",
        "        \n",
        "    def append(self,i,j,val):\n",
        "        if val != 0: \n",
        "            self.s.append([i,j,val])\n",
        "        self.s[0][2] = len(self.s) - 1\n",
        "    \n",
        "    def shape(self):\n",
        "        return (self.m, self.n)\n",
        "    \n",
        "    def getValue(self, i, j): # (i, j) 의 value를 리턴하는 메소드\n",
        "        for k in range(1,len(self.s)):\n",
        "            if self.s[k][0] == i and self.s[k][1] == j:\n",
        "              return self.s[k][2]\n",
        "            \n",
        "#  def getValue(self,i,j):\n",
        "#      for num in self.s[1:]:\n",
        "#          if num[0] == i and num[1] == j:\n",
        "\n",
        "\n",
        "# numpy타입은 리스트 안의 리스트 구조가 아니다.\n",
        "# 따라서 리스트에서 사용하는 _tmp[self.s[i][0]-1][self.s[i][1]-1] 방식을 이용하지 않고,\n",
        "# [X,Y] 방식을 사용하여 값을 호출한다.\n",
        "# 또한 numpy타입에서 값을 호출할 때에는 index 개념을 이용하여야 한다.(-1을 해주는 이유)\n",
        "    def print(self):\n",
        "        import numpy as np\n",
        "        _tmp = np.zeros((self.m, self.n)) # np.zeors 모든 행렬의 원소를 0으로 할당, np.ones 모든 행렬의 원소를 1로 할당\n",
        "        for i in range(1,len(self.s)):\n",
        "            _tmp[self.s[i][0]-1,self.s[i][1]-1] = self.s[i][2]\n",
        "        print(_tmp)\n",
        "        \n",
        "#  def print(self):\n",
        "#       import numpy as np\n",
        "#       _tmp = np.zeros((self.m,self.n))\n",
        "#        for num in self.s[1:]:\n",
        "#            _tmp[num[0]-1][num[1]-1] = num[2]\n",
        "\n",
        "a = SparseMatrix(3,3)\n",
        "b = SparseMatrix(3,3)\n",
        "\n",
        "a.append(1,1,1)\n",
        "a.append(2,2,2)\n",
        "a.append(3,3,3)\n",
        "b.append(1,1,4)\n",
        "b.append(1,2,7)\n",
        "b.append(2,3,2)\n",
        "b.append(3,3,1)\n",
        "\n",
        "a.print()\n",
        "b.print()\n",
        "\n",
        "print(a.getValue(3,3))\n",
        "                \n",
        "        "
      ],
      "execution_count": 0,
      "outputs": [
        {
          "output_type": "stream",
          "text": [
            "[[1. 0. 0.]\n",
            " [0. 2. 0.]\n",
            " [0. 0. 3.]]\n",
            "[[4. 7. 0.]\n",
            " [0. 0. 2.]\n",
            " [0. 0. 1.]]\n",
            "3\n"
          ],
          "name": "stdout"
        }
      ]
    },
    {
      "cell_type": "markdown",
      "metadata": {
        "id": "700XiP_pyaRG",
        "colab_type": "text"
      },
      "source": [
        "* 희소행렬의 전치행렬 알고리즘 : 희소행렬의 행 [i,j,val] 을 [j, i, val] 로 바꿔 리턴한다.\n",
        "\n",
        "* 두 희소행렬의 덧셈 알고리즘: \n",
        "  * 덧셈 결과를 저장할 빈 희소행렬 c를 만든다.\n",
        "  * 두 희소행렬 a, b의 unique 한 (i,j) 쌍의 집합을 u 라고 하자.\n",
        "  * u에서 원소를 하나씩 꺼내면서 a, b의 해당 위치 값을 구해 더한다.\n",
        "  * 위에서 구한 값이 0이 아니면 c에 추가한다.\n"
      ]
    },
    {
      "cell_type": "code",
      "metadata": {
        "id": "VNUC6aiq0WY2",
        "colab_type": "code",
        "outputId": "1ccaec4f-78ec-491f-dd1c-5133d48ae34a",
        "colab": {
          "base_uri": "https://localhost:8080/",
          "height": 73
        }
      },
      "source": [
        "def transpose(a):\n",
        "    t_a = SparseMatrix(a.n,a.m)\n",
        "    \n",
        "    for i in range(len(a.s)):\n",
        "        if i == 0:\n",
        "            t_a.s[0][2] = a.s[0][2]\n",
        "        else:\n",
        "            t_a.append(a.s[i][1],a.s[i][0],a.s[i][2])\n",
        "\n",
        "    return t_a\n",
        "\n",
        "t_b = transpose(b)\n",
        "t_b.print()\n",
        "        "
      ],
      "execution_count": 0,
      "outputs": [
        {
          "output_type": "stream",
          "text": [
            "[[4. 0. 0.]\n",
            " [7. 0. 0.]\n",
            " [0. 2. 1.]]\n"
          ],
          "name": "stdout"
        }
      ]
    },
    {
      "cell_type": "code",
      "metadata": {
        "id": "MkATyXa946Xp",
        "colab_type": "code",
        "outputId": "051a0f03-5076-424c-8ae0-c6950c8202ad",
        "colab": {
          "base_uri": "https://localhost:8080/",
          "height": 185
        }
      },
      "source": [
        "def add(a, b):\n",
        "    if a.shape() != b.shape():\n",
        "        print(\"두 행렬의 차원이 달라 더할 수 없습니다.\")\n",
        "    else:\n",
        "        c = SparseMatrix(a.shape()[0], a.shape()[1])\n",
        "        u = set() # 집합의 중복을 허용하지 않는 특성 이용\n",
        "        for i in range(1,len(a.s)):\n",
        "            u.add((a.s[i][0], a.s[i][1]))\n",
        "        for i in range(1,len(b.s)):\n",
        "            u.add((b.s[i][0], b.s[i][1]))\n",
        "        for item in u:\n",
        "            _tmp = a.getValue(item[0], item[1]) + b.getValue(item[0], item[1])\n",
        "            if _tmp != 0:\n",
        "                c.append(item[0], item[1], _tmp) \n",
        "    return c\n",
        "\n",
        "a.print()\n",
        "b.print()\n",
        "c = add(a, b)\n",
        "c.print()"
      ],
      "execution_count": 0,
      "outputs": [
        {
          "output_type": "stream",
          "text": [
            "[[1. 0. 0.]\n",
            " [0. 2. 0.]\n",
            " [0. 0. 3.]]\n",
            "[[4. 7. 0.]\n",
            " [0. 0. 2.]\n",
            " [0. 0. 1.]]\n",
            "[[5. 7. 0.]\n",
            " [0. 2. 2.]\n",
            " [0. 0. 4.]]\n"
          ],
          "name": "stdout"
        }
      ]
    },
    {
      "cell_type": "markdown",
      "metadata": {
        "id": "y_QdHjjz_CZ0",
        "colab_type": "text"
      },
      "source": [
        "<font color='red'>H.W # 2: 두 희소 행렬의 곱셈을 수행하는 함수를 작성하시오. </font>\n",
        "\n",
        "$$ C_{ij} = \\sum_k A_{ik} \\cdot B_{kj} $$\n",
        "\n",
        "1. 두 행렬의 곱셈은 A는 r by c, B는 c by l 과 같이 A의 열의 수와 B의 행수가 같아야 한다.         아니면 null을 리턴한다. 곱셈 결과 C 행렬은 r by l이 된다.\n",
        "2. 희소행렬 곱셈 결과를 저장할 빈 리스트를 생성한다. \n",
        "3.  위의 식 $ C_{ij} $ 를 계산해서 그 값이 0 이 아니면 C 희소행렬에 (i,j, 계산값)을 추가한다.   \n",
        "4. C 희소행렬에  add 한 개수와 결과 dimension을 계산한 후, 헤더를 업데이트 한다.\n",
        "5. C 희소행렬을 반환한다.\n"
      ]
    },
    {
      "cell_type": "code",
      "metadata": {
        "id": "vNH2X1tZX2wS",
        "colab_type": "code",
        "colab": {}
      },
      "source": [
        "# SparseMatrix의 곱으로 SparseMatrix 결과 출력\n",
        "# 희소행렬의 원소 개수는 (전체 원소 개수) - 1"
      ],
      "execution_count": 0,
      "outputs": []
    },
    {
      "cell_type": "code",
      "metadata": {
        "id": "g0HD_DOd05Kw",
        "colab_type": "code",
        "colab": {}
      },
      "source": [
        "# H.W 2\n",
        "\n",
        "def complex(a,b):\n",
        "  if a.n != b.m:\n",
        "    return None\n",
        "  else:\n",
        "    c = SparseMatrix(a.m, b.n)\n",
        "    for x in range(1,a.m+1):\n",
        "      for y in range(1, b.n+1):\n",
        "        val = 0\n",
        "        for k in range(1,a.n+1):\n",
        "          if a.getValue(x,k) != None and b.getValue(k,y) != None:\n",
        "            val += a.getValue(x,k) * b.getValue(k, y)\n",
        "        if val != 0:\n",
        "          c.append(x,y,val)\n",
        "        \n",
        "  return c"
      ],
      "execution_count": 0,
      "outputs": []
    },
    {
      "cell_type": "code",
      "metadata": {
        "id": "lezdXmbYJH8W",
        "colab_type": "code",
        "colab": {}
      },
      "source": [
        "def mult(a,b):\n",
        "  if a.shape()[1] != b.shape()[0]:\n",
        "    print(\"Dimension Error\")\n",
        "  else:\n",
        "    m = a.shape()[0]\n",
        "    n = b.shape()[1]\n",
        "    l = a.shape()[1]\n",
        "    # a.m, a.n 대신 method를 통해서 구현하는 습관 필요(a.m, a.n과 같은 방법은 설계자만이 알고 있는 방법, 은닉 필요)\n",
        "    \n",
        "    c = SparseMatrix(m,n)\n",
        "    for i in range(1, m+1):\n",
        "      for j in range(1, n+1):\n",
        "        _sum = 0\n",
        "        for k in range(1, l+1):\n",
        "          _sum += a.getValue(i,k)*b.getValue(k,j) #getValue에서 못찾으면 return 0 수정 필요\n",
        "        if _sum != 0:\n",
        "          c.append(i,j,_sum)\n",
        "  return c\n",
        "  \n",
        "mult(a,b)"
      ],
      "execution_count": 0,
      "outputs": []
    },
    {
      "cell_type": "code",
      "metadata": {
        "id": "HjMyvhd61AJn",
        "colab_type": "code",
        "colab": {}
      },
      "source": [
        "# 문제의 4번 조건을 코드로 작성(X)? >>> SparseMatrix의 append 메소드가 원소를 추가시킬때마다 헤더를 업데이트한다."
      ],
      "execution_count": 0,
      "outputs": []
    },
    {
      "cell_type": "markdown",
      "metadata": {
        "id": "WNwQDyz8Der9",
        "colab_type": "text"
      },
      "source": [
        "### Double Linked List\n",
        "\n",
        "* Double Linked List는 아래 그림처럼 링크가 좌, 우에 두개가 존재하는 Linked List다.\n",
        "* Single Linked List는 삭제를 위해서 preNode를 관리해야 하는 불편함이 있는데 Double Linked List는 preNode를 알 수 있는 장점은 있지만 이를 위해 링크를 두 개 관리해야 하는 손실이 있다.\n",
        "\n",
        "<center> ![](https://drive.google.com/uc?id=1STHXAzEkDwb0ailRcZuRNKU_TGYI3RJK) </center>\n",
        "        \n",
        "* Double Linked List 설계\n",
        "\n",
        " * DNode: item과 left, right에 각각 좌, 우 노드의 주소를 저장한다.\n",
        " \n",
        " * root: 리스트 루트 노드이고 Double Linked List는 root 노드의 주소를 가진다.\n",
        "    * root = DNode()\n",
        "    \n",
        "  * append method: item을 주면 item을 가진 새 노드를 Linked List 마지막 노드에 추가하는 메소드\n",
        "   * newNode를 만들고 root의 item이 None이면 newNode를 root로 지정하고 아니면 리스트의 끝까지 이동한 후, 마지막 노드의 right에 newNode의 주소를 삽입하고 newNode의 left에 마지막 노드의 주소를 삽입한다.\n",
        "\n",
        " * insert method: Linked List에 index로 새 노드를 추가하는 메소드로 index=0 이면 root로 추가하고, index 값에 따라 해당 위치에 삽입한다.\n",
        "   * index < 0 or index >= listSize 이면 error 메세지를 출력한다.\n",
        "   * rootNode를 0번째로 보고 index -1 번째 노드 주소를 newNode의 left에 넣고, index번째 노드의 주소를 newNode right에 넣는다.\n",
        "   \n",
        " * find Method: Linked List에서 해당 아이템을 찾고 index를 리턴한다.  없으면 -1을 리턴한다.\n",
        " \n",
        " * delete method: 주어진 값을 이용해 해당 노드를 찾고 지운다.\n",
        "   * del item이 첫번째 노드면 self.root에 self.root.right를 넣고 self.root.left에 None를 넣는다.\n",
        "   * del item이 중간노드면 delNode.left.right에 delNode.right를 삽입한다.\n",
        "   * 마지막 노드라면 마지막 노드 left.right에 None를 삽입한다.\n",
        " \n",
        " * listSize method: Linked List의 item 수를 리턴한다.\n",
        "\n",
        " * print method: Linked List를 print 한다."
      ]
    },
    {
      "cell_type": "code",
      "metadata": {
        "id": "dZyCsetAPn15",
        "colab_type": "code",
        "outputId": "80398121-0280-468c-849b-5bfebdfded63",
        "colab": {
          "base_uri": "https://localhost:8080/",
          "height": 36
        }
      },
      "source": [
        "# Node Class: item으로 value를 가지고 right, left를 가진다. link가 없을 경우, None을 입력한다.\n",
        "class DNode:\n",
        "    def __init__(self, item=None):\n",
        "        self.item = item\n",
        "        self.right = None\n",
        "        self.left = None\n",
        "\n",
        "a = DNode('사과')\n",
        "print(id(a))"
      ],
      "execution_count": 0,
      "outputs": [
        {
          "output_type": "stream",
          "text": [
            "139647214791984\n"
          ],
          "name": "stdout"
        }
      ]
    },
    {
      "cell_type": "markdown",
      "metadata": {
        "id": "NGO_d_fLP3CX",
        "colab_type": "text"
      },
      "source": [
        "H.W # 3: Double Linked List 클래스를 작성하시오."
      ]
    },
    {
      "cell_type": "code",
      "metadata": {
        "id": "XS913TK2cN9D",
        "colab_type": "code",
        "colab": {}
      },
      "source": [
        "class DNode:\n",
        "    def __init__(self, item = None):\n",
        "        self.item = item\n",
        "        self.right = None\n",
        "        self.left = None\n",
        "\n",
        "class DoubleLinkedList:\n",
        "    def __init__(self):\n",
        "        self.root = DNode()\n",
        "        \n",
        "    def append(self,item):\n",
        "        newNode = DNode(item)\n",
        "        if self.root.item == None:\n",
        "            self.root = newNode\n",
        "        else:\n",
        "            curNode = self.root\n",
        "            while curNode.right != None:\n",
        "                curNode = curNode.right\n",
        "            curNode.right = newNode\n",
        "            newNode.left = curNode\n",
        "            \n",
        "    def print(self):\n",
        "        curNode = self.root\n",
        "        print(self.root.item)\n",
        "        while curNode.right != None:\n",
        "            curNode = curNode.right\n",
        "            print(curNode.item)\n",
        "            \n",
        "    def listSize(self):\n",
        "        curNode = self.root\n",
        "        cnt = 1\n",
        "        while curNode.right != None:\n",
        "            curNode = curNode.right\n",
        "            cnt += 1\n",
        "        return cnt\n",
        "    \n",
        "    def insert(self,idx,item):\n",
        "        n = self.listSize()\n",
        "        if (idx < 0 ) or (idx >= n ):\n",
        "            print(\"ERROR\")\n",
        "        else:\n",
        "            newNode = DNode(item)\n",
        "            curNode = self.root\n",
        "            if idx == 0:\n",
        "                _tmp = self.root\n",
        "                self.root = newNode\n",
        "                newNode.right = _tmp\n",
        "                _tmp.left = newNode\n",
        "            else:\n",
        "                for i in range(idx - 1):\n",
        "                    curNode = curNode.right\n",
        "                _tmp = curNode.right\n",
        "                curNode.right = newNode\n",
        "                newNode.left = curNode\n",
        "                newNode.right = _tmp\n",
        "                _tmp.left = newNode\n",
        "                \n",
        "    def find(self,item):\n",
        "        find = -1\n",
        "        idx = 0\n",
        "        if self.root.item == item:\n",
        "            find += 1\n",
        "        else:\n",
        "            curNode = self.root\n",
        "            while curNode.right != None:\n",
        "                curNode = curNode.right\n",
        "                idx += 1\n",
        "                if curNode.item == item:\n",
        "                    find = idx\n",
        "                    break\n",
        "        return find\n",
        "    \n",
        "#     def find(self,item):\n",
        "#         idx = 0\n",
        "#         curNode = self.root\n",
        "#         while curNode.right != None:\n",
        "#             if curNode.item != item:\n",
        "#                 curNode = curNode.right\n",
        "#                 idx += 1\n",
        "#             elif curNode.item == item:\n",
        "#                 return idx\n",
        "#         return -1\n",
        "\n",
        "#     def find(self,item):\n",
        "#         cnt = 0\n",
        "#         if self.root.item == item:\n",
        "#             return cnt\n",
        "#         else:\n",
        "#             curNode = self.root\n",
        "#             while curNode.right != None:\n",
        "#                 curNode = curNode.right\n",
        "#                 cnt += 1\n",
        "#                 if curNode.item == item:\n",
        "#                     return cnt\n",
        "#             return -1\n",
        "    \n",
        "    def delete(self,item):\n",
        "        if self.root.item == item:\n",
        "            self.root = self.root.right\n",
        "            self.root.left = None\n",
        "            return None\n",
        "        else:\n",
        "            curNode = self.root\n",
        "            while curNode.right != None:\n",
        "                curNode = curNode.right\n",
        "                if curNode.item == item:\n",
        "                    if curNode.right == None:\n",
        "                        curNode.left.right = None\n",
        "                    else:\n",
        "                        curNode.left.right = curNode.right\n",
        "                        curNode.right.left = curNode.left\n",
        "                    return None\n",
        "        print(\"대상 item이 리스트 안에 없습니다.\")"
      ],
      "execution_count": 0,
      "outputs": []
    },
    {
      "cell_type": "markdown",
      "metadata": {
        "id": "UEaR2ssR0TKL",
        "colab_type": "text"
      },
      "source": [
        "### Circle Linked List\n",
        "\n",
        "* Circle Linked List는 아래 그림처럼 마지막 노드의 링크에 root 노드의 주소를 삽입한 것이다.\n",
        "* Single Linked List의 약점(되돌아갈 수 없다) 보완, Double Linked List의 약점(메모리의 사용이 많다) 보완한 구조\n",
        "* Single Linked List는 항상 root로 부터 순차탐색을 해야 하는데 Circle Linked List는 아무 위치에서나 원형으로 탐색이 가능하다.\n",
        "* 무한반복 mp3, 혹은 사진 슬라이드 쇼 플레이 순서를 만드는 예와 같이 순서가 계속 반복되는 원형 자료구조에 적합하다.\n",
        "\n",
        "<center> ![](https://drive.google.com/uc?id=17AbC2e28EEN8f7RTQUl4uUbgn5ueAeUb) </center>\n",
        "\n",
        "* Circle Linked List 설계\n",
        " * root: 리스트 루트 노드이고 Linked List는 root 노드의 주소를 가진다.   root = Node()\n",
        " * tail : 리스트 마지막 노드이고 tail.link = root 가 된다. 마지막 노드를 관리하는 이유는 루트가 삭제될 경우, tail.link를 갱신해야 하기 때문이다.\n",
        " * current: 리스트 순환을 위해 현재 노드를 관리한다. \n",
        " * print method : 모든 item을 보여준다. \n",
        " * append method: item을 주면 item 노드를 tail 노드 다음에 추가하는 메소드\n",
        "   * newNode를 만들고 root의 item이 None이면 newNode를 root와 tail로 지정하고 newNode 링크에 root 주소를 삽입한다.  아니면 tail 링크에 newNode의 주소를 삽입하고 newNode 링크에는 root 주소를 삽입한다. 이후, newNode를 tail로 갱신한다.\n",
        "\n",
        " * setCurrent method: 리스트에서 item을 가지는 노드를 current 노드로 지정한다.\n",
        " * moveNext method: current 노드를 다음 노드로 이동시킨다.\n",
        "  * insert method: current 노드 다음에 새노드를 삽입한다.\n",
        "   * current 노드 링크에 새 노드를 지정하고 새노드의 링크에 current 노드에 연결되어 있던 링크를 지정하여 연결한다.\n",
        "   * 만약, current가 tail 노드 였다면 새노드를 tail 노드로 재지정한다.\n",
        "\n",
        " * delete method: 주어진 값을 이용해 해당 노드를 찾고 지운다.\n",
        "   * curNode = preNode = root로 초기 지정하고 curNode를 움직일 때 마다 preNode는 curNode의 이전 노드로 갱신한다.\n",
        "   * del item이 첫번째 노드면 root에 del item의 링크를 넣고 tail노드의 링크에 값을 root로 갱신한다. \n",
        "   * del item이 중간노드면 preNode 링크에 del item의 링크를 넣는다.\n",
        "   *  마지막 노드라면 preNode 링크에 del item의 링크를 넣고 tail 노드를 preNode로 갱신한다."
      ]
    },
    {
      "cell_type": "code",
      "metadata": {
        "id": "OnLJPTLkDvtn",
        "colab_type": "code",
        "outputId": "d0e4a3b3-6864-437c-882e-725b6448ea96",
        "colab": {
          "base_uri": "https://localhost:8080/",
          "height": 485
        }
      },
      "source": [
        "class Node:\n",
        "    def __init__(self, item=None):\n",
        "        self.item = item\n",
        "        self.link = None\n",
        "        \n",
        "class CircleLinkedList:\n",
        "    def __init__(self):\n",
        "        self.root = Node()\n",
        "        self.tail = self.root\n",
        "        self.current = self.root\n",
        "        \n",
        "    def append(self, item):\n",
        "        # 추가할 새노드를 만든다.\n",
        "        newNode = Node(item)\n",
        "        # 루트가 비어 있으면 루트와 테일을 새노드로 지정한다.\n",
        "        if self.root.item == None:\n",
        "            self.root = newNode\n",
        "            self.tail = newNode\n",
        "            newNode.link = self.root\n",
        "        else:\n",
        "        # 루트가 비어 있지 않으면 테일 뒤에 새노드를 추가하고 테일을 업데이트한다.\n",
        "            _tmp = self.tail.link\n",
        "            self.tail.link = newNode\n",
        "            newNode.link = _tmp # self.tail.link == self.root이므로 _tmp를 이용하지 않고 newNode.link = self.root으로 구현 가능\n",
        "            self.tail = newNode\n",
        "#       else:\n",
        "#           self.tail.link = newNode\n",
        "#           newNode.link = self.root\n",
        "#           self.tail = newNode\n",
        "            \n",
        "\n",
        "    # 리스트 안에 모든 노드를 프린트 한다. \n",
        "    def print(self):\n",
        "        curNode = self.root\n",
        "        print(curNode.item)\n",
        "        while curNode.link != self.root: # Single Linked List와의 가장 큰 차이\n",
        "            curNode = curNode.link\n",
        "            print(curNode.item)\n",
        "\n",
        "    # 리스트에 존재하는 노드 수를 구한다.\n",
        "    def listSize(self):\n",
        "        curNode = self.root\n",
        "        cnt = 1\n",
        "        while curNode.link != self.root:\n",
        "            curNode = curNode.link\n",
        "            cnt += 1\n",
        "        return cnt\n",
        "\n",
        "    # 리스트에서 item을 가지는 노드를 current 노드로 지정한다.\n",
        "    def setCurrent(self,item):\n",
        "        curNode = self.root\n",
        "        for i in range(self.listSize()):\n",
        "            if curNode.item == item:\n",
        "                self.current = curNode\n",
        "            else:\n",
        "                curNode = curNode.link\n",
        "#     def setCurrent(self,item):\n",
        "#         curNode = self.root\n",
        "#         while curNode.item != item:\n",
        "#             curNode = curNode.link\n",
        "#         self.current = curNode\n",
        "\n",
        "#     def setCurrent(self,item):\n",
        "#         if self.root.item == item:\n",
        "#             self.current = self.root\n",
        "#         else:\n",
        "#             curNode = self.root\n",
        "#             while curNode.link != self.root:\n",
        "#                 curNode = curNode.link\n",
        "#                 if curNode.item == item:\n",
        "#                     self.current = curNode\n",
        "#                     return\n",
        "#             return \"set failed\"\n",
        "                \n",
        "\n",
        "    # current 노드를 다음 노드로 바꾼다.(바뀐 노드의 아이템 출력)\n",
        "    def moveNext(self):\n",
        "        self.current = self.current.link\n",
        "        print(\"현재 위치는 \", self.current.item, \"입니다.\")\n",
        "\n",
        "    # current 다음에 item을 삽입한다.\n",
        "    def insert(self, item):\n",
        "        # 삽입할 새 노드를 만든다.\n",
        "        newNode = Node(item)\n",
        "        # current 노드의 링크에 새 노드를 지정하고 새노드의 링크에 current 노드가 연결되어 있던 링크를 지정하여 연결한다.\n",
        "        _tmp = self.current.link\n",
        "        self.current.link = newNode\n",
        "        newNode.link = _tmp\n",
        "        # 만약, item1이 tail 노드 였다면 새노드를 tail 노드로 재지정한다.\n",
        "        if self.current == self.tail:\n",
        "            self.tail = newNode\n",
        "\n",
        "    # item을 가지는 노드를 삭제한다.\n",
        "    def delete(self, item):\n",
        "        delYN = False\n",
        "        # 루트가 삭제 대상 노드인지 확인한다. 루트를 삭제할 경우, 루트 다음 노드를 루트로 갱신하고 tail 노드의 링크를 갱신된 루트로 재지정한다.\n",
        "        curNode = self.root\n",
        "        if curNode.item == item:\n",
        "            self.root = self.root.link\n",
        "            self.tail.link = self.root\n",
        "            delYN = True\n",
        "        # 루트가 삭제 대상이 아닐 경우, 끝까지 탐색하면서 item이 존재하는 노드를 찾는다.\n",
        "        # 찾았다면 preNode의 링크에 대상노드 링크를 넘겨준다. 만약, 대상 노드가 tail노드라면 tail 노드를 preNode로 변경한다.\n",
        "        else:\n",
        "            while curNode.link != self.root:\n",
        "                preNode = curNode\n",
        "                curNode = curNode.link\n",
        "                if curNode.item == item:\n",
        "                    preNode.link = curNode.link\n",
        "                    if curNode == self.tail:\n",
        "                        self.tail = preNode\n",
        "                    delYN = True\n",
        "        # 삭제를 하지 못했으면 error message를 출력한다.\n",
        "        if delYN == False: print(\"delete failed\")\n",
        "            \n",
        "#     def delete(self,item):\n",
        "#         if self.root.item == item:\n",
        "#             self.root = self.root.link\n",
        "#             self.tail.link = self.root\n",
        "#         else:\n",
        "#             curNode = self.root\n",
        "#             preNode = self.root\n",
        "#             while curNode.link != self.root:\n",
        "#                 preNode = curNode\n",
        "#                 curNode = curNode.link\n",
        "#                 if curNode.item == item:\n",
        "#                     preNode.link = curNode.link\n",
        "#                     if curNode == self.tail:\n",
        "#                         self.tail = preNode\n",
        "#                     return\n",
        "#             return \"delete failed\"\n",
        "\n",
        "fruits = CircleLinkedList()\n",
        "fruits.append('사과')\n",
        "fruits.append('앵두')\n",
        "fruits.append('오렌지')\n",
        "fruits.append('포도')\n",
        "\n",
        "fruits.print()\n",
        "print(fruits.listSize())\n",
        "fruits.setCurrent(\"포도\")\n",
        "fruits.insert(\"수박\")\n",
        "print(fruits.tail.item)\n",
        "\n",
        "fruits.setCurrent('오렌지')\n",
        "for i in range(10):\n",
        "    fruits.moveNext()\n",
        "\n",
        "fruits.delete('포도')\n",
        "fruits.setCurrent('오렌지')\n",
        "for i in range(10):\n",
        "    fruits.moveNext()"
      ],
      "execution_count": 0,
      "outputs": [
        {
          "output_type": "stream",
          "text": [
            "사과\n",
            "앵두\n",
            "오렌지\n",
            "포도\n",
            "4\n",
            "수박\n",
            "현재 위치는  포도 입니다.\n",
            "현재 위치는  수박 입니다.\n",
            "현재 위치는  사과 입니다.\n",
            "현재 위치는  앵두 입니다.\n",
            "현재 위치는  오렌지 입니다.\n",
            "현재 위치는  포도 입니다.\n",
            "현재 위치는  수박 입니다.\n",
            "현재 위치는  사과 입니다.\n",
            "현재 위치는  앵두 입니다.\n",
            "현재 위치는  오렌지 입니다.\n",
            "현재 위치는  수박 입니다.\n",
            "현재 위치는  사과 입니다.\n",
            "현재 위치는  앵두 입니다.\n",
            "현재 위치는  오렌지 입니다.\n",
            "현재 위치는  수박 입니다.\n",
            "현재 위치는  사과 입니다.\n",
            "현재 위치는  앵두 입니다.\n",
            "현재 위치는  오렌지 입니다.\n",
            "현재 위치는  수박 입니다.\n",
            "현재 위치는  사과 입니다.\n"
          ],
          "name": "stdout"
        }
      ]
    },
    {
      "cell_type": "markdown",
      "metadata": {
        "id": "GYfXzVlZb9DC",
        "colab_type": "text"
      },
      "source": [
        ""
      ]
    },
    {
      "cell_type": "code",
      "metadata": {
        "id": "uWuQppSzEP3M",
        "colab_type": "code",
        "outputId": "20d4db71-21fb-43a7-9653-decea1892f08",
        "colab": {
          "base_uri": "https://localhost:8080/",
          "height": 35
        }
      },
      "source": [
        "fruits.current.item"
      ],
      "execution_count": 0,
      "outputs": [
        {
          "output_type": "execute_result",
          "data": {
            "text/plain": [
              "'사과'"
            ]
          },
          "metadata": {
            "tags": []
          },
          "execution_count": 6
        }
      ]
    },
    {
      "cell_type": "markdown",
      "metadata": {
        "id": "FQ2nVSa05Ezy",
        "colab_type": "text"
      },
      "source": [
        "H.W # 4: 아래는 이미지 파일을 선택해 보여주는 tkinter 프로그램이다. 이 프로그램을 수정하여 이미지 폴더를 선택하면 그 안의 모든 파일을 순환적으로 보여주는 프로그램으로 바꾸세요."
      ]
    },
    {
      "cell_type": "code",
      "metadata": {
        "id": "aalHgNLOEZ9L",
        "colab_type": "code",
        "outputId": "50b51935-e139-4636-d5a3-1fd6696a6293",
        "colab": {
          "base_uri": "https://localhost:8080/",
          "height": 480
        }
      },
      "source": [
        "# 파이참 환경에서 실행할 것\n",
        "\n",
        "from tkinter import filedialog\n",
        "import tkinter as tk\n",
        "from PIL import ImageTk, Image # PIL 패키지 설치 필요 > Anaconda Prompt > 'pip install image'\n",
        "\n",
        "class Window:\n",
        "    def __init__(self):\n",
        "        self.window=tk.Tk()\n",
        "        self.window.title(\"Image Viewer\")\n",
        "        self.window.geometry(\"640x480\")\n",
        "        self.window.resizable(False, False)\n",
        "\n",
        "        # 메뉴바를 윈도우에 추가한다.\n",
        "        menubar = tk.Menu(self.window)\n",
        "        menu_1 = tk.Menu(menubar, tearoff=0)\n",
        "        menu_1.bind('<<MenuSelect>>')\n",
        "\n",
        "        menu_1.add_command(label=\"Open\", command=self.fileSelect)\n",
        "        menubar.add_cascade(label=\"File\", menu=menu_1)\n",
        "\n",
        "        self.window.config(menu=menubar)\n",
        "\n",
        "        # 이미지 라벨을 추가한다.\n",
        "        self.imgLabel = tk.Label(self.window, width=400, height=400, relief='solid')\n",
        "        self.imgLabel.pack()\n",
        "\n",
        "        self.window.mainloop()\n",
        "\n",
        "    # 메뉴에서 close 가 선택되었을 때 수행한다.\n",
        "    def close(self):\n",
        "        self.window.quit()\n",
        "        self.window.destroy()\n",
        "\n",
        "    # 파일을 선택한다.\n",
        "    \n",
        "    def fileSelect(self):\n",
        "        # 초기 디렉토리를 루트로 지정하고 파일을 선택하면 해당 파일명을 selFile에 입력한다.\n",
        "        \n",
        "        selFile = filedialog.askopenfilename(initialdir=\"/\", title=\"Select file\", filetypes=((\"image files\", \"*.jpg *.png\"), (\"all files\", \"*.*\")))\n",
        "        print(selFile)\n",
        "        self.image = Image.open(selFile)\n",
        "        print(self.image.size[0], self.image.size[1])\n",
        "        # 해당 이미지의 크기를 400, 400으로 resize 한다.\n",
        "        if self.image.size[1] > self.image.size[0]:\n",
        "            hSize = int((400 * self.image.size[0] / self.image.size[1]))\n",
        "            vSize = 400\n",
        "        else:\n",
        "            hSize = 400\n",
        "            vSize = int((400 * self.image.size[1] / self.image.size[0]))\n",
        "\n",
        "            self.image = self.image.resize((hSize,vSize), Image.ANTIALIAS)\n",
        "            self.image = ImageTk.PhotoImage(self.image)\n",
        "            self.imgLabel.config(image = self.image)\n",
        "\n",
        "a = Window()"
      ],
      "execution_count": 0,
      "outputs": [
        {
          "output_type": "error",
          "ename": "TclError",
          "evalue": "ignored",
          "traceback": [
            "\u001b[0;31m---------------------------------------------------------------------------\u001b[0m",
            "\u001b[0;31mTclError\u001b[0m                                  Traceback (most recent call last)",
            "\u001b[0;32m<ipython-input-2-956aa2cd7c58>\u001b[0m in \u001b[0;36m<module>\u001b[0;34m()\u001b[0m\n\u001b[1;32m     53\u001b[0m             \u001b[0mself\u001b[0m\u001b[0;34m.\u001b[0m\u001b[0mimgLabel\u001b[0m\u001b[0;34m.\u001b[0m\u001b[0mconfig\u001b[0m\u001b[0;34m(\u001b[0m\u001b[0mimage\u001b[0m \u001b[0;34m=\u001b[0m \u001b[0mself\u001b[0m\u001b[0;34m.\u001b[0m\u001b[0mimage\u001b[0m\u001b[0;34m)\u001b[0m\u001b[0;34m\u001b[0m\u001b[0;34m\u001b[0m\u001b[0m\n\u001b[1;32m     54\u001b[0m \u001b[0;34m\u001b[0m\u001b[0m\n\u001b[0;32m---> 55\u001b[0;31m \u001b[0ma\u001b[0m \u001b[0;34m=\u001b[0m \u001b[0mWindow\u001b[0m\u001b[0;34m(\u001b[0m\u001b[0;34m)\u001b[0m\u001b[0;34m\u001b[0m\u001b[0;34m\u001b[0m\u001b[0m\n\u001b[0m",
            "\u001b[0;32m<ipython-input-2-956aa2cd7c58>\u001b[0m in \u001b[0;36m__init__\u001b[0;34m(self)\u001b[0m\n\u001b[1;32m      6\u001b[0m \u001b[0;32mclass\u001b[0m \u001b[0mWindow\u001b[0m\u001b[0;34m:\u001b[0m\u001b[0;34m\u001b[0m\u001b[0;34m\u001b[0m\u001b[0m\n\u001b[1;32m      7\u001b[0m     \u001b[0;32mdef\u001b[0m \u001b[0m__init__\u001b[0m\u001b[0;34m(\u001b[0m\u001b[0mself\u001b[0m\u001b[0;34m)\u001b[0m\u001b[0;34m:\u001b[0m\u001b[0;34m\u001b[0m\u001b[0;34m\u001b[0m\u001b[0m\n\u001b[0;32m----> 8\u001b[0;31m         \u001b[0mself\u001b[0m\u001b[0;34m.\u001b[0m\u001b[0mwindow\u001b[0m\u001b[0;34m=\u001b[0m\u001b[0mtk\u001b[0m\u001b[0;34m.\u001b[0m\u001b[0mTk\u001b[0m\u001b[0;34m(\u001b[0m\u001b[0;34m)\u001b[0m\u001b[0;34m\u001b[0m\u001b[0;34m\u001b[0m\u001b[0m\n\u001b[0m\u001b[1;32m      9\u001b[0m         \u001b[0mself\u001b[0m\u001b[0;34m.\u001b[0m\u001b[0mwindow\u001b[0m\u001b[0;34m.\u001b[0m\u001b[0mtitle\u001b[0m\u001b[0;34m(\u001b[0m\u001b[0;34m\"Image Viewer\"\u001b[0m\u001b[0;34m)\u001b[0m\u001b[0;34m\u001b[0m\u001b[0;34m\u001b[0m\u001b[0m\n\u001b[1;32m     10\u001b[0m         \u001b[0mself\u001b[0m\u001b[0;34m.\u001b[0m\u001b[0mwindow\u001b[0m\u001b[0;34m.\u001b[0m\u001b[0mgeometry\u001b[0m\u001b[0;34m(\u001b[0m\u001b[0;34m\"640x480\"\u001b[0m\u001b[0;34m)\u001b[0m\u001b[0;34m\u001b[0m\u001b[0;34m\u001b[0m\u001b[0m\n",
            "\u001b[0;32m/usr/lib/python3.6/tkinter/__init__.py\u001b[0m in \u001b[0;36m__init__\u001b[0;34m(self, screenName, baseName, className, useTk, sync, use)\u001b[0m\n\u001b[1;32m   2021\u001b[0m                 \u001b[0mbaseName\u001b[0m \u001b[0;34m=\u001b[0m \u001b[0mbaseName\u001b[0m \u001b[0;34m+\u001b[0m \u001b[0mext\u001b[0m\u001b[0;34m\u001b[0m\u001b[0;34m\u001b[0m\u001b[0m\n\u001b[1;32m   2022\u001b[0m         \u001b[0minteractive\u001b[0m \u001b[0;34m=\u001b[0m \u001b[0;36m0\u001b[0m\u001b[0;34m\u001b[0m\u001b[0;34m\u001b[0m\u001b[0m\n\u001b[0;32m-> 2023\u001b[0;31m         \u001b[0mself\u001b[0m\u001b[0;34m.\u001b[0m\u001b[0mtk\u001b[0m \u001b[0;34m=\u001b[0m \u001b[0m_tkinter\u001b[0m\u001b[0;34m.\u001b[0m\u001b[0mcreate\u001b[0m\u001b[0;34m(\u001b[0m\u001b[0mscreenName\u001b[0m\u001b[0;34m,\u001b[0m \u001b[0mbaseName\u001b[0m\u001b[0;34m,\u001b[0m \u001b[0mclassName\u001b[0m\u001b[0;34m,\u001b[0m \u001b[0minteractive\u001b[0m\u001b[0;34m,\u001b[0m \u001b[0mwantobjects\u001b[0m\u001b[0;34m,\u001b[0m \u001b[0museTk\u001b[0m\u001b[0;34m,\u001b[0m \u001b[0msync\u001b[0m\u001b[0;34m,\u001b[0m \u001b[0muse\u001b[0m\u001b[0;34m)\u001b[0m\u001b[0;34m\u001b[0m\u001b[0;34m\u001b[0m\u001b[0m\n\u001b[0m\u001b[1;32m   2024\u001b[0m         \u001b[0;32mif\u001b[0m \u001b[0museTk\u001b[0m\u001b[0;34m:\u001b[0m\u001b[0;34m\u001b[0m\u001b[0;34m\u001b[0m\u001b[0m\n\u001b[1;32m   2025\u001b[0m             \u001b[0mself\u001b[0m\u001b[0;34m.\u001b[0m\u001b[0m_loadtk\u001b[0m\u001b[0;34m(\u001b[0m\u001b[0;34m)\u001b[0m\u001b[0;34m\u001b[0m\u001b[0;34m\u001b[0m\u001b[0m\n",
            "\u001b[0;31mTclError\u001b[0m: no display name and no $DISPLAY environment variable"
          ]
        }
      ]
    },
    {
      "cell_type": "markdown",
      "metadata": {
        "id": "T0C45eV2NSGb",
        "colab_type": "text"
      },
      "source": [
        ""
      ]
    },
    {
      "cell_type": "code",
      "metadata": {
        "id": "-KdCmniqD-pB",
        "colab_type": "code",
        "colab": {}
      },
      "source": [
        "# 파이참 환경에서 실행할 것\n",
        "\n",
        "from tkinter import filedialog\n",
        "import tkinter as tk\n",
        "from PIL import ImageTk, Image # PIL 패키지 설치 필요 > Anaconda Prompt > 'pip install image'\n",
        "import os\n",
        "\n",
        "class Window:\n",
        "    def __init__(self):\n",
        "        self.window=tk.Tk()\n",
        "        self.window.title(\"Image Viewer\")\n",
        "        self.window.geometry(\"640x480\")\n",
        "        self.window.resizable(False, False)\n",
        "\n",
        "        # 메뉴바를 윈도우에 추가한다.\n",
        "        menubar = tk.Menu(self.window)\n",
        "        menu_1 = tk.Menu(menubar, tearoff=0)\n",
        "        menu_1.bind('<<MenuSelect>>')\n",
        "\n",
        "        menu_1.add_command(label=\"Open\", command=self.fileSelect)\n",
        "        menubar.add_cascade(label=\"File\", menu=menu_1)\n",
        "\n",
        "        self.window.config(menu=menubar)\n",
        "        \n",
        "        # 이미지 라벨을 추가한다.\n",
        "        self.imgLabel = tk.Label(self.window, width=400, height=400, relief='solid')\n",
        "        self.imgLabel.pack()\n",
        "        \n",
        "\n",
        "\n",
        "        \n",
        "        self.window.mainloop()\n",
        "        \n",
        "\n",
        "\n",
        "\n",
        "    # 메뉴에서 close 가 선택되었을 때 수행한다.\n",
        "    def close(self):\n",
        "        self.window.quit()\n",
        "        self.window.destroy()\n",
        "\n",
        "    # 파일을 선택한다.\n",
        "    \n",
        "    def fileSelect(self):\n",
        "        # 초기 디렉토리를 루트로 지정하고 파일을 선택하면 해당 파일명을 selFile에 입력한다.\n",
        "        \n",
        "        dirName=filedialog.askdirectory()\n",
        "        print(dirName)\n",
        "        file_list = os.listdir(dirName)\n",
        "        file_directory = CircleLinkedList()\n",
        "        for i in file_list:\n",
        "            filename = dirName+\"/\"+i\n",
        "            file_directory.append(filename)\n",
        "        self.image = Image.open(file_directory.root.item)\n",
        "        print(self.image.size[0], self.image.size[1])\n",
        "        # 해당 이미지의 크기를 400, 400으로 resize 한다.\n",
        "        if self.image.size[1] > self.image.size[0]:\n",
        "            hSize = int((400 * self.image.size[0] / self.image.size[1]))\n",
        "            vSize = 400\n",
        "        else:\n",
        "            hSize = 400\n",
        "            vSize = int((400 * self.image.size[1] / self.image.size[0]))\n",
        "\n",
        "            self.image = self.image.resize((hSize,vSize), Image.ANTIALIAS)\n",
        "            self.image = ImageTk.PhotoImage(self.image)\n",
        "            self.imgLabel.config(image = self.image)\n",
        "    \n",
        "\n",
        "        \n",
        "        \n",
        "a = Window()"
      ],
      "execution_count": 0,
      "outputs": []
    },
    {
      "cell_type": "code",
      "metadata": {
        "id": "Ch84kjTIWeLI",
        "colab_type": "code",
        "colab": {}
      },
      "source": [
        "# import할때의 기본 경로 설정\n",
        "\n",
        "# 아나콘다 프롬포트 > \"set PYTHONPATH = '''경로'''\" 입력"
      ],
      "execution_count": 0,
      "outputs": []
    },
    {
      "cell_type": "code",
      "metadata": {
        "id": "DGog1pm4QPGU",
        "colab_type": "code",
        "colab": {}
      },
      "source": [
        "from tkinter import filedialog\n",
        "import tkinter as tk\n",
        "from PIL import ImageTk, Image # PIL 패키지 설치 필요 > Anaconda Prompt > 'pip install image'\n",
        "import os\n",
        "import threading\n",
        "#from 폴더 import 파일\n",
        "# CIrcleLinkedList를 모듈로 만들어서 import를 통해 불러온다.\n",
        "\n",
        "class Window:\n",
        "    def __init__(self):\n",
        "        self.window=tk.Tk()\n",
        "        self.window.title(\"Image Viewer\") # 제목\n",
        "        self.window.geometry(\"640x480\") # 창 크기\n",
        "        self.window.resizable(False, False) # 창 크기 조절 불가능\n",
        "        self.pngLists = \"\"\"경로\"\"\" #CircleLinkedList가 들어있는 경로 설정\n",
        "\n",
        "        # 메뉴바를 윈도우에 추가한다.\n",
        "        menubar = tk.Menu(self.window)\n",
        "        menu_1 = tk.Menu(menubar, tearoff=0)\n",
        "        menu_1.bind('<<MenuSelect>>')\n",
        "\n",
        "        menu_1.add_command(label=\"Open\", command=self.dirSelect)\n",
        "        menu_1.add_command(label=\"Close\", command=self.close)\n",
        "        menubar.add_cascade(label=\"File\", menu=menu_1)\n",
        "\n",
        "        self.window.config(menu=menubar)\n",
        "\n",
        "        # 이미지 라벨을 추가한다.(초기화면에 이미지 라벨이 표시된 상태)\n",
        "        self.imgLabel = tk.Label(self.window, width=400, height=400, relief='solid') # 이미지 라벨의 크기(불러온 이미지의 크기) 설정, solid는 이미지를 불러온 후의 테두리\n",
        "        self.imgLabel.pack()\n",
        "\n",
        "        self.window.mainloop() # 창이 켜진 후 명령 대기상태가 지속적으로 유지\n",
        "\n",
        "    # 메뉴에서 close 가 선택되었을 때 수행한다.\n",
        "    def close(self):\n",
        "        self.window.quit() # 윈도우에서 종료\n",
        "        self.window.destroy() # 메모리에서 종료\n",
        "        \n",
        "    def dirSelect(self):\n",
        "        selDir = filedialog.askdirectory(initialdir = \"/\", title = \"Select directory\")\n",
        "        pngfiles = [x for x in os.liistdir(selDir) if x.endswith(\".png\")]\n",
        "        print(pngfiles)\n",
        "        \n",
        "        for fname in pngfiles:\n",
        "          self.pngLists.append(selDir + \"/\" + fname)\n",
        "        \n",
        "\n",
        "\n",
        "\n",
        "    # 파일을 선택한다.\n",
        "    def fileSelect(self):\n",
        "        # 초기 디렉토리를 루트로 지정하고 파일을 선택하면 해당 파일명을 selFile에 입력한다.\n",
        "        \n",
        "        selFile = filedialog.askopenfilename(initialdir=\"/\", title=\"Select file\", filetypes=((\"image files\", \"*.jpg *.png\"), (\"all files\", \"*.*\")))\n",
        "        print(selFile)\n",
        "        self.image = Image.open(selFile)\n",
        "        print(self.image.size[0], self.image.size[1])\n",
        "        # 해당 이미지의 크기를 400, 400으로 resize 한다.\n",
        "        if self.image.size[1] > self.image.size[0]:\n",
        "            hSize = int((400 * self.image.size[0] / self.image.size[1]))\n",
        "            vSize = 400\n",
        "        else:\n",
        "            hSize = 400\n",
        "            vSize = int((400 * self.image.size[1] / self.image.size[0]))\n",
        "\n",
        "        self.image = self.image.resize((hSize,vSize), Image.ANTIALIAS)\n",
        "        self.image = ImageTk.PhotoImage(self.image)\n",
        "        self.imgLabel.config(image = self.image)\n",
        "        \n",
        "    def next(self):\n",
        "      \n",
        "\n",
        "a = Window()"
      ],
      "execution_count": 0,
      "outputs": []
    }
  ]
}