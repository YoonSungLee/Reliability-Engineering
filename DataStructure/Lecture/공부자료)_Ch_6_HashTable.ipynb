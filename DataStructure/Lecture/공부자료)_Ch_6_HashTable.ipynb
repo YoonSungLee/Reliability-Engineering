{
  "nbformat": 4,
  "nbformat_minor": 0,
  "metadata": {
    "colab": {
      "name": "공부자료) Ch 6_HashTable.ipynb",
      "provenance": [],
      "collapsed_sections": [],
      "include_colab_link": true
    },
    "kernelspec": {
      "name": "python3",
      "display_name": "Python 3"
    }
  },
  "cells": [
    {
      "cell_type": "markdown",
      "metadata": {
        "id": "view-in-github",
        "colab_type": "text"
      },
      "source": [
        "<a href=\"https://colab.research.google.com/github/YoonSungLee/DataStructure/blob/master/Lecture/%EA%B3%B5%EB%B6%80%EC%9E%90%EB%A3%8C)_Ch_6_HashTable.ipynb\" target=\"_parent\"><img src=\"https://colab.research.google.com/assets/colab-badge.svg\" alt=\"Open In Colab\"/></a>"
      ]
    },
    {
      "cell_type": "code",
      "metadata": {
        "id": "aYiRkoJrk1As",
        "colab_type": "code",
        "outputId": "1d4d0689-5325-4669-ac91-8294d96701ce",
        "colab": {
          "base_uri": "https://localhost:8080/",
          "height": 35
        }
      },
      "source": [
        "a = {}\n",
        "a['1'] = 1\n",
        "a['2'] = 2\n",
        "a['3'] = 3\n",
        "\n",
        "a"
      ],
      "execution_count": 0,
      "outputs": [
        {
          "output_type": "execute_result",
          "data": {
            "text/plain": [
              "{'1': 1, '2': 2, '3': 3}"
            ]
          },
          "metadata": {
            "tags": []
          },
          "execution_count": 1
        }
      ]
    },
    {
      "cell_type": "markdown",
      "metadata": {
        "id": "U7D8V4ZalDPZ",
        "colab_type": "text"
      },
      "source": [
        "* 리스트는 무작정 삽입하는 형태, 따라서 탐색 시에 속도가 늦다. => O(n)\n",
        "* 딕셔너리는 탐색 시에 direct로 접근, 따라서 속도가 빠르다. => O(1)\n",
        "* 딕셔너리 = Hash"
      ]
    },
    {
      "cell_type": "markdown",
      "metadata": {
        "id": "oUONBbY2pbch",
        "colab_type": "text"
      },
      "source": [
        "# <font color='blue'><div style=\"text-align: center\">Ch 6. Hash Table</font> \n",
        "* 이진탐색트리에서 최대성능은 O(log n) 이었다.\n",
        "* 만약, 데이터의 키를 1차원 배열의 인덱스를 사용하면 O(1)도 가능하다.\n",
        "* 이는 공간으로 시간을 사는 개념이다.\n",
        "* ex) 로그인 시스템\n",
        "    \n",
        "   <center><img src=\" https://drive.google.com/uc?id=1byyWoFLaZlzIq94XJIriGPNrnc4hJzGY\" width=\"500\" height=\"300\" ></center>\n",
        "* 문제는 배열의 공백이 많아 메모리 낭비가 심하다.\n",
        "* 다른 방법으로 키를 직접 쓰지 말고,  키를 특정함수(예: 나머지 함수)에 넣고 결과를 인덱스로 사용해 공백을 줄이는 방법을 사용할 수 있다.\n",
        "    \n",
        "   <center><img src=\" https://drive.google.com/uc?id=1-o4yddRBgxUs6lyuu4hO7gZDPJ8PX84l\" width=\"500\" height=\"300\" ></center>\n",
        "\n",
        "* 이 경우, 메모리 낭비는 줄일 수 있지만, 서로 다른 키들이 동일한 해시값을 가질 때 충돌문제가 발생한다. \n",
        "* 가장 이상적인 해시함수는 키들을 균등하게(Uniformly) 해시테이블의 인덱스로 변환하는 함수다.\n",
        "* 널리 사용되는 해시함수는 나눗셈(Division) 함수다.\n",
        "나눗셈 함수는 키를 M으로 나눈 뒤, 그 나머지를 해시값으로 사용한다.\n",
        "* h(key) = key % M이고, 따라서 해시테이블의 인덱스는 0에서 M-1이 됨 \n",
        "* M은 일반적으로 key 개수의 3배 정도이며 소수(prime number)를 사용한다.\n",
        "    \n",
        "#### 충돌 처리\n",
        "* 충돌이 일어날 경우, 처리하는 방법으로 개방주소방식과 폐쇄 주소방식이 있다.\n",
        "* 개방 주소방식과 폐쇄 주소방식의 차이는 충돌이 일어날 경우, 충돌지점에서 다른 주소까지 개방해서 원소를 삽입할 수 있는 경우가 개방주소방식이고, 폐쇄주소방식은 충돌이 일어난 주소에서 문제를 해결하는 방식이다.\n",
        "* 폐쇄주소방식은 연결리스트를 이용하기 때문에 이해하기는 쉬우나, 탐색시간이 많이 걸린다.\n",
        "\n",
        "##### 개방주소방식\n",
        "    \n",
        "* 개방주소방식은 충돌이 일어난 위치 다음 인덱스로 이동하면서 처음나오는 빈 주소에 저장하는 방식이다.\n",
        "* 메모리의 크기가 M개이므로 (h(key)+j) % M으로 위치를 이동한다. 즉, M번째까지 가면 다시 0번째가 됨을 의미한다.\n",
        "\n",
        "* x = [25, 37, 18, 55, 22, 35, 50, 63]을 해시 테이블에 저장해보자.\n",
        "   * Linear Probing: 충돌시, 해당 인덱스에서 빈곳을 찾아 순차적으로 이동하다가 빈곳이 나오면 입력한다. ((h(key)+j) % M)\n",
        "   * Quad Probing: 충돌시, 해당 인덱스에서 빈곳을 찾을 때, 순차적으로 이동하는 것이 아니고 점프간격을 제곱으로 이동하여 삽입여부를 결정한다.  ((h(key)+j**2) % M)\n",
        "   * Random Probing:  충돌시, 해당 인덱스에서 빈곳을 찾을 때, 그 다음 위치를 랜덤하게 이동하여 삽입 여부를 결정한다. <br> \n",
        "      단, 탐색을 위해서는 난수의 seed를 지정해야 한다. ((h(key)+randInt) % M) <br>\n",
        "      seed를 시간으로 줄 경우, 찾을 수 없으므로 반드시 일정한 seed를 줘야 한다.\n",
        "    \n",
        "   * Linear Probing의 경우, 인덱스가 한쪽으로 뭉치는 현상(병목현상)이 발생하는데 이를 방지하고자 Quad, Random 등의 방법을 사용한다. \n",
        "   * Quad Probing의 경우에는 다른쪽에서 뭉침현상이 나타나고 Random Probing은 무작위 위치에서 뭉침현상이 발생한다.\n",
        "\n",
        "* Linear Probing 설명\n",
        "   \n",
        "    <center><img src=\" https://drive.google.com/uc?id=1tS5WyNbaFSDuJ4c_AOsO1KfKlGo9yh5E\" width=\"500\" height=\"300\" ></center>    \n",
        "    \n",
        "    \n",
        "* 아래 코드는  Linear Probing 을 구현한 것이다.\n"
      ]
    },
    {
      "cell_type": "markdown",
      "metadata": {
        "id": "jf0apGLFrbkj",
        "colab_type": "text"
      },
      "source": [
        "### 난수 생성 원리\n",
        "0. seed = 시간(밀리세컨드까지 반영)을 이용한 함수 \n",
        "1. seed % IntMax = (0 ~ IntMax-1)\n",
        "2. 0 <= (0 ~ IntMax-1) / (IntMax-1) <= 1"
      ]
    },
    {
      "cell_type": "code",
      "metadata": {
        "id": "wkVQBMpBf05k",
        "colab_type": "code",
        "outputId": "f65557c1-0f7a-4030-f0da-c50f8beb8716",
        "colab": {
          "base_uri": "https://localhost:8080/",
          "height": 269
        }
      },
      "source": [
        "# 고객정보 중 password는 항상 Hash 암호화를 해야 한다.(법적 규제) 암호화된 password 상태로 서버에 저장되고, 서버에서는 password의 복호화가 불가능하다.\n",
        "# 따라서 고객이 자신의 password를 요청할 경우에는, 기존 암호화된 password를 지우고 새로운 password를 제공할 수 밖에 없다.\n",
        "\n",
        "\n",
        "class Hash_Linear:\n",
        "    def __init__(self,m):\n",
        "        self.m = m\n",
        "        self.h = [None] * m # Question : 딕셔너리를 안쓰고 리스트를 쓰는 이유? 딕셔너리라면 인덱스를 어떻게? => 딕셔너리는 해시함수가 내부에 프로그래밍되어있는 구조\n",
        "\n",
        "    def insert(self, key, item):\n",
        "        if self.is_full() == True:\n",
        "            print(\"Hash Full~~~\")\n",
        "        else:\n",
        "            idx = key % self.m\n",
        "            if self.h[idx] == None:\n",
        "                self.h[idx] = [key,item]\n",
        "            else:\n",
        "                for j in range(1, self.m+1): # Question : 1부터 self.m+1까지? => self.m까지\n",
        "                    nextIdx = (idx + j) % self.m\n",
        "                    if self.h[nextIdx] == None:\n",
        "                        self.h[nextIdx] = [key,item]\n",
        "                        break\n",
        "\n",
        "    def is_full(self):\n",
        "        if None in self.h:\n",
        "            return False\n",
        "        else:\n",
        "            return True\n",
        "\n",
        "    def get(self, key):\n",
        "        idx = key % self.m\n",
        "        if self.h[idx][0] == key:\n",
        "            return self.h[idx][1]\n",
        "        else:\n",
        "            j = 1\n",
        "            while True:\n",
        "                nextIdx = (idx + j) % self.m\n",
        "                if self.h[nextIdx][0] == key:\n",
        "                    return self.h[nextIdx][1]\n",
        "                else:\n",
        "                    j += 1\n",
        "\n",
        "x = [25, 37, 18, 55, 22, 35, 50, 63, 95, 32, 1, 13, 17]\n",
        "h = Hash_Linear(13)\n",
        "for val in x:\n",
        "    h.insert(val, 'a'+str(val))\n",
        "\n",
        "for val in x:\n",
        "    print(val, h.get(val))\n",
        "h.insert(98, 'a'+str(98))"
      ],
      "execution_count": 0,
      "outputs": [
        {
          "output_type": "stream",
          "text": [
            "25 a25\n",
            "37 a37\n",
            "18 a18\n",
            "55 a55\n",
            "22 a22\n",
            "35 a35\n",
            "50 a50\n",
            "63 a63\n",
            "95 a95\n",
            "32 a32\n",
            "1 a1\n",
            "13 a13\n",
            "17 a17\n",
            "Hash Full~~~\n"
          ],
          "name": "stdout"
        }
      ]
    },
    {
      "cell_type": "markdown",
      "metadata": {
        "id": "FAqYJAEmKCSh",
        "colab_type": "text"
      },
      "source": [
        "* 아래는 적절한 M 값을 구하는 알고리즘이다. 해시테이블의 사용률이 2/3 정도가 바람직하다고 알려져 있다. \n",
        "* 그러므로 M은 키의 3배 정도로 하고 소수를 선택한다.\n",
        "* 소수를 쓰는 이유는 k % M의 결과값이 M이 소수일 때, 인덱스가 나올 확률이 uniform하기 때문이다. 아래와 같이 간단한 실험을 해보자. "
      ]
    },
    {
      "cell_type": "code",
      "metadata": {
        "id": "9lJwaqsnTIGk",
        "colab_type": "code",
        "outputId": "00464e9a-6d7f-4b95-c574-630cc1077658",
        "colab": {
          "base_uri": "https://localhost:8080/",
          "height": 55
        }
      },
      "source": [
        "M1 = 7         # 소수인 경우, 다양하게 인덱스가 나온다.\n",
        "M2 = 8         # 짝수인 경우, 짝수만 나오고 홀수인 경우에는 홀수만 나온다.\n",
        "res1 = []\n",
        "res2 = []\n",
        "#x = [4, 8, 12, 16, 20, 24, 28, 32]\n",
        "x = [5, 9, 13, 17, 21, 25, 29, 33]\n",
        "for i in x:\n",
        "    res1.append(i % M1)\n",
        "    res2.append(i % M2)\n",
        "print(res1)\n",
        "print(res2)"
      ],
      "execution_count": 0,
      "outputs": [
        {
          "output_type": "stream",
          "text": [
            "[5, 2, 6, 3, 0, 4, 1, 5]\n",
            "[5, 1, 5, 1, 5, 1, 5, 1]\n"
          ],
          "name": "stdout"
        }
      ]
    },
    {
      "cell_type": "markdown",
      "metadata": {
        "id": "mgu9BNbYFA1N",
        "colab_type": "text"
      },
      "source": [
        "* 에라토스테네스의 체 알고리즘 \n",
        "<center><img src=\" https://drive.google.com/uc?id=15gH9j7yKoUcCwGooSZnZvW5B6N7qVdKa\" width=\"500\" height=\"300\" ></center>"
      ]
    },
    {
      "cell_type": "markdown",
      "metadata": {
        "id": "4NOPd6P5WyXy",
        "colab_type": "text"
      },
      "source": [
        "에라토스테네스의 체 라는 개념을 읽어보면 n이 소수인지 아닌지 판별하기 위해서는 sqrt(n) 이하의 수만 나눠보면 된다고 한다. (sqrt는 루트를 의미함)\n",
        "\n",
        "\n",
        "\n",
        "근데 왜 sqrt(n) 이하의 수를 나눠보면 알 수 있는 것인가?\n",
        "\n",
        "\n",
        "\n",
        "감으로는 알 것 같으면서도 손으로 증명해 보려고 하니 잘 이해가 가지 않았고, 명쾌하게 해답을 주는 정보를 찾지 못해서 직접 생각해 보다 답이 나와 포스팅을 한다.\n",
        "\n",
        "\n",
        "\n",
        "어떤 수 X가 합성수라고 하자.\n",
        "\n",
        "\n",
        "\n",
        "그럼 X는 M x N의 형태로 나타날 수 있다.\n",
        "\n",
        "\n",
        "\n",
        "그럼 여기서 M >= N 이라고 하자.\n",
        "\n",
        "\n",
        "\n",
        "그럼 아래와 같은 식이 성립한다.\n",
        "\n",
        "\n",
        "\n",
        "-> X = M x N \n",
        "\n",
        "\n",
        "\n",
        "-> M x M >= M x N .... (N <= M)\n",
        "\n",
        "\n",
        "\n",
        "-> M^2 >= X (M x N = X)\n",
        "\n",
        "\n",
        "\n",
        "-> M >= sqrt(X)\n",
        "\n",
        "\n",
        "\n",
        "즉 어떤 수 M의 최소값은 sqrt(X)이다.\n",
        "\n",
        "\n",
        "\n",
        "그리고 N <= M 이므로 N의 최대값은 sqrt(X)이 된다.\n",
        "\n",
        "\n",
        "\n",
        "그러므로 어떤 수 X가 합성수라면 sqrt(x)보다 같거나 큰수 M과, sqrt(X) 보다 같거나 작은 수 N의 합성수로 이루어 진다.\n",
        "\n",
        "\n",
        "\n",
        "그래서 N보다 같거나 작은수들로만 모듈러 연산을 해서 0이 나오면 합성수, 나오지 않으면 소수가 되는 것이다.\n",
        "\n",
        "\n",
        "\n",
        "출처: https://makedotworld.tistory.com/13 [옥토의 학습저널]"
      ]
    },
    {
      "cell_type": "code",
      "metadata": {
        "id": "3Oy5nzR0FmCe",
        "colab_type": "code",
        "outputId": "e6146d6b-ff4e-4380-9b61-028a627313f8",
        "colab": {
          "base_uri": "https://localhost:8080/",
          "height": 279
        }
      },
      "source": [
        "# 소수 구하는 알고리즘\n",
        "\n",
        "def getPrime(n):\n",
        "    import numpy as np\n",
        "    is_prime = np.array(list(range(n+1)))   # n개의 빈 배열 생성\n",
        "    #print(is_prime)\n",
        "    N_max = int(np.sqrt(len(is_prime) - 1)) # N_max = sqrt(n), 100까지 구한 다면 sqrt(100) = 10 까지 검사하면 됨\n",
        "    #print(N_max)\n",
        "    for j in range(2, N_max + 1):\n",
        "        is_prime[2*j::j] = 0\n",
        "        #print(j, is_prime)\n",
        "    is_prime = np.setdiff1d(is_prime,np.array([0,1])) # is_prime - [0,1]\n",
        "    return is_prime[-1]\n",
        "\n",
        "def getM(n):\n",
        "    m1 = 3 * n\n",
        "    m2 = getPrime(m1)\n",
        "    return m2\n",
        "\n",
        "print(getM(13))"
      ],
      "execution_count": 0,
      "outputs": [
        {
          "output_type": "stream",
          "text": [
            "[ 0  1  2  3  4  5  6  7  8  9 10 11 12 13 14 15 16 17 18 19 20 21 22 23\n",
            " 24 25 26 27 28 29 30 31 32 33 34 35 36 37 38 39]\n",
            "6\n",
            "2 [ 0  1  2  3  0  5  0  7  0  9  0 11  0 13  0 15  0 17  0 19  0 21  0 23\n",
            "  0 25  0 27  0 29  0 31  0 33  0 35  0 37  0 39]\n",
            "3 [ 0  1  2  3  0  5  0  7  0  0  0 11  0 13  0  0  0 17  0 19  0  0  0 23\n",
            "  0 25  0  0  0 29  0 31  0  0  0 35  0 37  0  0]\n",
            "4 [ 0  1  2  3  0  5  0  7  0  0  0 11  0 13  0  0  0 17  0 19  0  0  0 23\n",
            "  0 25  0  0  0 29  0 31  0  0  0 35  0 37  0  0]\n",
            "5 [ 0  1  2  3  0  5  0  7  0  0  0 11  0 13  0  0  0 17  0 19  0  0  0 23\n",
            "  0  0  0  0  0 29  0 31  0  0  0  0  0 37  0  0]\n",
            "6 [ 0  1  2  3  0  5  0  7  0  0  0 11  0 13  0  0  0 17  0 19  0  0  0 23\n",
            "  0  0  0  0  0 29  0 31  0  0  0  0  0 37  0  0]\n",
            "37\n"
          ],
          "name": "stdout"
        }
      ]
    },
    {
      "cell_type": "markdown",
      "metadata": {
        "id": "QVmjCNhn-GC7",
        "colab_type": "text"
      },
      "source": [
        "* 이중 해시테이블은 두개의 해시함수를 사용한다. 첫번째 해시는 인덱스를 찾는데 사용하고 두번째 해시는 충돌시, 다음 인덱스를 만드는데 사용한다.\n",
        "* h(key), d(key)는 모두 key로 부터 인덱스를 만들어 내는 해시함수다.\n",
        "* 아래의 식으로 다음 위치를 찾는다.\n",
        "$$ (h(key) + j*d(key)) \\% M, j = 0,1,2, \\cdots $$\n",
        "   j = 0 에서 충돌이 일어나지 않으면 그대로 진행하고 충돌이 일어날 경우, j 가 증가하여 다음 위치를 찾는다.\n",
        "\n",
        "* Double Hashing은 다음 위치를 지정할 때 key를 seed로 사용하므로 뭉침현상이 일어나지 않는다.\n",
        "* 일반적으로 h(key) = key % M, d(key) = C - (key % C) 로 계산하며 C는 보통 테이블 크기인 M보다 약간 작은 소수이다. \n",
        "\n",
        "<center><img src=\" https://drive.google.com/uc?id=142rcrUHRJHDIV8n7kDK18Mbc2Rpimch0\" width=\"500\" height=\"300\" ></center>   \n",
        "\n"
      ]
    },
    {
      "cell_type": "code",
      "metadata": {
        "id": "EnIrKWutcQXz",
        "colab_type": "code",
        "outputId": "68acf0f8-49dc-411f-ff7f-0b245a2921b1",
        "colab": {
          "base_uri": "https://localhost:8080/",
          "height": 75
        }
      },
      "source": [
        "class DoubleHash:\n",
        "    def __init__(self,x):\n",
        "        k = len(x)\n",
        "        # 데이터 수의 3배를 기준으로 소수 2개를 찾아 리스트로 리턴한다.\n",
        "        _tmp = self._getPrime(3 * k)\n",
        "        self.m = _tmp[0]\n",
        "        self.c = _tmp[1]\n",
        "        self.h = [None] * self.m\n",
        "\n",
        "    def _getPrime(self, n):\n",
        "        # 1~n 사이의 소수를 구하고 가장 큰 두 개의 소수를 리턴한다.\n",
        "        import numpy as np\n",
        "        is_prime = np.array(list(range(n+1)))\n",
        "        N_max = int(np.sqrt(len(is_prime) - 1)) # looping 2 to sqrt(n)\n",
        "\n",
        "        for j in range(2, N_max + 1):\n",
        "            is_prime[2*j::j] = 0\n",
        "        is_prime = np.setdiff1d(is_prime,np.array([0,1])) # is_prime - [0,1]\n",
        "        return is_prime[-1], is_prime[-2]\n",
        "\n",
        "    def insert(self, key, item):\n",
        "        if self.is_full() == True:\n",
        "            print(\"Hash Full~~~\")\n",
        "        else:\n",
        "            idx = key % self.m # h(key)\n",
        "            if self.h[idx] == None:\n",
        "                self.h[idx] = [key,item]\n",
        "            else:\n",
        "                j = 1\n",
        "                while True:\n",
        "                    nextIdx = (idx + j * (self.c - (key % self.c))) % self.m\n",
        "                    if self.h[nextIdx] == None:\n",
        "                        self.h[nextIdx] = [key,item]\n",
        "                        break\n",
        "                    j += 1\n",
        "\n",
        "    def is_full(self):\n",
        "        if None in self.h:\n",
        "            return False\n",
        "        else:\n",
        "            return True\n",
        "\n",
        "    def get(self, key):\n",
        "        idx = key % self.m\n",
        "        if self.h[idx][0] == key: # 그 자리에 키가 있다면 ...\n",
        "            return self.h[idx][1]\n",
        "        else:                     # 그 자리에 키가 없다면 ...\n",
        "            j = 1\n",
        "            while True:\n",
        "                nextIdx = (idx + j * (self.c - (key % self.c))) % self.m\n",
        "                if self.h[nextIdx][0] == key:\n",
        "                    return self.h[nextIdx][1]\n",
        "                else:\n",
        "                    j += 1\n",
        "\n",
        "x = [25, 37, 18, 55, 22, 35, 50, 63]\n",
        "h = DoubleHash(x)\n",
        "\n",
        "for val in x:\n",
        "    h.insert(val, 'a'+str(val))\n",
        "\n",
        "print(h.m, h.c, h.h)\n",
        "print(h.get(22))"
      ],
      "execution_count": 0,
      "outputs": [
        {
          "output_type": "stream",
          "text": [
            "23 19 [None, None, [25, 'a25'], None, [50, 'a50'], None, None, None, None, [55, 'a55'], None, None, [35, 'a35'], None, [37, 'a37'], None, None, [63, 'a63'], [18, 'a18'], None, None, None, [22, 'a22']]\n",
            "a22\n"
          ],
          "name": "stdout"
        }
      ]
    },
    {
      "cell_type": "markdown",
      "metadata": {
        "id": "s69niAfC_7RM",
        "colab_type": "text"
      },
      "source": [
        "##### 폐쇄주소방식\n",
        "\n",
        "* 충돌이 일어날 경우, 다른 메모리에 저장하는 것이 아니고 그 메모리 안에서 해결하는 방법이다.\n",
        "* 대표적 해결방법으로 Chaining을 사용한다.\n",
        "* 체이닝은 아래 그림처럼 메모리에 Linked List 객체를 삽입해서 중복될 경우, 리스트를 순차탐색하는 방법을 사용한다.\n",
        "<center><img src=\" https://drive.google.com/uc?id=1Lh4MwcN804EIyFS_qelzdjUK9mLfmegx\" width=\"500\" height=\"300\" ></center>  \n"
      ]
    },
    {
      "cell_type": "code",
      "metadata": {
        "id": "MkodnswGN8uv",
        "colab_type": "code",
        "outputId": "3f1e3e11-89c5-43df-8637-4a78a3bfd768",
        "colab": {
          "base_uri": "https://localhost:8080/",
          "height": 54
        }
      },
      "source": [
        "class Node:\n",
        "    def __init__(self, key=None, value=None):\n",
        "        self.key = key\n",
        "        self.value = value\n",
        "        self.link = None\n",
        "\n",
        "# LinkedList Class: Linked List에 노드를 추가(append)하고 노드를 찾는(get) 메소드가 있다.\n",
        "class LinkedList:\n",
        "    def __init__(self):\n",
        "        self.root = Node()\n",
        "    # 리스트 마지막에 노드를 삽입한다.\n",
        "    def append(self, key, value):\n",
        "        # 추가할 새 노드를 만든다.\n",
        "        newNode = Node(key, value)\n",
        "        # 현위치를 루트로 지정하고 노드를 추가한다.\n",
        "        curNode = self.root\n",
        "        cnt = 0\n",
        "        # 현 위치가 비어 있으면 현 위치에 삽입\n",
        "        if curNode.key == None:\n",
        "            self.root = newNode\n",
        "        # 현 위치가 비어 있지 않으면 다음 노드로 옮기는 작업을 마지막 노드가 나타날 때 까지 반복한다.\n",
        "        # 마지막 노드를 만나면 마지막 노드 다음에 새 노드를 삽입한다.\n",
        "        else:\n",
        "            while curNode.link != None:\n",
        "                cnt += 1\n",
        "                curNode = curNode.link\n",
        "            curNode.link = newNode\n",
        "        return cnt\n",
        "\n",
        "    def get(self, key):\n",
        "        curNode = self.root\n",
        "        if curNode.key == key:\n",
        "            return curNode.value\n",
        "        else:\n",
        "            while curNode.link != None:\n",
        "                curNode = curNode.link\n",
        "                if curNode.key == key:\n",
        "                    return curNode.value\n",
        "            return None\n",
        "\n",
        "\n",
        "class ChainHash:\n",
        "    def __init__(self, x):\n",
        "        k = len(x)\n",
        "        # 데이터 수의 3배를 기준으로 소수 리턴한다.\n",
        "        self.m = self._getPrime(3 * k)\n",
        "        self.h = [None] * self.m\n",
        "\n",
        "    def _getPrime(self, n):\n",
        "        # 1~n 사이의 소수를 구하고 가장 큰 두 개의 소수를 리턴한다.\n",
        "        import numpy as np\n",
        "        is_prime = np.array(list(range(n+1)))\n",
        "        N_max = int(np.sqrt(len(is_prime) - 1)) # looping 2 to sqrt(n)\n",
        "\n",
        "        for j in range(2, N_max + 1):\n",
        "            is_prime[2*j::j] = 0\n",
        "        is_prime = np.setdiff1d(is_prime,np.array([0,1])) # is_prime - [0,1]\n",
        "        return is_prime[-1]\n",
        "\n",
        "    def insert(self, key, item):\n",
        "        idx = key % self.m\n",
        "        # 구한 주소가 비어 있으면 해당 주소에 빈 리스트를 만들고 새노드를 추가한다.\n",
        "        if self.h[idx] == None:\n",
        "            self.h[idx] = LinkedList()\n",
        "            self.h[idx].append(key, item)\n",
        "        else:\n",
        "        # 구한 주소가 비어 있지 않으면 해당 주소 리스트 루트부터 끝으로 이동하여 마지막 노드 링크에 새 노드를 추가한다.\n",
        "            print(key, \"충돌\")\n",
        "            curNode = self.h[idx].root\n",
        "            while curNode.link != None:\n",
        "                curNode = curNode.link\n",
        "            curNode.link = Node(key, item)\n",
        "\n",
        "    def get(self, key):\n",
        "        idx = key % self.m\n",
        "        xList = self.h[idx]\n",
        "\n",
        "        return xList.get(key)\n",
        "\n",
        "\n",
        "x = [25, 37, 18, 55, 22, 35, 50, 63]\n",
        "\n",
        "h = ChainHash(x)\n",
        "\n",
        "for val in x:\n",
        "    h.insert(val, 'a'+str(val))\n",
        "\n",
        "y = [26, 38, 19, 56, 23, 36, 51, 64]\n",
        "for val in y:\n",
        "    h.insert(val, 'a'+str(val))\n",
        "\n",
        "print(h.get(64))\n"
      ],
      "execution_count": 0,
      "outputs": [
        {
          "output_type": "stream",
          "text": [
            "64 충돌\n",
            "a64\n"
          ],
          "name": "stdout"
        }
      ]
    },
    {
      "cell_type": "markdown",
      "metadata": {
        "id": "WhDqM8h6XZWN",
        "colab_type": "text"
      },
      "source": [
        "* Two-way Chaining\n",
        "  * 일반적으로 Chaining 방법과 동일한데, 충돌이 일어날 경우, 해시함수를 하나 더 만들어 인덱스를 구하고 두개의 인덱스 중 리스트의 길이가 짧은 쪽으로 삽입한다.\n",
        "  * 꺼낼 때에는 두 해시함수의 인덱스에 대해 각각 탐색하여 리턴한다.\n",
        "  "
      ]
    },
    {
      "cell_type": "markdown",
      "metadata": {
        "id": "QGdQ30kP_lFS",
        "colab_type": "text"
      },
      "source": [
        "* H.W ) 로그인 시스템을 해시로 구현"
      ]
    },
    {
      "cell_type": "code",
      "metadata": {
        "id": "ACTwI-aGahs6",
        "colab_type": "code",
        "colab": {}
      },
      "source": [
        ""
      ],
      "execution_count": 0,
      "outputs": []
    }
  ]
}